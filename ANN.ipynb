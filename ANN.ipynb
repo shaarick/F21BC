{
  "nbformat": 4,
  "nbformat_minor": 5,
  "metadata": {
    "colab": {
      "name": "ANN_Rand_Search.ipynb",
      "provenance": [],
      "collapsed_sections": []
    },
    "kernelspec": {
      "display_name": "Python 3",
      "language": "python",
      "name": "python3"
    },
    "language_info": {
      "codemirror_mode": {
        "name": "ipython",
        "version": 3
      },
      "file_extension": ".py",
      "mimetype": "text/x-python",
      "name": "python",
      "nbconvert_exporter": "python",
      "pygments_lexer": "ipython3",
      "version": "3.8.8"
    }
  },
  "cells": [
    {
      "cell_type": "code",
      "metadata": {
        "id": "797d09f7"
      },
      "source": [
        "import numpy as np\n",
        "import pandas as pd\n",
        "import seaborn as sns\n",
        "import plotly.express as px\n",
        "import time\n",
        "import math\n",
        "import copy\n",
        "import random\n",
        "from matplotlib import pyplot as plt\n",
        "import pprint\n",
        "from sklearn.model_selection import train_test_split\n",
        "from sklearn.preprocessing import LabelEncoder"
      ],
      "id": "797d09f7",
      "execution_count": 2,
      "outputs": []
    },
    {
      "cell_type": "code",
      "metadata": {
        "id": "6de6b7e5"
      },
      "source": [
        "data = pd.read_csv(\"./data_banknote_authentication.txt\", header=None)\n",
        "m, n = data.shape\n",
        "# seperate into input and output features\n",
        "X, Y = data.values[:, :-1], data.values[:, -1]\n",
        "Y = LabelEncoder().fit_transform(Y)\n",
        "# split into train and test datasets\n",
        "X_train, X_test, Y_train, Y_test = train_test_split(X, Y, test_size=0.3)\n",
        "\n",
        "X_train = X_train.T\n",
        "X_test = X_test.T"
      ],
      "id": "6de6b7e5",
      "execution_count": 3,
      "outputs": []
    },
    {
      "cell_type": "code",
      "metadata": {
        "id": "0e81e7bd"
      },
      "source": [
        "def relu(Z):\n",
        "    return np.maximum(Z, 0)\n",
        "\n",
        "def tanh(Z):\n",
        "    return np.tanh(Z)\n",
        "\n",
        "def sigmoid(Z):\n",
        "    return 1/(1+np.exp(-Z))\n",
        "\n",
        "def softmax(Z):\n",
        "    A = np.exp(Z) / sum(np.exp(Z))\n",
        "    return A\n",
        "\n",
        "def relu_deriv(Z):\n",
        "    return Z > 0\n",
        "\n",
        "def tanh_deriv(Z):\n",
        "    return 1-np.tanh(Z)**2\n",
        "\n",
        "def sigmoid_deriv(Z):\n",
        "    sig = 1/(1+np.exp(-Z))\n",
        "    return sig * (1 - sig)\n",
        "\n",
        "def one_hot(Y):\n",
        "    one_hot_Y = np.zeros((Y.size, Y.max() + 1))\n",
        "    one_hot_Y[np.arange(Y.size), Y] = 1\n",
        "    one_hot_Y = one_hot_Y.T\n",
        "    return one_hot_Y"
      ],
      "id": "0e81e7bd",
      "execution_count": 4,
      "outputs": []
    },
    {
      "cell_type": "code",
      "metadata": {
        "id": "56d06807",
        "scrolled": true
      },
      "source": [
        "class NeuralNetwork:\n",
        "    def __init__(self, layer_sizes, epochs, alpha, activations):\n",
        "            self.layer_sizes = layer_sizes\n",
        "            self.num_iters = epochs\n",
        "            self.learning_rate = alpha\n",
        "            self.activations = activations\n",
        "            self.params = {}\n",
        "            self.last = len(self.layer_sizes)\n",
        "            self.init_params()\n",
        "            self.accuracy = None\n",
        "            self.X = None\n",
        "            self.Y = None\n",
        "            self.AccuracyList = []\n",
        "            self.AccuracyEpochList = []\n",
        "            self.AccuracyTimeList = []\n",
        "            self.totalTime = None\n",
        "            self.startTime = None\n",
        "            self.stopTime = None\n",
        "            \n",
        "    def __repr__(self):\n",
        "        return f\"ANN Hyperparameters\\nLayers: {self.layer_sizes}\\nIterations: {self.num_iters} \\\n",
        "                \\nLearning rate: {self.learning_rate}\\nActivations: {self.activations}\"\n",
        "    \n",
        "    # Initalize the network with random weights and biases\n",
        "    def init_params(self):\n",
        "        # Initalize the network with random weights and biases \n",
        "        params = self.params\n",
        "        for i in range(1, self.last):\n",
        "            params[f'W{i}'] = np.random.rand(self.layer_sizes[i], self.layer_sizes[i-1]) - 0.5\n",
        "            params[f'B{i}'] = np.random.rand(self.layer_sizes[i],1) - 0.5\n",
        "\n",
        "    def forward_propagation(self, X):\n",
        "        # Pass X through the network \n",
        "        params = self.params\n",
        "        for i in range(1, self.last):\n",
        "            if i==1:\n",
        "                # For first layer compute dot with x\n",
        "                output = params[f'W{i}'].dot(X) + params[f'B{i}']\n",
        "            else: \n",
        "                # For all other layers compute with output of prev layer\n",
        "                output = params[f'W{i}'].dot(params[f'A{i-1}']) + params[f'B{i}']\n",
        "          \n",
        "            # For all other layers use the activ_fnc initalized in constructor\n",
        "            activ_fnc = self.activations[i-1]\n",
        "            activations = globals()[activ_fnc](output)\n",
        "            \n",
        "            params[f'Z{i}'] = output\n",
        "            params[f'A{i}'] = activations\n",
        "\n",
        "\n",
        "    def backward_propagation(self, X, Y):\n",
        "        ohY = one_hot(Y)\n",
        "        params = self.params\n",
        "        \n",
        "        for i in range(self.last - 1, 0, -1):\n",
        "            if(i == self.last - 1):\n",
        "                # For final layer calculate how wrong net is and compute gradients for weights and biases\n",
        "                dZ =  params[f'A{i}'] - ohY\n",
        "                params[f'dZ{i}'] = dZ\n",
        "                params[f'dW{i}'] = 1 / m * dZ.dot(params[f'A{i-1}'].T)\n",
        "                params[f'dB{i}'] = 1 / m * np.sum(dZ)\n",
        "            elif (i == 1):\n",
        "                # For first layer compute the gradients for weights and biases with input of dataset\n",
        "                dZ = params[f'W{i+1}'].T.dot(params[f'dZ{i+1}']) * globals()[f'{self.activations[i-1]}_deriv'](params[f'Z{i}'])\n",
        "                params[f'dZ{i}'] = dZ\n",
        "                params[f'dW{i}'] = 1 / m * dZ.dot(X.T)\n",
        "                params[f'dB{i}'] = 1 / m * np.sum(dZ)\n",
        "            else: \n",
        "                # For all other layers compute the gradients for weights and biases with the output of the prev layer\n",
        "                dZ = params[f'W{i+1}'].T.dot(params[f'dZ{i+1}']) * globals()[f'{self.activations[i-1]}_deriv'](params[f'Z{i}'])\n",
        "                params[f'dZ{i}'] = dZ\n",
        "                params[f'dW{i}'] = 1 / m * dZ.dot(params[f'A{i-1}'].T)\n",
        "                params[f'dB{i}'] = 1 / m * np.sum(dZ)\n",
        "\n",
        "    \n",
        "    def update_params(self, alpha):\n",
        "        # Update all layers based on the gradients calculated in back prop\n",
        "        params = self.params\n",
        "        for i in range(1, self.last):\n",
        "            params[f'W{i}'] =  params[f'W{i}'] - self.learning_rate * params[f'dW{i}']\n",
        "            params[f'B{i}'] =  params[f'B{i}'] - self.learning_rate * params[f'dB{i}']\n",
        "\n",
        "    def make_predictions(self, X):\n",
        "        self.forward_propagation(X)\n",
        "        predictions = self.get_predictions()\n",
        "        return predictions\n",
        "\n",
        "    def test_predictions(self, i):\n",
        "        curr = X_train[:, i, None]\n",
        "        print(\"label \", Y_train[i])\n",
        "        print(\"predicted \", self.make_predictions(curr)[0])\n",
        "\n",
        "    def get_predictions(self):\n",
        "        return np.argmax(self.params[f'A{self.last-1}'], 0)\n",
        "\n",
        "    def get_accuracy(self, predictions, Y):\n",
        "        return np.sum(predictions == Y) / Y.size\n",
        "    \n",
        "    def train(self, X, Y, printAccuracy=False):\n",
        "        start = time.perf_counter()\n",
        "        self.X = X\n",
        "        self.Y = Y\n",
        "        for i in range(self.num_iters):\n",
        "            self.forward_propagation(X)\n",
        "            self.backward_propagation(X, Y)\n",
        "            self.update_params(self.learning_rate)\n",
        "       \n",
        "            predictions = self.get_predictions()\n",
        "            self.accuracy = self.get_accuracy(predictions, Y)\n",
        "            self.AccuracyList.append(self.accuracy)\n",
        "            self.AccuracyEpochList.append((i,self.accuracy))\n",
        "            self.AccuracyTimeList.append(((time.perf_counter() - start), self.accuracy))\n",
        "       \n",
        "            # Print accuracy every 10 iterations\n",
        "            if(printAccuracy==True):\n",
        "                if i % 1 == 0:\n",
        "                    print(\"Iteration: \", i)\n",
        "                    print('Accuracy: ', self.accuracy)\n",
        "        stop = time.perf_counter()\n",
        "        self.totalTime = stop - start\n",
        "        self.startTime = start\n",
        "        self.stopTime = stop\n",
        "        return self.params\n",
        "     \n",
        "    def change_neurons(self, layers, printChange=True, showIteration=False):\n",
        "        old_accuracy = self.accuracy\n",
        "        self.layer_sizes = layers\n",
        "        self.init_params()\n",
        "        self.train(self.X, self.Y, showIteration)\n",
        "        if (printChange==True):\n",
        "            print(f\"Old test accuracy: {old_accuracy}\\nNew test accuracy: {self.accuracy}\")    \n",
        "\n",
        "    def change_activations(self, activations, printChange=False, showIteration=False):\n",
        "        old_accuracy = self.accuracy\n",
        "        self.activations = activations\n",
        "        self.init_params()\n",
        "        self.train(self.X, self.Y, showIteration)\n",
        "        if (printChange==True):\n",
        "            print(f\"Old test accuracy: {old_accuracy}\\nNew test accuracy: {self.accuracy}\")\n",
        "\n",
        "    def change_epochs(self, epochs, printChange=True, showIteration=False):\n",
        "        old_accuracy = self.accuracy\n",
        "        self.num_iters = epochs\n",
        "        self.init_params()\n",
        "        self.train(self.X, self.Y, showIteration)\n",
        "        if (printChange==True):\n",
        "            print(f\"Old test accuracy: {old_accuracy}\\nNew test accuracy: {self.accuracy}\")\n",
        "    \n",
        "    def change_learningRate(self, alpha, printChange=True, showIteration=False):\n",
        "        old_accuracy = self.accuracy\n",
        "        self.learning_rate = alpha\n",
        "        self.init_params()\n",
        "        self.train(self.X, self.Y, showIteration)\n",
        "        if (printChange==True):\n",
        "            print(f\"Old test accuracy: {old_accuracy}\\nNew test accuracy: {self.accuracy}\")\n",
        "        \n",
        "    def view_accuracyEpoch(self):\n",
        "        sns.set(rc={'figure.figsize':(15,8)})\n",
        "        df = pd.DataFrame(self.AccuracyEpochList, columns=[\"Epochs\", \"Accuracy\"])\n",
        "        sns.lineplot(data=df, x=\"Epochs\", y=\"Accuracy\", ci=None)\n",
        "    \n",
        "    def view_accuracyTime(self):\n",
        "        sns.set(rc={'figure.figsize':(15,8)})\n",
        "        df = pd.DataFrame(self.AccuracyTimeList, columns=[\"Time\", \"Accuracy\"])\n",
        "        sns.lineplot(data=df, x=\"Time\", y=\"Accuracy\", ci=None)"
      ],
      "id": "56d06807",
      "execution_count": 121,
      "outputs": []
    },
    {
      "cell_type": "code",
      "metadata": {
        "id": "228c2a4e"
      },
      "source": [
        "nn = NeuralNetwork([4,10,10,2], 500, 0.10, ['relu','relu','sigmoid'])"
      ],
      "id": "228c2a4e",
      "execution_count": 122,
      "outputs": []
    },
    {
      "cell_type": "code",
      "metadata": {
        "colab": {
          "base_uri": "https://localhost:8080/"
        },
        "id": "5da6ef7f",
        "outputId": "e2d6b920-fb4e-4730-91cd-c9fabb768de3"
      },
      "source": [
        "x = nn.train(X_train, Y_train, printAccuracy=True)"
      ],
      "id": "5da6ef7f",
      "execution_count": 123,
      "outputs": [
        {
          "output_type": "stream",
          "name": "stdout",
          "text": [
            "Iteration:  0\n",
            "Accuracy:  0.45416666666666666\n",
            "Iteration:  1\n",
            "Accuracy:  0.48333333333333334\n",
            "Iteration:  2\n",
            "Accuracy:  0.646875\n",
            "Iteration:  3\n",
            "Accuracy:  0.6520833333333333\n",
            "Iteration:  4\n",
            "Accuracy:  0.6947916666666667\n",
            "Iteration:  5\n",
            "Accuracy:  0.725\n",
            "Iteration:  6\n",
            "Accuracy:  0.75\n",
            "Iteration:  7\n",
            "Accuracy:  0.7666666666666667\n",
            "Iteration:  8\n",
            "Accuracy:  0.78125\n",
            "Iteration:  9\n",
            "Accuracy:  0.8260416666666667\n",
            "Iteration:  10\n",
            "Accuracy:  0.8645833333333334\n",
            "Iteration:  11\n",
            "Accuracy:  0.9145833333333333\n",
            "Iteration:  12\n",
            "Accuracy:  0.9385416666666667\n",
            "Iteration:  13\n",
            "Accuracy:  0.9541666666666667\n",
            "Iteration:  14\n",
            "Accuracy:  0.9708333333333333\n",
            "Iteration:  15\n",
            "Accuracy:  0.9760416666666667\n",
            "Iteration:  16\n",
            "Accuracy:  0.978125\n",
            "Iteration:  17\n",
            "Accuracy:  0.9802083333333333\n",
            "Iteration:  18\n",
            "Accuracy:  0.9822916666666667\n",
            "Iteration:  19\n",
            "Accuracy:  0.9833333333333333\n",
            "Iteration:  20\n",
            "Accuracy:  0.9833333333333333\n",
            "Iteration:  21\n",
            "Accuracy:  0.9833333333333333\n",
            "Iteration:  22\n",
            "Accuracy:  0.9833333333333333\n",
            "Iteration:  23\n",
            "Accuracy:  0.9854166666666667\n",
            "Iteration:  24\n",
            "Accuracy:  0.9875\n",
            "Iteration:  25\n",
            "Accuracy:  0.984375\n",
            "Iteration:  26\n",
            "Accuracy:  0.9854166666666667\n",
            "Iteration:  27\n",
            "Accuracy:  0.9885416666666667\n",
            "Iteration:  28\n",
            "Accuracy:  0.9885416666666667\n",
            "Iteration:  29\n",
            "Accuracy:  0.9885416666666667\n",
            "Iteration:  30\n",
            "Accuracy:  0.9885416666666667\n",
            "Iteration:  31\n",
            "Accuracy:  0.9885416666666667\n",
            "Iteration:  32\n",
            "Accuracy:  0.9885416666666667\n",
            "Iteration:  33\n",
            "Accuracy:  0.9885416666666667\n",
            "Iteration:  34\n",
            "Accuracy:  0.9885416666666667\n",
            "Iteration:  35\n",
            "Accuracy:  0.9885416666666667\n",
            "Iteration:  36\n",
            "Accuracy:  0.9885416666666667\n",
            "Iteration:  37\n",
            "Accuracy:  0.9885416666666667\n",
            "Iteration:  38\n",
            "Accuracy:  0.9885416666666667\n",
            "Iteration:  39\n",
            "Accuracy:  0.9895833333333334\n",
            "Iteration:  40\n",
            "Accuracy:  0.9895833333333334\n",
            "Iteration:  41\n",
            "Accuracy:  0.9895833333333334\n",
            "Iteration:  42\n",
            "Accuracy:  0.9895833333333334\n",
            "Iteration:  43\n",
            "Accuracy:  0.9895833333333334\n",
            "Iteration:  44\n",
            "Accuracy:  0.9895833333333334\n",
            "Iteration:  45\n",
            "Accuracy:  0.9895833333333334\n",
            "Iteration:  46\n",
            "Accuracy:  0.9895833333333334\n",
            "Iteration:  47\n",
            "Accuracy:  0.9895833333333334\n",
            "Iteration:  48\n",
            "Accuracy:  0.9895833333333334\n",
            "Iteration:  49\n",
            "Accuracy:  0.990625\n",
            "Iteration:  50\n",
            "Accuracy:  0.990625\n",
            "Iteration:  51\n",
            "Accuracy:  0.990625\n",
            "Iteration:  52\n",
            "Accuracy:  0.99375\n",
            "Iteration:  53\n",
            "Accuracy:  0.99375\n",
            "Iteration:  54\n",
            "Accuracy:  0.99375\n",
            "Iteration:  55\n",
            "Accuracy:  0.99375\n",
            "Iteration:  56\n",
            "Accuracy:  0.99375\n",
            "Iteration:  57\n",
            "Accuracy:  0.99375\n",
            "Iteration:  58\n",
            "Accuracy:  0.99375\n",
            "Iteration:  59\n",
            "Accuracy:  0.99375\n",
            "Iteration:  60\n",
            "Accuracy:  0.99375\n",
            "Iteration:  61\n",
            "Accuracy:  0.99375\n",
            "Iteration:  62\n",
            "Accuracy:  0.99375\n",
            "Iteration:  63\n",
            "Accuracy:  0.99375\n",
            "Iteration:  64\n",
            "Accuracy:  0.99375\n",
            "Iteration:  65\n",
            "Accuracy:  0.99375\n",
            "Iteration:  66\n",
            "Accuracy:  0.99375\n",
            "Iteration:  67\n",
            "Accuracy:  0.99375\n",
            "Iteration:  68\n",
            "Accuracy:  0.99375\n",
            "Iteration:  69\n",
            "Accuracy:  0.9947916666666666\n",
            "Iteration:  70\n",
            "Accuracy:  0.9947916666666666\n",
            "Iteration:  71\n",
            "Accuracy:  0.9958333333333333\n",
            "Iteration:  72\n",
            "Accuracy:  0.9958333333333333\n",
            "Iteration:  73\n",
            "Accuracy:  0.9958333333333333\n",
            "Iteration:  74\n",
            "Accuracy:  0.9958333333333333\n",
            "Iteration:  75\n",
            "Accuracy:  0.9958333333333333\n",
            "Iteration:  76\n",
            "Accuracy:  0.9958333333333333\n",
            "Iteration:  77\n",
            "Accuracy:  0.9958333333333333\n",
            "Iteration:  78\n",
            "Accuracy:  0.996875\n",
            "Iteration:  79\n",
            "Accuracy:  0.996875\n",
            "Iteration:  80\n",
            "Accuracy:  0.996875\n",
            "Iteration:  81\n",
            "Accuracy:  0.996875\n",
            "Iteration:  82\n",
            "Accuracy:  0.996875\n",
            "Iteration:  83\n",
            "Accuracy:  0.996875\n",
            "Iteration:  84\n",
            "Accuracy:  0.996875\n",
            "Iteration:  85\n",
            "Accuracy:  0.996875\n",
            "Iteration:  86\n",
            "Accuracy:  0.996875\n",
            "Iteration:  87\n",
            "Accuracy:  0.996875\n",
            "Iteration:  88\n",
            "Accuracy:  0.996875\n",
            "Iteration:  89\n",
            "Accuracy:  0.996875\n",
            "Iteration:  90\n",
            "Accuracy:  0.996875\n",
            "Iteration:  91\n",
            "Accuracy:  0.996875\n",
            "Iteration:  92\n",
            "Accuracy:  0.996875\n",
            "Iteration:  93\n",
            "Accuracy:  0.996875\n",
            "Iteration:  94\n",
            "Accuracy:  0.996875\n",
            "Iteration:  95\n",
            "Accuracy:  0.996875\n",
            "Iteration:  96\n",
            "Accuracy:  0.996875\n",
            "Iteration:  97\n",
            "Accuracy:  0.996875\n",
            "Iteration:  98\n",
            "Accuracy:  0.996875\n",
            "Iteration:  99\n",
            "Accuracy:  0.996875\n",
            "Iteration:  100\n",
            "Accuracy:  0.996875\n",
            "Iteration:  101\n",
            "Accuracy:  0.996875\n",
            "Iteration:  102\n",
            "Accuracy:  0.996875\n",
            "Iteration:  103\n",
            "Accuracy:  0.996875\n",
            "Iteration:  104\n",
            "Accuracy:  0.996875\n",
            "Iteration:  105\n",
            "Accuracy:  0.996875\n",
            "Iteration:  106\n",
            "Accuracy:  0.996875\n",
            "Iteration:  107\n",
            "Accuracy:  0.996875\n",
            "Iteration:  108\n",
            "Accuracy:  0.996875\n",
            "Iteration:  109\n",
            "Accuracy:  0.996875\n",
            "Iteration:  110\n",
            "Accuracy:  0.996875\n",
            "Iteration:  111\n",
            "Accuracy:  0.996875\n",
            "Iteration:  112\n",
            "Accuracy:  0.996875\n",
            "Iteration:  113\n",
            "Accuracy:  0.996875\n",
            "Iteration:  114\n",
            "Accuracy:  0.996875\n",
            "Iteration:  115\n",
            "Accuracy:  0.996875\n",
            "Iteration:  116\n",
            "Accuracy:  0.996875\n",
            "Iteration:  117\n",
            "Accuracy:  0.996875\n",
            "Iteration:  118\n",
            "Accuracy:  0.996875\n",
            "Iteration:  119\n",
            "Accuracy:  0.996875\n",
            "Iteration:  120\n",
            "Accuracy:  0.996875\n",
            "Iteration:  121\n",
            "Accuracy:  0.996875\n",
            "Iteration:  122\n",
            "Accuracy:  0.996875\n",
            "Iteration:  123\n",
            "Accuracy:  0.996875\n",
            "Iteration:  124\n",
            "Accuracy:  0.996875\n",
            "Iteration:  125\n",
            "Accuracy:  0.996875\n",
            "Iteration:  126\n",
            "Accuracy:  0.996875\n",
            "Iteration:  127\n",
            "Accuracy:  0.996875\n",
            "Iteration:  128\n",
            "Accuracy:  0.996875\n",
            "Iteration:  129\n",
            "Accuracy:  0.996875\n",
            "Iteration:  130\n",
            "Accuracy:  0.996875\n",
            "Iteration:  131\n",
            "Accuracy:  0.996875\n",
            "Iteration:  132\n",
            "Accuracy:  0.996875\n",
            "Iteration:  133\n",
            "Accuracy:  0.996875\n",
            "Iteration:  134\n",
            "Accuracy:  0.996875\n",
            "Iteration:  135\n",
            "Accuracy:  0.996875\n",
            "Iteration:  136\n",
            "Accuracy:  0.996875\n",
            "Iteration:  137\n",
            "Accuracy:  0.996875\n",
            "Iteration:  138\n",
            "Accuracy:  0.996875\n",
            "Iteration:  139\n",
            "Accuracy:  0.996875\n",
            "Iteration:  140\n",
            "Accuracy:  0.996875\n",
            "Iteration:  141\n",
            "Accuracy:  0.996875\n",
            "Iteration:  142\n",
            "Accuracy:  0.996875\n",
            "Iteration:  143\n",
            "Accuracy:  0.996875\n",
            "Iteration:  144\n",
            "Accuracy:  0.996875\n",
            "Iteration:  145\n",
            "Accuracy:  0.996875\n",
            "Iteration:  146\n",
            "Accuracy:  0.996875\n",
            "Iteration:  147\n",
            "Accuracy:  0.996875\n",
            "Iteration:  148\n",
            "Accuracy:  0.996875\n",
            "Iteration:  149\n",
            "Accuracy:  0.996875\n",
            "Iteration:  150\n",
            "Accuracy:  0.996875\n",
            "Iteration:  151\n",
            "Accuracy:  0.996875\n",
            "Iteration:  152\n",
            "Accuracy:  0.996875\n",
            "Iteration:  153\n",
            "Accuracy:  0.996875\n",
            "Iteration:  154\n",
            "Accuracy:  0.996875\n",
            "Iteration:  155\n",
            "Accuracy:  0.996875\n",
            "Iteration:  156\n",
            "Accuracy:  0.996875\n",
            "Iteration:  157\n",
            "Accuracy:  0.996875\n",
            "Iteration:  158\n",
            "Accuracy:  0.996875\n",
            "Iteration:  159\n",
            "Accuracy:  0.9979166666666667\n",
            "Iteration:  160\n",
            "Accuracy:  0.9979166666666667\n",
            "Iteration:  161\n",
            "Accuracy:  0.9979166666666667\n",
            "Iteration:  162\n",
            "Accuracy:  0.9979166666666667\n",
            "Iteration:  163\n",
            "Accuracy:  0.9979166666666667\n",
            "Iteration:  164\n",
            "Accuracy:  0.9979166666666667\n",
            "Iteration:  165\n",
            "Accuracy:  0.9979166666666667\n",
            "Iteration:  166\n",
            "Accuracy:  0.9979166666666667\n",
            "Iteration:  167\n",
            "Accuracy:  0.9979166666666667\n",
            "Iteration:  168\n",
            "Accuracy:  0.9979166666666667\n",
            "Iteration:  169\n",
            "Accuracy:  0.9979166666666667\n",
            "Iteration:  170\n",
            "Accuracy:  0.9979166666666667\n",
            "Iteration:  171\n",
            "Accuracy:  0.9979166666666667\n",
            "Iteration:  172\n",
            "Accuracy:  0.9979166666666667\n",
            "Iteration:  173\n",
            "Accuracy:  0.9979166666666667\n",
            "Iteration:  174\n",
            "Accuracy:  0.9979166666666667\n",
            "Iteration:  175\n",
            "Accuracy:  0.9979166666666667\n",
            "Iteration:  176\n",
            "Accuracy:  0.9979166666666667\n",
            "Iteration:  177\n",
            "Accuracy:  0.9989583333333333\n",
            "Iteration:  178\n",
            "Accuracy:  0.9989583333333333\n",
            "Iteration:  179\n",
            "Accuracy:  0.9989583333333333\n",
            "Iteration:  180\n",
            "Accuracy:  0.9989583333333333\n",
            "Iteration:  181\n",
            "Accuracy:  0.9989583333333333\n",
            "Iteration:  182\n",
            "Accuracy:  0.9989583333333333\n",
            "Iteration:  183\n",
            "Accuracy:  0.9989583333333333\n",
            "Iteration:  184\n",
            "Accuracy:  0.9989583333333333\n",
            "Iteration:  185\n",
            "Accuracy:  0.9989583333333333\n",
            "Iteration:  186\n",
            "Accuracy:  0.9989583333333333\n",
            "Iteration:  187\n",
            "Accuracy:  0.9989583333333333\n",
            "Iteration:  188\n",
            "Accuracy:  0.9989583333333333\n",
            "Iteration:  189\n",
            "Accuracy:  0.9989583333333333\n",
            "Iteration:  190\n",
            "Accuracy:  0.9989583333333333\n",
            "Iteration:  191\n",
            "Accuracy:  0.9989583333333333\n",
            "Iteration:  192\n",
            "Accuracy:  0.9989583333333333\n",
            "Iteration:  193\n",
            "Accuracy:  0.9989583333333333\n",
            "Iteration:  194\n",
            "Accuracy:  0.9989583333333333\n",
            "Iteration:  195\n",
            "Accuracy:  0.9989583333333333\n",
            "Iteration:  196\n",
            "Accuracy:  0.9989583333333333\n",
            "Iteration:  197\n",
            "Accuracy:  0.9989583333333333\n",
            "Iteration:  198\n",
            "Accuracy:  0.9989583333333333\n",
            "Iteration:  199\n",
            "Accuracy:  0.9989583333333333\n",
            "Iteration:  200\n",
            "Accuracy:  0.9989583333333333\n",
            "Iteration:  201\n",
            "Accuracy:  0.9989583333333333\n",
            "Iteration:  202\n",
            "Accuracy:  0.9989583333333333\n",
            "Iteration:  203\n",
            "Accuracy:  0.9989583333333333\n",
            "Iteration:  204\n",
            "Accuracy:  0.9989583333333333\n",
            "Iteration:  205\n",
            "Accuracy:  0.9989583333333333\n",
            "Iteration:  206\n",
            "Accuracy:  0.9989583333333333\n",
            "Iteration:  207\n",
            "Accuracy:  0.9989583333333333\n",
            "Iteration:  208\n",
            "Accuracy:  0.9989583333333333\n",
            "Iteration:  209\n",
            "Accuracy:  0.9989583333333333\n",
            "Iteration:  210\n",
            "Accuracy:  0.9989583333333333\n",
            "Iteration:  211\n",
            "Accuracy:  0.9989583333333333\n",
            "Iteration:  212\n",
            "Accuracy:  0.9989583333333333\n",
            "Iteration:  213\n",
            "Accuracy:  0.9989583333333333\n",
            "Iteration:  214\n",
            "Accuracy:  0.9989583333333333\n",
            "Iteration:  215\n",
            "Accuracy:  0.9989583333333333\n",
            "Iteration:  216\n",
            "Accuracy:  0.9989583333333333\n",
            "Iteration:  217\n",
            "Accuracy:  0.9989583333333333\n",
            "Iteration:  218\n",
            "Accuracy:  0.9989583333333333\n",
            "Iteration:  219\n",
            "Accuracy:  0.9989583333333333\n",
            "Iteration:  220\n",
            "Accuracy:  0.9989583333333333\n",
            "Iteration:  221\n",
            "Accuracy:  0.9989583333333333\n",
            "Iteration:  222\n",
            "Accuracy:  0.9989583333333333\n",
            "Iteration:  223\n",
            "Accuracy:  0.9989583333333333\n",
            "Iteration:  224\n",
            "Accuracy:  0.9989583333333333\n",
            "Iteration:  225\n",
            "Accuracy:  0.9989583333333333\n",
            "Iteration:  226\n",
            "Accuracy:  0.9989583333333333\n",
            "Iteration:  227\n",
            "Accuracy:  0.9989583333333333\n",
            "Iteration:  228\n",
            "Accuracy:  0.9989583333333333\n",
            "Iteration:  229\n",
            "Accuracy:  0.9989583333333333\n",
            "Iteration:  230\n",
            "Accuracy:  0.9989583333333333\n",
            "Iteration:  231\n",
            "Accuracy:  0.9989583333333333\n",
            "Iteration:  232\n",
            "Accuracy:  0.9989583333333333\n",
            "Iteration:  233\n",
            "Accuracy:  0.9989583333333333\n",
            "Iteration:  234\n",
            "Accuracy:  0.9989583333333333\n",
            "Iteration:  235\n",
            "Accuracy:  0.9989583333333333\n",
            "Iteration:  236\n",
            "Accuracy:  0.9989583333333333\n",
            "Iteration:  237\n",
            "Accuracy:  0.9989583333333333\n",
            "Iteration:  238\n",
            "Accuracy:  0.9989583333333333\n",
            "Iteration:  239\n",
            "Accuracy:  0.9989583333333333\n",
            "Iteration:  240\n",
            "Accuracy:  0.9989583333333333\n",
            "Iteration:  241\n",
            "Accuracy:  0.9989583333333333\n",
            "Iteration:  242\n",
            "Accuracy:  0.9989583333333333\n",
            "Iteration:  243\n",
            "Accuracy:  0.9989583333333333\n",
            "Iteration:  244\n",
            "Accuracy:  1.0\n",
            "Iteration:  245\n",
            "Accuracy:  1.0\n",
            "Iteration:  246\n",
            "Accuracy:  1.0\n",
            "Iteration:  247\n",
            "Accuracy:  1.0\n",
            "Iteration:  248\n",
            "Accuracy:  1.0\n",
            "Iteration:  249\n",
            "Accuracy:  1.0\n",
            "Iteration:  250\n",
            "Accuracy:  1.0\n",
            "Iteration:  251\n",
            "Accuracy:  1.0\n",
            "Iteration:  252\n",
            "Accuracy:  1.0\n",
            "Iteration:  253\n",
            "Accuracy:  1.0\n",
            "Iteration:  254\n",
            "Accuracy:  1.0\n",
            "Iteration:  255\n",
            "Accuracy:  1.0\n",
            "Iteration:  256\n",
            "Accuracy:  1.0\n",
            "Iteration:  257\n",
            "Accuracy:  1.0\n",
            "Iteration:  258\n",
            "Accuracy:  1.0\n",
            "Iteration:  259\n",
            "Accuracy:  1.0\n",
            "Iteration:  260\n",
            "Accuracy:  1.0\n",
            "Iteration:  261\n",
            "Accuracy:  1.0\n",
            "Iteration:  262\n",
            "Accuracy:  1.0\n",
            "Iteration:  263\n",
            "Accuracy:  1.0\n",
            "Iteration:  264\n",
            "Accuracy:  1.0\n",
            "Iteration:  265\n",
            "Accuracy:  1.0\n",
            "Iteration:  266\n",
            "Accuracy:  1.0\n",
            "Iteration:  267\n",
            "Accuracy:  1.0\n",
            "Iteration:  268\n",
            "Accuracy:  1.0\n",
            "Iteration:  269\n",
            "Accuracy:  1.0\n",
            "Iteration:  270\n",
            "Accuracy:  1.0\n",
            "Iteration:  271\n",
            "Accuracy:  1.0\n",
            "Iteration:  272\n",
            "Accuracy:  1.0\n",
            "Iteration:  273\n",
            "Accuracy:  1.0\n",
            "Iteration:  274\n",
            "Accuracy:  1.0\n",
            "Iteration:  275\n",
            "Accuracy:  1.0\n",
            "Iteration:  276\n",
            "Accuracy:  1.0\n",
            "Iteration:  277\n",
            "Accuracy:  1.0\n",
            "Iteration:  278\n",
            "Accuracy:  1.0\n",
            "Iteration:  279\n",
            "Accuracy:  1.0\n",
            "Iteration:  280\n",
            "Accuracy:  1.0\n",
            "Iteration:  281\n",
            "Accuracy:  1.0\n",
            "Iteration:  282\n",
            "Accuracy:  1.0\n",
            "Iteration:  283\n",
            "Accuracy:  1.0\n",
            "Iteration:  284\n",
            "Accuracy:  1.0\n",
            "Iteration:  285\n",
            "Accuracy:  1.0\n",
            "Iteration:  286\n",
            "Accuracy:  1.0\n",
            "Iteration:  287\n",
            "Accuracy:  1.0\n",
            "Iteration:  288\n",
            "Accuracy:  1.0\n",
            "Iteration:  289\n",
            "Accuracy:  1.0\n",
            "Iteration:  290\n",
            "Accuracy:  1.0\n",
            "Iteration:  291\n",
            "Accuracy:  1.0\n",
            "Iteration:  292\n",
            "Accuracy:  1.0\n",
            "Iteration:  293\n",
            "Accuracy:  1.0\n",
            "Iteration:  294\n",
            "Accuracy:  1.0\n",
            "Iteration:  295\n",
            "Accuracy:  1.0\n",
            "Iteration:  296\n",
            "Accuracy:  1.0\n",
            "Iteration:  297\n",
            "Accuracy:  1.0\n",
            "Iteration:  298\n",
            "Accuracy:  1.0\n",
            "Iteration:  299\n",
            "Accuracy:  1.0\n",
            "Iteration:  300\n",
            "Accuracy:  1.0\n",
            "Iteration:  301\n",
            "Accuracy:  1.0\n",
            "Iteration:  302\n",
            "Accuracy:  1.0\n",
            "Iteration:  303\n",
            "Accuracy:  1.0\n",
            "Iteration:  304\n",
            "Accuracy:  1.0\n",
            "Iteration:  305\n",
            "Accuracy:  1.0\n",
            "Iteration:  306\n",
            "Accuracy:  1.0\n",
            "Iteration:  307\n",
            "Accuracy:  1.0\n",
            "Iteration:  308\n",
            "Accuracy:  1.0\n",
            "Iteration:  309\n",
            "Accuracy:  1.0\n",
            "Iteration:  310\n",
            "Accuracy:  1.0\n",
            "Iteration:  311\n",
            "Accuracy:  1.0\n",
            "Iteration:  312\n",
            "Accuracy:  1.0\n",
            "Iteration:  313\n",
            "Accuracy:  1.0\n",
            "Iteration:  314\n",
            "Accuracy:  1.0\n",
            "Iteration:  315\n",
            "Accuracy:  1.0\n",
            "Iteration:  316\n",
            "Accuracy:  1.0\n",
            "Iteration:  317\n",
            "Accuracy:  1.0\n",
            "Iteration:  318\n",
            "Accuracy:  1.0\n",
            "Iteration:  319\n",
            "Accuracy:  1.0\n",
            "Iteration:  320\n",
            "Accuracy:  1.0\n",
            "Iteration:  321\n",
            "Accuracy:  1.0\n",
            "Iteration:  322\n",
            "Accuracy:  1.0\n",
            "Iteration:  323\n",
            "Accuracy:  1.0\n",
            "Iteration:  324\n",
            "Accuracy:  1.0\n",
            "Iteration:  325\n",
            "Accuracy:  1.0\n",
            "Iteration:  326\n",
            "Accuracy:  1.0\n",
            "Iteration:  327\n",
            "Accuracy:  1.0\n",
            "Iteration:  328\n",
            "Accuracy:  1.0\n",
            "Iteration:  329\n",
            "Accuracy:  1.0\n",
            "Iteration:  330\n",
            "Accuracy:  1.0\n",
            "Iteration:  331\n",
            "Accuracy:  1.0\n",
            "Iteration:  332\n",
            "Accuracy:  1.0\n",
            "Iteration:  333\n",
            "Accuracy:  1.0\n",
            "Iteration:  334\n",
            "Accuracy:  1.0\n",
            "Iteration:  335\n",
            "Accuracy:  1.0\n",
            "Iteration:  336\n",
            "Accuracy:  1.0\n",
            "Iteration:  337\n",
            "Accuracy:  1.0\n",
            "Iteration:  338\n",
            "Accuracy:  1.0\n",
            "Iteration:  339\n",
            "Accuracy:  1.0\n",
            "Iteration:  340\n",
            "Accuracy:  1.0\n",
            "Iteration:  341\n",
            "Accuracy:  1.0\n",
            "Iteration:  342\n",
            "Accuracy:  1.0\n",
            "Iteration:  343\n",
            "Accuracy:  1.0\n",
            "Iteration:  344\n",
            "Accuracy:  1.0\n",
            "Iteration:  345\n",
            "Accuracy:  1.0\n",
            "Iteration:  346\n",
            "Accuracy:  1.0\n",
            "Iteration:  347\n",
            "Accuracy:  1.0\n",
            "Iteration:  348\n",
            "Accuracy:  1.0\n",
            "Iteration:  349\n",
            "Accuracy:  1.0\n",
            "Iteration:  350\n",
            "Accuracy:  1.0\n",
            "Iteration:  351\n",
            "Accuracy:  1.0\n",
            "Iteration:  352\n",
            "Accuracy:  1.0\n",
            "Iteration:  353\n",
            "Accuracy:  1.0\n",
            "Iteration:  354\n",
            "Accuracy:  1.0\n",
            "Iteration:  355\n",
            "Accuracy:  1.0\n",
            "Iteration:  356\n",
            "Accuracy:  1.0\n",
            "Iteration:  357\n",
            "Accuracy:  1.0\n",
            "Iteration:  358\n",
            "Accuracy:  1.0\n",
            "Iteration:  359\n",
            "Accuracy:  1.0\n",
            "Iteration:  360\n",
            "Accuracy:  1.0\n",
            "Iteration:  361\n",
            "Accuracy:  1.0\n",
            "Iteration:  362\n",
            "Accuracy:  1.0\n",
            "Iteration:  363\n",
            "Accuracy:  1.0\n",
            "Iteration:  364\n",
            "Accuracy:  1.0\n",
            "Iteration:  365\n",
            "Accuracy:  1.0\n",
            "Iteration:  366\n",
            "Accuracy:  1.0\n",
            "Iteration:  367\n",
            "Accuracy:  1.0\n",
            "Iteration:  368\n",
            "Accuracy:  1.0\n",
            "Iteration:  369\n",
            "Accuracy:  1.0\n",
            "Iteration:  370\n",
            "Accuracy:  1.0\n",
            "Iteration:  371\n",
            "Accuracy:  1.0\n",
            "Iteration:  372\n",
            "Accuracy:  1.0\n",
            "Iteration:  373\n",
            "Accuracy:  1.0\n",
            "Iteration:  374\n",
            "Accuracy:  1.0\n",
            "Iteration:  375\n",
            "Accuracy:  1.0\n",
            "Iteration:  376\n",
            "Accuracy:  1.0\n",
            "Iteration:  377\n",
            "Accuracy:  1.0\n",
            "Iteration:  378\n",
            "Accuracy:  1.0\n",
            "Iteration:  379\n",
            "Accuracy:  1.0\n",
            "Iteration:  380\n",
            "Accuracy:  1.0\n",
            "Iteration:  381\n",
            "Accuracy:  1.0\n",
            "Iteration:  382\n",
            "Accuracy:  1.0\n",
            "Iteration:  383\n",
            "Accuracy:  1.0\n",
            "Iteration:  384\n",
            "Accuracy:  1.0\n",
            "Iteration:  385\n",
            "Accuracy:  1.0\n",
            "Iteration:  386\n",
            "Accuracy:  1.0\n",
            "Iteration:  387\n",
            "Accuracy:  1.0\n",
            "Iteration:  388\n",
            "Accuracy:  1.0\n",
            "Iteration:  389\n",
            "Accuracy:  1.0\n",
            "Iteration:  390\n",
            "Accuracy:  1.0\n",
            "Iteration:  391\n",
            "Accuracy:  1.0\n",
            "Iteration:  392\n",
            "Accuracy:  1.0\n",
            "Iteration:  393\n",
            "Accuracy:  1.0\n",
            "Iteration:  394\n",
            "Accuracy:  1.0\n",
            "Iteration:  395\n",
            "Accuracy:  1.0\n",
            "Iteration:  396\n",
            "Accuracy:  1.0\n",
            "Iteration:  397\n",
            "Accuracy:  1.0\n",
            "Iteration:  398\n",
            "Accuracy:  1.0\n",
            "Iteration:  399\n",
            "Accuracy:  1.0\n",
            "Iteration:  400\n",
            "Accuracy:  1.0\n",
            "Iteration:  401\n",
            "Accuracy:  1.0\n",
            "Iteration:  402\n",
            "Accuracy:  1.0\n",
            "Iteration:  403\n",
            "Accuracy:  1.0\n",
            "Iteration:  404\n",
            "Accuracy:  1.0\n",
            "Iteration:  405\n",
            "Accuracy:  1.0\n",
            "Iteration:  406\n",
            "Accuracy:  1.0\n",
            "Iteration:  407\n",
            "Accuracy:  1.0\n",
            "Iteration:  408\n",
            "Accuracy:  1.0\n",
            "Iteration:  409\n",
            "Accuracy:  1.0\n",
            "Iteration:  410\n",
            "Accuracy:  1.0\n",
            "Iteration:  411\n",
            "Accuracy:  1.0\n",
            "Iteration:  412\n",
            "Accuracy:  1.0\n",
            "Iteration:  413\n",
            "Accuracy:  1.0\n",
            "Iteration:  414\n",
            "Accuracy:  1.0\n",
            "Iteration:  415\n",
            "Accuracy:  1.0\n",
            "Iteration:  416\n",
            "Accuracy:  1.0\n",
            "Iteration:  417\n",
            "Accuracy:  1.0\n",
            "Iteration:  418\n",
            "Accuracy:  1.0\n",
            "Iteration:  419\n",
            "Accuracy:  1.0\n",
            "Iteration:  420\n",
            "Accuracy:  1.0\n",
            "Iteration:  421\n",
            "Accuracy:  1.0\n",
            "Iteration:  422\n",
            "Accuracy:  1.0\n",
            "Iteration:  423\n",
            "Accuracy:  1.0\n",
            "Iteration:  424\n",
            "Accuracy:  1.0\n",
            "Iteration:  425\n",
            "Accuracy:  1.0\n",
            "Iteration:  426\n",
            "Accuracy:  1.0\n",
            "Iteration:  427\n",
            "Accuracy:  1.0\n",
            "Iteration:  428\n",
            "Accuracy:  1.0\n",
            "Iteration:  429\n",
            "Accuracy:  1.0\n",
            "Iteration:  430\n",
            "Accuracy:  1.0\n",
            "Iteration:  431\n",
            "Accuracy:  1.0\n",
            "Iteration:  432\n",
            "Accuracy:  1.0\n",
            "Iteration:  433\n",
            "Accuracy:  1.0\n",
            "Iteration:  434\n",
            "Accuracy:  1.0\n",
            "Iteration:  435\n",
            "Accuracy:  1.0\n",
            "Iteration:  436\n",
            "Accuracy:  1.0\n",
            "Iteration:  437\n",
            "Accuracy:  1.0\n",
            "Iteration:  438\n",
            "Accuracy:  1.0\n",
            "Iteration:  439\n",
            "Accuracy:  1.0\n",
            "Iteration:  440\n",
            "Accuracy:  1.0\n",
            "Iteration:  441\n",
            "Accuracy:  1.0\n",
            "Iteration:  442\n",
            "Accuracy:  1.0\n",
            "Iteration:  443\n",
            "Accuracy:  1.0\n",
            "Iteration:  444\n",
            "Accuracy:  1.0\n",
            "Iteration:  445\n",
            "Accuracy:  1.0\n",
            "Iteration:  446\n",
            "Accuracy:  1.0\n",
            "Iteration:  447\n",
            "Accuracy:  1.0\n",
            "Iteration:  448\n",
            "Accuracy:  1.0\n",
            "Iteration:  449\n",
            "Accuracy:  1.0\n",
            "Iteration:  450\n",
            "Accuracy:  1.0\n",
            "Iteration:  451\n",
            "Accuracy:  1.0\n",
            "Iteration:  452\n",
            "Accuracy:  1.0\n",
            "Iteration:  453\n",
            "Accuracy:  1.0\n",
            "Iteration:  454\n",
            "Accuracy:  1.0\n",
            "Iteration:  455\n",
            "Accuracy:  1.0\n",
            "Iteration:  456\n",
            "Accuracy:  1.0\n",
            "Iteration:  457\n",
            "Accuracy:  1.0\n",
            "Iteration:  458\n",
            "Accuracy:  1.0\n",
            "Iteration:  459\n",
            "Accuracy:  1.0\n",
            "Iteration:  460\n",
            "Accuracy:  1.0\n",
            "Iteration:  461\n",
            "Accuracy:  1.0\n",
            "Iteration:  462\n",
            "Accuracy:  1.0\n",
            "Iteration:  463\n",
            "Accuracy:  1.0\n",
            "Iteration:  464\n",
            "Accuracy:  1.0\n",
            "Iteration:  465\n",
            "Accuracy:  1.0\n",
            "Iteration:  466\n",
            "Accuracy:  1.0\n",
            "Iteration:  467\n",
            "Accuracy:  1.0\n",
            "Iteration:  468\n",
            "Accuracy:  1.0\n",
            "Iteration:  469\n",
            "Accuracy:  1.0\n",
            "Iteration:  470\n",
            "Accuracy:  1.0\n",
            "Iteration:  471\n",
            "Accuracy:  1.0\n",
            "Iteration:  472\n",
            "Accuracy:  1.0\n",
            "Iteration:  473\n",
            "Accuracy:  1.0\n",
            "Iteration:  474\n",
            "Accuracy:  1.0\n",
            "Iteration:  475\n",
            "Accuracy:  1.0\n",
            "Iteration:  476\n",
            "Accuracy:  1.0\n",
            "Iteration:  477\n",
            "Accuracy:  1.0\n",
            "Iteration:  478\n",
            "Accuracy:  1.0\n",
            "Iteration:  479\n",
            "Accuracy:  1.0\n",
            "Iteration:  480\n",
            "Accuracy:  1.0\n",
            "Iteration:  481\n",
            "Accuracy:  1.0\n",
            "Iteration:  482\n",
            "Accuracy:  1.0\n",
            "Iteration:  483\n",
            "Accuracy:  1.0\n",
            "Iteration:  484\n",
            "Accuracy:  1.0\n",
            "Iteration:  485\n",
            "Accuracy:  1.0\n",
            "Iteration:  486\n",
            "Accuracy:  1.0\n",
            "Iteration:  487\n",
            "Accuracy:  1.0\n",
            "Iteration:  488\n",
            "Accuracy:  1.0\n",
            "Iteration:  489\n",
            "Accuracy:  1.0\n",
            "Iteration:  490\n",
            "Accuracy:  1.0\n",
            "Iteration:  491\n",
            "Accuracy:  1.0\n",
            "Iteration:  492\n",
            "Accuracy:  1.0\n",
            "Iteration:  493\n",
            "Accuracy:  1.0\n",
            "Iteration:  494\n",
            "Accuracy:  1.0\n",
            "Iteration:  495\n",
            "Accuracy:  1.0\n",
            "Iteration:  496\n",
            "Accuracy:  1.0\n",
            "Iteration:  497\n",
            "Accuracy:  1.0\n",
            "Iteration:  498\n",
            "Accuracy:  1.0\n",
            "Iteration:  499\n",
            "Accuracy:  1.0\n"
          ]
        }
      ]
    },
    {
      "cell_type": "code",
      "metadata": {
        "id": "c424b4dd"
      },
      "source": [
        "preds = nn.make_predictions(X_test)"
      ],
      "id": "c424b4dd",
      "execution_count": 124,
      "outputs": []
    },
    {
      "cell_type": "code",
      "metadata": {
        "colab": {
          "base_uri": "https://localhost:8080/"
        },
        "id": "373383d3",
        "outputId": "5c7939de-afa1-4001-d0f7-b822b4cc1dba"
      },
      "source": [
        "nn.test_predictions(1)"
      ],
      "id": "373383d3",
      "execution_count": 125,
      "outputs": [
        {
          "output_type": "stream",
          "name": "stdout",
          "text": [
            "label  1\n",
            "predicted  1\n"
          ]
        }
      ]
    },
    {
      "cell_type": "code",
      "metadata": {
        "colab": {
          "base_uri": "https://localhost:8080/"
        },
        "id": "759e41b6",
        "outputId": "7a2bb9f8-9973-4f92-fdfd-f0ad8815a58c"
      },
      "source": [
        "nn.test_predictions(2)"
      ],
      "id": "759e41b6",
      "execution_count": 126,
      "outputs": [
        {
          "output_type": "stream",
          "name": "stdout",
          "text": [
            "label  0\n",
            "predicted  0\n"
          ]
        }
      ]
    },
    {
      "cell_type": "markdown",
      "metadata": {
        "id": "tpuS_09M7o6T"
      },
      "source": [
        "## Hyperparameter Investigation"
      ],
      "id": "tpuS_09M7o6T"
    },
    {
      "cell_type": "markdown",
      "metadata": {
        "id": "4f48d219"
      },
      "source": [
        "#### Informal Investigation"
      ],
      "id": "4f48d219"
    },
    {
      "cell_type": "code",
      "metadata": {
        "id": "52adde00"
      },
      "source": [
        "def compareThrice(nn, parameter, new_values):\n",
        "        one = copy.deepcopy(nn)\n",
        "        #one.train(nn.X, nn.Y)\n",
        "    \n",
        "        two = copy.deepcopy(nn)\n",
        "        #two.train(nn.X, nn.Y)\n",
        "        \n",
        "        three = copy.deepcopy(nn)\n",
        "        #three.train(nn.X, nn.Y)\n",
        "        \n",
        "        new_accuracy = None\n",
        "        \n",
        "        if (parameter == \"neurons\"):\n",
        "            one.change_neurons(new_values[0], printChange=False)\n",
        "            one.train(nn.X, nn.Y, printAccuracy=False)\n",
        "            \n",
        "            two.change_neurons(new_values[1], printChange=False)\n",
        "            two.train(nn.X, nn.Y, printAccuracy=False)\n",
        "            \n",
        "            three.change_neurons(new_values[2], printChange=False)\n",
        "            three.train(nn.X, nn.Y, printAccuracy=False)\n",
        "            \n",
        "            new_accuracy = np.mean([one.accuracy,two.accuracy,three.accuracy])\n",
        "        \n",
        "        elif(parameter == \"activations\"):\n",
        "            one.change_activations(new_values[0], printChange=False)\n",
        "            one.train(nn.X, nn.Y, printAccuracy=False)\n",
        "            \n",
        "            two.change_activations(new_values[1], printChange=False)\n",
        "            two.train(nn.X, nn.Y, printAccuracy=False)\n",
        "            \n",
        "            three.change_activations(new_values[2], printChange=False)\n",
        "            three.train(nn.X, nn.Y, printAccuracy=False)\n",
        "            \n",
        "            new_accuracy = np.mean([one.accuracy,two.accuracy,three.accuracy])\n",
        "        \n",
        "        elif(parameter == \"epochs\"):\n",
        "            one.change_epochs(new_values[0], printChange=False)\n",
        "            one.train(nn.X, nn.Y, printAccuracy=False)\n",
        "            \n",
        "            two.change_epochs(new_values[1], printChange=False)\n",
        "            two.train(nn.X, nn.Y, printAccuracy=False)\n",
        "            \n",
        "            three.change_epochs(new_values[2], printChange=False)\n",
        "            three.train(nn.X, nn.Y, printAccuracy=False)\n",
        "            \n",
        "            new_accuracy = np.mean([one.accuracy,two.accuracy,three.accuracy])\n",
        "        \n",
        "        elif(parameter == \"learningRate\"):\n",
        "            one.change_learningRate(new_values[0], printChange=False)\n",
        "            one.train(nn.X, nn.Y, printAccuracy=False)\n",
        "            \n",
        "            two.change_learningRate(new_values[1], printChange=False)\n",
        "            two.train(nn.X, nn.Y, printAccuracy=False)\n",
        "            \n",
        "            three.change_learningRate(new_values[2], printChange=False)\n",
        "            three.train(nn.X, nn.Y, printAccuracy=False)\n",
        "            \n",
        "            new_accuracy = np.mean([one.accuracy,two.accuracy,three.accuracy])\n",
        "        \n",
        "        else:\n",
        "            print(\"Error comparing\") \n",
        "        \n",
        "        print(f\"Original accuracy: {nn.accuracy}\\nMean accuracy from three trials of different {parameter}: {new_accuracy}\")"
      ],
      "id": "52adde00",
      "execution_count": 127,
      "outputs": []
    },
    {
      "cell_type": "code",
      "metadata": {
        "id": "c59b0c1e"
      },
      "source": [
        "ann = NeuralNetwork([4,3,2,2], 100, 1, ['relu','relu','sigmoid'])"
      ],
      "id": "c59b0c1e",
      "execution_count": 128,
      "outputs": []
    },
    {
      "cell_type": "code",
      "metadata": {
        "id": "85026ebf"
      },
      "source": [
        "ann.train(X_train, Y_train, printAccuracy=False);"
      ],
      "id": "85026ebf",
      "execution_count": 129,
      "outputs": []
    },
    {
      "cell_type": "code",
      "metadata": {
        "scrolled": false,
        "colab": {
          "base_uri": "https://localhost:8080/"
        },
        "id": "f2238ba1",
        "outputId": "c9f6e64c-50cc-4bb6-f836-4c31ecefda8e"
      },
      "source": [
        "# Original Hyperparameters\n",
        "ann"
      ],
      "id": "f2238ba1",
      "execution_count": 130,
      "outputs": [
        {
          "output_type": "execute_result",
          "data": {
            "text/plain": [
              "ANN Hyperparameters\n",
              "Layers: [4, 3, 2, 2]\n",
              "Iterations: 100                 \n",
              "Learning rate: 1\n",
              "Activations: ['relu', 'relu', 'sigmoid']"
            ]
          },
          "metadata": {},
          "execution_count": 130
        }
      ]
    },
    {
      "cell_type": "code",
      "metadata": {
        "scrolled": true,
        "colab": {
          "base_uri": "https://localhost:8080/",
          "height": 502
        },
        "id": "02d80fa0",
        "outputId": "9688d896-efdf-464f-a938-e39dfd768ba4"
      },
      "source": [
        "ann.view_accuracyEpoch()"
      ],
      "id": "02d80fa0",
      "execution_count": 131,
      "outputs": [
        {
          "output_type": "display_data",
          "data": {
            "image/png": "[encoded data removed]",
            "text/plain": [
              "<Figure size 1080x576 with 1 Axes>"
            ]
          },
          "metadata": {}
        }
      ]
    },
    {
      "cell_type": "code",
      "metadata": {
        "scrolled": true,
        "colab": {
          "base_uri": "https://localhost:8080/",
          "height": 502
        },
        "id": "0356819e",
        "outputId": "b8be7cdb-6784-48c6-b37e-29865f4476f9"
      },
      "source": [
        "ann.view_accuracyTime()"
      ],
      "id": "0356819e",
      "execution_count": 132,
      "outputs": [
        {
          "output_type": "display_data",
          "data": {
            "image/png": "[encoded data removed]",
            "text/plain": [
              "<Figure size 1080x576 with 1 Axes>"
            ]
          },
          "metadata": {}
        }
      ]
    },
    {
      "cell_type": "code",
      "metadata": {
        "scrolled": true,
        "colab": {
          "base_uri": "https://localhost:8080/"
        },
        "id": "ddfa96bd",
        "outputId": "c9dff840-5b5d-4a87-f2e0-4ae45c23f1ac"
      },
      "source": [
        "ann"
      ],
      "id": "ddfa96bd",
      "execution_count": 134,
      "outputs": [
        {
          "output_type": "execute_result",
          "data": {
            "text/plain": [
              "ANN Hyperparameters\n",
              "Layers: [4, 3, 2, 2]\n",
              "Iterations: 100                 \n",
              "Learning rate: 1\n",
              "Activations: ['relu', 'relu', 'sigmoid']"
            ]
          },
          "metadata": {},
          "execution_count": 134
        }
      ]
    },
    {
      "cell_type": "code",
      "metadata": {
        "scrolled": true,
        "colab": {
          "base_uri": "https://localhost:8080/"
        },
        "id": "83fbca87",
        "outputId": "078e6935-3550-42ee-d2fc-0a9cb4f1ea27"
      },
      "source": [
        "# Current Hyperparameters\n",
        "annLayers"
      ],
      "id": "83fbca87",
      "execution_count": 135,
      "outputs": [
        {
          "output_type": "execute_result",
          "data": {
            "text/plain": [
              "ANN Hyperparameters\n",
              "Layers: [4, 8, 8, 2]\n",
              "Iterations: 100                 \n",
              "Learning rate: 1\n",
              "Activations: ['relu', 'relu', 'sigmoid']"
            ]
          },
          "metadata": {},
          "execution_count": 135
        }
      ]
    },
    {
      "cell_type": "code",
      "metadata": {
        "colab": {
          "base_uri": "https://localhost:8080/",
          "height": 502
        },
        "id": "cd9c37cc",
        "outputId": "18c2f1a1-8f31-4a92-be43-3d25ff060f63"
      },
      "source": [
        "annLayers.view_accuracyEpoch()"
      ],
      "id": "cd9c37cc",
      "execution_count": 136,
      "outputs": [
        {
          "output_type": "display_data",
          "data": {
            "image/png": "[encoded data removed]",
            "text/plain": [
              "<Figure size 1080x576 with 1 Axes>"
            ]
          },
          "metadata": {}
        }
      ]
    },
    {
      "cell_type": "code",
      "metadata": {
        "id": "TUNr_sWjeQwJ"
      },
      "source": [
        "# large number of layers\n",
        "\n",
        "manyLayers = copy.deepcopy(ann)\n",
        "manyLayers.change_neurons([4,8,8,8,2])"
      ],
      "id": "TUNr_sWjeQwJ",
      "execution_count": null,
      "outputs": []
    },
    {
      "cell_type": "code",
      "metadata": {
        "id": "c896a1e9"
      },
      "source": [
        "# Change activation functions\n",
        "annActs = copy.deepcopy(ann)\n",
        "annActs.change_activations(['sigmoid', 'sigmoid','sigmoid'])"
      ],
      "id": "c896a1e9",
      "execution_count": 137,
      "outputs": []
    },
    {
      "cell_type": "code",
      "metadata": {
        "colab": {
          "base_uri": "https://localhost:8080/"
        },
        "id": "bdbee1fc",
        "outputId": "474de43e-2bce-411c-f2ca-bb733474c644"
      },
      "source": [
        "# Current Hyperparameters\n",
        "annActs"
      ],
      "id": "bdbee1fc",
      "execution_count": 138,
      "outputs": [
        {
          "output_type": "execute_result",
          "data": {
            "text/plain": [
              "ANN Hyperparameters\n",
              "Layers: [4, 3, 2, 2]\n",
              "Iterations: 100                 \n",
              "Learning rate: 1\n",
              "Activations: ['sigmoid', 'sigmoid', 'sigmoid']"
            ]
          },
          "metadata": {},
          "execution_count": 138
        }
      ]
    },
    {
      "cell_type": "code",
      "metadata": {
        "colab": {
          "base_uri": "https://localhost:8080/",
          "height": 502
        },
        "id": "84d26d1d",
        "outputId": "a11d4638-7bb4-4a72-b25a-6d1072286368"
      },
      "source": [
        "annActs.view_accuracyEpoch()"
      ],
      "id": "84d26d1d",
      "execution_count": 139,
      "outputs": [
        {
          "output_type": "display_data",
          "data": {
            "image/png": "[encoded data removed]",
            "text/plain": [
              "<Figure size 1080x576 with 1 Axes>"
            ]
          },
          "metadata": {}
        }
      ]
    },
    {
      "cell_type": "code",
      "metadata": {
        "colab": {
          "base_uri": "https://localhost:8080/"
        },
        "id": "5e00f4b5",
        "scrolled": true,
        "outputId": "193f8f3c-76da-4eeb-d059-9e159d64a69c"
      },
      "source": [
        "# Change Number of Iterations\n",
        "annEpochs = copy.deepcopy(ann)\n",
        "annEpochs.change_epochs(50)"
      ],
      "id": "5e00f4b5",
      "execution_count": 140,
      "outputs": [
        {
          "output_type": "stream",
          "name": "stdout",
          "text": [
            "Old test accuracy: 1.0\n",
            "New test accuracy: 1.0\n"
          ]
        }
      ]
    },
    {
      "cell_type": "code",
      "metadata": {
        "colab": {
          "base_uri": "https://localhost:8080/"
        },
        "id": "4c6dd4ef",
        "outputId": "ff071a85-8306-4d37-dbaa-e12ad89729cb"
      },
      "source": [
        "annEpochs"
      ],
      "id": "4c6dd4ef",
      "execution_count": 141,
      "outputs": [
        {
          "output_type": "execute_result",
          "data": {
            "text/plain": [
              "ANN Hyperparameters\n",
              "Layers: [4, 3, 2, 2]\n",
              "Iterations: 50                 \n",
              "Learning rate: 1\n",
              "Activations: ['relu', 'relu', 'sigmoid']"
            ]
          },
          "metadata": {},
          "execution_count": 141
        }
      ]
    },
    {
      "cell_type": "code",
      "metadata": {
        "colab": {
          "base_uri": "https://localhost:8080/",
          "height": 502
        },
        "id": "f16ee800",
        "outputId": "883d1e7b-d491-41bc-a3f5-5a8546e733da"
      },
      "source": [
        "annEpochs.view_accuracyEpoch()"
      ],
      "id": "f16ee800",
      "execution_count": 142,
      "outputs": [
        {
          "output_type": "display_data",
          "data": {
            "image/png": "[encoded data removed]",
            "text/plain": [
              "<Figure size 1080x576 with 1 Axes>"
            ]
          },
          "metadata": {}
        }
      ]
    },
    {
      "cell_type": "code",
      "metadata": {
        "colab": {
          "base_uri": "https://localhost:8080/"
        },
        "id": "bdde9b51",
        "scrolled": true,
        "outputId": "135705b6-f81c-4382-f400-ecb21fa8b75e"
      },
      "source": [
        "# Change Learning rate\n",
        "annAlpha = copy.deepcopy(ann)\n",
        "ann.change_learningRate(0.05)"
      ],
      "id": "bdde9b51",
      "execution_count": 143,
      "outputs": [
        {
          "output_type": "stream",
          "name": "stdout",
          "text": [
            "Old test accuracy: 1.0\n",
            "New test accuracy: 0.8895833333333333\n"
          ]
        }
      ]
    },
    {
      "cell_type": "code",
      "metadata": {
        "scrolled": true,
        "colab": {
          "base_uri": "https://localhost:8080/"
        },
        "id": "c7bad0ab",
        "outputId": "5568ce1e-9af4-46e7-f1f0-3f71aff1b62a"
      },
      "source": [
        "annAlpha"
      ],
      "id": "c7bad0ab",
      "execution_count": 144,
      "outputs": [
        {
          "output_type": "execute_result",
          "data": {
            "text/plain": [
              "ANN Hyperparameters\n",
              "Layers: [4, 3, 2, 2]\n",
              "Iterations: 100                 \n",
              "Learning rate: 1\n",
              "Activations: ['relu', 'relu', 'sigmoid']"
            ]
          },
          "metadata": {},
          "execution_count": 144
        }
      ]
    },
    {
      "cell_type": "code",
      "metadata": {
        "colab": {
          "base_uri": "https://localhost:8080/",
          "height": 502
        },
        "id": "8a3f3b7f",
        "outputId": "c12dd356-f2e0-405d-de4f-f5e89c4d1f36"
      },
      "source": [
        "annAlpha.view_accuracyEpoch();"
      ],
      "id": "8a3f3b7f",
      "execution_count": 145,
      "outputs": [
        {
          "output_type": "display_data",
          "data": {
            "image/png": "[encoded data removed]",
            "text/plain": [
              "<Figure size 1080x576 with 1 Axes>"
            ]
          },
          "metadata": {}
        }
      ]
    },
    {
      "cell_type": "code",
      "metadata": {
        "id": "7jl__y65eqSy"
      },
      "source": [
        "ann_shallow = NeuralNetwork([4,6,6,2], 100, 0.35, ['relu','relu','sigmoid'])"
      ],
      "id": "7jl__y65eqSy",
      "execution_count": 273,
      "outputs": []
    },
    {
      "cell_type": "code",
      "metadata": {
        "id": "TCgYr9J7fdye"
      },
      "source": [
        "as_output = ann_shallow.train(X_train, Y_train, printAccuracy=False)"
      ],
      "id": "TCgYr9J7fdye",
      "execution_count": 274,
      "outputs": []
    },
    {
      "cell_type": "code",
      "metadata": {
        "id": "iCUIUbqUetjj"
      },
      "source": [
        "ann_deep = NeuralNetwork([4,6,6,6,6,6,6,6,6,2], 100, 0.35, ['relu','relu','relu','relu','relu','relu','relu','relu','sigmoid'])"
      ],
      "id": "iCUIUbqUetjj",
      "execution_count": 288,
      "outputs": []
    },
    {
      "cell_type": "code",
      "metadata": {
        "id": "p2ij3bUJfHMX"
      },
      "source": [
        "ad_output = ann_deep.train(X_train, Y_train, printAccuracy=False)"
      ],
      "id": "p2ij3bUJfHMX",
      "execution_count": 289,
      "outputs": []
    },
    {
      "cell_type": "code",
      "metadata": {
        "colab": {
          "base_uri": "https://localhost:8080/",
          "height": 502
        },
        "id": "_5nOLTkAgCGk",
        "outputId": "1ce3379c-645e-4f8f-d1bf-ec2939a4dc98"
      },
      "source": [
        "ann_shallow.view_accuracyEpoch();"
      ],
      "id": "_5nOLTkAgCGk",
      "execution_count": 290,
      "outputs": [
        {
          "output_type": "display_data",
          "data": {
            "image/png": "[encoded data removed]",
            "text/plain": [
              "<Figure size 1080x576 with 1 Axes>"
            ]
          },
          "metadata": {}
        }
      ]
    },
    {
      "cell_type": "code",
      "metadata": {
        "colab": {
          "base_uri": "https://localhost:8080/",
          "height": 502
        },
        "id": "Aq7fXMtkgJSV",
        "outputId": "c9cc2d5d-4326-461a-bb8b-16040011d04d"
      },
      "source": [
        "ann_deep.view_accuracyEpoch();"
      ],
      "id": "Aq7fXMtkgJSV",
      "execution_count": 291,
      "outputs": [
        {
          "output_type": "display_data",
          "data": {
            "image/png": "[encoded data removed]",
            "text/plain": [
              "<Figure size 1080x576 with 1 Axes>"
            ]
          },
          "metadata": {}
        }
      ]
    },
    {
      "cell_type": "code",
      "metadata": {
        "scrolled": false,
        "colab": {
          "base_uri": "https://localhost:8080/"
        },
        "id": "66a7092a",
        "outputId": "f7316ada-03fe-42b5-e568-a2e711d80793"
      },
      "source": [
        "compareThrice(ann, \"neurons\", [[4,5,5,2], [4,10,10,2], [4,15,15,2]])"
      ],
      "id": "66a7092a",
      "execution_count": 146,
      "outputs": [
        {
          "output_type": "stream",
          "name": "stdout",
          "text": [
            "Original accuracy: 0.8895833333333333\n",
            "Mean accuracy from three trials of different neurons: 0.9923611111111111\n"
          ]
        }
      ]
    },
    {
      "cell_type": "code",
      "metadata": {
        "colab": {
          "base_uri": "https://localhost:8080/"
        },
        "id": "f3659e37",
        "outputId": "c4f92550-a0a5-42fe-e949-421c45a828bd"
      },
      "source": [
        "compareThrice(ann, \"activations\", [[\"relu\",\"relu\",\"relu\"], [\"relu\",\"tanh\",\"sigmoid\"], [\"tanh\",\"relu\", \"sigmoid\"]])"
      ],
      "id": "f3659e37",
      "execution_count": 147,
      "outputs": [
        {
          "output_type": "stream",
          "name": "stdout",
          "text": [
            "Original accuracy: 0.8895833333333333\n",
            "Mean accuracy from three trials of different activations: 0.8565972222222222\n"
          ]
        }
      ]
    },
    {
      "cell_type": "code",
      "metadata": {
        "colab": {
          "base_uri": "https://localhost:8080/"
        },
        "id": "5fc24002",
        "outputId": "28d21f3b-59ec-423d-f005-abaa66291d98"
      },
      "source": [
        "compareThrice(ann, \"epochs\", [20,40,60])"
      ],
      "id": "5fc24002",
      "execution_count": 148,
      "outputs": [
        {
          "output_type": "stream",
          "name": "stdout",
          "text": [
            "Original accuracy: 0.8895833333333333\n",
            "Mean accuracy from three trials of different epochs: 0.7447916666666666\n"
          ]
        }
      ]
    },
    {
      "cell_type": "code",
      "metadata": {
        "colab": {
          "base_uri": "https://localhost:8080/"
        },
        "id": "40c43e44",
        "outputId": "e2c59869-37fe-4eab-9592-ddbb736f43f6"
      },
      "source": [
        "compareThrice(ann, \"learningRate\", [0.1,0.5,0.75])"
      ],
      "id": "40c43e44",
      "execution_count": 149,
      "outputs": [
        {
          "output_type": "stream",
          "name": "stdout",
          "text": [
            "Original accuracy: 0.8895833333333333\n",
            "Mean accuracy from three trials of different learningRate: 0.9888888888888889\n"
          ]
        }
      ]
    },
    {
      "cell_type": "markdown",
      "metadata": {
        "id": "efcbd187"
      },
      "source": [
        "#### Formal"
      ],
      "id": "efcbd187"
    },
    {
      "cell_type": "markdown",
      "metadata": {
        "id": "IrCt0E5Jbcit"
      },
      "source": [
        "Hyperparameter values are chosen randomly within a range, performance metrics are averaged over 10 runs for each value. "
      ],
      "id": "IrCt0E5Jbcit"
    },
    {
      "cell_type": "code",
      "metadata": {
        "id": "b973fe92"
      },
      "source": [
        "# trains network 10 times \n",
        "def run_ten(nn, X, Y):\n",
        "    # stores run results in array\n",
        "    nets = []\n",
        "    for i in range(10):\n",
        "        nc = copy.deepcopy(nn)\n",
        "        # resets parameters every run\n",
        "        nc.init_params() \n",
        "        nc.train(X, Y, printAccuracy=False)\n",
        "        nets.append(nc)\n",
        "    return nets"
      ],
      "id": "b973fe92",
      "execution_count": 7,
      "outputs": []
    },
    {
      "cell_type": "markdown",
      "metadata": {
        "id": "iEwawlWwYCGR"
      },
      "source": [
        "As our ANN reaches 100% accuracy, calulcating mean using the final accuracy would not be insightful as it would produce the same values. Therefore, we had to add another \n",
        "measure, which was the mean epoch at which accuracy hit 100%. This informs you which values allow ANN to converge faster. \n",
        "\n"
      ],
      "id": "iEwawlWwYCGR"
    },
    {
      "cell_type": "code",
      "metadata": {
        "id": "f1e8759d"
      },
      "source": [
        "# gets mean, standard deviation, mean execution time, standard deviation execution time and number of runs that get stuck at a local minima\n",
        "# across the 10 runs\n",
        "def get_converg(nets):\n",
        "    np_nets = np.array(nets)\n",
        "    convergFilter = np.array(list(map((lambda n: n.accuracy == np.float64(1)), nets)))\n",
        "\n",
        "    convergs = list(map((lambda n: np.where(n.AccuracyEpochList==np.float64(1))[0][1]), np_nets[convergFilter]))\n",
        "    times = list(map((lambda n: np.where(n.AccuracyTimeList==np.float64(1))[0][1]), np_nets[convergFilter]))\n",
        "\n",
        "    mean_converg = np.mean(convergs)\n",
        "    std_converg = np.std(convergs)\n",
        "    mean_times = np.mean(times)\n",
        "    std_times = np.std(times)\n",
        "    num_non_conv = len(np_nets) - len(convergFilter[convergFilter])\n",
        "    \n",
        "    return mean_converg, std_converg, mean_times, std_times, num_non_conv"
      ],
      "id": "f1e8759d",
      "execution_count": 8,
      "outputs": []
    },
    {
      "cell_type": "code",
      "metadata": {
        "id": "d136a37a"
      },
      "source": [
        "# gets mean and standard deviation for accuracy \n",
        "def get_metrics(nets):\n",
        "    accuracies = list(map((lambda x: x.accuracy), nets))\n",
        "    mean = np.mean(accuracies)\n",
        "    std = np.std(accuracies)\n",
        "    return mean, std"
      ],
      "id": "d136a37a",
      "execution_count": 9,
      "outputs": []
    },
    {
      "cell_type": "code",
      "metadata": {
        "id": "711c4e9b"
      },
      "source": [
        "test_net = NeuralNetwork([4,10,10,2], 5000, 0.49, ['relu','relu','sigmoid'])"
      ],
      "id": "711c4e9b",
      "execution_count": 10,
      "outputs": []
    },
    {
      "cell_type": "code",
      "metadata": {
        "id": "48ae823f"
      },
      "source": [
        "# compares a specifed sample number of randomly selected learning rates within a defined range\n",
        "def compareLR(nn, X, Y, lower, upper, n_tests):\n",
        "    test_values = list(map(lambda x: random.uniform(lower, upper), range(n_tests))) \n",
        "    results = {}\n",
        "\n",
        "    i = 1\n",
        "    for lr in test_values: \n",
        "        new_net = NeuralNetwork(nn.layer_sizes, nn.num_iters, lr, nn.activations)\n",
        "        ten_nets = run_ten(new_net, X_train, Y_train)\n",
        "        results[lr] = get_converg(ten_nets)\n",
        "        print('progress', f'{i}/{len(test_values)}')\n",
        "        i+=1\n",
        "    # results are sorted ascending based on mean epochs\n",
        "    sorted_by_mean = dict(sorted(results.items(), key=lambda item: item[1][0]))\n",
        "    print('Output format: epochs mean (standard deviation), time mean (standard deviation), num runs that did not reach 100% acc')\n",
        "    for key, value in sorted_by_mean.items():\n",
        "        print('lr', key, ' : ', 'epochs', round(value[0], 4), f'({round(value[1], 4)})', 'time', round(value[2], 4),  f'({round(value[3], 4)})', 'not 100%:', value[4])        \n"
      ],
      "id": "48ae823f",
      "execution_count": 11,
      "outputs": []
    },
    {
      "cell_type": "code",
      "metadata": {
        "scrolled": false,
        "colab": {
          "base_uri": "https://localhost:8080/"
        },
        "id": "277bbfc1",
        "outputId": "89234ca7-dd41-4db8-fd8f-343606792688"
      },
      "source": [
        "# comparing 10 randomly chosen learning rates from 0.000001 to 1.0 \n",
        "compareLR(test_net, X_train, Y_train, 0.000001, 1.0, 10)"
      ],
      "id": "277bbfc1",
      "execution_count": 47,
      "outputs": [
        {
          "output_type": "stream",
          "name": "stdout",
          "text": [
            "progress 1/10\n",
            "progress 2/10\n",
            "progress 3/10\n",
            "progress 4/10\n",
            "progress 5/10\n",
            "progress 6/10\n",
            "progress 7/10\n",
            "progress 8/10\n",
            "progress 9/10\n",
            "progress 10/10\n",
            "Output format: epochs mean (standard deviation), time mean (standard deviation), num runs that did not reach 100% acc\n",
            "lr 0.8641740427885757  :  epochs 37.75 (26.5412) time 38.875 (26.417) not 100%: 2\n",
            "lr 0.5071333859963241  :  epochs 41.5 (16.8953) time 42.5 (16.8953) not 100%: 0\n",
            "lr 0.43236597262170906  :  epochs 51.6 (21.327) time 52.6 (21.327) not 100%: 0\n",
            "lr 0.5690593348884055  :  epochs 55.1 (20.5205) time 56.1 (20.5205) not 100%: 0\n",
            "lr 0.7001408512294204  :  epochs 58.8 (43.5748) time 59.9 (43.4798) not 100%: 0\n",
            "lr 0.997946821606356  :  epochs 59.7778 (58.5582) time 60.7778 (58.5582) not 100%: 1\n",
            "lr 0.8429161578475057  :  epochs 69.3333 (67.5903) time 70.3333 (67.5903) not 100%: 1\n",
            "lr 0.8497488676328997  :  epochs 80.4 (69.579) time 81.4 (69.579) not 100%: 0\n",
            "lr 0.2542455361185354  :  epochs 82.8 (33.6297) time 83.8 (33.6297) not 100%: 0\n",
            "lr 0.28126673339838293  :  epochs 95.3 (43.9546) time 96.3 (43.9546) not 100%: 0\n"
          ]
        }
      ]
    },
    {
      "cell_type": "code",
      "metadata": {
        "id": "ab9df391"
      },
      "source": [
        "# compares a specifed sample number for randomly selected number of hidden layers within a defined range\n",
        "def compareLayers(nn, X, Y, lower, upper):\n",
        "    test_values = range(lower, upper) \n",
        "    results = {}\n",
        "    \n",
        "    for nl in test_values: \n",
        "        activations = list(map(lambda x: 'relu', range(nl)))\n",
        "        activations.append('sigmoid')\n",
        "        \n",
        "        layers = list(map(lambda x: 10, range(nl)))\n",
        "        layers.append(nn.layer_sizes[len(nn.layer_sizes) - 1])\n",
        "        layers.insert(0, nn.layer_sizes[0])\n",
        "\n",
        "        new_net = NeuralNetwork(layers, nn.num_iters, nn.learning_rate, activations)\n",
        "        ten_nets = run_ten(new_net, X_train, Y_train)\n",
        "        \n",
        "        results[nl] = get_converg(ten_nets)\n",
        "        \n",
        "        print('progress', f'{nl}/{len(test_values)}')\n",
        "        \n",
        "    # results are sorted ascending based on mean epochs   \n",
        "    sorted_by_mean = dict(sorted(results.items(), key=lambda item: item[1][0]))\n",
        "    print('Output format: epochs mean (standard deviation) time mean (standard deviation)')\n",
        "    for key, value in sorted_by_mean.items():\n",
        "        print('lr', key, ' : ', 'epochs',round(value[0], 4), f'({round(value[1], 4)})', 'time', round(value[2], 4),  f'({round(value[3], 4)})', 'not 100%:', value[4])        \n"
      ],
      "id": "ab9df391",
      "execution_count": 13,
      "outputs": []
    },
    {
      "cell_type": "code",
      "metadata": {
        "colab": {
          "base_uri": "https://localhost:8080/"
        },
        "id": "efe5b08f",
        "outputId": "2ec0f32a-495e-42ff-8f99-1a069eb49f72"
      },
      "source": [
        "# comparing 10 randomly chosen number of hidden layers from 1 to 10 \n",
        "compareLayers(test_net, X_train, Y_train, 1, 10)"
      ],
      "id": "efe5b08f",
      "execution_count": 48,
      "outputs": [
        {
          "output_type": "stream",
          "name": "stdout",
          "text": [
            "progress 1/9\n",
            "progress 2/9\n",
            "progress 3/9\n",
            "progress 4/9\n",
            "progress 5/9\n",
            "progress 6/9\n",
            "progress 7/9\n",
            "progress 8/9\n",
            "progress 9/9\n",
            "Output format: epochs mean (standard deviation) time mean (standard deviation)\n",
            "lr 3  :  epochs 28.2 (14.7296) time 32.0 (16.9234) not 100%: 0\n",
            "lr 4  :  epochs 54.6 (36.0727) time 55.7 (36.0168) not 100%: 0\n",
            "lr 2  :  epochs 57.3 (25.842) time 58.3 (25.842) not 100%: 0\n",
            "lr 8  :  epochs 59.5 (24.2487) time 60.625 (24.1502) not 100%: 2\n",
            "lr 7  :  epochs 60.4 (33.5416) time 61.6 (33.927) not 100%: 5\n",
            "lr 5  :  epochs 72.2857 (33.2596) time 73.2857 (33.2596) not 100%: 3\n",
            "lr 6  :  epochs 74.75 (62.8485) time 78.0 (64.7978) not 100%: 2\n",
            "lr 1  :  epochs 271.6 (533.4621) time 272.7 (533.7612) not 100%: 0\n",
            "lr 9  :  epochs 723.8 (1319.4851) time 939.2 (1748.1907) not 100%: 5\n"
          ]
        }
      ]
    }
  ]
}