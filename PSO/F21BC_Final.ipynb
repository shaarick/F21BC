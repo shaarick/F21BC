{
  "nbformat": 4,
  "nbformat_minor": 5,
  "metadata": {
    "colab": {
      "name": "F21BC-Final.ipynb",
      "provenance": [],
      "collapsed_sections": [],
      "machine_shape": "hm"
    },
    "kernelspec": {
      "display_name": "Python 3 (ipykernel)",
      "language": "python",
      "name": "python3"
    },
    "language_info": {
      "codemirror_mode": {
        "name": "ipython",
        "version": 3
      },
      "file_extension": ".py",
      "mimetype": "text/x-python",
      "name": "python",
      "nbconvert_exporter": "python",
      "pygments_lexer": "ipython3",
      "version": "3.8.12"
    },
    "accelerator": "TPU"
  },
  "cells": [
    {
      "cell_type": "code",
      "metadata": {
        "colab": {
          "base_uri": "https://localhost:8080/"
        },
        "id": "lC5QVY-6UfTW",
        "outputId": "1d372d5b-9343-466d-ce7e-3f71f9cc845e"
      },
      "source": [
        " !pip install --upgrade plotly"
      ],
      "id": "lC5QVY-6UfTW",
      "execution_count": 1,
      "outputs": [
        {
          "output_type": "stream",
          "name": "stdout",
          "text": [
            "Requirement already satisfied: plotly in /usr/local/lib/python3.7/dist-packages (4.4.1)\n",
            "Collecting plotly\n",
            "  Downloading plotly-5.4.0-py2.py3-none-any.whl (25.3 MB)\n",
            "\u001b[K     |████████████████████████████████| 25.3 MB 1.2 MB/s \n",
            "\u001b[?25hRequirement already satisfied: six in /usr/local/lib/python3.7/dist-packages (from plotly) (1.15.0)\n",
            "Collecting tenacity>=6.2.0\n",
            "  Downloading tenacity-8.0.1-py3-none-any.whl (24 kB)\n",
            "Installing collected packages: tenacity, plotly\n",
            "  Attempting uninstall: plotly\n",
            "    Found existing installation: plotly 4.4.1\n",
            "    Uninstalling plotly-4.4.1:\n",
            "      Successfully uninstalled plotly-4.4.1\n",
            "Successfully installed plotly-5.4.0 tenacity-8.0.1\n"
          ]
        }
      ]
    },
    {
      "cell_type": "code",
      "metadata": {
        "colab": {
          "base_uri": "https://localhost:8080/"
        },
        "id": "p4zxIcil0toJ",
        "outputId": "023af5fb-8152-448c-a580-b575f1101fa2"
      },
      "source": [
        "!pip install dill"
      ],
      "id": "p4zxIcil0toJ",
      "execution_count": 2,
      "outputs": [
        {
          "output_type": "stream",
          "name": "stdout",
          "text": [
            "Requirement already satisfied: dill in /usr/local/lib/python3.7/dist-packages (0.3.4)\n"
          ]
        }
      ]
    },
    {
      "cell_type": "code",
      "metadata": {
        "id": "797d09f7"
      },
      "source": [
        "import dill\n",
        "import numpy as np\n",
        "import pandas as pd\n",
        "import time\n",
        "import math\n",
        "import copy\n",
        "import random\n",
        "from matplotlib import pyplot as plt\n",
        "import seaborn as sns\n",
        "import pprint\n",
        "from sklearn.model_selection import train_test_split\n",
        "from sklearn.preprocessing import LabelEncoder\n",
        "from numpy.linalg import norm\n",
        "import plotly.express as px"
      ],
      "id": "797d09f7",
      "execution_count": 3,
      "outputs": []
    },
    {
      "cell_type": "code",
      "metadata": {
        "id": "zCg0nj4N1OS8"
      },
      "source": [
        "# Since computing this entire notebook can take several hours, we serialized \n",
        "# variables so if the marker wanted to run the notebook from scratch they can do\n",
        "# so without having to run the long compare functions.\n",
        "# Note: compare functions can still be run of course, they will just take time\n",
        "# and replace the serialized variables with new values.\n",
        "dill.load_session(\"./activations.db\")\n",
        "dill.load_session(\"./F21BC.db\")\n",
        "dill.load_session(\"./comparators.db\")\n",
        "dill.load_session(\"./optimals.db\")"
      ],
      "id": "zCg0nj4N1OS8",
      "execution_count": 22,
      "outputs": []
    },
    {
      "cell_type": "code",
      "metadata": {
        "id": "6de6b7e5"
      },
      "source": [
        "data = pd.read_csv(\"./data_banknote_authentication.txt\", header=None)\n",
        "m, n = data.shape\n",
        "# seperate into input and output features\n",
        "X, Y = data.values[:, :-1], data.values[:, -1]\n",
        "Y = LabelEncoder().fit_transform(Y)\n",
        "# split into train and test datasets\n",
        "X_train, X_test, Y_train, Y_test = train_test_split(X, Y, test_size=0.3)\n",
        "\n",
        "X_train = X_train.T\n",
        "X_test = X_test.T"
      ],
      "id": "6de6b7e5",
      "execution_count": 5,
      "outputs": []
    },
    {
      "cell_type": "code",
      "metadata": {
        "id": "0e81e7bd"
      },
      "source": [
        "def relu(Z):\n",
        "    return np.maximum(Z, 0)\n",
        "\n",
        "def tanh(Z):\n",
        "    return np.tanh(Z)\n",
        "\n",
        "def sigmoid(Z):\n",
        "    # prevent exp overflow arning does not affect calculation as it becomes 0\n",
        "    np.warnings.filterwarnings('ignore', 'overflow')\n",
        "    return 1/(1+np.exp(-Z))\n",
        "\n",
        "def softmax(Z):\n",
        "    A = np.exp(Z) / sum(np.exp(Z))\n",
        "    return A\n",
        "\n",
        "def relu_deriv(Z):\n",
        "    return Z > 0\n",
        "\n",
        "def tanh_deriv(Z):\n",
        "    return 1-np.tanh(Z)**2\n",
        "\n",
        "def sigmoid_deriv(Z):\n",
        "    sig = 1/(1+np.exp(-Z))\n",
        "    return sig * (1 - sig)\n",
        "\n",
        "def one_hot(Y):\n",
        "    one_hot_Y = np.zeros((Y.size, Y.max() + 1))\n",
        "    one_hot_Y[np.arange(Y.size), Y] = 1\n",
        "    one_hot_Y = one_hot_Y.T\n",
        "    return one_hot_Y"
      ],
      "id": "0e81e7bd",
      "execution_count": 6,
      "outputs": []
    },
    {
      "cell_type": "code",
      "metadata": {
        "id": "56d06807",
        "scrolled": true
      },
      "source": [
        "class NeuralNetwork:\n",
        "    def __init__(self, layer_sizes, activations):\n",
        "            self.layer_sizes = layer_sizes\n",
        "            self.activations = activations\n",
        "            self.params = {}\n",
        "            self.last = len(self.layer_sizes)\n",
        "            self.init_params()\n",
        "            self.accuracy = None\n",
        "            self.X = None\n",
        "            self.Y = None\n",
        "            \n",
        "    def __repr__(self):\n",
        "        return f\"ANN Hyperparameters\\nLayers: {self.layer_sizes}\\nActivations: {self.activations}\"\n",
        "    \n",
        "    # Initalize the network with random weights and biases\n",
        "    def init_params(self):\n",
        "        # Initalize the network with random weights and biases \n",
        "        params = self.params\n",
        "        for i in range(1, self.last):\n",
        "            params[f'W{i}'] = np.random.rand(self.layer_sizes[i], self.layer_sizes[i-1]) - 0.5\n",
        "            params[f'B{i}'] = np.random.rand(self.layer_sizes[i],1) - 0.5\n",
        "\n",
        "    def forward_propagation(self, X):\n",
        "        # Pass X through the network \n",
        "        params = self.params\n",
        "        for i in range(1, self.last):\n",
        "            if i==1:\n",
        "                # For first layer compute dot with x\n",
        "                output = params[f'W{i}'].dot(X) + params[f'B{i}']\n",
        "            else: \n",
        "                # For all other layers compute with output of prev layer\n",
        "                output = params[f'W{i}'].dot(params[f'A{i-1}']) + params[f'B{i}']\n",
        "          \n",
        "            # For all other layers use the activ_fnc initalized in constructor\n",
        "            activ_fnc = self.activations[i-1]\n",
        "            activations = globals()[activ_fnc](output)\n",
        "            \n",
        "            params[f'Z{i}'] = output\n",
        "            params[f'A{i}'] = activations\n",
        "\n",
        "\n",
        "    def unroll_params(self):\n",
        "        params = self.params\n",
        "        unrolled_params = []\n",
        "        for i in range(1, self.last):\n",
        "            unrolled_params.extend(params[f'W{i}'].flatten())\n",
        "            unrolled_params.extend(params[f'B{i}'].flatten())\n",
        "            \n",
        "        return np.array(unrolled_params)        \n",
        "    \n",
        "\n",
        "    def calc_loss(self, Y):\n",
        "        ohY = one_hot(Y)\n",
        "        params = self.params\n",
        "        losses = params[f'A{self.last-1}'] - ohY\n",
        "        return np.abs(losses).mean()\n",
        "\n",
        "        \n",
        "    # Not needed\n",
        "    def backward_propagation(self, X, Y):\n",
        "        ohY = one_hot(Y)\n",
        "        params = self.params\n",
        "        \n",
        "        for i in range(self.last - 1, 0, -1):\n",
        "            if(i == self.last - 1):\n",
        "                # For final layer calculate how wrong net is and compute gradients for weights and biases\n",
        "                dZ =  params[f'A{i}'] - ohY\n",
        "                params[f'dZ{i}'] = dZ\n",
        "                params[f'dW{i}'] = 1 / m * dZ.dot(params[f'A{i-1}'].T)\n",
        "                params[f'dB{i}'] = 1 / m * np.sum(dZ)\n",
        "            elif (i == 1):\n",
        "                # For first layer compute the gradients for weights and biases with input of dataset\n",
        "                dZ = params[f'W{i+1}'].T.dot(params[f'dZ{i+1}']) * globals()[f'{self.activations[i-1]}_deriv'](params[f'Z{i}'])\n",
        "                params[f'dZ{i}'] = dZ\n",
        "                params[f'dW{i}'] = 1 / m * dZ.dot(X.T)\n",
        "                params[f'dB{i}'] = 1 / m * np.sum(dZ)\n",
        "            else: \n",
        "                # For all other layers compute the gradients for weights and biases with the output of the prev layer\n",
        "                dZ = params[f'W{i+1}'].T.dot(params[f'dZ{i+1}']) * globals()[f'{self.activations[i-1]}_deriv'](params[f'Z{i}'])\n",
        "                params[f'dZ{i}'] = dZ\n",
        "                params[f'dW{i}'] = 1 / m * dZ.dot(params[f'A{i-1}'].T)\n",
        "                params[f'dB{i}'] = 1 / m * np.sum(dZ)\n",
        "\n",
        "    def train(self, X, Y, printAccuracy=False):\n",
        "        self.X = X\n",
        "        self.Y = Y\n",
        "        for i in range(50):\n",
        "            self.forward_propagation(X)\n",
        "            self.backward_propagation(X, Y)\n",
        "            self.update_params(0.1)\n",
        "\n",
        "            predictions = self.get_preds()\n",
        "            self.accuracy = self.get_accuracy(predictions, Y)\n",
        "            # Print accuracy every 10 iterations\n",
        "            if(printAccuracy==True):\n",
        "                if i % 1 == 0:\n",
        "                    print(\"Iteration: \", i)\n",
        "                    print('Accuracy: ', self.accuracy)\n",
        "      \n",
        "        return self.params\n",
        "            \n",
        "    def update_params(self, new_params):\n",
        "        params = self.params\n",
        "        layer_sizes = self.layer_sizes\n",
        "        start_index = 0\n",
        "        for i in range(1, self.last):\n",
        "            wx, wy = params[f'W{i}'].shape\n",
        "            bx, _ = params[f'B{i}'].shape\n",
        "\n",
        "            end_weights = start_index + wx * wy\n",
        "            end_biases = end_weights + bx\n",
        "            \n",
        "            params[f'W{i}'] = new_params[start_index:end_weights].reshape(wx, wy)\n",
        "            params[f'B{i}'] = new_params[end_weights:end_biases].reshape(bx, 1)\n",
        "            \n",
        "            start_index = end_biases\n",
        "\n",
        "    def make_preds(self, X):\n",
        "        self.forward_propagation(X)\n",
        "        predictions = self.get_preds()\n",
        "        return predictions\n",
        "\n",
        "    def test_preds(self, i):\n",
        "        curr = X_train[:, i, None]\n",
        "        print(\"label \", Y_train[i])\n",
        "        print(\"predicted \", self.make_preds(curr)[0])\n",
        "\n",
        "    def get_preds(self):\n",
        "        return np.argmax(self.params[f'A{self.last-1}'], 0)\n",
        "\n",
        "    def get_accuracy(self, predictions, Y):\n",
        "        return np.sum(predictions == Y) / Y.size\n",
        "    \n",
        "    def set_activations(self, acts):\n",
        "      self.activations = acts\n",
        "    "
      ],
      "id": "56d06807",
      "execution_count": 7,
      "outputs": []
    },
    {
      "cell_type": "code",
      "metadata": {
        "id": "0d096883"
      },
      "source": [
        "class Particle:\n",
        "    counter = 1\n",
        "    def __init__(self,x0, num_dem, constants=[0.5, 0.3]):\n",
        "        self.position_i=[]          # particle position\n",
        "        self.velocity_i=[]          # particle velocity\n",
        "        self.pos_best_i=[]          # best position individual\n",
        "        self.err_best_i=-1          # best error individual\n",
        "        self.err_i=-1               # error individual\n",
        "        self.num_dimensions = num_dem\n",
        "        self.informants = []\n",
        "        self.name = \"Particle: \" + str(Particle.counter)\n",
        "        self.constants = constants\n",
        "        self.activation = None\n",
        "        Particle.counter +=1 \n",
        "\n",
        "        for i in range(0,self.num_dimensions):\n",
        "            self.velocity_i.append(random.uniform(-1,1))\n",
        "            self.position_i.append(x0[i])\n",
        "\n",
        "    # evaluate current fitness\n",
        "    def evaluate(self,cost):\n",
        "        self.err_i=cost\n",
        "\n",
        "        # check to see if the current position is an individual best\n",
        "        if self.err_i < self.err_best_i or self.err_best_i==-1:\n",
        "            self.pos_best_i=self.position_i\n",
        "            self.err_best_i=self.err_i\n",
        "\n",
        "    # update new particle velocity\n",
        "    def update_velocity(self,pos_best_g):\n",
        "        w=0.9       # constant inertia weight (how much to weigh the previous velocity)\n",
        "        c1=self.constants[0]        # cognative constant\n",
        "        c2=self.constants[1]        # social constant\n",
        "\n",
        "        for i in range(0,self.num_dimensions):\n",
        "            r1=random.random()\n",
        "            r2=random.random()\n",
        "\n",
        "            try:\n",
        "                vel_cognitive=c1*r1*(self.pos_best_i[i]-self.position_i[i])\n",
        "                vel_social=c2*r2*(pos_best_g[i]-self.position_i[i])\n",
        "                self.velocity_i[i]=w*self.velocity_i[i]+vel_cognitive+vel_social\n",
        "            except IndexError as error:\n",
        "                print(error)\n",
        "                print(i)\n",
        "                print(len(pos_best_g))\n",
        "                print(len(self.position_i))\n",
        "            \n",
        "    # update the particle position based off new velocity updates\n",
        "    def update_position(self):\n",
        "        for i in range(0,self.num_dimensions):\n",
        "            self.position_i[i]=self.position_i[i]+self.velocity_i[i]\n",
        "\n",
        "    def evaluate_informants(self):\n",
        "        lowest_cost = math.inf\n",
        "        best_informant = None\n",
        "        for particle in self.informants:\n",
        "            if particle.err_i < lowest_cost:\n",
        "                lowest_cost = particle.err_i\n",
        "                best_informant = particle\n",
        "                \n",
        "        return lowest_cost, best_informant.position_i"
      ],
      "id": "0d096883",
      "execution_count": 8,
      "outputs": []
    },
    {
      "cell_type": "code",
      "metadata": {
        "id": "3a6fcca4"
      },
      "source": [
        "class PSO:\n",
        "    def __init__(self, costFunc, num_dem, num_particles, maxiter, num_informants,\n",
        "                 method, max_dist, activations, defaultActs, constants=[0.5, 0.3],\n",
        "                 randomActivations=False):\n",
        "        self.num_dimensions = num_dem\n",
        "        self.num_particles = num_particles\n",
        "        self.err_best_g = -1  # best error for group\n",
        "        self.pos_best_g = []  # best position for group\n",
        "        self.maxiter = maxiter\n",
        "        self.swarm = []\n",
        "        self.costFunc = costFunc\n",
        "        self.defaultActs = defaultActs\n",
        "        self.random_activations = randomActivations\n",
        "        self.passed_activations = activations\n",
        "        self.best_activations = None\n",
        "        \n",
        "        # establish the swarm\n",
        "        self.create_swarm(constants)\n",
        "        \n",
        "        # create informants\n",
        "        self.create_informants(num_informants, method, max_dist)\n",
        "        \n",
        "        # begin optimization loop\n",
        "        self.optimize_swarm()\n",
        "        \n",
        "\n",
        "    def create_swarm(self, constants):\n",
        "        for i in range(0, self.num_particles):\n",
        "            x0 = np.random.rand(self.num_dimensions) - 0.5\n",
        "            self.swarm.append(Particle(x0, self.num_dimensions, constants))\n",
        "\n",
        "\n",
        "    def optimize_swarm(self):\n",
        "        i = 0\n",
        "        while i < self.maxiter:\n",
        "            # print(np.array([s.position_i for s in swarm])[0])\n",
        "\n",
        "            # print i,err_best_g\n",
        "            # cycle through particles in swarm and evaluate fitness\n",
        "            costs = self.costFunc(np.array([s.position_i for s in self.swarm]))\n",
        "            \n",
        "            for x in range(0, self.num_particles):\n",
        "                self.swarm[x].evaluate(costs[x])\n",
        "                if self.random_activations == True:\n",
        "                  particle_activation = self.passed_activations[x]\n",
        "                else:\n",
        "                  particle_activation = self.defaultActs\n",
        "                self.swarm[x].activation = particle_activation\n",
        "\n",
        "            for j in range(0, self.num_particles):\n",
        "                # if particle has no informants, which is possible in case of distance method,\n",
        "                # then use global best values from the swarm, i.e. every particle is an informant\n",
        "                if len(self.swarm[j].informants) == 0:\n",
        "                    # determine if current particle is the best (globally)\n",
        "                    if self.swarm[j].err_i < self.err_best_g or self.err_best_g == -1:\n",
        "                        self.pos_best_g = list(self.swarm[j].position_i)\n",
        "                        self.err_best_g = float(self.swarm[j].err_i)\n",
        "                        self.best_activations = self.swarm[j].activation\n",
        "                else:\n",
        "                    best_informant_cost, best_informant_position = self.swarm[j].evaluate_informants()\n",
        "                    \n",
        "                    if self.swarm[j].err_i < best_informant_cost:\n",
        "                        \n",
        "                        # We continue to use pos and err with the suffix \"best_g\", but it is best values\n",
        "                        # among the informants and not globally. But because they serve the same purpose,\n",
        "                        # i.e. informants being the particle's \"globe\", the global suffix helps keep code\n",
        "                        # streamlined.\n",
        "\n",
        "                        self.pos_best_g = list(best_informant_position)\n",
        "                        self.err_best_g = float(best_informant_cost)\n",
        "                        self.best_activations = self.swarm[j].activation\n",
        "                  \n",
        "            # cycle through swarm and update velocities and position\n",
        "            for j in range(0, self.num_particles):\n",
        "                self.swarm[j].update_velocity(self.pos_best_g)\n",
        "                self.swarm[j].update_position()\n",
        "            i += 1\n",
        "\n",
        "    def get_train(self):\n",
        "        return self.err_best_g, self.pos_best_g\n",
        "    \n",
        "    def get_best_activations(self):\n",
        "      return self.best_activations\n",
        "\n",
        "    def create_informants(self, num_informats, method=\"distance\", max_distance=10):\n",
        "        # If distance method is choosen, there is no guarantee minimum num_informants will be created.\n",
        "        # because no other particle may be present within the max distance specified.\n",
        "        \n",
        "        for particle in self.swarm:\n",
        "            \n",
        "            if method == \"distance\":\n",
        "                for i in range(self.num_particles):\n",
        "                    if particle.name != self.swarm[i].name:\n",
        "                        particle_position = np.asarray(particle.position_i)\n",
        "                        potential_informant_position = np.asarray(self.swarm[i].position_i)\n",
        "                        difference = abs( particle_position - potential_informant_position )\n",
        "                        within_distance = difference < max_distance\n",
        "                        distance_met = np.count_nonzero(within_distance)\n",
        "                        \n",
        "                        if distance_met == len(particle.position_i):\n",
        "                            particle.informants.append(self.swarm[i])\n",
        "                        \n",
        "                    \n",
        "#                     print(len(particle.informants))\n",
        "                    if len(particle.informants) == num_informats:\n",
        "                        break\n",
        "\n",
        "                \n",
        "            if method == \"random\":\n",
        "                indexes = random.sample(range(self.num_particles), num_informats)\n",
        "                for i in indexes:\n",
        "                    if particle.name != self.swarm[i].name:\n",
        "                        particle.informants.append(self.swarm[i])\n",
        "                    else:\n",
        "                        new_index = i\n",
        "                        while(particle.name != self.swarm[new_index].name):\n",
        "                            new_index = random.randint(0, self.num_particles)\n",
        "                        particle.informants.append(self.swarm[new_index])\n"
      ],
      "id": "3a6fcca4",
      "execution_count": 9,
      "outputs": []
    },
    {
      "cell_type": "code",
      "metadata": {
        "id": "89b9bf90"
      },
      "source": [
        "nn = NeuralNetwork([4,10,10,10,2], ['relu','relu','relu','sigmoid'])"
      ],
      "id": "89b9bf90",
      "execution_count": null,
      "outputs": []
    },
    {
      "cell_type": "code",
      "metadata": {
        "id": "74a74ec6"
      },
      "source": [
        "def train_swarm(network, X, Y, n_particles, iterations, num_informants, method,\n",
        "                max_dist, constants=[0.5, 0.3], randomActivations=False):\n",
        "    layer_sizes = network.layer_sizes\n",
        "    dimensions = sum([layer_sizes[i-1] * layer_sizes[i] + layer_sizes[i] for i in range(1,len(layer_sizes))])\n",
        "    nets = [copy.deepcopy(network) for i in range(n_particles)]\n",
        "    init_activations = network.activations\n",
        "    available_activations = [\"relu\", \"tanh\", \"sigmoid\"]\n",
        "    passed_activations = []\n",
        "    logs = {\"acc_epoch_list\": [], \"acc_time_list\": [], \"best_acc\": 0.0}\n",
        "    start = time.perf_counter()\n",
        "    \n",
        "    def calc_single_cost(i, params):\n",
        "        if randomActivations == True:\n",
        "          num_activations = len(nets[i].layer_sizes) - 1\n",
        "          random_activations = random.choices(available_activations, k=num_activations)\n",
        "          passed_activations.append(random_activations)\n",
        "          nets[i].set_activations(random_activations)\n",
        "        \n",
        "        nets[i].update_params(params)\n",
        "        nets[i].forward_propagation(X)\n",
        "        return nets[i].calc_loss(Y)\n",
        "\n",
        "    def calc_all_costs(x):\n",
        "        j = np.array([calc_single_cost(i,x[i]) for i in range(n_particles)])\n",
        "        b_net = nets[np.argmin(j)]\n",
        "        b_acc = b_net.get_accuracy(b_net.get_preds(), Y)\n",
        "        logs[\"best_acc\"] = b_acc\n",
        "        logs[\"acc_epoch_list\"].append((len(logs[\"acc_epoch_list\"]), b_acc))\n",
        "        logs[\"acc_time_list\"].append(((time.perf_counter() - start), b_acc))\n",
        "        return j\n",
        "\n",
        "    pso = PSO(calc_all_costs, dimensions, n_particles, iterations, num_informants,\n",
        "              method, max_dist, passed_activations, init_activations,\n",
        "              constants=[0.5, 0.3], randomActivations=False)\n",
        "    err, pos = pso.get_train()\n",
        "    best_activations = pso.get_best_activations()\n",
        "    stop = time.perf_counter()\n",
        "    \n",
        "    best_net = copy.deepcopy(network)\n",
        "    best_net.set_activations(best_activations)\n",
        "    best_net.update_params(np.array(pos))\n",
        "\n",
        "    return best_net, logs"
      ],
      "id": "74a74ec6",
      "execution_count": 10,
      "outputs": []
    },
    {
      "cell_type": "markdown",
      "metadata": {
        "id": "Y49yO0WPtP6Z"
      },
      "source": [
        "## Informal Investigation\n",
        "Informally test different values of hyperparameters"
      ],
      "id": "Y49yO0WPtP6Z"
    },
    {
      "cell_type": "markdown",
      "metadata": {
        "id": "zBS3-uA00wSj"
      },
      "source": [
        "##### Train vs Test"
      ],
      "id": "zBS3-uA00wSj"
    },
    {
      "cell_type": "code",
      "metadata": {
        "id": "f913db19",
        "scrolled": false
      },
      "source": [
        "trained_net, net_logs = train_swarm(NeuralNetwork([4,10,10,10,2], ['relu','relu','relu','sigmoid']), X_train, Y_train, 100, 200, 5, \"distance\", 0.85)"
      ],
      "id": "f913db19",
      "execution_count": null,
      "outputs": []
    },
    {
      "cell_type": "code",
      "metadata": {
        "id": "2016539d"
      },
      "source": [
        "trained_net.forward_propagation(X_train)\n",
        "predictions = trained_net.get_preds()\n",
        "accuracy = trained_net.get_accuracy(predictions, Y_train)"
      ],
      "id": "2016539d",
      "execution_count": null,
      "outputs": []
    },
    {
      "cell_type": "code",
      "metadata": {
        "colab": {
          "base_uri": "https://localhost:8080/"
        },
        "id": "a70b0dba",
        "scrolled": false,
        "outputId": "ebeb9319-9fea-46b6-88e5-256e58826484"
      },
      "source": [
        "accuracy # accuracy for single run using optimal ANN hyperparameters on training data"
      ],
      "id": "a70b0dba",
      "execution_count": null,
      "outputs": [
        {
          "output_type": "execute_result",
          "data": {
            "text/plain": [
              "1.0"
            ]
          },
          "metadata": {},
          "execution_count": 14
        }
      ]
    },
    {
      "cell_type": "code",
      "metadata": {
        "id": "YFjNT-Xip-Kp"
      },
      "source": [
        "trained_net.forward_propagation(X_test)\n",
        "predictions_test = trained_net.get_preds()\n",
        "accuracy_test = trained_net.get_accuracy(predictions_test, Y_test)"
      ],
      "id": "YFjNT-Xip-Kp",
      "execution_count": null,
      "outputs": []
    },
    {
      "cell_type": "code",
      "metadata": {
        "colab": {
          "base_uri": "https://localhost:8080/"
        },
        "id": "SfSd3GvvtDcH",
        "outputId": "2a7c20e6-0be4-4d37-cca7-b6d6ccacc5cf"
      },
      "source": [
        "accuracy_test # # accuracy for single run using optimal ANN hyperparameters on testing data"
      ],
      "id": "SfSd3GvvtDcH",
      "execution_count": null,
      "outputs": [
        {
          "output_type": "execute_result",
          "data": {
            "text/plain": [
              "0.9951456310679612"
            ]
          },
          "metadata": {},
          "execution_count": 16
        }
      ]
    },
    {
      "cell_type": "markdown",
      "metadata": {
        "id": "9aUxTyFDtl1Q"
      },
      "source": [
        "* There is limited overfitting as model fits well to new data"
      ],
      "id": "9aUxTyFDtl1Q"
    },
    {
      "cell_type": "markdown",
      "metadata": {
        "id": "a_FTHd9uurgP"
      },
      "source": [
        "##### Iterations"
      ],
      "id": "a_FTHd9uurgP"
    },
    {
      "cell_type": "code",
      "metadata": {
        "id": "a9n2q8l0uGdM"
      },
      "source": [
        "# 100 iterations on test data\n",
        "trained_net_itr1, net_logs_itr1 = train_swarm(NeuralNetwork([4,10,10,10,2], ['relu','relu','relu','sigmoid']), X_train, Y_train, 100, 100, 5, \"distance\", 0.85)"
      ],
      "id": "a9n2q8l0uGdM",
      "execution_count": null,
      "outputs": []
    },
    {
      "cell_type": "code",
      "metadata": {
        "colab": {
          "base_uri": "https://localhost:8080/"
        },
        "id": "f7KM4eBsuVZC",
        "outputId": "e56e04bc-3a5c-4416-99a2-a732dded777b"
      },
      "source": [
        "trained_net_itr1.forward_propagation(X_test)\n",
        "predictions_iter1 = trained_net_itr1.get_preds()\n",
        "accuracy_iter1 = trained_net_itr1.get_accuracy(predictions_iter1, Y_test)\n",
        "accuracy_iter1"
      ],
      "id": "f7KM4eBsuVZC",
      "execution_count": null,
      "outputs": [
        {
          "output_type": "execute_result",
          "data": {
            "text/plain": [
              "0.9733009708737864"
            ]
          },
          "metadata": {},
          "execution_count": 18
        }
      ]
    },
    {
      "cell_type": "code",
      "metadata": {
        "id": "IwgQIxWBuy03"
      },
      "source": [
        "# 300 iterations on test data\n",
        "trained_net_itr2, net_logs_itr2 = train_swarm(NeuralNetwork([4,10,10,10,2], ['relu','relu','relu','sigmoid']), X_train, Y_train, 100, 300, 5, \"distance\", 0.85)"
      ],
      "id": "IwgQIxWBuy03",
      "execution_count": null,
      "outputs": []
    },
    {
      "cell_type": "code",
      "metadata": {
        "colab": {
          "base_uri": "https://localhost:8080/"
        },
        "id": "yU5K2sUeu6hE",
        "outputId": "d2ec2d1e-df1a-401e-ef62-12373a98608a"
      },
      "source": [
        "trained_net_itr2.forward_propagation(X_test)\n",
        "predictions_iter2 = trained_net_itr2.get_preds()\n",
        "accuracy_iter2 = trained_net_itr2.get_accuracy(predictions_iter2, Y_test)\n",
        "accuracy_iter2"
      ],
      "id": "yU5K2sUeu6hE",
      "execution_count": null,
      "outputs": [
        {
          "output_type": "execute_result",
          "data": {
            "text/plain": [
              "0.9781553398058253"
            ]
          },
          "metadata": {},
          "execution_count": 20
        }
      ]
    },
    {
      "cell_type": "markdown",
      "metadata": {
        "id": "hlkcwV8pwdfz"
      },
      "source": [
        "##### Particles"
      ],
      "id": "hlkcwV8pwdfz"
    },
    {
      "cell_type": "code",
      "metadata": {
        "id": "hDIzf8wIwpyJ"
      },
      "source": [
        "# 20 particles on test data\n",
        "trained_net_p1, net_logs_p1 = train_swarm(NeuralNetwork([4,10,10,10,2], ['relu','relu','relu','sigmoid']), X_train, Y_train, 20, 200, 5, \"distance\", 0.85)"
      ],
      "id": "hDIzf8wIwpyJ",
      "execution_count": null,
      "outputs": []
    },
    {
      "cell_type": "code",
      "metadata": {
        "colab": {
          "base_uri": "https://localhost:8080/"
        },
        "id": "TWZOu0HNw72Q",
        "outputId": "0b3b74f3-78d2-4642-ff57-09129d212804"
      },
      "source": [
        "trained_net_p1.forward_propagation(X_test)\n",
        "predictions_p1 = trained_net_p1.get_preds()\n",
        "accuracy_p1 = trained_net_p1.get_accuracy(predictions_p1, Y_test)\n",
        "accuracy_p1"
      ],
      "id": "TWZOu0HNw72Q",
      "execution_count": null,
      "outputs": [
        {
          "output_type": "execute_result",
          "data": {
            "text/plain": [
              "0.9878640776699029"
            ]
          },
          "metadata": {},
          "execution_count": 22
        }
      ]
    },
    {
      "cell_type": "code",
      "metadata": {
        "id": "OLuv0Zv_wlMk"
      },
      "source": [
        "# 50 particles on test data\n",
        "trained_net_p2, net_logs_p2 = train_swarm(NeuralNetwork([4,10,10,10,2], ['relu','relu','relu','sigmoid']), X_train, Y_train, 50, 200, 5, \"distance\", 0.85)"
      ],
      "id": "OLuv0Zv_wlMk",
      "execution_count": null,
      "outputs": []
    },
    {
      "cell_type": "code",
      "metadata": {
        "colab": {
          "base_uri": "https://localhost:8080/"
        },
        "id": "wuo60YqaxLh9",
        "outputId": "45ad9d98-1093-45de-f069-cbf3b8a3078b"
      },
      "source": [
        "trained_net_p2.forward_propagation(X_test)\n",
        "predictions_p2 = trained_net_p2.get_preds()\n",
        "accuracy_p2 = trained_net_p2.get_accuracy(predictions_p2, Y_test)\n",
        "accuracy_p2"
      ],
      "id": "wuo60YqaxLh9",
      "execution_count": null,
      "outputs": [
        {
          "output_type": "execute_result",
          "data": {
            "text/plain": [
              "0.5752427184466019"
            ]
          },
          "metadata": {},
          "execution_count": 24
        }
      ]
    },
    {
      "cell_type": "markdown",
      "metadata": {
        "id": "_i3r4PUXyk3c"
      },
      "source": [
        "##### Number of Informants"
      ],
      "id": "_i3r4PUXyk3c"
    },
    {
      "cell_type": "code",
      "metadata": {
        "id": "bGpoKhLBysle"
      },
      "source": [
        "# 2 informants on test data\n",
        "trained_net_i1, net_logs_i1 = train_swarm(NeuralNetwork([4,10,10,10,2], ['relu','relu','relu','sigmoid']), X_train, Y_train, 100, 200, 2, \"distance\", 0.85)"
      ],
      "id": "bGpoKhLBysle",
      "execution_count": null,
      "outputs": []
    },
    {
      "cell_type": "code",
      "metadata": {
        "colab": {
          "base_uri": "https://localhost:8080/"
        },
        "id": "xpM7r-p9y6rX",
        "outputId": "fdf0df7e-712f-49ff-cdc6-bac4bbe1240e"
      },
      "source": [
        "trained_net_i1.forward_propagation(X_test)\n",
        "predictions_i1 = trained_net_i1.get_preds()\n",
        "accuracy_i1 = trained_net_i1.get_accuracy(predictions_i1, Y_test)\n",
        "accuracy_i1"
      ],
      "id": "xpM7r-p9y6rX",
      "execution_count": null,
      "outputs": [
        {
          "output_type": "execute_result",
          "data": {
            "text/plain": [
              "0.9902912621359223"
            ]
          },
          "metadata": {},
          "execution_count": 26
        }
      ]
    },
    {
      "cell_type": "code",
      "metadata": {
        "id": "8wMvWaEzzEdw"
      },
      "source": [
        "# 15 informants on test data\n",
        "trained_net_i2, net_logs_i2 = train_swarm(NeuralNetwork([4,10,10,10,2], ['relu','relu','relu','sigmoid']), X_train, Y_train, 100, 200, 15, \"distance\", 0.85)"
      ],
      "id": "8wMvWaEzzEdw",
      "execution_count": null,
      "outputs": []
    },
    {
      "cell_type": "code",
      "metadata": {
        "colab": {
          "base_uri": "https://localhost:8080/"
        },
        "id": "uyTCgGAdzVMs",
        "outputId": "7dcdbfca-f29b-4feb-b70d-69c43c085306"
      },
      "source": [
        "trained_net_i2.forward_propagation(X_test)\n",
        "predictions_i2 = trained_net_i2.get_preds()\n",
        "accuracy_i2 = trained_net_i2.get_accuracy(predictions_i2, Y_test)\n",
        "accuracy_i2"
      ],
      "id": "uyTCgGAdzVMs",
      "execution_count": null,
      "outputs": [
        {
          "output_type": "execute_result",
          "data": {
            "text/plain": [
              "0.9830097087378641"
            ]
          },
          "metadata": {},
          "execution_count": 28
        }
      ]
    },
    {
      "cell_type": "markdown",
      "metadata": {
        "id": "9xGTk4yHz3wI"
      },
      "source": [
        "##### Method of Informants"
      ],
      "id": "9xGTk4yHz3wI"
    },
    {
      "cell_type": "code",
      "metadata": {
        "id": "kn8tCI8yz1nX"
      },
      "source": [
        "# random assignment of informants \n",
        "trained_net_m1, net_logs_m1 = train_swarm(NeuralNetwork([4,10,10,10,2], ['relu','relu','relu','sigmoid']), X_train, Y_train, 100, 200, 5, \"random\", 0.85)"
      ],
      "id": "kn8tCI8yz1nX",
      "execution_count": null,
      "outputs": []
    },
    {
      "cell_type": "code",
      "metadata": {
        "colab": {
          "base_uri": "https://localhost:8080/"
        },
        "id": "mL2upVHm0KdK",
        "outputId": "bcd5b96b-0563-4d02-acbd-a4bff757e31a"
      },
      "source": [
        "trained_net_m1.forward_propagation(X_test)\n",
        "predictions_m1 = trained_net_m1.get_preds()\n",
        "accuracy_m1 = trained_net_m1.get_accuracy(predictions_m1, Y_test)\n",
        "accuracy_m1 # accuracy of informants being chose randomly"
      ],
      "id": "mL2upVHm0KdK",
      "execution_count": null,
      "outputs": [
        {
          "output_type": "execute_result",
          "data": {
            "text/plain": [
              "0.8980582524271845"
            ]
          },
          "metadata": {},
          "execution_count": 30
        }
      ]
    },
    {
      "cell_type": "markdown",
      "metadata": {
        "id": "jtjTAuPz0f_N"
      },
      "source": [
        "* Using distance to choose the informants appears to be a more effective method than randomly choosing them"
      ],
      "id": "jtjTAuPz0f_N"
    },
    {
      "cell_type": "markdown",
      "metadata": {
        "id": "-oNmdPVC1JA2"
      },
      "source": [
        "##### Maximum Distance for Informants"
      ],
      "id": "-oNmdPVC1JA2"
    },
    {
      "cell_type": "code",
      "metadata": {
        "id": "zE7rs1oi1NEJ"
      },
      "source": [
        "# informant distance is 0.8\n",
        "trained_net_d1, net_logs_d1 = train_swarm(NeuralNetwork([4,10,10,10,2], ['relu','relu','relu','sigmoid']), X_train, Y_train, 100, 200, 5, \"distance\", 0.8)"
      ],
      "id": "zE7rs1oi1NEJ",
      "execution_count": null,
      "outputs": []
    },
    {
      "cell_type": "code",
      "metadata": {
        "colab": {
          "base_uri": "https://localhost:8080/"
        },
        "id": "XFt9ONSa1dbI",
        "outputId": "9b79fb68-a8ab-487d-fd78-5aff2f8e969d"
      },
      "source": [
        "trained_net_d1.forward_propagation(X_test)\n",
        "predictions_d1 = trained_net_d1.get_preds()\n",
        "accuracy_d1 = trained_net_d1.get_accuracy(predictions_d1, Y_test)\n",
        "accuracy_d1 "
      ],
      "id": "XFt9ONSa1dbI",
      "execution_count": null,
      "outputs": [
        {
          "output_type": "execute_result",
          "data": {
            "text/plain": [
              "1.0"
            ]
          },
          "metadata": {},
          "execution_count": 32
        }
      ]
    },
    {
      "cell_type": "code",
      "metadata": {
        "id": "L9A3D2bx1-Ab"
      },
      "source": [
        "# informant distance is 1\n",
        "trained_net_d2, net_logs_d2 = train_swarm(NeuralNetwork([4,10,10,10,2], ['relu','relu','relu','sigmoid']), X_train, Y_train, 100, 200, 5, \"distance\", 1)"
      ],
      "id": "L9A3D2bx1-Ab",
      "execution_count": null,
      "outputs": []
    },
    {
      "cell_type": "code",
      "metadata": {
        "colab": {
          "base_uri": "https://localhost:8080/"
        },
        "id": "rkIPJLB52BZ1",
        "outputId": "ec620483-7e38-4b4f-ca89-c1e5b1751b10"
      },
      "source": [
        "trained_net_d2.forward_propagation(X_test)\n",
        "predictions_d2 = trained_net_d2.get_preds()\n",
        "accuracy_d2 = trained_net_d2.get_accuracy(predictions_d2, Y_test)\n",
        "accuracy_d2"
      ],
      "id": "rkIPJLB52BZ1",
      "execution_count": null,
      "outputs": [
        {
          "output_type": "execute_result",
          "data": {
            "text/plain": [
              "0.9563106796116505"
            ]
          },
          "metadata": {},
          "execution_count": 34
        }
      ]
    },
    {
      "cell_type": "markdown",
      "metadata": {
        "id": "yBNW_6EV2c4A"
      },
      "source": [
        "##### PSO Methods"
      ],
      "id": "yBNW_6EV2c4A"
    },
    {
      "cell_type": "markdown",
      "metadata": {
        "id": "GDpMbs6N2gaD"
      },
      "source": [
        "Choosing a low distance causes the model to use global best of informants as no particles will be added as informats to other particles"
      ],
      "id": "GDpMbs6N2gaD"
    },
    {
      "cell_type": "code",
      "metadata": {
        "id": "fMVwuiTW2weu"
      },
      "source": [
        "trained_net_g, net_logs_g = train_swarm(NeuralNetwork([4,10,10,10,2], ['relu','relu','relu','sigmoid']), X_train, Y_train, 100, 200, 5, \"distance\", 0.1)"
      ],
      "id": "fMVwuiTW2weu",
      "execution_count": null,
      "outputs": []
    },
    {
      "cell_type": "code",
      "metadata": {
        "colab": {
          "base_uri": "https://localhost:8080/"
        },
        "id": "XrvK4dLg22-h",
        "outputId": "2274ee25-6ab2-444d-9375-cabad35a76b5"
      },
      "source": [
        "trained_net_g.forward_propagation(X_test)\n",
        "predictions_g = trained_net_g.get_preds()\n",
        "accuracy_g = trained_net_g.get_accuracy(predictions_g, Y_test)\n",
        "accuracy_g"
      ],
      "id": "XrvK4dLg22-h",
      "execution_count": null,
      "outputs": [
        {
          "output_type": "execute_result",
          "data": {
            "text/plain": [
              "1.0"
            ]
          },
          "metadata": {},
          "execution_count": 36
        }
      ]
    },
    {
      "cell_type": "markdown",
      "metadata": {
        "id": "H6CtPsDB3AbL"
      },
      "source": [
        "* Global appears to be better than our constructed method of informants as it reached 100% accuracy"
      ],
      "id": "H6CtPsDB3AbL"
    },
    {
      "cell_type": "markdown",
      "metadata": {
        "id": "k36swQXHt0Ac"
      },
      "source": [
        "## Formal Investigation\n",
        "Random values are picked from a range and accuracy averaged over 10 runs"
      ],
      "id": "k36swQXHt0Ac"
    },
    {
      "cell_type": "code",
      "metadata": {
        "id": "29920b6d"
      },
      "source": [
        "# trains network 10 times \n",
        "def run_ten(nn, X, Y, n_particles, iterations, num_informants, method,\n",
        "            max_dist, constants=[0.5, 0.3], randomActivations=False, w=0.9):\n",
        "    # stores run results in array\n",
        "    nets = []\n",
        "    for i in range(10):\n",
        "        trained_net, logs = train_swarm(nn, X, Y, n_particles, iterations, num_informants, method, max_dist, randomActivations)\n",
        "        nets.append([trained_net, logs])\n",
        "    return np.array(nets)"
      ],
      "id": "29920b6d",
      "execution_count": 11,
      "outputs": []
    },
    {
      "cell_type": "code",
      "metadata": {
        "id": "f6a49cac"
      },
      "source": [
        "# returns mean epoch and time at which network converged at\n",
        "def get_converg(nets):\n",
        "    logs = nets[:,1]\n",
        "    convergFilter = np.array(list(map((lambda n: n['best_acc'] == np.float64(1)), logs)))\n",
        "\n",
        "    convergs = list(map((lambda n: np.where(n['acc_epoch_list']==np.float64(1))[0][1]), logs[convergFilter]))\n",
        "    times = list(map((lambda n: np.where(n['acc_time_list']==np.float64(1))[0][1]), logs[convergFilter]))\n",
        "\n",
        "    mean_converg = np.mean(convergs)\n",
        "    std_converg = np.std(convergs)\n",
        "    mean_times = np.mean(times)\n",
        "    std_times = np.std(times)\n",
        "    num_non_conv = len(logs) - len(convergFilter[convergFilter]) # number of networks that did not converge to 100%\n",
        "    \n",
        "    return mean_converg, std_converg, mean_times, std_times, num_non_conv"
      ],
      "id": "f6a49cac",
      "execution_count": 12,
      "outputs": []
    },
    {
      "cell_type": "code",
      "metadata": {
        "id": "3f6eced1"
      },
      "source": [
        "# gets mean and standard deviation for accuracy \n",
        "def get_metrics(nets):\n",
        "    logs = nets[:,1]\n",
        "    \n",
        "    accuracies = np.array(list(map((lambda n: n['best_acc']), logs)))\n",
        "\n",
        "    mean = np.mean(accuracies)\n",
        "    std = np.std(accuracies)\n",
        "    return mean, std"
      ],
      "id": "3f6eced1",
      "execution_count": 13,
      "outputs": []
    },
    {
      "cell_type": "code",
      "metadata": {
        "id": "00492155",
        "scrolled": true
      },
      "source": [
        "# optimal hyperparameters from informal investigation over 10 runs\n",
        "ten_nets = run_ten(NeuralNetwork([4,10,10,10,2], ['relu','relu','relu','sigmoid']), X_train, Y_train, 20, 300, 5, \"distance\", 0.8)"
      ],
      "id": "00492155",
      "execution_count": null,
      "outputs": []
    },
    {
      "cell_type": "code",
      "metadata": {
        "colab": {
          "base_uri": "https://localhost:8080/"
        },
        "id": "76c52b20",
        "scrolled": true,
        "outputId": "138cf851-4b54-453e-8130-ad96ac1fbfa4"
      },
      "source": [
        "get_metrics(ten_nets)"
      ],
      "id": "76c52b20",
      "execution_count": null,
      "outputs": [
        {
          "output_type": "execute_result",
          "data": {
            "text/plain": [
              "(0.9926041666666665, 0.011862658060063928)"
            ]
          },
          "metadata": {},
          "execution_count": 41
        }
      ]
    },
    {
      "cell_type": "markdown",
      "metadata": {
        "id": "8fFhMCty5dIo"
      },
      "source": [
        "* optimal ANN and PSO hyperparameters from informal investigation appears to get high accuracy at 99.3% with very low standard deviation, meaning all the accuracy values are very similar"
      ],
      "id": "8fFhMCty5dIo"
    },
    {
      "cell_type": "code",
      "metadata": {
        "id": "e919e766"
      },
      "source": [
        "def view_accuracyEpoch(acc_epoch_list):\n",
        "    sns.set(rc={'figure.figsize':(15,8)})\n",
        "    df = pd.DataFrame(acc_epoch_list, columns=[\"Epochs\", \"Accuracy\"])\n",
        "    sns.lineplot(data=df, x=\"Epochs\", y=\"Accuracy\", ci=None)\n",
        "    "
      ],
      "id": "e919e766",
      "execution_count": 14,
      "outputs": []
    },
    {
      "cell_type": "code",
      "metadata": {
        "id": "4575f285"
      },
      "source": [
        "def view_accuracyEpochAll(nets):\n",
        "    logs = nets[:,1]\n",
        "\n",
        "    ordered_logs = sorted(logs, key=lambda item: item['best_acc'], reverse=True)\n",
        "\n",
        "\n",
        "    acc_epoch_lists = np.array([n['acc_epoch_list'] for n in ordered_logs])\n",
        "    acc_time_lists = np.array([n['acc_time_list'] for n in ordered_logs])\n",
        "\n",
        "    temp = acc_epoch_lists[:,:,1]\n",
        "    \n",
        "    df = pd.DataFrame(temp).T\n",
        "    df.columns = [ chr(i+65) for i in range(len(df.columns)) ]\n",
        "    df.reset_index(drop=True, inplace=True)\n",
        "\n",
        "    print(df.shape)\n",
        "    fig = px.line(df, title='Accuracy Vs Epochs')\n",
        "    fig.update_xaxes(title_text='Epochs')\n",
        "    fig.update_yaxes(title_text='Accuracy')\n",
        "    fig.update_layout(legend_title_text='Runs (Asc)')\n",
        "    \n",
        "    fig.show()"
      ],
      "id": "4575f285",
      "execution_count": 15,
      "outputs": []
    },
    {
      "cell_type": "code",
      "metadata": {
        "colab": {
          "base_uri": "https://localhost:8080/",
          "height": 559
        },
        "id": "d35f0ef8",
        "scrolled": false,
        "outputId": "40f4fd04-5a78-4ee9-bcf9-b7c663505133"
      },
      "source": [
        "# accuracy over epochs for optimal PSO hyperparameters from informal investigation\n",
        "tesa = view_accuracyEpochAll(ten_nets)"
      ],
      "id": "d35f0ef8",
      "execution_count": null,
      "outputs": [
        {
          "output_type": "stream",
          "name": "stdout",
          "text": [
            "(300, 10)\n"
          ]
        },
        {
          "output_type": "display_data",
          "data": {
            "text/html": [
              "<html>\n",
              "<head><meta charset=\"utf-8\" /></head>\n",
              "<body>\n",
              "    <div>            <script src=\"https://cdnjs.cloudflare.com/ajax/libs/mathjax/2.7.5/MathJax.js?config=TeX-AMS-MML_SVG\"></script><script type=\"text/javascript\">if (window.MathJax) {MathJax.Hub.Config({SVG: {font: \"STIX-Web\"}});}</script>                <script type=\"text/javascript\">window.PlotlyConfig = {MathJaxConfig: 'local'};</script>\n",
              "        <script src=\"https://cdn.plot.ly/plotly-2.6.3.min.js\"></script>                <div id=\"a08eefcd-4259-413a-990d-164082ed51eb\" class=\"plotly-graph-div\" style=\"height:525px; width:100%;\"></div>            <script type=\"text/javascript\">                                    window.PLOTLYENV=window.PLOTLYENV || {};                                    if (document.getElementById(\"a08eefcd-4259-413a-990d-164082ed51eb\")) {                    Plotly.newPlot(                        \"a08eefcd-4259-413a-990d-164082ed51eb\",                        [{\"hovertemplate\":\"variable=A<br>index=%{x}<br>value=%{y}<extra></extra>\",\"legendgroup\":\"A\",\"line\":{\"color\":\"#636efa\",\"dash\":\"solid\"},\"marker\":{\"symbol\":\"circle\"},\"mode\":\"lines\",\"name\":\"A\",\"showlegend\":true,\"x\":[0,1,2,3,4,5,6,7,8,9,10,11,12,13,14,15,16,17,18,19,20,21,22,23,24,25,26,27,28,29,30,31,32,33,34,35,36,37,38,39,40,41,42,43,44,45,46,47,48,49,50,51,52,53,54,55,56,57,58,59,60,61,62,63,64,65,66,67,68,69,70,71,72,73,74,75,76,77,78,79,80,81,82,83,84,85,86,87,88,89,90,91,92,93,94,95,96,97,98,99,100,101,102,103,104,105,106,107,108,109,110,111,112,113,114,115,116,117,118,119,120,121,122,123,124,125,126,127,128,129,130,131,132,133,134,135,136,137,138,139,140,141,142,143,144,145,146,147,148,149,150,151,152,153,154,155,156,157,158,159,160,161,162,163,164,165,166,167,168,169,170,171,172,173,174,175,176,177,178,179,180,181,182,183,184,185,186,187,188,189,190,191,192,193,194,195,196,197,198,199,200,201,202,203,204,205,206,207,208,209,210,211,212,213,214,215,216,217,218,219,220,221,222,223,224,225,226,227,228,229,230,231,232,233,234,235,236,237,238,239,240,241,242,243,244,245,246,247,248,249,250,251,252,253,254,255,256,257,258,259,260,261,262,263,264,265,266,267,268,269,270,271,272,273,274,275,276,277,278,279,280,281,282,283,284,285,286,287,288,289,290,291,292,293,294,295,296,297,298,299],\"xaxis\":\"x\",\"y\":[0.7375,0.6979166666666666,0.6552083333333333,0.6572916666666667,0.8541666666666666,0.8541666666666666,0.7947916666666667,0.83125,0.865625,0.784375,0.8822916666666667,0.85625,0.8072916666666666,0.78125,0.8989583333333333,0.9166666666666666,0.8739583333333333,0.90625,0.853125,0.8364583333333333,0.7364583333333333,0.8666666666666667,0.8739583333333333,0.878125,0.9614583333333333,0.9572916666666667,0.9333333333333333,0.8010416666666667,0.8947916666666667,0.9302083333333333,0.9520833333333333,0.9291666666666667,0.8833333333333333,0.9333333333333333,0.9541666666666667,0.9322916666666666,0.8958333333333334,0.9135416666666667,0.9208333333333333,0.940625,0.9447916666666667,0.9489583333333333,0.9479166666666666,0.928125,0.9052083333333333,0.940625,0.9614583333333333,0.921875,0.96875,0.9614583333333333,0.9479166666666666,0.9322916666666666,0.9270833333333334,0.9770833333333333,0.975,0.9791666666666666,0.98125,0.9739583333333334,0.9625,0.9708333333333333,0.9677083333333333,0.975,0.9760416666666667,0.9760416666666667,0.9739583333333334,0.99375,0.9739583333333334,0.9770833333333333,0.975,0.9875,0.99375,0.9885416666666667,0.9958333333333333,0.9927083333333333,0.99375,0.9916666666666667,0.9927083333333333,0.9927083333333333,0.9947916666666666,0.9958333333333333,0.9979166666666667,0.99375,0.9979166666666667,0.9979166666666667,0.9979166666666667,0.996875,0.9979166666666667,0.9979166666666667,0.9979166666666667,0.9989583333333333,0.9979166666666667,0.9989583333333333,0.9989583333333333,0.9989583333333333,0.9979166666666667,0.9989583333333333,0.9989583333333333,0.9989583333333333,0.9947916666666666,0.9979166666666667,0.9979166666666667,0.9989583333333333,0.9989583333333333,0.9989583333333333,0.9989583333333333,0.9989583333333333,0.9989583333333333,0.9979166666666667,0.9989583333333333,0.9989583333333333,0.9989583333333333,0.9989583333333333,0.9989583333333333,0.9989583333333333,0.9989583333333333,0.9989583333333333,0.9989583333333333,0.9989583333333333,0.9989583333333333,1.0,1.0,1.0,0.9989583333333333,1.0,1.0,0.9989583333333333,0.9989583333333333,1.0,0.9989583333333333,0.9989583333333333,0.9989583333333333,1.0,1.0,1.0,1.0,1.0,1.0,1.0,1.0,1.0,1.0,1.0,1.0,1.0,1.0,1.0,1.0,1.0,1.0,1.0,1.0,1.0,1.0,1.0,1.0,1.0,1.0,1.0,1.0,1.0,1.0,1.0,1.0,1.0,1.0,1.0,1.0,1.0,1.0,1.0,1.0,1.0,1.0,1.0,1.0,1.0,1.0,1.0,1.0,1.0,1.0,1.0,1.0,1.0,1.0,1.0,1.0,1.0,1.0,1.0,1.0,1.0,1.0,1.0,1.0,1.0,1.0,1.0,1.0,1.0,1.0,1.0,1.0,1.0,1.0,1.0,1.0,1.0,1.0,1.0,1.0,1.0,1.0,1.0,1.0,1.0,1.0,1.0,1.0,1.0,1.0,1.0,1.0,1.0,1.0,1.0,1.0,1.0,1.0,1.0,1.0,1.0,1.0,1.0,1.0,1.0,1.0,1.0,1.0,1.0,1.0,1.0,1.0,1.0,1.0,1.0,1.0,1.0,1.0,1.0,1.0,1.0,1.0,1.0,1.0,1.0,1.0,1.0,1.0,1.0,1.0,1.0,1.0,1.0,1.0,1.0,1.0,1.0,1.0,1.0,1.0,1.0,1.0,1.0,1.0,1.0,1.0,1.0,1.0,1.0,1.0,1.0,1.0,1.0,1.0,1.0,1.0,1.0,1.0,1.0,1.0,1.0,1.0,1.0,1.0,1.0,1.0,1.0,1.0,1.0],\"yaxis\":\"y\",\"type\":\"scattergl\"},{\"hovertemplate\":\"variable=B<br>index=%{x}<br>value=%{y}<extra></extra>\",\"legendgroup\":\"B\",\"line\":{\"color\":\"#EF553B\",\"dash\":\"solid\"},\"marker\":{\"symbol\":\"circle\"},\"mode\":\"lines\",\"name\":\"B\",\"showlegend\":true,\"x\":[0,1,2,3,4,5,6,7,8,9,10,11,12,13,14,15,16,17,18,19,20,21,22,23,24,25,26,27,28,29,30,31,32,33,34,35,36,37,38,39,40,41,42,43,44,45,46,47,48,49,50,51,52,53,54,55,56,57,58,59,60,61,62,63,64,65,66,67,68,69,70,71,72,73,74,75,76,77,78,79,80,81,82,83,84,85,86,87,88,89,90,91,92,93,94,95,96,97,98,99,100,101,102,103,104,105,106,107,108,109,110,111,112,113,114,115,116,117,118,119,120,121,122,123,124,125,126,127,128,129,130,131,132,133,134,135,136,137,138,139,140,141,142,143,144,145,146,147,148,149,150,151,152,153,154,155,156,157,158,159,160,161,162,163,164,165,166,167,168,169,170,171,172,173,174,175,176,177,178,179,180,181,182,183,184,185,186,187,188,189,190,191,192,193,194,195,196,197,198,199,200,201,202,203,204,205,206,207,208,209,210,211,212,213,214,215,216,217,218,219,220,221,222,223,224,225,226,227,228,229,230,231,232,233,234,235,236,237,238,239,240,241,242,243,244,245,246,247,248,249,250,251,252,253,254,255,256,257,258,259,260,261,262,263,264,265,266,267,268,269,270,271,272,273,274,275,276,277,278,279,280,281,282,283,284,285,286,287,288,289,290,291,292,293,294,295,296,297,298,299],\"xaxis\":\"x\",\"y\":[0.565625,0.565625,0.6072916666666667,0.7145833333333333,0.6125,0.5864583333333333,0.6427083333333333,0.640625,0.5708333333333333,0.5739583333333333,0.6729166666666667,0.7895833333333333,0.9072916666666667,0.8645833333333334,0.921875,0.90625,0.8114583333333333,0.8166666666666667,0.8885416666666667,0.9197916666666667,0.8833333333333333,0.9114583333333334,0.8708333333333333,0.946875,0.875,0.8947916666666667,0.9041666666666667,0.91875,0.8885416666666667,0.9114583333333334,0.890625,0.9208333333333333,0.9260416666666667,0.909375,0.9208333333333333,0.953125,0.9260416666666667,0.9354166666666667,0.9104166666666667,0.9375,0.9354166666666667,0.9520833333333333,0.940625,0.9614583333333333,0.9375,0.9385416666666667,0.95625,0.9479166666666666,0.9635416666666666,0.9625,0.965625,0.9635416666666666,0.9583333333333334,0.9552083333333333,0.9645833333333333,0.9760416666666667,0.971875,0.9739583333333334,0.975,0.975,0.975,0.9739583333333334,0.9770833333333333,0.9854166666666667,0.9833333333333333,0.9822916666666667,0.9833333333333333,0.9854166666666667,0.9864583333333333,0.9885416666666667,0.9895833333333334,0.9854166666666667,0.9895833333333334,0.9916666666666667,0.990625,0.990625,0.99375,0.9916666666666667,0.9947916666666666,0.9958333333333333,0.99375,0.99375,0.9947916666666666,0.9947916666666666,0.9958333333333333,0.9947916666666666,0.9947916666666666,0.996875,0.9958333333333333,0.9947916666666666,0.996875,0.9979166666666667,0.9979166666666667,0.9989583333333333,0.9989583333333333,0.9979166666666667,0.9989583333333333,0.9989583333333333,0.9989583333333333,0.9989583333333333,0.9989583333333333,0.9989583333333333,0.9989583333333333,0.9989583333333333,0.9989583333333333,0.9989583333333333,0.9989583333333333,0.9989583333333333,0.9989583333333333,0.9989583333333333,0.9989583333333333,0.9989583333333333,0.9989583333333333,0.9989583333333333,0.9989583333333333,0.9989583333333333,0.9989583333333333,0.9989583333333333,0.9989583333333333,0.9989583333333333,0.9989583333333333,0.9989583333333333,0.9989583333333333,0.9989583333333333,0.9989583333333333,0.9989583333333333,0.9989583333333333,0.9989583333333333,0.9989583333333333,0.9989583333333333,1.0,1.0,1.0,1.0,1.0,1.0,1.0,1.0,1.0,1.0,1.0,1.0,1.0,1.0,1.0,1.0,1.0,1.0,1.0,1.0,1.0,1.0,1.0,1.0,1.0,1.0,1.0,1.0,1.0,1.0,1.0,1.0,1.0,1.0,1.0,1.0,1.0,1.0,1.0,1.0,1.0,1.0,1.0,1.0,1.0,1.0,1.0,1.0,1.0,1.0,1.0,1.0,1.0,1.0,1.0,1.0,1.0,1.0,1.0,1.0,1.0,1.0,1.0,1.0,1.0,1.0,1.0,1.0,1.0,1.0,1.0,1.0,1.0,1.0,1.0,1.0,1.0,1.0,1.0,1.0,1.0,1.0,1.0,1.0,1.0,1.0,1.0,1.0,1.0,1.0,1.0,1.0,1.0,1.0,1.0,1.0,1.0,1.0,1.0,1.0,1.0,1.0,1.0,1.0,1.0,1.0,1.0,1.0,1.0,1.0,1.0,1.0,1.0,1.0,1.0,1.0,1.0,1.0,1.0,1.0,1.0,1.0,1.0,1.0,1.0,1.0,1.0,1.0,1.0,1.0,1.0,1.0,1.0,1.0,1.0,1.0,1.0,1.0,1.0,1.0,1.0,1.0,1.0,1.0,1.0,1.0,1.0,1.0,1.0,1.0,1.0,1.0,1.0,1.0,1.0,1.0,1.0,1.0,1.0,1.0,1.0,1.0,1.0,1.0,1.0,1.0,1.0,1.0,1.0,1.0],\"yaxis\":\"y\",\"type\":\"scattergl\"},{\"hovertemplate\":\"variable=C<br>index=%{x}<br>value=%{y}<extra></extra>\",\"legendgroup\":\"C\",\"line\":{\"color\":\"#00cc96\",\"dash\":\"solid\"},\"marker\":{\"symbol\":\"circle\"},\"mode\":\"lines\",\"name\":\"C\",\"showlegend\":true,\"x\":[0,1,2,3,4,5,6,7,8,9,10,11,12,13,14,15,16,17,18,19,20,21,22,23,24,25,26,27,28,29,30,31,32,33,34,35,36,37,38,39,40,41,42,43,44,45,46,47,48,49,50,51,52,53,54,55,56,57,58,59,60,61,62,63,64,65,66,67,68,69,70,71,72,73,74,75,76,77,78,79,80,81,82,83,84,85,86,87,88,89,90,91,92,93,94,95,96,97,98,99,100,101,102,103,104,105,106,107,108,109,110,111,112,113,114,115,116,117,118,119,120,121,122,123,124,125,126,127,128,129,130,131,132,133,134,135,136,137,138,139,140,141,142,143,144,145,146,147,148,149,150,151,152,153,154,155,156,157,158,159,160,161,162,163,164,165,166,167,168,169,170,171,172,173,174,175,176,177,178,179,180,181,182,183,184,185,186,187,188,189,190,191,192,193,194,195,196,197,198,199,200,201,202,203,204,205,206,207,208,209,210,211,212,213,214,215,216,217,218,219,220,221,222,223,224,225,226,227,228,229,230,231,232,233,234,235,236,237,238,239,240,241,242,243,244,245,246,247,248,249,250,251,252,253,254,255,256,257,258,259,260,261,262,263,264,265,266,267,268,269,270,271,272,273,274,275,276,277,278,279,280,281,282,283,284,285,286,287,288,289,290,291,292,293,294,295,296,297,298,299],\"xaxis\":\"x\",\"y\":[0.6197916666666666,0.5104166666666666,0.5354166666666667,0.6020833333333333,0.6625,0.6697916666666667,0.60625,0.58125,0.65,0.73125,0.7677083333333333,0.5833333333333334,0.6895833333333333,0.6979166666666666,0.7322916666666667,0.7270833333333333,0.715625,0.703125,0.740625,0.7666666666666667,0.8364583333333333,0.8770833333333333,0.8739583333333333,0.8947916666666667,0.934375,0.9458333333333333,0.934375,0.94375,0.9552083333333333,0.9302083333333333,0.9770833333333333,0.9697916666666667,0.9729166666666667,0.975,0.9760416666666667,0.9760416666666667,0.978125,0.9760416666666667,0.9802083333333333,0.98125,0.9791666666666666,0.9791666666666666,0.984375,0.9833333333333333,0.9875,0.99375,0.990625,0.996875,0.9989583333333333,0.99375,0.996875,0.9979166666666667,0.9989583333333333,0.9989583333333333,0.9989583333333333,0.996875,0.996875,1.0,0.9979166666666667,1.0,1.0,1.0,1.0,0.9979166666666667,1.0,1.0,1.0,1.0,1.0,1.0,1.0,1.0,1.0,1.0,1.0,1.0,1.0,1.0,1.0,1.0,1.0,1.0,1.0,1.0,1.0,1.0,1.0,1.0,1.0,1.0,1.0,1.0,1.0,1.0,1.0,1.0,1.0,1.0,1.0,1.0,1.0,1.0,1.0,1.0,1.0,1.0,1.0,1.0,1.0,1.0,1.0,1.0,1.0,1.0,1.0,1.0,1.0,1.0,1.0,1.0,1.0,1.0,1.0,1.0,1.0,1.0,1.0,1.0,1.0,1.0,1.0,1.0,1.0,1.0,1.0,1.0,1.0,1.0,1.0,1.0,1.0,1.0,1.0,1.0,1.0,1.0,1.0,1.0,1.0,1.0,1.0,1.0,1.0,1.0,1.0,1.0,1.0,1.0,1.0,1.0,1.0,1.0,1.0,1.0,1.0,1.0,1.0,1.0,1.0,1.0,1.0,1.0,1.0,1.0,1.0,1.0,1.0,1.0,1.0,1.0,1.0,1.0,1.0,1.0,1.0,1.0,1.0,1.0,1.0,1.0,1.0,1.0,1.0,1.0,1.0,1.0,1.0,1.0,1.0,1.0,1.0,1.0,1.0,1.0,1.0,1.0,1.0,1.0,1.0,1.0,1.0,1.0,1.0,1.0,1.0,1.0,1.0,1.0,1.0,1.0,1.0,1.0,1.0,1.0,1.0,1.0,1.0,1.0,1.0,1.0,1.0,1.0,1.0,1.0,1.0,1.0,1.0,1.0,1.0,1.0,1.0,1.0,1.0,1.0,1.0,1.0,1.0,1.0,1.0,1.0,1.0,1.0,1.0,1.0,1.0,1.0,1.0,1.0,1.0,1.0,1.0,1.0,1.0,1.0,1.0,1.0,1.0,1.0,1.0,1.0,1.0,1.0,1.0,1.0,1.0,1.0,1.0,1.0,1.0,1.0,1.0,1.0,1.0,1.0,1.0,1.0,1.0,1.0,1.0,1.0,1.0,1.0,1.0,1.0,1.0,1.0,1.0,1.0,1.0,1.0],\"yaxis\":\"y\",\"type\":\"scattergl\"},{\"hovertemplate\":\"variable=D<br>index=%{x}<br>value=%{y}<extra></extra>\",\"legendgroup\":\"D\",\"line\":{\"color\":\"#ab63fa\",\"dash\":\"solid\"},\"marker\":{\"symbol\":\"circle\"},\"mode\":\"lines\",\"name\":\"D\",\"showlegend\":true,\"x\":[0,1,2,3,4,5,6,7,8,9,10,11,12,13,14,15,16,17,18,19,20,21,22,23,24,25,26,27,28,29,30,31,32,33,34,35,36,37,38,39,40,41,42,43,44,45,46,47,48,49,50,51,52,53,54,55,56,57,58,59,60,61,62,63,64,65,66,67,68,69,70,71,72,73,74,75,76,77,78,79,80,81,82,83,84,85,86,87,88,89,90,91,92,93,94,95,96,97,98,99,100,101,102,103,104,105,106,107,108,109,110,111,112,113,114,115,116,117,118,119,120,121,122,123,124,125,126,127,128,129,130,131,132,133,134,135,136,137,138,139,140,141,142,143,144,145,146,147,148,149,150,151,152,153,154,155,156,157,158,159,160,161,162,163,164,165,166,167,168,169,170,171,172,173,174,175,176,177,178,179,180,181,182,183,184,185,186,187,188,189,190,191,192,193,194,195,196,197,198,199,200,201,202,203,204,205,206,207,208,209,210,211,212,213,214,215,216,217,218,219,220,221,222,223,224,225,226,227,228,229,230,231,232,233,234,235,236,237,238,239,240,241,242,243,244,245,246,247,248,249,250,251,252,253,254,255,256,257,258,259,260,261,262,263,264,265,266,267,268,269,270,271,272,273,274,275,276,277,278,279,280,281,282,283,284,285,286,287,288,289,290,291,292,293,294,295,296,297,298,299],\"xaxis\":\"x\",\"y\":[0.6395833333333333,0.6270833333333333,0.7625,0.7645833333333333,0.7583333333333333,0.7427083333333333,0.7791666666666667,0.7854166666666667,0.8239583333333333,0.853125,0.8166666666666667,0.8760416666666667,0.9,0.8875,0.8979166666666667,0.9072916666666667,0.9125,0.9447916666666667,0.946875,0.9385416666666667,0.9447916666666667,0.9645833333333333,0.9677083333333333,0.953125,0.975,0.9458333333333333,0.9291666666666667,0.9458333333333333,0.9479166666666666,0.9520833333333333,0.9552083333333333,0.953125,0.9645833333333333,0.9552083333333333,0.9677083333333333,0.9677083333333333,0.965625,0.96875,0.9708333333333333,0.9604166666666667,0.9666666666666667,0.9604166666666667,0.9739583333333334,0.9677083333333333,0.9645833333333333,0.971875,0.9791666666666666,0.9760416666666667,0.9739583333333334,0.9760416666666667,0.9739583333333334,0.9770833333333333,0.978125,0.98125,0.984375,0.984375,0.984375,0.9864583333333333,0.9895833333333334,0.9864583333333333,0.9927083333333333,0.9947916666666666,0.9927083333333333,0.9927083333333333,0.9958333333333333,0.9958333333333333,0.9947916666666666,0.9958333333333333,0.990625,0.9947916666666666,0.99375,0.99375,0.99375,0.99375,0.99375,0.9947916666666666,0.9947916666666666,1.0,1.0,1.0,1.0,1.0,1.0,1.0,1.0,1.0,1.0,1.0,1.0,1.0,1.0,1.0,1.0,1.0,1.0,1.0,1.0,1.0,1.0,1.0,1.0,1.0,1.0,1.0,1.0,1.0,1.0,1.0,1.0,1.0,1.0,1.0,1.0,1.0,1.0,1.0,1.0,1.0,1.0,1.0,1.0,1.0,1.0,1.0,1.0,1.0,1.0,1.0,1.0,1.0,1.0,1.0,1.0,1.0,1.0,1.0,1.0,1.0,1.0,1.0,1.0,1.0,1.0,1.0,1.0,1.0,1.0,1.0,1.0,1.0,1.0,1.0,1.0,1.0,1.0,1.0,1.0,1.0,1.0,1.0,1.0,1.0,1.0,1.0,1.0,1.0,1.0,1.0,1.0,1.0,1.0,1.0,1.0,1.0,1.0,1.0,1.0,1.0,1.0,1.0,1.0,1.0,1.0,1.0,1.0,1.0,1.0,1.0,1.0,1.0,1.0,1.0,1.0,1.0,1.0,1.0,1.0,1.0,1.0,1.0,1.0,1.0,1.0,1.0,1.0,1.0,1.0,1.0,1.0,1.0,1.0,1.0,1.0,1.0,1.0,1.0,1.0,1.0,1.0,1.0,1.0,1.0,1.0,1.0,1.0,1.0,1.0,1.0,1.0,1.0,1.0,1.0,1.0,1.0,1.0,1.0,1.0,1.0,1.0,1.0,1.0,1.0,1.0,1.0,1.0,1.0,1.0,1.0,1.0,1.0,1.0,1.0,1.0,1.0,1.0,1.0,1.0,1.0,1.0,1.0,1.0,1.0,1.0,1.0,1.0,1.0,1.0,1.0,1.0,1.0,1.0,1.0,1.0,1.0,1.0,1.0,1.0,1.0,1.0,1.0,1.0,1.0,1.0,1.0,1.0,1.0,1.0,1.0,1.0,1.0,1.0,1.0,1.0,1.0,1.0,1.0,1.0,1.0,1.0,1.0],\"yaxis\":\"y\",\"type\":\"scattergl\"},{\"hovertemplate\":\"variable=E<br>index=%{x}<br>value=%{y}<extra></extra>\",\"legendgroup\":\"E\",\"line\":{\"color\":\"#FFA15A\",\"dash\":\"solid\"},\"marker\":{\"symbol\":\"circle\"},\"mode\":\"lines\",\"name\":\"E\",\"showlegend\":true,\"x\":[0,1,2,3,4,5,6,7,8,9,10,11,12,13,14,15,16,17,18,19,20,21,22,23,24,25,26,27,28,29,30,31,32,33,34,35,36,37,38,39,40,41,42,43,44,45,46,47,48,49,50,51,52,53,54,55,56,57,58,59,60,61,62,63,64,65,66,67,68,69,70,71,72,73,74,75,76,77,78,79,80,81,82,83,84,85,86,87,88,89,90,91,92,93,94,95,96,97,98,99,100,101,102,103,104,105,106,107,108,109,110,111,112,113,114,115,116,117,118,119,120,121,122,123,124,125,126,127,128,129,130,131,132,133,134,135,136,137,138,139,140,141,142,143,144,145,146,147,148,149,150,151,152,153,154,155,156,157,158,159,160,161,162,163,164,165,166,167,168,169,170,171,172,173,174,175,176,177,178,179,180,181,182,183,184,185,186,187,188,189,190,191,192,193,194,195,196,197,198,199,200,201,202,203,204,205,206,207,208,209,210,211,212,213,214,215,216,217,218,219,220,221,222,223,224,225,226,227,228,229,230,231,232,233,234,235,236,237,238,239,240,241,242,243,244,245,246,247,248,249,250,251,252,253,254,255,256,257,258,259,260,261,262,263,264,265,266,267,268,269,270,271,272,273,274,275,276,277,278,279,280,281,282,283,284,285,286,287,288,289,290,291,292,293,294,295,296,297,298,299],\"xaxis\":\"x\",\"y\":[0.584375,0.565625,0.6083333333333333,0.7260416666666667,0.6729166666666667,0.7177083333333333,0.7666666666666667,0.565625,0.4895833333333333,0.6802083333333333,0.7708333333333334,0.7833333333333333,0.765625,0.7520833333333333,0.7458333333333333,0.7697916666666667,0.784375,0.7875,0.7791666666666667,0.7760416666666666,0.7729166666666667,0.7708333333333334,0.775,0.78125,0.81875,0.8520833333333333,0.85625,0.89375,0.88125,0.9177083333333333,0.9270833333333334,0.9375,0.9427083333333334,0.9427083333333334,0.946875,0.94375,0.9552083333333333,0.95625,0.95625,0.9583333333333334,0.9614583333333333,0.959375,0.9645833333333333,0.9541666666666667,0.9666666666666667,0.9666666666666667,0.9729166666666667,0.971875,0.971875,0.9645833333333333,0.965625,0.9739583333333334,0.978125,0.9770833333333333,0.9791666666666666,0.98125,0.98125,0.9802083333333333,0.984375,0.9885416666666667,0.9854166666666667,0.9854166666666667,0.9895833333333334,0.9864583333333333,0.9895833333333334,0.9875,0.9885416666666667,0.9885416666666667,0.9895833333333334,0.990625,0.9916666666666667,0.9927083333333333,0.9927083333333333,0.99375,0.9947916666666666,0.99375,0.9947916666666666,0.9958333333333333,0.996875,0.996875,0.996875,0.996875,0.996875,0.996875,0.996875,0.996875,0.996875,0.996875,0.996875,0.996875,0.9958333333333333,0.9958333333333333,0.9958333333333333,0.996875,0.996875,0.996875,0.996875,0.996875,0.996875,0.996875,0.996875,0.996875,0.996875,0.996875,0.996875,0.996875,0.996875,0.996875,0.996875,0.996875,0.996875,0.996875,0.996875,0.996875,0.996875,0.996875,0.996875,0.996875,0.996875,0.996875,0.996875,0.996875,0.996875,0.996875,0.996875,0.996875,0.996875,0.996875,0.996875,0.996875,0.996875,0.996875,0.996875,0.996875,0.996875,0.996875,0.996875,0.996875,0.996875,0.996875,0.996875,0.996875,0.996875,0.996875,0.996875,0.996875,0.996875,0.996875,0.996875,0.996875,0.996875,0.996875,0.996875,0.996875,0.996875,0.996875,0.996875,0.996875,0.996875,0.996875,0.996875,0.996875,0.996875,0.996875,0.996875,0.996875,0.996875,0.996875,0.996875,0.996875,0.996875,0.996875,0.996875,0.996875,0.996875,0.996875,0.996875,0.996875,0.996875,0.996875,0.996875,0.996875,0.996875,0.996875,0.996875,0.996875,0.996875,0.996875,0.996875,0.996875,0.996875,0.996875,0.996875,0.996875,0.996875,0.996875,0.996875,0.996875,0.996875,0.996875,0.996875,0.996875,0.996875,0.996875,0.996875,0.996875,0.996875,0.996875,0.996875,0.996875,0.996875,0.996875,0.996875,0.996875,0.996875,0.996875,0.996875,0.996875,0.996875,0.996875,0.996875,0.996875,0.996875,0.996875,0.996875,0.996875,0.996875,0.996875,0.996875,0.996875,0.996875,0.996875,0.996875,0.996875,0.996875,0.996875,0.996875,0.996875,0.996875,0.996875,0.996875,0.996875,0.996875,0.996875,0.996875,0.996875,0.996875,0.996875,0.996875,0.996875,0.996875,0.996875,0.996875,0.996875,0.996875,0.996875,0.996875,0.996875,0.996875,0.996875,0.996875,0.996875,0.996875,0.996875,0.996875,0.996875,0.996875,0.996875,0.996875,0.996875,0.996875,0.996875,0.996875,0.996875,0.996875,0.996875,0.996875,0.996875,0.996875,0.996875,0.996875,0.996875,0.996875,0.996875,0.996875,0.996875,0.996875,0.996875,0.996875,0.996875,0.996875,0.996875,0.996875,0.996875,0.996875,0.996875,0.996875,0.996875,0.996875,0.996875],\"yaxis\":\"y\",\"type\":\"scattergl\"},{\"hovertemplate\":\"variable=F<br>index=%{x}<br>value=%{y}<extra></extra>\",\"legendgroup\":\"F\",\"line\":{\"color\":\"#19d3f3\",\"dash\":\"solid\"},\"marker\":{\"symbol\":\"circle\"},\"mode\":\"lines\",\"name\":\"F\",\"showlegend\":true,\"x\":[0,1,2,3,4,5,6,7,8,9,10,11,12,13,14,15,16,17,18,19,20,21,22,23,24,25,26,27,28,29,30,31,32,33,34,35,36,37,38,39,40,41,42,43,44,45,46,47,48,49,50,51,52,53,54,55,56,57,58,59,60,61,62,63,64,65,66,67,68,69,70,71,72,73,74,75,76,77,78,79,80,81,82,83,84,85,86,87,88,89,90,91,92,93,94,95,96,97,98,99,100,101,102,103,104,105,106,107,108,109,110,111,112,113,114,115,116,117,118,119,120,121,122,123,124,125,126,127,128,129,130,131,132,133,134,135,136,137,138,139,140,141,142,143,144,145,146,147,148,149,150,151,152,153,154,155,156,157,158,159,160,161,162,163,164,165,166,167,168,169,170,171,172,173,174,175,176,177,178,179,180,181,182,183,184,185,186,187,188,189,190,191,192,193,194,195,196,197,198,199,200,201,202,203,204,205,206,207,208,209,210,211,212,213,214,215,216,217,218,219,220,221,222,223,224,225,226,227,228,229,230,231,232,233,234,235,236,237,238,239,240,241,242,243,244,245,246,247,248,249,250,251,252,253,254,255,256,257,258,259,260,261,262,263,264,265,266,267,268,269,270,271,272,273,274,275,276,277,278,279,280,281,282,283,284,285,286,287,288,289,290,291,292,293,294,295,296,297,298,299],\"xaxis\":\"x\",\"y\":[0.6083333333333333,0.5854166666666667,0.6489583333333333,0.821875,0.75,0.675,0.659375,0.6875,0.828125,0.83125,0.840625,0.8114583333333333,0.7947916666666667,0.840625,0.8302083333333333,0.778125,0.7625,0.7416666666666667,0.74375,0.7885416666666667,0.8395833333333333,0.8708333333333333,0.8708333333333333,0.884375,0.9416666666666667,0.8052083333333333,0.84375,0.928125,0.9114583333333334,0.9239583333333333,0.8916666666666667,0.9197916666666667,0.925,0.8833333333333333,0.8614583333333333,0.9229166666666667,0.965625,0.9260416666666667,0.9739583333333334,0.91875,0.8666666666666667,0.8958333333333334,0.91875,0.9614583333333333,0.95625,0.9604166666666667,0.9666666666666667,0.95,0.9385416666666667,0.9479166666666666,0.9520833333333333,0.9416666666666667,0.95,0.9458333333333333,0.9677083333333333,0.9708333333333333,0.9760416666666667,0.9645833333333333,0.9708333333333333,0.9729166666666667,0.9625,0.9677083333333333,0.9677083333333333,0.9708333333333333,0.9729166666666667,0.96875,0.9697916666666667,0.9708333333333333,0.971875,0.9729166666666667,0.971875,0.9708333333333333,0.9729166666666667,0.9760416666666667,0.9791666666666666,0.9729166666666667,0.9739583333333334,0.9729166666666667,0.9760416666666667,0.9770833333333333,0.978125,0.9729166666666667,0.9791666666666666,0.978125,0.975,0.9760416666666667,0.978125,0.978125,0.975,0.9791666666666666,0.9822916666666667,0.9822916666666667,0.984375,0.9822916666666667,0.9833333333333333,0.9864583333333333,0.9833333333333333,0.9854166666666667,0.9864583333333333,0.9864583333333333,0.9875,0.9854166666666667,0.9875,0.9875,0.9885416666666667,0.984375,0.9875,0.984375,0.9864583333333333,0.9875,0.9864583333333333,0.9864583333333333,0.9885416666666667,0.9885416666666667,0.9864583333333333,0.9885416666666667,0.9885416666666667,0.9864583333333333,0.9875,0.9895833333333334,0.9864583333333333,0.9854166666666667,0.9854166666666667,0.9864583333333333,0.9854166666666667,0.9854166666666667,0.9864583333333333,0.9864583333333333,0.9854166666666667,0.9854166666666667,0.9864583333333333,0.9864583333333333,0.9854166666666667,0.9864583333333333,0.9875,0.9864583333333333,0.9864583333333333,0.9864583333333333,0.9864583333333333,0.9875,0.9875,0.990625,0.9875,0.9875,0.9875,0.9875,0.990625,0.9885416666666667,0.9885416666666667,0.9885416666666667,0.9885416666666667,0.9927083333333333,0.9927083333333333,0.9927083333333333,0.9895833333333334,0.9895833333333334,0.9895833333333334,0.9927083333333333,0.9895833333333334,0.9895833333333334,0.9895833333333334,0.9895833333333334,0.9895833333333334,0.9895833333333334,0.990625,0.990625,0.990625,0.990625,0.990625,0.990625,0.990625,0.9916666666666667,0.9916666666666667,0.9916666666666667,0.9916666666666667,0.9916666666666667,0.9916666666666667,0.9916666666666667,0.9916666666666667,0.9916666666666667,0.9916666666666667,0.9916666666666667,0.9916666666666667,0.9916666666666667,0.9916666666666667,0.9916666666666667,0.9916666666666667,0.9916666666666667,0.9916666666666667,0.9916666666666667,0.9916666666666667,0.9916666666666667,0.9916666666666667,0.9916666666666667,0.9916666666666667,0.9916666666666667,0.9916666666666667,0.9916666666666667,0.9916666666666667,0.9916666666666667,0.9916666666666667,0.9916666666666667,0.9916666666666667,0.9947916666666666,0.9947916666666666,0.9947916666666666,0.9947916666666666,0.9947916666666666,0.9947916666666666,0.9947916666666666,0.9958333333333333,0.9958333333333333,0.9958333333333333,0.9958333333333333,0.9958333333333333,0.9958333333333333,0.996875,0.996875,0.996875,0.996875,0.996875,0.996875,0.996875,0.996875,0.996875,0.996875,0.996875,0.996875,0.996875,0.996875,0.996875,0.996875,0.996875,0.996875,0.996875,0.996875,0.996875,0.996875,0.996875,0.996875,0.996875,0.996875,0.996875,0.996875,0.996875,0.996875,0.996875,0.996875,0.996875,0.996875,0.996875,0.996875,0.996875,0.996875,0.996875,0.996875,0.996875,0.996875,0.996875,0.996875,0.996875,0.996875,0.996875,0.996875,0.996875,0.996875,0.996875,0.996875,0.996875,0.996875,0.996875,0.996875,0.996875,0.996875,0.996875,0.996875,0.996875,0.996875,0.996875,0.996875,0.996875,0.996875,0.996875,0.996875,0.996875,0.996875,0.996875,0.996875,0.996875,0.996875,0.996875,0.996875,0.996875,0.996875,0.996875,0.996875,0.996875,0.996875,0.996875,0.996875],\"yaxis\":\"y\",\"type\":\"scattergl\"},{\"hovertemplate\":\"variable=G<br>index=%{x}<br>value=%{y}<extra></extra>\",\"legendgroup\":\"G\",\"line\":{\"color\":\"#FF6692\",\"dash\":\"solid\"},\"marker\":{\"symbol\":\"circle\"},\"mode\":\"lines\",\"name\":\"G\",\"showlegend\":true,\"x\":[0,1,2,3,4,5,6,7,8,9,10,11,12,13,14,15,16,17,18,19,20,21,22,23,24,25,26,27,28,29,30,31,32,33,34,35,36,37,38,39,40,41,42,43,44,45,46,47,48,49,50,51,52,53,54,55,56,57,58,59,60,61,62,63,64,65,66,67,68,69,70,71,72,73,74,75,76,77,78,79,80,81,82,83,84,85,86,87,88,89,90,91,92,93,94,95,96,97,98,99,100,101,102,103,104,105,106,107,108,109,110,111,112,113,114,115,116,117,118,119,120,121,122,123,124,125,126,127,128,129,130,131,132,133,134,135,136,137,138,139,140,141,142,143,144,145,146,147,148,149,150,151,152,153,154,155,156,157,158,159,160,161,162,163,164,165,166,167,168,169,170,171,172,173,174,175,176,177,178,179,180,181,182,183,184,185,186,187,188,189,190,191,192,193,194,195,196,197,198,199,200,201,202,203,204,205,206,207,208,209,210,211,212,213,214,215,216,217,218,219,220,221,222,223,224,225,226,227,228,229,230,231,232,233,234,235,236,237,238,239,240,241,242,243,244,245,246,247,248,249,250,251,252,253,254,255,256,257,258,259,260,261,262,263,264,265,266,267,268,269,270,271,272,273,274,275,276,277,278,279,280,281,282,283,284,285,286,287,288,289,290,291,292,293,294,295,296,297,298,299],\"xaxis\":\"x\",\"y\":[0.5729166666666666,0.725,0.6895833333333333,0.565625,0.565625,0.803125,0.7052083333333333,0.565625,0.5635416666666667,0.565625,0.559375,0.596875,0.7333333333333333,0.7020833333333333,0.771875,0.7416666666666667,0.7645833333333333,0.7333333333333333,0.70625,0.7395833333333334,0.7541666666666667,0.7239583333333334,0.7510416666666667,0.7239583333333334,0.71875,0.7083333333333334,0.715625,0.7166666666666667,0.70625,0.7802083333333333,0.771875,0.7645833333333333,0.8,0.8333333333333334,0.7083333333333334,0.815625,0.8291666666666667,0.8145833333333333,0.8145833333333333,0.79375,0.834375,0.8760416666666667,0.9041666666666667,0.8645833333333334,0.9020833333333333,0.9291666666666667,0.915625,0.8833333333333333,0.946875,0.9552083333333333,0.9645833333333333,0.9489583333333333,0.9614583333333333,0.946875,0.9447916666666667,0.965625,0.9291666666666667,0.9395833333333333,0.9354166666666667,0.94375,0.953125,0.94375,0.9583333333333334,0.965625,0.9645833333333333,0.9666666666666667,0.975,0.9614583333333333,0.9708333333333333,0.9625,0.9645833333333333,0.9614583333333333,0.9604166666666667,0.9625,0.9604166666666667,0.9625,0.971875,0.96875,0.9645833333333333,0.9677083333333333,0.9854166666666667,0.9864583333333333,0.9729166666666667,0.9520833333333333,0.9708333333333333,0.9854166666666667,0.9822916666666667,0.9770833333333333,0.98125,0.98125,0.98125,0.9822916666666667,0.984375,0.9885416666666667,0.9895833333333334,0.9895833333333334,0.9895833333333334,0.9864583333333333,0.9875,0.9875,0.9875,0.9875,0.9895833333333334,0.9875,0.9885416666666667,0.9895833333333334,0.9895833333333334,0.9916666666666667,0.9895833333333334,0.9927083333333333,0.99375,0.9875,0.9885416666666667,0.9885416666666667,0.9885416666666667,0.9885416666666667,0.9885416666666667,0.9895833333333334,0.9916666666666667,0.9916666666666667,0.9885416666666667,0.9895833333333334,0.9895833333333334,0.990625,0.990625,0.99375,0.99375,0.99375,0.99375,0.99375,0.9927083333333333,0.9927083333333333,0.9927083333333333,0.99375,0.99375,0.9927083333333333,0.99375,0.99375,0.99375,0.99375,0.99375,0.99375,0.99375,0.9947916666666666,0.9947916666666666,0.99375,0.99375,0.9947916666666666,0.99375,0.9947916666666666,0.9947916666666666,0.9947916666666666,0.9947916666666666,0.9947916666666666,0.9947916666666666,0.9947916666666666,0.99375,0.9947916666666666,0.9947916666666666,0.9947916666666666,0.9947916666666666,0.9947916666666666,0.9947916666666666,0.9947916666666666,0.9947916666666666,0.9947916666666666,0.9947916666666666,0.9947916666666666,0.9947916666666666,0.9947916666666666,0.9947916666666666,0.9947916666666666,0.9947916666666666,0.9947916666666666,0.9947916666666666,0.9947916666666666,0.9947916666666666,0.9947916666666666,0.9947916666666666,0.9947916666666666,0.9947916666666666,0.9947916666666666,0.9947916666666666,0.9947916666666666,0.9947916666666666,0.9947916666666666,0.9947916666666666,0.9947916666666666,0.9947916666666666,0.9947916666666666,0.9947916666666666,0.9947916666666666,0.9947916666666666,0.9947916666666666,0.9947916666666666,0.9947916666666666,0.9947916666666666,0.9947916666666666,0.9947916666666666,0.9947916666666666,0.9947916666666666,0.9947916666666666,0.9947916666666666,0.9916666666666667,0.9916666666666667,0.9916666666666667,0.9916666666666667,0.9916666666666667,0.9916666666666667,0.9916666666666667,0.9916666666666667,0.9916666666666667,0.9916666666666667,0.9916666666666667,0.9916666666666667,0.9916666666666667,0.9916666666666667,0.9916666666666667,0.9916666666666667,0.9916666666666667,0.9916666666666667,0.9916666666666667,0.9916666666666667,0.9916666666666667,0.9947916666666666,0.9947916666666666,0.9947916666666666,0.9947916666666666,0.9947916666666666,0.9947916666666666,0.9947916666666666,0.9947916666666666,0.9947916666666666,0.9947916666666666,0.9947916666666666,0.9947916666666666,0.9947916666666666,0.9947916666666666,0.9947916666666666,0.9947916666666666,0.9947916666666666,0.9947916666666666,0.9947916666666666,0.9947916666666666,0.9947916666666666,0.9947916666666666,0.9947916666666666,0.9947916666666666,0.9947916666666666,0.9947916666666666,0.9947916666666666,0.9947916666666666,0.9947916666666666,0.9947916666666666,0.9947916666666666,0.9947916666666666,0.9947916666666666,0.9947916666666666,0.9947916666666666,0.9947916666666666,0.9947916666666666,0.9947916666666666,0.9947916666666666,0.9947916666666666,0.9947916666666666,0.9947916666666666,0.9947916666666666,0.9947916666666666,0.9947916666666666,0.9947916666666666,0.9947916666666666,0.9947916666666666,0.9947916666666666,0.9947916666666666,0.9947916666666666,0.9947916666666666,0.9947916666666666,0.9947916666666666,0.9947916666666666,0.9947916666666666,0.9947916666666666,0.9947916666666666,0.9947916666666666,0.9947916666666666,0.9947916666666666,0.9947916666666666,0.9947916666666666,0.9947916666666666,0.9947916666666666,0.9947916666666666,0.9947916666666666,0.9947916666666666,0.9947916666666666,0.9947916666666666,0.9947916666666666,0.9947916666666666,0.9947916666666666,0.9947916666666666,0.9947916666666666,0.9947916666666666],\"yaxis\":\"y\",\"type\":\"scattergl\"},{\"hovertemplate\":\"variable=H<br>index=%{x}<br>value=%{y}<extra></extra>\",\"legendgroup\":\"H\",\"line\":{\"color\":\"#B6E880\",\"dash\":\"solid\"},\"marker\":{\"symbol\":\"circle\"},\"mode\":\"lines\",\"name\":\"H\",\"showlegend\":true,\"x\":[0,1,2,3,4,5,6,7,8,9,10,11,12,13,14,15,16,17,18,19,20,21,22,23,24,25,26,27,28,29,30,31,32,33,34,35,36,37,38,39,40,41,42,43,44,45,46,47,48,49,50,51,52,53,54,55,56,57,58,59,60,61,62,63,64,65,66,67,68,69,70,71,72,73,74,75,76,77,78,79,80,81,82,83,84,85,86,87,88,89,90,91,92,93,94,95,96,97,98,99,100,101,102,103,104,105,106,107,108,109,110,111,112,113,114,115,116,117,118,119,120,121,122,123,124,125,126,127,128,129,130,131,132,133,134,135,136,137,138,139,140,141,142,143,144,145,146,147,148,149,150,151,152,153,154,155,156,157,158,159,160,161,162,163,164,165,166,167,168,169,170,171,172,173,174,175,176,177,178,179,180,181,182,183,184,185,186,187,188,189,190,191,192,193,194,195,196,197,198,199,200,201,202,203,204,205,206,207,208,209,210,211,212,213,214,215,216,217,218,219,220,221,222,223,224,225,226,227,228,229,230,231,232,233,234,235,236,237,238,239,240,241,242,243,244,245,246,247,248,249,250,251,252,253,254,255,256,257,258,259,260,261,262,263,264,265,266,267,268,269,270,271,272,273,274,275,276,277,278,279,280,281,282,283,284,285,286,287,288,289,290,291,292,293,294,295,296,297,298,299],\"xaxis\":\"x\",\"y\":[0.565625,0.565625,0.565625,0.6447916666666667,0.56875,0.565625,0.565625,0.565625,0.565625,0.565625,0.565625,0.5708333333333333,0.5729166666666666,0.571875,0.5677083333333334,0.5708333333333333,0.6760416666666667,0.7291666666666666,0.7489583333333333,0.8541666666666666,0.81875,0.784375,0.7625,0.7427083333333333,0.7395833333333334,0.7270833333333333,0.7177083333333333,0.6895833333333333,0.696875,0.6770833333333334,0.775,0.78125,0.7114583333333333,0.7875,0.88125,0.8916666666666667,0.871875,0.828125,0.8010416666666667,0.7916666666666666,0.7947916666666667,0.8010416666666667,0.81875,0.828125,0.846875,0.84375,0.8125,0.809375,0.7885416666666667,0.84375,0.815625,0.7364583333333333,0.7,0.7802083333333333,0.828125,0.7916666666666666,0.8260416666666667,0.8520833333333333,0.8791666666666667,0.8322916666666667,0.85625,0.8645833333333334,0.9385416666666667,0.8854166666666666,0.8635416666666667,0.846875,0.8375,0.8083333333333333,0.8177083333333334,0.83125,0.834375,0.8270833333333333,0.8364583333333333,0.8416666666666667,0.846875,0.8697916666666666,0.884375,0.884375,0.8916666666666667,0.8885416666666667,0.88125,0.8635416666666667,0.8489583333333334,0.8427083333333333,0.84375,0.8427083333333333,0.8395833333333333,0.871875,0.8729166666666667,0.8708333333333333,0.85,0.8541666666666666,0.8885416666666667,0.9010416666666666,0.9208333333333333,0.9427083333333334,0.9333333333333333,0.9510416666666667,0.971875,0.984375,0.9802083333333333,0.971875,0.9635416666666666,0.975,0.9604166666666667,0.9510416666666667,0.9375,0.9666666666666667,0.9666666666666667,0.9364583333333333,0.9427083333333334,0.95,0.88125,0.9697916666666667,0.971875,0.98125,0.9802083333333333,0.9802083333333333,0.9802083333333333,0.9760416666666667,0.9802083333333333,0.9833333333333333,0.9854166666666667,0.9875,0.9864583333333333,0.9864583333333333,0.9854166666666667,0.984375,0.984375,0.984375,0.9833333333333333,0.984375,0.9895833333333334,0.9875,0.984375,0.9854166666666667,0.9916666666666667,0.9916666666666667,0.9875,0.9854166666666667,0.9854166666666667,0.9854166666666667,0.9854166666666667,0.9854166666666667,0.984375,0.9854166666666667,0.984375,0.984375,0.984375,0.9864583333333333,0.9833333333333333,0.984375,0.9875,0.9895833333333334,0.9895833333333334,0.9875,0.9864583333333333,0.9875,0.9875,0.9885416666666667,0.9885416666666667,0.9885416666666667,0.984375,0.984375,0.984375,0.9875,0.984375,0.9833333333333333,0.9875,0.9833333333333333,0.9875,0.984375,0.9875,0.9833333333333333,0.9833333333333333,0.9833333333333333,0.9833333333333333,0.9833333333333333,0.9833333333333333,0.984375,0.984375,0.9833333333333333,0.9895833333333334,0.984375,0.9916666666666667,0.9916666666666667,0.9916666666666667,0.9916666666666667,0.9916666666666667,0.9916666666666667,0.9916666666666667,0.9916666666666667,0.9916666666666667,0.9927083333333333,0.9927083333333333,0.9927083333333333,0.9927083333333333,0.9927083333333333,0.9927083333333333,0.9927083333333333,0.9927083333333333,0.9927083333333333,0.9927083333333333,0.9927083333333333,0.9927083333333333,0.9927083333333333,0.99375,0.9947916666666666,0.9947916666666666,0.9947916666666666,0.996875,0.996875,0.996875,0.996875,0.996875,0.996875,0.996875,0.996875,0.9958333333333333,0.9958333333333333,0.996875,0.9958333333333333,0.9947916666666666,0.9958333333333333,0.9958333333333333,0.9958333333333333,0.99375,0.99375,0.9947916666666666,0.99375,0.99375,0.99375,0.99375,0.99375,0.9947916666666666,0.9947916666666666,0.9947916666666666,0.9947916666666666,0.9947916666666666,0.9947916666666666,0.9947916666666666,0.9947916666666666,0.9947916666666666,0.9947916666666666,0.9947916666666666,0.9947916666666666,0.9947916666666666,0.9947916666666666,0.9947916666666666,0.9947916666666666,0.9947916666666666,0.9947916666666666,0.9947916666666666,0.9947916666666666,0.9947916666666666,0.9947916666666666,0.9947916666666666,0.9947916666666666,0.9947916666666666,0.9947916666666666,0.9947916666666666,0.9947916666666666,0.9947916666666666,0.9947916666666666,0.9947916666666666,0.9947916666666666,0.9947916666666666,0.9947916666666666,0.9947916666666666,0.9947916666666666,0.9947916666666666,0.9947916666666666,0.9947916666666666,0.9947916666666666,0.9947916666666666,0.9947916666666666,0.9947916666666666,0.9947916666666666,0.9947916666666666,0.9947916666666666,0.9947916666666666,0.9947916666666666,0.9947916666666666,0.9947916666666666,0.9947916666666666,0.9947916666666666,0.9947916666666666,0.9947916666666666,0.9947916666666666,0.9947916666666666,0.9947916666666666,0.9947916666666666,0.9947916666666666,0.9947916666666666,0.9947916666666666,0.9947916666666666,0.9947916666666666,0.9947916666666666,0.9947916666666666,0.9947916666666666],\"yaxis\":\"y\",\"type\":\"scattergl\"},{\"hovertemplate\":\"variable=I<br>index=%{x}<br>value=%{y}<extra></extra>\",\"legendgroup\":\"I\",\"line\":{\"color\":\"#FF97FF\",\"dash\":\"solid\"},\"marker\":{\"symbol\":\"circle\"},\"mode\":\"lines\",\"name\":\"I\",\"showlegend\":true,\"x\":[0,1,2,3,4,5,6,7,8,9,10,11,12,13,14,15,16,17,18,19,20,21,22,23,24,25,26,27,28,29,30,31,32,33,34,35,36,37,38,39,40,41,42,43,44,45,46,47,48,49,50,51,52,53,54,55,56,57,58,59,60,61,62,63,64,65,66,67,68,69,70,71,72,73,74,75,76,77,78,79,80,81,82,83,84,85,86,87,88,89,90,91,92,93,94,95,96,97,98,99,100,101,102,103,104,105,106,107,108,109,110,111,112,113,114,115,116,117,118,119,120,121,122,123,124,125,126,127,128,129,130,131,132,133,134,135,136,137,138,139,140,141,142,143,144,145,146,147,148,149,150,151,152,153,154,155,156,157,158,159,160,161,162,163,164,165,166,167,168,169,170,171,172,173,174,175,176,177,178,179,180,181,182,183,184,185,186,187,188,189,190,191,192,193,194,195,196,197,198,199,200,201,202,203,204,205,206,207,208,209,210,211,212,213,214,215,216,217,218,219,220,221,222,223,224,225,226,227,228,229,230,231,232,233,234,235,236,237,238,239,240,241,242,243,244,245,246,247,248,249,250,251,252,253,254,255,256,257,258,259,260,261,262,263,264,265,266,267,268,269,270,271,272,273,274,275,276,277,278,279,280,281,282,283,284,285,286,287,288,289,290,291,292,293,294,295,296,297,298,299],\"xaxis\":\"x\",\"y\":[0.565625,0.565625,0.5958333333333333,0.4395833333333333,0.69375,0.7385416666666667,0.6822916666666666,0.5625,0.753125,0.6145833333333334,0.7239583333333334,0.6229166666666667,0.7197916666666667,0.8458333333333333,0.8447916666666667,0.853125,0.8802083333333334,0.8697916666666666,0.8895833333333333,0.9177083333333333,0.9135416666666667,0.8822916666666667,0.915625,0.9229166666666667,0.9239583333333333,0.9177083333333333,0.9291666666666667,0.9458333333333333,0.934375,0.9260416666666667,0.9260416666666667,0.9125,0.9302083333333333,0.9364583333333333,0.9416666666666667,0.94375,0.9447916666666667,0.9572916666666667,0.953125,0.9489583333333333,0.95625,0.9666666666666667,0.95625,0.9510416666666667,0.9510416666666667,0.965625,0.975,0.9520833333333333,0.9729166666666667,0.9708333333333333,0.9760416666666667,0.9760416666666667,0.9729166666666667,0.978125,0.9791666666666666,0.9802083333333333,0.975,0.9770833333333333,0.9770833333333333,0.9760416666666667,0.975,0.9729166666666667,0.9708333333333333,0.9697916666666667,0.9760416666666667,0.9791666666666666,0.9791666666666666,0.978125,0.9802083333333333,0.9802083333333333,0.98125,0.9729166666666667,0.9770833333333333,0.98125,0.9791666666666666,0.9802083333333333,0.9802083333333333,0.9802083333333333,0.9802083333333333,0.98125,0.9802083333333333,0.9791666666666666,0.9833333333333333,0.98125,0.9802083333333333,0.98125,0.9802083333333333,0.9791666666666666,0.9791666666666666,0.98125,0.98125,0.98125,0.9822916666666667,0.9802083333333333,0.98125,0.9822916666666667,0.9802083333333333,0.9822916666666667,0.9802083333333333,0.9822916666666667,0.98125,0.98125,0.9802083333333333,0.9802083333333333,0.9802083333333333,0.98125,0.9822916666666667,0.98125,0.9822916666666667,0.9822916666666667,0.9822916666666667,0.98125,0.9822916666666667,0.9822916666666667,0.9822916666666667,0.9822916666666667,0.9822916666666667,0.9822916666666667,0.9822916666666667,0.9822916666666667,0.9822916666666667,0.9822916666666667,0.9822916666666667,0.98125,0.9822916666666667,0.9822916666666667,0.9822916666666667,0.9822916666666667,0.9833333333333333,0.9822916666666667,0.9822916666666667,0.9822916666666667,0.9822916666666667,0.9822916666666667,0.9822916666666667,0.9822916666666667,0.9822916666666667,0.9822916666666667,0.9822916666666667,0.9822916666666667,0.9822916666666667,0.9822916666666667,0.9822916666666667,0.9822916666666667,0.9822916666666667,0.9822916666666667,0.9822916666666667,0.9822916666666667,0.9822916666666667,0.9822916666666667,0.9822916666666667,0.9822916666666667,0.9822916666666667,0.9822916666666667,0.9822916666666667,0.9822916666666667,0.9822916666666667,0.9822916666666667,0.9822916666666667,0.9822916666666667,0.9822916666666667,0.9822916666666667,0.9822916666666667,0.9822916666666667,0.9822916666666667,0.9822916666666667,0.9822916666666667,0.9822916666666667,0.9822916666666667,0.9822916666666667,0.9822916666666667,0.9822916666666667,0.9822916666666667,0.9822916666666667,0.9822916666666667,0.9822916666666667,0.9822916666666667,0.9822916666666667,0.9822916666666667,0.9822916666666667,0.9822916666666667,0.9822916666666667,0.9822916666666667,0.9822916666666667,0.9822916666666667,0.9822916666666667,0.9822916666666667,0.9822916666666667,0.9822916666666667,0.9822916666666667,0.9822916666666667,0.9822916666666667,0.9822916666666667,0.9822916666666667,0.9822916666666667,0.9822916666666667,0.9822916666666667,0.9822916666666667,0.9822916666666667,0.9822916666666667,0.9822916666666667,0.9822916666666667,0.9822916666666667,0.9822916666666667,0.9822916666666667,0.9822916666666667,0.9822916666666667,0.9822916666666667,0.9822916666666667,0.9822916666666667,0.9822916666666667,0.9822916666666667,0.9822916666666667,0.9822916666666667,0.9822916666666667,0.9822916666666667,0.9822916666666667,0.9822916666666667,0.9822916666666667,0.9822916666666667,0.9822916666666667,0.9822916666666667,0.9822916666666667,0.9822916666666667,0.9822916666666667,0.9822916666666667,0.9822916666666667,0.9822916666666667,0.9822916666666667,0.9822916666666667,0.9822916666666667,0.9822916666666667,0.9822916666666667,0.9822916666666667,0.9822916666666667,0.9822916666666667,0.9822916666666667,0.9822916666666667,0.9822916666666667,0.9822916666666667,0.9822916666666667,0.9822916666666667,0.9822916666666667,0.9822916666666667,0.9822916666666667,0.9822916666666667,0.9822916666666667,0.9822916666666667,0.9822916666666667,0.9822916666666667,0.9822916666666667,0.9822916666666667,0.9822916666666667,0.9822916666666667,0.9822916666666667,0.9822916666666667,0.9822916666666667,0.9822916666666667,0.9822916666666667,0.9822916666666667,0.9822916666666667,0.9822916666666667,0.9822916666666667,0.9822916666666667,0.9822916666666667,0.9822916666666667,0.9822916666666667,0.9822916666666667,0.9822916666666667,0.9822916666666667,0.9822916666666667,0.9822916666666667,0.9822916666666667,0.9822916666666667,0.9822916666666667,0.9822916666666667,0.9822916666666667,0.9822916666666667,0.9822916666666667,0.9822916666666667,0.9822916666666667,0.9822916666666667,0.9822916666666667,0.9822916666666667,0.9822916666666667,0.9822916666666667,0.9822916666666667,0.9822916666666667,0.9822916666666667,0.9822916666666667,0.9822916666666667,0.9822916666666667,0.9822916666666667,0.9822916666666667,0.9822916666666667,0.9822916666666667,0.9822916666666667,0.9822916666666667,0.9822916666666667,0.9822916666666667],\"yaxis\":\"y\",\"type\":\"scattergl\"},{\"hovertemplate\":\"variable=J<br>index=%{x}<br>value=%{y}<extra></extra>\",\"legendgroup\":\"J\",\"line\":{\"color\":\"#FECB52\",\"dash\":\"solid\"},\"marker\":{\"symbol\":\"circle\"},\"mode\":\"lines\",\"name\":\"J\",\"showlegend\":true,\"x\":[0,1,2,3,4,5,6,7,8,9,10,11,12,13,14,15,16,17,18,19,20,21,22,23,24,25,26,27,28,29,30,31,32,33,34,35,36,37,38,39,40,41,42,43,44,45,46,47,48,49,50,51,52,53,54,55,56,57,58,59,60,61,62,63,64,65,66,67,68,69,70,71,72,73,74,75,76,77,78,79,80,81,82,83,84,85,86,87,88,89,90,91,92,93,94,95,96,97,98,99,100,101,102,103,104,105,106,107,108,109,110,111,112,113,114,115,116,117,118,119,120,121,122,123,124,125,126,127,128,129,130,131,132,133,134,135,136,137,138,139,140,141,142,143,144,145,146,147,148,149,150,151,152,153,154,155,156,157,158,159,160,161,162,163,164,165,166,167,168,169,170,171,172,173,174,175,176,177,178,179,180,181,182,183,184,185,186,187,188,189,190,191,192,193,194,195,196,197,198,199,200,201,202,203,204,205,206,207,208,209,210,211,212,213,214,215,216,217,218,219,220,221,222,223,224,225,226,227,228,229,230,231,232,233,234,235,236,237,238,239,240,241,242,243,244,245,246,247,248,249,250,251,252,253,254,255,256,257,258,259,260,261,262,263,264,265,266,267,268,269,270,271,272,273,274,275,276,277,278,279,280,281,282,283,284,285,286,287,288,289,290,291,292,293,294,295,296,297,298,299],\"xaxis\":\"x\",\"y\":[0.74375,0.7239583333333334,0.66875,0.6364583333333333,0.7572916666666667,0.6885416666666667,0.6989583333333333,0.6989583333333333,0.7291666666666666,0.796875,0.878125,0.8958333333333334,0.9020833333333333,0.9072916666666667,0.9041666666666667,0.9041666666666667,0.9072916666666667,0.915625,0.915625,0.9145833333333333,0.9208333333333333,0.9270833333333334,0.928125,0.9291666666666667,0.91875,0.8875,0.9166666666666666,0.9302083333333333,0.9291666666666667,0.9416666666666667,0.9458333333333333,0.94375,0.940625,0.9479166666666666,0.9489583333333333,0.9447916666666667,0.95,0.9520833333333333,0.9489583333333333,0.9510416666666667,0.9489583333333333,0.9520833333333333,0.9552083333333333,0.95625,0.9552083333333333,0.9572916666666667,0.95625,0.953125,0.9572916666666667,0.9552083333333333,0.9552083333333333,0.9583333333333334,0.959375,0.9572916666666667,0.9583333333333334,0.9572916666666667,0.9583333333333334,0.9572916666666667,0.9583333333333334,0.959375,0.959375,0.959375,0.959375,0.959375,0.959375,0.9583333333333334,0.959375,0.959375,0.959375,0.9583333333333334,0.959375,0.959375,0.959375,0.959375,0.959375,0.959375,0.959375,0.959375,0.959375,0.9604166666666667,0.959375,0.959375,0.959375,0.9583333333333334,0.9583333333333334,0.9552083333333333,0.95625,0.9604166666666667,0.9604166666666667,0.9604166666666667,0.9604166666666667,0.9604166666666667,0.9604166666666667,0.959375,0.959375,0.959375,0.959375,0.959375,0.959375,0.9604166666666667,0.9604166666666667,0.9604166666666667,0.959375,0.9604166666666667,0.9604166666666667,0.9604166666666667,0.9604166666666667,0.9604166666666667,0.9604166666666667,0.9604166666666667,0.9604166666666667,0.9604166666666667,0.9604166666666667,0.9604166666666667,0.9604166666666667,0.9604166666666667,0.9604166666666667,0.9604166666666667,0.9604166666666667,0.9604166666666667,0.9604166666666667,0.9604166666666667,0.9604166666666667,0.9604166666666667,0.9604166666666667,0.9604166666666667,0.9604166666666667,0.9604166666666667,0.9604166666666667,0.9604166666666667,0.9604166666666667,0.9604166666666667,0.9604166666666667,0.9604166666666667,0.9604166666666667,0.9604166666666667,0.9604166666666667,0.9604166666666667,0.9604166666666667,0.9604166666666667,0.9604166666666667,0.9604166666666667,0.9604166666666667,0.9604166666666667,0.9604166666666667,0.9604166666666667,0.9604166666666667,0.9604166666666667,0.9604166666666667,0.9604166666666667,0.9604166666666667,0.9604166666666667,0.9604166666666667,0.9604166666666667,0.9604166666666667,0.9604166666666667,0.9604166666666667,0.9604166666666667,0.9604166666666667,0.9604166666666667,0.9604166666666667,0.9604166666666667,0.9604166666666667,0.9604166666666667,0.9604166666666667,0.9604166666666667,0.9604166666666667,0.9604166666666667,0.9604166666666667,0.9604166666666667,0.9604166666666667,0.9604166666666667,0.9604166666666667,0.9604166666666667,0.9604166666666667,0.9604166666666667,0.9604166666666667,0.9604166666666667,0.9604166666666667,0.9604166666666667,0.9604166666666667,0.9604166666666667,0.9604166666666667,0.9604166666666667,0.9604166666666667,0.9604166666666667,0.9604166666666667,0.9604166666666667,0.9604166666666667,0.9604166666666667,0.9604166666666667,0.9604166666666667,0.9604166666666667,0.9604166666666667,0.9604166666666667,0.9604166666666667,0.9604166666666667,0.9604166666666667,0.9604166666666667,0.9604166666666667,0.9604166666666667,0.9604166666666667,0.9604166666666667,0.9604166666666667,0.9604166666666667,0.9604166666666667,0.9604166666666667,0.9604166666666667,0.9604166666666667,0.9604166666666667,0.9604166666666667,0.9604166666666667,0.9604166666666667,0.9604166666666667,0.9604166666666667,0.9604166666666667,0.9604166666666667,0.9604166666666667,0.9604166666666667,0.9604166666666667,0.9604166666666667,0.9604166666666667,0.9604166666666667,0.9604166666666667,0.9604166666666667,0.9604166666666667,0.9604166666666667,0.9604166666666667,0.9604166666666667,0.9604166666666667,0.9604166666666667,0.9604166666666667,0.9604166666666667,0.9604166666666667,0.9604166666666667,0.9604166666666667,0.9604166666666667,0.9604166666666667,0.9604166666666667,0.9604166666666667,0.9604166666666667,0.9604166666666667,0.9604166666666667,0.9604166666666667,0.9604166666666667,0.9604166666666667,0.9604166666666667,0.9604166666666667,0.9604166666666667,0.9604166666666667,0.9604166666666667,0.9604166666666667,0.9604166666666667,0.9604166666666667,0.9604166666666667,0.9604166666666667,0.9604166666666667,0.9604166666666667,0.9604166666666667,0.9604166666666667,0.9604166666666667,0.9604166666666667,0.9604166666666667,0.9604166666666667,0.9604166666666667,0.9604166666666667,0.9604166666666667,0.9604166666666667,0.9604166666666667,0.9604166666666667,0.9604166666666667,0.9604166666666667,0.9604166666666667,0.9604166666666667,0.9604166666666667,0.9604166666666667,0.9604166666666667,0.9604166666666667,0.9604166666666667,0.9604166666666667,0.9604166666666667,0.9604166666666667,0.9604166666666667,0.9604166666666667,0.9604166666666667,0.9604166666666667,0.9604166666666667,0.9604166666666667,0.9604166666666667,0.9604166666666667,0.9604166666666667,0.9604166666666667,0.9604166666666667,0.9604166666666667,0.9604166666666667,0.9604166666666667,0.9604166666666667,0.9604166666666667,0.9604166666666667,0.9604166666666667],\"yaxis\":\"y\",\"type\":\"scattergl\"}],                        {\"template\":{\"data\":{\"bar\":[{\"error_x\":{\"color\":\"#2a3f5f\"},\"error_y\":{\"color\":\"#2a3f5f\"},\"marker\":{\"line\":{\"color\":\"#E5ECF6\",\"width\":0.5},\"pattern\":{\"fillmode\":\"overlay\",\"size\":10,\"solidity\":0.2}},\"type\":\"bar\"}],\"barpolar\":[{\"marker\":{\"line\":{\"color\":\"#E5ECF6\",\"width\":0.5},\"pattern\":{\"fillmode\":\"overlay\",\"size\":10,\"solidity\":0.2}},\"type\":\"barpolar\"}],\"carpet\":[{\"aaxis\":{\"endlinecolor\":\"#2a3f5f\",\"gridcolor\":\"white\",\"linecolor\":\"white\",\"minorgridcolor\":\"white\",\"startlinecolor\":\"#2a3f5f\"},\"baxis\":{\"endlinecolor\":\"#2a3f5f\",\"gridcolor\":\"white\",\"linecolor\":\"white\",\"minorgridcolor\":\"white\",\"startlinecolor\":\"#2a3f5f\"},\"type\":\"carpet\"}],\"choropleth\":[{\"colorbar\":{\"outlinewidth\":0,\"ticks\":\"\"},\"type\":\"choropleth\"}],\"contour\":[{\"colorbar\":{\"outlinewidth\":0,\"ticks\":\"\"},\"colorscale\":[[0.0,\"#0d0887\"],[0.1111111111111111,\"#46039f\"],[0.2222222222222222,\"#7201a8\"],[0.3333333333333333,\"#9c179e\"],[0.4444444444444444,\"#bd3786\"],[0.5555555555555556,\"#d8576b\"],[0.6666666666666666,\"#ed7953\"],[0.7777777777777778,\"#fb9f3a\"],[0.8888888888888888,\"#fdca26\"],[1.0,\"#f0f921\"]],\"type\":\"contour\"}],\"contourcarpet\":[{\"colorbar\":{\"outlinewidth\":0,\"ticks\":\"\"},\"type\":\"contourcarpet\"}],\"heatmap\":[{\"colorbar\":{\"outlinewidth\":0,\"ticks\":\"\"},\"colorscale\":[[0.0,\"#0d0887\"],[0.1111111111111111,\"#46039f\"],[0.2222222222222222,\"#7201a8\"],[0.3333333333333333,\"#9c179e\"],[0.4444444444444444,\"#bd3786\"],[0.5555555555555556,\"#d8576b\"],[0.6666666666666666,\"#ed7953\"],[0.7777777777777778,\"#fb9f3a\"],[0.8888888888888888,\"#fdca26\"],[1.0,\"#f0f921\"]],\"type\":\"heatmap\"}],\"heatmapgl\":[{\"colorbar\":{\"outlinewidth\":0,\"ticks\":\"\"},\"colorscale\":[[0.0,\"#0d0887\"],[0.1111111111111111,\"#46039f\"],[0.2222222222222222,\"#7201a8\"],[0.3333333333333333,\"#9c179e\"],[0.4444444444444444,\"#bd3786\"],[0.5555555555555556,\"#d8576b\"],[0.6666666666666666,\"#ed7953\"],[0.7777777777777778,\"#fb9f3a\"],[0.8888888888888888,\"#fdca26\"],[1.0,\"#f0f921\"]],\"type\":\"heatmapgl\"}],\"histogram\":[{\"marker\":{\"pattern\":{\"fillmode\":\"overlay\",\"size\":10,\"solidity\":0.2}},\"type\":\"histogram\"}],\"histogram2d\":[{\"colorbar\":{\"outlinewidth\":0,\"ticks\":\"\"},\"colorscale\":[[0.0,\"#0d0887\"],[0.1111111111111111,\"#46039f\"],[0.2222222222222222,\"#7201a8\"],[0.3333333333333333,\"#9c179e\"],[0.4444444444444444,\"#bd3786\"],[0.5555555555555556,\"#d8576b\"],[0.6666666666666666,\"#ed7953\"],[0.7777777777777778,\"#fb9f3a\"],[0.8888888888888888,\"#fdca26\"],[1.0,\"#f0f921\"]],\"type\":\"histogram2d\"}],\"histogram2dcontour\":[{\"colorbar\":{\"outlinewidth\":0,\"ticks\":\"\"},\"colorscale\":[[0.0,\"#0d0887\"],[0.1111111111111111,\"#46039f\"],[0.2222222222222222,\"#7201a8\"],[0.3333333333333333,\"#9c179e\"],[0.4444444444444444,\"#bd3786\"],[0.5555555555555556,\"#d8576b\"],[0.6666666666666666,\"#ed7953\"],[0.7777777777777778,\"#fb9f3a\"],[0.8888888888888888,\"#fdca26\"],[1.0,\"#f0f921\"]],\"type\":\"histogram2dcontour\"}],\"mesh3d\":[{\"colorbar\":{\"outlinewidth\":0,\"ticks\":\"\"},\"type\":\"mesh3d\"}],\"parcoords\":[{\"line\":{\"colorbar\":{\"outlinewidth\":0,\"ticks\":\"\"}},\"type\":\"parcoords\"}],\"pie\":[{\"automargin\":true,\"type\":\"pie\"}],\"scatter\":[{\"marker\":{\"colorbar\":{\"outlinewidth\":0,\"ticks\":\"\"}},\"type\":\"scatter\"}],\"scatter3d\":[{\"line\":{\"colorbar\":{\"outlinewidth\":0,\"ticks\":\"\"}},\"marker\":{\"colorbar\":{\"outlinewidth\":0,\"ticks\":\"\"}},\"type\":\"scatter3d\"}],\"scattercarpet\":[{\"marker\":{\"colorbar\":{\"outlinewidth\":0,\"ticks\":\"\"}},\"type\":\"scattercarpet\"}],\"scattergeo\":[{\"marker\":{\"colorbar\":{\"outlinewidth\":0,\"ticks\":\"\"}},\"type\":\"scattergeo\"}],\"scattergl\":[{\"marker\":{\"colorbar\":{\"outlinewidth\":0,\"ticks\":\"\"}},\"type\":\"scattergl\"}],\"scattermapbox\":[{\"marker\":{\"colorbar\":{\"outlinewidth\":0,\"ticks\":\"\"}},\"type\":\"scattermapbox\"}],\"scatterpolar\":[{\"marker\":{\"colorbar\":{\"outlinewidth\":0,\"ticks\":\"\"}},\"type\":\"scatterpolar\"}],\"scatterpolargl\":[{\"marker\":{\"colorbar\":{\"outlinewidth\":0,\"ticks\":\"\"}},\"type\":\"scatterpolargl\"}],\"scatterternary\":[{\"marker\":{\"colorbar\":{\"outlinewidth\":0,\"ticks\":\"\"}},\"type\":\"scatterternary\"}],\"surface\":[{\"colorbar\":{\"outlinewidth\":0,\"ticks\":\"\"},\"colorscale\":[[0.0,\"#0d0887\"],[0.1111111111111111,\"#46039f\"],[0.2222222222222222,\"#7201a8\"],[0.3333333333333333,\"#9c179e\"],[0.4444444444444444,\"#bd3786\"],[0.5555555555555556,\"#d8576b\"],[0.6666666666666666,\"#ed7953\"],[0.7777777777777778,\"#fb9f3a\"],[0.8888888888888888,\"#fdca26\"],[1.0,\"#f0f921\"]],\"type\":\"surface\"}],\"table\":[{\"cells\":{\"fill\":{\"color\":\"#EBF0F8\"},\"line\":{\"color\":\"white\"}},\"header\":{\"fill\":{\"color\":\"#C8D4E3\"},\"line\":{\"color\":\"white\"}},\"type\":\"table\"}]},\"layout\":{\"annotationdefaults\":{\"arrowcolor\":\"#2a3f5f\",\"arrowhead\":0,\"arrowwidth\":1},\"autotypenumbers\":\"strict\",\"coloraxis\":{\"colorbar\":{\"outlinewidth\":0,\"ticks\":\"\"}},\"colorscale\":{\"diverging\":[[0,\"#8e0152\"],[0.1,\"#c51b7d\"],[0.2,\"#de77ae\"],[0.3,\"#f1b6da\"],[0.4,\"#fde0ef\"],[0.5,\"#f7f7f7\"],[0.6,\"#e6f5d0\"],[0.7,\"#b8e186\"],[0.8,\"#7fbc41\"],[0.9,\"#4d9221\"],[1,\"#276419\"]],\"sequential\":[[0.0,\"#0d0887\"],[0.1111111111111111,\"#46039f\"],[0.2222222222222222,\"#7201a8\"],[0.3333333333333333,\"#9c179e\"],[0.4444444444444444,\"#bd3786\"],[0.5555555555555556,\"#d8576b\"],[0.6666666666666666,\"#ed7953\"],[0.7777777777777778,\"#fb9f3a\"],[0.8888888888888888,\"#fdca26\"],[1.0,\"#f0f921\"]],\"sequentialminus\":[[0.0,\"#0d0887\"],[0.1111111111111111,\"#46039f\"],[0.2222222222222222,\"#7201a8\"],[0.3333333333333333,\"#9c179e\"],[0.4444444444444444,\"#bd3786\"],[0.5555555555555556,\"#d8576b\"],[0.6666666666666666,\"#ed7953\"],[0.7777777777777778,\"#fb9f3a\"],[0.8888888888888888,\"#fdca26\"],[1.0,\"#f0f921\"]]},\"colorway\":[\"#636efa\",\"#EF553B\",\"#00cc96\",\"#ab63fa\",\"#FFA15A\",\"#19d3f3\",\"#FF6692\",\"#B6E880\",\"#FF97FF\",\"#FECB52\"],\"font\":{\"color\":\"#2a3f5f\"},\"geo\":{\"bgcolor\":\"white\",\"lakecolor\":\"white\",\"landcolor\":\"#E5ECF6\",\"showlakes\":true,\"showland\":true,\"subunitcolor\":\"white\"},\"hoverlabel\":{\"align\":\"left\"},\"hovermode\":\"closest\",\"mapbox\":{\"style\":\"light\"},\"paper_bgcolor\":\"white\",\"plot_bgcolor\":\"#E5ECF6\",\"polar\":{\"angularaxis\":{\"gridcolor\":\"white\",\"linecolor\":\"white\",\"ticks\":\"\"},\"bgcolor\":\"#E5ECF6\",\"radialaxis\":{\"gridcolor\":\"white\",\"linecolor\":\"white\",\"ticks\":\"\"}},\"scene\":{\"xaxis\":{\"backgroundcolor\":\"#E5ECF6\",\"gridcolor\":\"white\",\"gridwidth\":2,\"linecolor\":\"white\",\"showbackground\":true,\"ticks\":\"\",\"zerolinecolor\":\"white\"},\"yaxis\":{\"backgroundcolor\":\"#E5ECF6\",\"gridcolor\":\"white\",\"gridwidth\":2,\"linecolor\":\"white\",\"showbackground\":true,\"ticks\":\"\",\"zerolinecolor\":\"white\"},\"zaxis\":{\"backgroundcolor\":\"#E5ECF6\",\"gridcolor\":\"white\",\"gridwidth\":2,\"linecolor\":\"white\",\"showbackground\":true,\"ticks\":\"\",\"zerolinecolor\":\"white\"}},\"shapedefaults\":{\"line\":{\"color\":\"#2a3f5f\"}},\"ternary\":{\"aaxis\":{\"gridcolor\":\"white\",\"linecolor\":\"white\",\"ticks\":\"\"},\"baxis\":{\"gridcolor\":\"white\",\"linecolor\":\"white\",\"ticks\":\"\"},\"bgcolor\":\"#E5ECF6\",\"caxis\":{\"gridcolor\":\"white\",\"linecolor\":\"white\",\"ticks\":\"\"}},\"title\":{\"x\":0.05},\"xaxis\":{\"automargin\":true,\"gridcolor\":\"white\",\"linecolor\":\"white\",\"ticks\":\"\",\"title\":{\"standoff\":15},\"zerolinecolor\":\"white\",\"zerolinewidth\":2},\"yaxis\":{\"automargin\":true,\"gridcolor\":\"white\",\"linecolor\":\"white\",\"ticks\":\"\",\"title\":{\"standoff\":15},\"zerolinecolor\":\"white\",\"zerolinewidth\":2}}},\"xaxis\":{\"anchor\":\"y\",\"domain\":[0.0,1.0],\"title\":{\"text\":\"Epochs\"}},\"yaxis\":{\"anchor\":\"x\",\"domain\":[0.0,1.0],\"title\":{\"text\":\"Accuracy\"}},\"legend\":{\"title\":{\"text\":\"Runs (Asc)\"},\"tracegroupgap\":0},\"title\":{\"text\":\"Accuracy Vs Epochs\"}},                        {\"responsive\": true}                    ).then(function(){\n",
              "                            \n",
              "var gd = document.getElementById('a08eefcd-4259-413a-990d-164082ed51eb');\n",
              "var x = new MutationObserver(function (mutations, observer) {{\n",
              "        var display = window.getComputedStyle(gd).display;\n",
              "        if (!display || display === 'none') {{\n",
              "            console.log([gd, 'removed!']);\n",
              "            Plotly.purge(gd);\n",
              "            observer.disconnect();\n",
              "        }}\n",
              "}});\n",
              "\n",
              "// Listen for the removal of the full notebook cells\n",
              "var notebookContainer = gd.closest('#notebook-container');\n",
              "if (notebookContainer) {{\n",
              "    x.observe(notebookContainer, {childList: true});\n",
              "}}\n",
              "\n",
              "// Listen for the clearing of the current output cell\n",
              "var outputEl = gd.closest('.output');\n",
              "if (outputEl) {{\n",
              "    x.observe(outputEl, {childList: true});\n",
              "}}\n",
              "\n",
              "                        })                };                            </script>        </div>\n",
              "</body>\n",
              "</html>"
            ]
          },
          "metadata": {}
        }
      ]
    },
    {
      "cell_type": "code",
      "metadata": {
        "colab": {
          "base_uri": "https://localhost:8080/",
          "height": 502
        },
        "id": "be82ea73",
        "scrolled": false,
        "outputId": "50968155-f9f5-4117-822d-23f749c8f4b4"
      },
      "source": [
        "# Closer view of Run A\n",
        "view_accuracyEpoch(ten_nets[0][1]['acc_epoch_list'])"
      ],
      "id": "be82ea73",
      "execution_count": null,
      "outputs": [
        {
          "output_type": "display_data",
          "data": {
            "image/png": "[encoded data removed]",
            "text/plain": [
              "<Figure size 1080x576 with 1 Axes>"
            ]
          },
          "metadata": {}
        }
      ]
    },
    {
      "cell_type": "code",
      "metadata": {
        "id": "8a763620"
      },
      "source": [
        "# compares a specifed sample number for randomly selected number of hidden layers within a defined range\n",
        "def compareLayers(nn, X, Y, lower, upper):\n",
        "    test_values = range(lower, upper) \n",
        "    results = {}\n",
        "    \n",
        "    for nl in test_values: \n",
        "        activations = list(map(lambda x: 'relu', range(nl)))\n",
        "        activations.append('sigmoid')\n",
        "        \n",
        "        layers = list(map(lambda x: 10, range(nl)))\n",
        "        layers.append(nn.layer_sizes[len(nn.layer_sizes) - 1])\n",
        "        layers.insert(0, nn.layer_sizes[0])\n",
        "\n",
        "        new_net = NeuralNetwork(layers, activations)\n",
        "        ten_nets = run_ten(new_net, X_train, Y_train, 300, 100, 25, \"distance\", 0.75)\n",
        "        \n",
        "        results[nl] = [get_metrics(ten_nets), ten_nets]\n",
        "        \n",
        "        \n",
        "        print('progress', f'{nl}/{len(test_values)}')\n",
        "    # results are sorted descending based on mean accuracy   \n",
        "    sorted_by_mean = dict(sorted(results.items(), key=lambda item: item[1][0]))\n",
        "    for key, value in sorted_by_mean.items():\n",
        "        print('ly', key, ' : ', 'mean accuracy',round(value[0][0], 4), f' std dev ({round(value[0][1], 4)})')        \n",
        "\n",
        "    return sorted_by_mean"
      ],
      "id": "8a763620",
      "execution_count": null,
      "outputs": []
    },
    {
      "cell_type": "markdown",
      "metadata": {
        "id": "ld1dXBl71u5S"
      },
      "source": [
        "##### Compare Activation Functions"
      ],
      "id": "ld1dXBl71u5S"
    },
    {
      "cell_type": "code",
      "metadata": {
        "id": "78Q5XhGJ2DkF"
      },
      "source": [
        "def compareActivations(nn, X, Y, ntests):\n",
        "  best_activations_observed = []\n",
        "\n",
        "  print(\"Progress:\")\n",
        "  # training using random activations\n",
        "  for i in range(ntests):\n",
        "    # run ten times, choose the best activation. Repeat ntests times. Choose best from them.\n",
        "\n",
        "    ## REDUCING PARAMS HERE FOR TESTING PURPOSES. 300->10, 100->10\n",
        "    ## Reduce those two params if you want to test this function quickly\n",
        "    ten_nets = run_ten(nn, X_train, Y_train, 300, 100, 25, \"distance\", 0.75, randomActivations=True)\n",
        "    # store best activation from each run\n",
        "    acts = [ten_nets[i][0].activations for i in range(len(ten_nets))]\n",
        "\n",
        "    # unsorted dic with best activation observed in each run with their total count\n",
        "    act_dictionary = {}\n",
        "    for element in acts:\n",
        "      act_dictionary[tuple(element)] = acts.count(element)\n",
        "    \n",
        "    #same dic but sorted by count\n",
        "    sorted_acts = sorted(act_dictionary.items(), key=lambda item: item[1], reverse=True)\n",
        "    \n",
        "    # most recurring best activation.\n",
        "    # If no combination of activations occurs more than once, the first one is chosen.\n",
        "    \n",
        "    best_act = sorted_acts[0][0]\n",
        "    best_activations_observed.append(best_act)\n",
        "    print(f\"{i+1}/{ntests}\")\n",
        "  \n",
        "  best_acts = {}\n",
        "  for element in best_activations_observed:\n",
        "    best_acts[element] = best_activations_observed.count(element)\n",
        "  \n",
        "  #same dic but sorted by count\n",
        "  sorted_best_acts = sorted(best_acts.items(), key=lambda item: item[1], reverse=True)\n",
        "  #print(sorted_best_acts)\n",
        "  # most recurring best activation \n",
        "  \n",
        "  best_act = list(sorted_best_acts[0][0])\n",
        "  print(f\"Best activation function found: {best_act}.\")\n",
        "  \n",
        "  return best_act\n",
        "\n"
      ],
      "id": "78Q5XhGJ2DkF",
      "execution_count": null,
      "outputs": []
    },
    {
      "cell_type": "code",
      "metadata": {
        "id": "drSs0RbACQd3"
      },
      "source": [
        "best_act = compareActivations(NeuralNetwork([4,10,10,10,2], ['relu','relu','relu','sigmoid']), X_train, Y_train, 10)"
      ],
      "id": "drSs0RbACQd3",
      "execution_count": null,
      "outputs": []
    },
    {
      "cell_type": "code",
      "metadata": {
        "colab": {
          "base_uri": "https://localhost:8080/"
        },
        "id": "WzqvbV7cAP21",
        "outputId": "1b8f67c4-d8aa-483f-98f9-f1d9d834c9fc"
      },
      "source": [
        "# This value of best activations come from a previous run which were serialized.\n",
        "best_act"
      ],
      "id": "WzqvbV7cAP21",
      "execution_count": null,
      "outputs": [
        {
          "output_type": "execute_result",
          "data": {
            "text/plain": [
              "['relu', 'relu', 'sigmoid', 'tanh']"
            ]
          },
          "metadata": {},
          "execution_count": 49
        }
      ]
    },
    {
      "cell_type": "code",
      "metadata": {
        "id": "UAqOeRIokiTJ"
      },
      "source": [
        "#dill.dump_session(\"./activations.db\")"
      ],
      "id": "UAqOeRIokiTJ",
      "execution_count": null,
      "outputs": []
    },
    {
      "cell_type": "markdown",
      "metadata": {
        "id": "4mR4AKJU-Miz"
      },
      "source": [
        "##### Compare Number of Particles"
      ],
      "id": "4mR4AKJU-Miz"
    },
    {
      "cell_type": "code",
      "metadata": {
        "id": "ae0bf95c"
      },
      "source": [
        "# compares a specifed sample number for randomly selected number of particles within a defined range\n",
        "def compareParticles(nn, X, Y, lower, upper, n_tests):\n",
        "    test_values = list(map(lambda x: random.randint(lower, upper), range(n_tests))) \n",
        "    results = {}\n",
        "\n",
        "    i = 1\n",
        "    for pt in test_values: \n",
        "        ten_nets = run_ten(nn, X_train, Y_train, pt, 300, 5, \"distance\", 0.8)\n",
        "        results[pt] = [get_metrics(ten_nets), ten_nets]\n",
        "        print('progress', f'{i}/{len(test_values)}')\n",
        "        i+=1\n",
        "            \n",
        "    # results are sorted descending based on mean accuracy   \n",
        "    sorted_by_mean = dict(sorted(results.items(), key=lambda item: item[1][0]))\n",
        "    for key, value in sorted_by_mean.items():\n",
        "        print('pt', key, ' : ', 'mean accuracy',round(value[0][0], 4), f' std dev ({round(value[0][1], 4)})')        \n",
        "\n",
        "    return sorted_by_mean"
      ],
      "id": "ae0bf95c",
      "execution_count": null,
      "outputs": []
    },
    {
      "cell_type": "code",
      "metadata": {
        "colab": {
          "base_uri": "https://localhost:8080/"
        },
        "id": "068ad35a",
        "scrolled": true,
        "outputId": "03358d23-df2e-47e9-e1b5-d808575099bd"
      },
      "source": [
        "comparedParticles = compareParticles(NeuralNetwork([4,10,10,10,2], ['relu','relu','relu','sigmoid']), X_train, Y_train, 10, 100, 10)"
      ],
      "id": "068ad35a",
      "execution_count": null,
      "outputs": [
        {
          "output_type": "stream",
          "name": "stdout",
          "text": [
            "progress 1/10\n",
            "progress 2/10\n",
            "progress 3/10\n",
            "progress 4/10\n",
            "progress 5/10\n",
            "progress 6/10\n",
            "progress 7/10\n",
            "progress 8/10\n",
            "progress 9/10\n",
            "progress 10/10\n",
            "pt 13  :  mean accuracy 0.9752  std dev (0.0463)\n",
            "pt 29  :  mean accuracy 0.9968  std dev (0.0045)\n",
            "pt 41  :  mean accuracy 0.9975  std dev (0.0021)\n",
            "pt 97  :  mean accuracy 0.9991  std dev (0.0022)\n",
            "pt 78  :  mean accuracy 0.9994  std dev (0.0013)\n",
            "pt 71  :  mean accuracy 0.9998  std dev (0.0004)\n",
            "pt 74  :  mean accuracy 0.9998  std dev (0.0006)\n",
            "pt 77  :  mean accuracy 0.9999  std dev (0.0003)\n",
            "pt 64  :  mean accuracy 1.0  std dev (0.0)\n"
          ]
        }
      ]
    },
    {
      "cell_type": "code",
      "metadata": {
        "id": "2134f365",
        "scrolled": true,
        "colab": {
          "base_uri": "https://localhost:8080/",
          "height": 559
        },
        "outputId": "33c66d1a-54d6-4dea-eb15-5dc3fb23a319"
      },
      "source": [
        "# 10 runs from the highest accuracy found from number of particles search\n",
        "key1_p = list(comparedParticles.keys())[9]\n",
        "view_accuracyEpochAll(comparedParticles[key1_p][1])"
      ],
      "id": "2134f365",
      "execution_count": null,
      "outputs": [
        {
          "output_type": "stream",
          "name": "stdout",
          "text": [
            "(300, 10)\n"
          ]
        },
        {
          "output_type": "display_data",
          "data": {
            "text/html": [
              "<html>\n",
              "<head><meta charset=\"utf-8\" /></head>\n",
              "<body>\n",
              "    <div>            <script src=\"https://cdnjs.cloudflare.com/ajax/libs/mathjax/2.7.5/MathJax.js?config=TeX-AMS-MML_SVG\"></script><script type=\"text/javascript\">if (window.MathJax) {MathJax.Hub.Config({SVG: {font: \"STIX-Web\"}});}</script>                <script type=\"text/javascript\">window.PlotlyConfig = {MathJaxConfig: 'local'};</script>\n",
              "        <script src=\"https://cdn.plot.ly/plotly-2.6.3.min.js\"></script>                <div id=\"e3da8f45-bdb2-423f-97d3-04aca9e0e88a\" class=\"plotly-graph-div\" style=\"height:525px; width:100%;\"></div>            <script type=\"text/javascript\">                                    window.PLOTLYENV=window.PLOTLYENV || {};                                    if (document.getElementById(\"e3da8f45-bdb2-423f-97d3-04aca9e0e88a\")) {                    Plotly.newPlot(                        \"e3da8f45-bdb2-423f-97d3-04aca9e0e88a\",                        [{\"hovertemplate\":\"variable=A<br>index=%{x}<br>value=%{y}<extra></extra>\",\"legendgroup\":\"A\",\"line\":{\"color\":\"#636efa\",\"dash\":\"solid\"},\"marker\":{\"symbol\":\"circle\"},\"mode\":\"lines\",\"name\":\"A\",\"showlegend\":true,\"x\":[0,1,2,3,4,5,6,7,8,9,10,11,12,13,14,15,16,17,18,19,20,21,22,23,24,25,26,27,28,29,30,31,32,33,34,35,36,37,38,39,40,41,42,43,44,45,46,47,48,49,50,51,52,53,54,55,56,57,58,59,60,61,62,63,64,65,66,67,68,69,70,71,72,73,74,75,76,77,78,79,80,81,82,83,84,85,86,87,88,89,90,91,92,93,94,95,96,97,98,99,100,101,102,103,104,105,106,107,108,109,110,111,112,113,114,115,116,117,118,119,120,121,122,123,124,125,126,127,128,129,130,131,132,133,134,135,136,137,138,139,140,141,142,143,144,145,146,147,148,149,150,151,152,153,154,155,156,157,158,159,160,161,162,163,164,165,166,167,168,169,170,171,172,173,174,175,176,177,178,179,180,181,182,183,184,185,186,187,188,189,190,191,192,193,194,195,196,197,198,199,200,201,202,203,204,205,206,207,208,209,210,211,212,213,214,215,216,217,218,219,220,221,222,223,224,225,226,227,228,229,230,231,232,233,234,235,236,237,238,239,240,241,242,243,244,245,246,247,248,249,250,251,252,253,254,255,256,257,258,259,260,261,262,263,264,265,266,267,268,269,270,271,272,273,274,275,276,277,278,279,280,281,282,283,284,285,286,287,288,289,290,291,292,293,294,295,296,297,298,299],\"xaxis\":\"x\",\"y\":[0.6208333333333333,0.653125,0.6354166666666666,0.6625,0.6447916666666667,0.6583333333333333,0.7510416666666667,0.684375,0.7979166666666667,0.9135416666666667,0.875,0.921875,0.9197916666666667,0.790625,0.8739583333333333,0.84375,0.9479166666666666,0.9114583333333334,0.8520833333333333,0.915625,0.9291666666666667,0.9322916666666666,0.9458333333333333,0.965625,0.9458333333333333,0.953125,0.9666666666666667,0.975,0.975,0.9822916666666667,0.9895833333333334,0.9541666666666667,0.928125,0.9645833333333333,0.928125,0.9479166666666666,0.95625,0.9166666666666666,0.9208333333333333,0.9583333333333334,0.9427083333333334,0.9770833333333333,0.984375,0.9927083333333333,0.9895833333333334,0.9822916666666667,0.9895833333333334,0.990625,0.990625,0.9958333333333333,0.9958333333333333,0.9947916666666666,0.9895833333333334,0.9791666666666666,0.9822916666666667,0.9958333333333333,0.9916666666666667,0.9947916666666666,1.0,1.0,1.0,1.0,1.0,0.9989583333333333,0.9989583333333333,0.9989583333333333,1.0,1.0,1.0,1.0,1.0,1.0,0.996875,1.0,1.0,1.0,0.9989583333333333,0.9979166666666667,1.0,1.0,1.0,1.0,1.0,1.0,1.0,1.0,1.0,1.0,1.0,1.0,1.0,1.0,1.0,1.0,0.9989583333333333,0.9989583333333333,0.9989583333333333,1.0,1.0,1.0,1.0,1.0,1.0,1.0,1.0,1.0,1.0,1.0,1.0,1.0,1.0,1.0,1.0,1.0,1.0,1.0,1.0,1.0,1.0,1.0,1.0,1.0,1.0,1.0,1.0,1.0,1.0,1.0,1.0,1.0,1.0,1.0,1.0,1.0,1.0,1.0,1.0,1.0,1.0,1.0,1.0,1.0,1.0,1.0,1.0,1.0,1.0,1.0,1.0,1.0,1.0,1.0,1.0,1.0,1.0,1.0,1.0,1.0,1.0,1.0,1.0,1.0,1.0,1.0,1.0,1.0,1.0,1.0,1.0,1.0,1.0,1.0,1.0,1.0,1.0,1.0,1.0,1.0,1.0,1.0,1.0,1.0,1.0,1.0,1.0,1.0,1.0,1.0,1.0,1.0,1.0,1.0,1.0,1.0,1.0,1.0,1.0,1.0,1.0,1.0,1.0,1.0,1.0,1.0,1.0,1.0,1.0,1.0,1.0,1.0,1.0,1.0,1.0,1.0,1.0,1.0,1.0,1.0,1.0,1.0,1.0,1.0,1.0,1.0,1.0,1.0,1.0,1.0,1.0,1.0,1.0,1.0,1.0,1.0,1.0,1.0,1.0,1.0,1.0,1.0,1.0,1.0,1.0,1.0,1.0,1.0,1.0,1.0,1.0,1.0,1.0,1.0,1.0,1.0,1.0,1.0,1.0,1.0,1.0,1.0,1.0,1.0,1.0,1.0,1.0,1.0,1.0,1.0,1.0,1.0,1.0,1.0,1.0,1.0,1.0,1.0,1.0,1.0,1.0,1.0,1.0,1.0,1.0,1.0,1.0,1.0,1.0,1.0,1.0,1.0,1.0,1.0,1.0,1.0,1.0,1.0,1.0,1.0,1.0,1.0],\"yaxis\":\"y\",\"type\":\"scattergl\"},{\"hovertemplate\":\"variable=B<br>index=%{x}<br>value=%{y}<extra></extra>\",\"legendgroup\":\"B\",\"line\":{\"color\":\"#EF553B\",\"dash\":\"solid\"},\"marker\":{\"symbol\":\"circle\"},\"mode\":\"lines\",\"name\":\"B\",\"showlegend\":true,\"x\":[0,1,2,3,4,5,6,7,8,9,10,11,12,13,14,15,16,17,18,19,20,21,22,23,24,25,26,27,28,29,30,31,32,33,34,35,36,37,38,39,40,41,42,43,44,45,46,47,48,49,50,51,52,53,54,55,56,57,58,59,60,61,62,63,64,65,66,67,68,69,70,71,72,73,74,75,76,77,78,79,80,81,82,83,84,85,86,87,88,89,90,91,92,93,94,95,96,97,98,99,100,101,102,103,104,105,106,107,108,109,110,111,112,113,114,115,116,117,118,119,120,121,122,123,124,125,126,127,128,129,130,131,132,133,134,135,136,137,138,139,140,141,142,143,144,145,146,147,148,149,150,151,152,153,154,155,156,157,158,159,160,161,162,163,164,165,166,167,168,169,170,171,172,173,174,175,176,177,178,179,180,181,182,183,184,185,186,187,188,189,190,191,192,193,194,195,196,197,198,199,200,201,202,203,204,205,206,207,208,209,210,211,212,213,214,215,216,217,218,219,220,221,222,223,224,225,226,227,228,229,230,231,232,233,234,235,236,237,238,239,240,241,242,243,244,245,246,247,248,249,250,251,252,253,254,255,256,257,258,259,260,261,262,263,264,265,266,267,268,269,270,271,272,273,274,275,276,277,278,279,280,281,282,283,284,285,286,287,288,289,290,291,292,293,294,295,296,297,298,299],\"xaxis\":\"x\",\"y\":[0.565625,0.7479166666666667,0.5458333333333333,0.6322916666666667,0.7427083333333333,0.821875,0.8270833333333333,0.8229166666666666,0.7864583333333334,0.8916666666666667,0.85625,0.8333333333333334,0.8208333333333333,0.8291666666666667,0.8552083333333333,0.9041666666666667,0.9229166666666667,0.8708333333333333,0.84375,0.846875,0.9583333333333334,0.8979166666666667,0.8416666666666667,0.9010416666666666,0.9114583333333334,0.9010416666666666,0.9270833333333334,0.8822916666666667,0.8229166666666666,0.9020833333333333,0.9677083333333333,0.915625,0.8708333333333333,0.9354166666666667,0.9510416666666667,0.9395833333333333,0.9145833333333333,0.9635416666666666,0.96875,0.9802083333333333,0.9697916666666667,0.9666666666666667,0.95,0.971875,0.984375,0.984375,0.9833333333333333,0.984375,0.9875,0.9864583333333333,0.9822916666666667,0.9791666666666666,0.9822916666666667,0.9854166666666667,0.9875,0.98125,0.9833333333333333,0.9697916666666667,0.9833333333333333,0.98125,0.978125,0.978125,0.9760416666666667,0.9864583333333333,0.9822916666666667,0.9885416666666667,0.9895833333333334,0.9864583333333333,0.990625,0.9916666666666667,0.9916666666666667,0.9885416666666667,0.9885416666666667,0.984375,0.9895833333333334,0.9895833333333334,0.9916666666666667,0.9927083333333333,0.9927083333333333,0.9916666666666667,0.990625,0.9916666666666667,0.9916666666666667,0.9916666666666667,0.9916666666666667,0.9916666666666667,0.9927083333333333,0.9927083333333333,0.990625,0.9927083333333333,0.9927083333333333,0.9947916666666666,0.9947916666666666,0.9947916666666666,0.9947916666666666,0.9947916666666666,0.9947916666666666,0.99375,0.9958333333333333,0.9958333333333333,0.996875,0.9979166666666667,0.9979166666666667,0.996875,0.9989583333333333,0.9989583333333333,0.9989583333333333,0.9989583333333333,0.996875,0.9989583333333333,0.9989583333333333,0.9989583333333333,0.9989583333333333,0.9989583333333333,0.9989583333333333,0.9989583333333333,0.9979166666666667,0.9979166666666667,0.9979166666666667,0.9979166666666667,0.9989583333333333,0.9989583333333333,0.9989583333333333,0.9989583333333333,0.9989583333333333,0.9989583333333333,0.9989583333333333,0.9989583333333333,0.9989583333333333,0.9989583333333333,0.9989583333333333,0.9989583333333333,0.9989583333333333,0.9989583333333333,0.9989583333333333,0.9989583333333333,0.9989583333333333,0.9989583333333333,0.9989583333333333,0.9989583333333333,0.9989583333333333,0.9989583333333333,0.9989583333333333,0.9989583333333333,0.9989583333333333,0.9989583333333333,0.9989583333333333,0.9989583333333333,0.9989583333333333,0.9989583333333333,0.9989583333333333,0.9989583333333333,0.9989583333333333,0.9989583333333333,0.9989583333333333,0.9989583333333333,0.9989583333333333,0.9989583333333333,0.9989583333333333,0.9989583333333333,0.9989583333333333,0.9989583333333333,0.9989583333333333,0.9989583333333333,0.9989583333333333,0.9989583333333333,0.9989583333333333,0.9989583333333333,0.9989583333333333,0.9989583333333333,0.9989583333333333,0.9989583333333333,0.9989583333333333,0.9989583333333333,0.9989583333333333,0.9989583333333333,0.9989583333333333,0.9989583333333333,0.9989583333333333,0.9989583333333333,0.9989583333333333,0.9989583333333333,0.9989583333333333,0.9989583333333333,0.9989583333333333,0.9989583333333333,0.9989583333333333,0.9989583333333333,0.9989583333333333,0.9989583333333333,0.9989583333333333,0.9989583333333333,0.9989583333333333,0.9989583333333333,0.9989583333333333,0.9989583333333333,0.9989583333333333,0.9989583333333333,0.9989583333333333,0.9989583333333333,0.9989583333333333,0.9989583333333333,0.9989583333333333,0.9989583333333333,0.9989583333333333,0.9989583333333333,0.9989583333333333,0.9989583333333333,0.9989583333333333,0.9989583333333333,0.9989583333333333,0.9989583333333333,0.9989583333333333,0.9989583333333333,0.9989583333333333,0.9989583333333333,0.9989583333333333,0.9989583333333333,0.9989583333333333,0.9989583333333333,0.9989583333333333,0.9989583333333333,0.9989583333333333,0.9989583333333333,0.9989583333333333,0.9989583333333333,0.9989583333333333,0.9989583333333333,0.9989583333333333,0.9989583333333333,0.9989583333333333,0.9989583333333333,0.9989583333333333,0.9989583333333333,0.9989583333333333,0.9989583333333333,0.9989583333333333,0.9989583333333333,0.9989583333333333,0.9989583333333333,0.9989583333333333,0.9989583333333333,0.9989583333333333,0.9989583333333333,0.9989583333333333,0.9989583333333333,0.9989583333333333,0.9989583333333333,0.9989583333333333,0.9989583333333333,0.9989583333333333,0.9989583333333333,0.9989583333333333,0.9989583333333333,0.9989583333333333,0.9989583333333333,0.9989583333333333,0.9989583333333333,0.9989583333333333,0.9989583333333333,0.9989583333333333,0.9989583333333333,0.9989583333333333,0.9989583333333333,0.9989583333333333,0.9989583333333333,0.9989583333333333,0.9989583333333333,0.9989583333333333,0.9989583333333333,0.9989583333333333,0.9989583333333333,0.9989583333333333,0.9989583333333333,0.9989583333333333,0.9989583333333333,0.9989583333333333,0.9989583333333333,0.9989583333333333,0.9989583333333333,0.9989583333333333,0.9989583333333333,0.9989583333333333,0.9989583333333333,0.9989583333333333,0.9989583333333333,0.9989583333333333,0.9989583333333333,0.9989583333333333,0.9989583333333333,0.9989583333333333,0.9989583333333333,0.9989583333333333,0.9989583333333333,0.9989583333333333,0.9989583333333333,0.9989583333333333,0.9989583333333333,0.9989583333333333,0.9989583333333333],\"yaxis\":\"y\",\"type\":\"scattergl\"},{\"hovertemplate\":\"variable=C<br>index=%{x}<br>value=%{y}<extra></extra>\",\"legendgroup\":\"C\",\"line\":{\"color\":\"#00cc96\",\"dash\":\"solid\"},\"marker\":{\"symbol\":\"circle\"},\"mode\":\"lines\",\"name\":\"C\",\"showlegend\":true,\"x\":[0,1,2,3,4,5,6,7,8,9,10,11,12,13,14,15,16,17,18,19,20,21,22,23,24,25,26,27,28,29,30,31,32,33,34,35,36,37,38,39,40,41,42,43,44,45,46,47,48,49,50,51,52,53,54,55,56,57,58,59,60,61,62,63,64,65,66,67,68,69,70,71,72,73,74,75,76,77,78,79,80,81,82,83,84,85,86,87,88,89,90,91,92,93,94,95,96,97,98,99,100,101,102,103,104,105,106,107,108,109,110,111,112,113,114,115,116,117,118,119,120,121,122,123,124,125,126,127,128,129,130,131,132,133,134,135,136,137,138,139,140,141,142,143,144,145,146,147,148,149,150,151,152,153,154,155,156,157,158,159,160,161,162,163,164,165,166,167,168,169,170,171,172,173,174,175,176,177,178,179,180,181,182,183,184,185,186,187,188,189,190,191,192,193,194,195,196,197,198,199,200,201,202,203,204,205,206,207,208,209,210,211,212,213,214,215,216,217,218,219,220,221,222,223,224,225,226,227,228,229,230,231,232,233,234,235,236,237,238,239,240,241,242,243,244,245,246,247,248,249,250,251,252,253,254,255,256,257,258,259,260,261,262,263,264,265,266,267,268,269,270,271,272,273,274,275,276,277,278,279,280,281,282,283,284,285,286,287,288,289,290,291,292,293,294,295,296,297,298,299],\"xaxis\":\"x\",\"y\":[0.6697916666666667,0.728125,0.746875,0.5854166666666667,0.6322916666666667,0.5958333333333333,0.565625,0.5885416666666666,0.75625,0.7916666666666666,0.8125,0.646875,0.6625,0.7697916666666667,0.796875,0.7989583333333333,0.8114583333333333,0.7354166666666667,0.8010416666666667,0.803125,0.7854166666666667,0.78125,0.821875,0.8041666666666667,0.8,0.7625,0.8364583333333333,0.8958333333333334,0.8427083333333333,0.8833333333333333,0.890625,0.8875,0.8739583333333333,0.8708333333333333,0.9125,0.8895833333333333,0.9104166666666667,0.94375,0.9489583333333333,0.9270833333333334,0.89375,0.9541666666666667,0.9760416666666667,0.9364583333333333,0.95625,0.9697916666666667,0.946875,0.9447916666666667,0.953125,0.9729166666666667,0.9697916666666667,0.9739583333333334,0.9583333333333334,0.98125,0.96875,0.9729166666666667,0.9645833333333333,0.9479166666666666,0.9666666666666667,0.9802083333333333,0.9833333333333333,0.9822916666666667,0.9854166666666667,0.98125,0.9864583333333333,0.9802083333333333,0.9802083333333333,0.984375,0.9864583333333333,0.984375,0.9875,0.9885416666666667,0.9864583333333333,0.9895833333333334,0.9875,0.9895833333333334,0.9916666666666667,0.9927083333333333,0.9916666666666667,0.990625,0.990625,0.990625,0.990625,0.9927083333333333,0.9958333333333333,0.9947916666666666,0.99375,0.996875,0.996875,0.9958333333333333,0.996875,0.996875,0.996875,0.996875,0.996875,0.996875,0.9958333333333333,0.9958333333333333,0.996875,0.9979166666666667,0.9979166666666667,0.9979166666666667,0.9979166666666667,0.9979166666666667,0.9979166666666667,0.9979166666666667,0.9979166666666667,0.9979166666666667,0.9979166666666667,0.9979166666666667,0.9979166666666667,0.9979166666666667,0.9979166666666667,0.9979166666666667,0.9979166666666667,0.9979166666666667,0.9979166666666667,0.9979166666666667,0.9979166666666667,0.9979166666666667,0.9979166666666667,0.9979166666666667,0.9979166666666667,0.9979166666666667,0.9979166666666667,0.9979166666666667,0.9979166666666667,0.9979166666666667,0.9979166666666667,0.9979166666666667,0.9979166666666667,0.9979166666666667,0.9979166666666667,0.9979166666666667,0.9979166666666667,0.9979166666666667,0.9979166666666667,0.9979166666666667,0.9979166666666667,0.9979166666666667,0.9979166666666667,0.9979166666666667,0.9979166666666667,0.9979166666666667,0.9979166666666667,0.9979166666666667,0.9979166666666667,0.9979166666666667,0.9979166666666667,0.9979166666666667,0.9979166666666667,0.9979166666666667,0.9979166666666667,0.9979166666666667,0.9979166666666667,0.9979166666666667,0.9979166666666667,0.9979166666666667,0.9979166666666667,0.9979166666666667,0.9979166666666667,0.9979166666666667,0.9979166666666667,0.9979166666666667,0.9979166666666667,0.9979166666666667,0.9979166666666667,0.9979166666666667,0.9979166666666667,0.9979166666666667,0.9979166666666667,0.9979166666666667,0.9979166666666667,0.9979166666666667,0.9979166666666667,0.9979166666666667,0.9979166666666667,0.9979166666666667,0.9979166666666667,0.9979166666666667,0.9979166666666667,0.9979166666666667,0.9979166666666667,0.9979166666666667,0.9979166666666667,0.9979166666666667,0.9979166666666667,0.9979166666666667,0.9979166666666667,0.9979166666666667,0.9979166666666667,0.9979166666666667,0.9979166666666667,0.9979166666666667,0.9979166666666667,0.9979166666666667,0.9979166666666667,0.9979166666666667,0.9979166666666667,0.9979166666666667,0.9979166666666667,0.9979166666666667,0.9979166666666667,0.9979166666666667,0.9979166666666667,0.9979166666666667,0.9979166666666667,0.9979166666666667,0.9979166666666667,0.9979166666666667,0.9979166666666667,0.9979166666666667,0.9979166666666667,0.9979166666666667,0.9979166666666667,0.9979166666666667,0.9979166666666667,0.9979166666666667,0.9979166666666667,0.9979166666666667,0.9979166666666667,0.9979166666666667,0.9979166666666667,0.9979166666666667,0.9979166666666667,0.9979166666666667,0.9979166666666667,0.9979166666666667,0.9979166666666667,0.9979166666666667,0.9979166666666667,0.9979166666666667,0.9979166666666667,0.9979166666666667,0.9979166666666667,0.9979166666666667,0.9979166666666667,0.9979166666666667,0.9979166666666667,0.9979166666666667,0.9979166666666667,0.9979166666666667,0.9979166666666667,0.9979166666666667,0.9979166666666667,0.9979166666666667,0.9979166666666667,0.9979166666666667,0.9979166666666667,0.9979166666666667,0.9979166666666667,0.9979166666666667,0.9979166666666667,0.9979166666666667,0.9979166666666667,0.9979166666666667,0.9979166666666667,0.9979166666666667,0.9979166666666667,0.9979166666666667,0.9979166666666667,0.9979166666666667,0.9979166666666667,0.9979166666666667,0.9979166666666667,0.9979166666666667,0.9979166666666667,0.9979166666666667,0.9979166666666667,0.9979166666666667,0.9979166666666667,0.9979166666666667,0.9979166666666667,0.9979166666666667,0.9979166666666667,0.9979166666666667,0.9979166666666667,0.9979166666666667,0.9979166666666667,0.9979166666666667,0.9979166666666667,0.9979166666666667,0.9979166666666667,0.9979166666666667,0.9979166666666667,0.9979166666666667,0.9979166666666667,0.9979166666666667,0.9979166666666667,0.9979166666666667,0.9979166666666667,0.9979166666666667,0.9979166666666667,0.9979166666666667,0.9979166666666667,0.9979166666666667,0.9979166666666667,0.9979166666666667,0.9979166666666667,0.9979166666666667],\"yaxis\":\"y\",\"type\":\"scattergl\"},{\"hovertemplate\":\"variable=D<br>index=%{x}<br>value=%{y}<extra></extra>\",\"legendgroup\":\"D\",\"line\":{\"color\":\"#ab63fa\",\"dash\":\"solid\"},\"marker\":{\"symbol\":\"circle\"},\"mode\":\"lines\",\"name\":\"D\",\"showlegend\":true,\"x\":[0,1,2,3,4,5,6,7,8,9,10,11,12,13,14,15,16,17,18,19,20,21,22,23,24,25,26,27,28,29,30,31,32,33,34,35,36,37,38,39,40,41,42,43,44,45,46,47,48,49,50,51,52,53,54,55,56,57,58,59,60,61,62,63,64,65,66,67,68,69,70,71,72,73,74,75,76,77,78,79,80,81,82,83,84,85,86,87,88,89,90,91,92,93,94,95,96,97,98,99,100,101,102,103,104,105,106,107,108,109,110,111,112,113,114,115,116,117,118,119,120,121,122,123,124,125,126,127,128,129,130,131,132,133,134,135,136,137,138,139,140,141,142,143,144,145,146,147,148,149,150,151,152,153,154,155,156,157,158,159,160,161,162,163,164,165,166,167,168,169,170,171,172,173,174,175,176,177,178,179,180,181,182,183,184,185,186,187,188,189,190,191,192,193,194,195,196,197,198,199,200,201,202,203,204,205,206,207,208,209,210,211,212,213,214,215,216,217,218,219,220,221,222,223,224,225,226,227,228,229,230,231,232,233,234,235,236,237,238,239,240,241,242,243,244,245,246,247,248,249,250,251,252,253,254,255,256,257,258,259,260,261,262,263,264,265,266,267,268,269,270,271,272,273,274,275,276,277,278,279,280,281,282,283,284,285,286,287,288,289,290,291,292,293,294,295,296,297,298,299],\"xaxis\":\"x\",\"y\":[0.565625,0.5885416666666666,0.628125,0.565625,0.5666666666666667,0.55625,0.6239583333333333,0.5510416666666667,0.725,0.703125,0.79375,0.803125,0.8427083333333333,0.7885416666666667,0.8989583333333333,0.81875,0.8260416666666667,0.8708333333333333,0.8552083333333333,0.8479166666666667,0.8822916666666667,0.8791666666666667,0.890625,0.8979166666666667,0.9114583333333334,0.9114583333333334,0.940625,0.8895833333333333,0.8739583333333333,0.8760416666666667,0.884375,0.9010416666666666,0.896875,0.8760416666666667,0.9302083333333333,0.9239583333333333,0.8895833333333333,0.9375,0.940625,0.95,0.9541666666666667,0.9583333333333334,0.9552083333333333,0.9541666666666667,0.9510416666666667,0.9552083333333333,0.9614583333333333,0.9729166666666667,0.9760416666666667,0.9791666666666666,0.9791666666666666,0.9708333333333333,0.978125,0.9854166666666667,0.984375,0.9864583333333333,0.9854166666666667,0.9885416666666667,0.9875,0.9885416666666667,0.9885416666666667,0.9885416666666667,0.9927083333333333,0.9885416666666667,0.9875,0.9916666666666667,0.990625,0.9895833333333334,0.9895833333333334,0.9895833333333334,0.9864583333333333,0.9895833333333334,0.9895833333333334,0.9927083333333333,0.990625,0.9916666666666667,0.9916666666666667,0.9916666666666667,0.9916666666666667,0.9927083333333333,0.990625,0.9916666666666667,0.9916666666666667,0.9927083333333333,0.9916666666666667,0.9916666666666667,0.9916666666666667,0.9927083333333333,0.9927083333333333,0.9916666666666667,0.9916666666666667,0.9916666666666667,0.9916666666666667,0.990625,0.9927083333333333,0.990625,0.990625,0.9895833333333334,0.9916666666666667,0.9916666666666667,0.9916666666666667,0.9927083333333333,0.9927083333333333,0.9927083333333333,0.9927083333333333,0.9927083333333333,0.9927083333333333,0.9927083333333333,0.9927083333333333,0.9927083333333333,0.9927083333333333,0.9927083333333333,0.9927083333333333,0.9927083333333333,0.9927083333333333,0.9927083333333333,0.9927083333333333,0.9927083333333333,0.9927083333333333,0.9927083333333333,0.9927083333333333,0.9927083333333333,0.9927083333333333,0.9927083333333333,0.9927083333333333,0.9927083333333333,0.9916666666666667,0.9927083333333333,0.9927083333333333,0.990625,0.9927083333333333,0.9916666666666667,0.9927083333333333,0.9916666666666667,0.9927083333333333,0.9927083333333333,0.9927083333333333,0.9927083333333333,0.9927083333333333,0.99375,0.9927083333333333,0.9927083333333333,0.99375,0.99375,0.9927083333333333,0.9927083333333333,0.99375,0.99375,0.99375,0.99375,0.99375,0.99375,0.99375,0.99375,0.99375,0.99375,0.99375,0.99375,0.99375,0.99375,0.99375,0.99375,0.99375,0.99375,0.99375,0.99375,0.9947916666666666,0.9947916666666666,0.9947916666666666,0.9947916666666666,0.9947916666666666,0.9947916666666666,0.9947916666666666,0.9947916666666666,0.9947916666666666,0.9947916666666666,0.9947916666666666,0.9947916666666666,0.9947916666666666,0.9947916666666666,0.9947916666666666,0.9947916666666666,0.9947916666666666,0.9947916666666666,0.9947916666666666,0.9947916666666666,0.9947916666666666,0.9947916666666666,0.9947916666666666,0.9958333333333333,0.996875,0.996875,0.996875,0.996875,0.996875,0.996875,0.996875,0.996875,0.996875,0.996875,0.996875,0.996875,0.996875,0.996875,0.996875,0.996875,0.996875,0.996875,0.996875,0.996875,0.996875,0.996875,0.996875,0.996875,0.996875,0.996875,0.996875,0.996875,0.996875,0.996875,0.996875,0.996875,0.996875,0.996875,0.996875,0.996875,0.996875,0.996875,0.996875,0.996875,0.996875,0.996875,0.996875,0.996875,0.996875,0.996875,0.996875,0.996875,0.996875,0.996875,0.996875,0.996875,0.996875,0.996875,0.996875,0.996875,0.996875,0.996875,0.996875,0.996875,0.996875,0.996875,0.996875,0.996875,0.996875,0.996875,0.996875,0.996875,0.996875,0.996875,0.996875,0.996875,0.996875,0.996875,0.996875,0.996875,0.996875,0.996875,0.996875,0.996875,0.996875,0.996875,0.996875,0.996875,0.996875,0.996875,0.996875,0.996875,0.996875,0.996875,0.996875,0.996875,0.996875,0.996875,0.996875,0.996875,0.996875,0.996875,0.996875,0.996875,0.996875,0.996875,0.996875,0.996875,0.996875,0.996875,0.996875,0.996875,0.996875,0.996875],\"yaxis\":\"y\",\"type\":\"scattergl\"},{\"hovertemplate\":\"variable=E<br>index=%{x}<br>value=%{y}<extra></extra>\",\"legendgroup\":\"E\",\"line\":{\"color\":\"#FFA15A\",\"dash\":\"solid\"},\"marker\":{\"symbol\":\"circle\"},\"mode\":\"lines\",\"name\":\"E\",\"showlegend\":true,\"x\":[0,1,2,3,4,5,6,7,8,9,10,11,12,13,14,15,16,17,18,19,20,21,22,23,24,25,26,27,28,29,30,31,32,33,34,35,36,37,38,39,40,41,42,43,44,45,46,47,48,49,50,51,52,53,54,55,56,57,58,59,60,61,62,63,64,65,66,67,68,69,70,71,72,73,74,75,76,77,78,79,80,81,82,83,84,85,86,87,88,89,90,91,92,93,94,95,96,97,98,99,100,101,102,103,104,105,106,107,108,109,110,111,112,113,114,115,116,117,118,119,120,121,122,123,124,125,126,127,128,129,130,131,132,133,134,135,136,137,138,139,140,141,142,143,144,145,146,147,148,149,150,151,152,153,154,155,156,157,158,159,160,161,162,163,164,165,166,167,168,169,170,171,172,173,174,175,176,177,178,179,180,181,182,183,184,185,186,187,188,189,190,191,192,193,194,195,196,197,198,199,200,201,202,203,204,205,206,207,208,209,210,211,212,213,214,215,216,217,218,219,220,221,222,223,224,225,226,227,228,229,230,231,232,233,234,235,236,237,238,239,240,241,242,243,244,245,246,247,248,249,250,251,252,253,254,255,256,257,258,259,260,261,262,263,264,265,266,267,268,269,270,271,272,273,274,275,276,277,278,279,280,281,282,283,284,285,286,287,288,289,290,291,292,293,294,295,296,297,298,299],\"xaxis\":\"x\",\"y\":[0.5885416666666666,0.7010416666666667,0.7697916666666667,0.79375,0.8010416666666667,0.7979166666666667,0.79375,0.8,0.8572916666666667,0.8104166666666667,0.8729166666666667,0.8822916666666667,0.890625,0.9260416666666667,0.9291666666666667,0.934375,0.928125,0.921875,0.91875,0.93125,0.8854166666666666,0.85625,0.8416666666666667,0.9083333333333333,0.8864583333333333,0.8375,0.8885416666666667,0.9364583333333333,0.971875,0.9739583333333334,0.9625,0.9614583333333333,0.975,0.98125,0.9645833333333333,0.975,0.9645833333333333,0.9854166666666667,0.975,0.971875,0.9604166666666667,0.971875,0.9614583333333333,0.978125,0.9770833333333333,0.9802083333333333,0.98125,0.984375,0.9822916666666667,0.98125,0.98125,0.98125,0.9791666666666666,0.9791666666666666,0.9802083333333333,0.9802083333333333,0.9791666666666666,0.9802083333333333,0.9802083333333333,0.9822916666666667,0.9802083333333333,0.9833333333333333,0.9791666666666666,0.9802083333333333,0.9802083333333333,0.9822916666666667,0.9802083333333333,0.9854166666666667,0.9854166666666667,0.9854166666666667,0.984375,0.9885416666666667,0.9864583333333333,0.9875,0.9885416666666667,0.9885416666666667,0.9895833333333334,0.9895833333333334,0.9895833333333334,0.9885416666666667,0.9895833333333334,0.9885416666666667,0.990625,0.990625,0.990625,0.990625,0.990625,0.990625,0.990625,0.990625,0.9916666666666667,0.9916666666666667,0.9916666666666667,0.9916666666666667,0.9916666666666667,0.9916666666666667,0.99375,0.9916666666666667,0.99375,0.99375,0.99375,0.99375,0.99375,0.99375,0.9947916666666666,0.9947916666666666,0.9947916666666666,0.9947916666666666,0.9958333333333333,0.9958333333333333,0.9958333333333333,0.9958333333333333,0.9958333333333333,0.9958333333333333,0.9958333333333333,0.9947916666666666,0.9958333333333333,0.9958333333333333,0.9958333333333333,0.9958333333333333,0.9958333333333333,0.9958333333333333,0.9958333333333333,0.9958333333333333,0.9958333333333333,0.9958333333333333,0.9958333333333333,0.9958333333333333,0.9958333333333333,0.9958333333333333,0.9958333333333333,0.9958333333333333,0.9958333333333333,0.9958333333333333,0.9958333333333333,0.9958333333333333,0.9958333333333333,0.9958333333333333,0.9958333333333333,0.9958333333333333,0.9958333333333333,0.9958333333333333,0.9958333333333333,0.9958333333333333,0.9958333333333333,0.9958333333333333,0.9958333333333333,0.9958333333333333,0.9958333333333333,0.9958333333333333,0.9958333333333333,0.9958333333333333,0.9958333333333333,0.9958333333333333,0.9958333333333333,0.9958333333333333,0.9958333333333333,0.9958333333333333,0.9958333333333333,0.9958333333333333,0.9958333333333333,0.9958333333333333,0.9958333333333333,0.9958333333333333,0.9958333333333333,0.9958333333333333,0.9958333333333333,0.9958333333333333,0.9958333333333333,0.9958333333333333,0.9958333333333333,0.9958333333333333,0.9958333333333333,0.9958333333333333,0.9958333333333333,0.9958333333333333,0.9958333333333333,0.9958333333333333,0.9958333333333333,0.9958333333333333,0.9958333333333333,0.9958333333333333,0.9958333333333333,0.9958333333333333,0.9958333333333333,0.9958333333333333,0.9958333333333333,0.9958333333333333,0.9958333333333333,0.9958333333333333,0.9958333333333333,0.9958333333333333,0.9958333333333333,0.9958333333333333,0.9958333333333333,0.9958333333333333,0.9958333333333333,0.9958333333333333,0.9958333333333333,0.9958333333333333,0.9958333333333333,0.9958333333333333,0.9958333333333333,0.9958333333333333,0.9958333333333333,0.9958333333333333,0.9958333333333333,0.9958333333333333,0.9958333333333333,0.9958333333333333,0.9958333333333333,0.9958333333333333,0.9958333333333333,0.9958333333333333,0.9958333333333333,0.9958333333333333,0.9958333333333333,0.9958333333333333,0.9958333333333333,0.9958333333333333,0.9958333333333333,0.9958333333333333,0.9958333333333333,0.9958333333333333,0.9958333333333333,0.9958333333333333,0.9958333333333333,0.9958333333333333,0.9958333333333333,0.9958333333333333,0.9958333333333333,0.9958333333333333,0.9958333333333333,0.9958333333333333,0.9958333333333333,0.9958333333333333,0.9958333333333333,0.9958333333333333,0.9958333333333333,0.9958333333333333,0.9958333333333333,0.9958333333333333,0.9958333333333333,0.9958333333333333,0.9958333333333333,0.9958333333333333,0.9958333333333333,0.9958333333333333,0.9958333333333333,0.9958333333333333,0.9958333333333333,0.9958333333333333,0.9958333333333333,0.9958333333333333,0.9958333333333333,0.9958333333333333,0.9958333333333333,0.9958333333333333,0.9958333333333333,0.9958333333333333,0.9958333333333333,0.9958333333333333,0.9958333333333333,0.9958333333333333,0.9958333333333333,0.9958333333333333,0.9958333333333333,0.9958333333333333,0.9958333333333333,0.9958333333333333,0.9958333333333333,0.9958333333333333,0.9958333333333333,0.9958333333333333,0.9958333333333333,0.9958333333333333,0.9958333333333333,0.9958333333333333,0.9958333333333333,0.9958333333333333,0.9958333333333333,0.9958333333333333,0.9958333333333333,0.9958333333333333,0.9958333333333333,0.9958333333333333,0.9958333333333333,0.9958333333333333,0.9958333333333333,0.9958333333333333,0.9958333333333333,0.9958333333333333,0.9958333333333333,0.9958333333333333,0.9958333333333333,0.9958333333333333,0.9958333333333333,0.9958333333333333,0.9958333333333333,0.9958333333333333],\"yaxis\":\"y\",\"type\":\"scattergl\"},{\"hovertemplate\":\"variable=F<br>index=%{x}<br>value=%{y}<extra></extra>\",\"legendgroup\":\"F\",\"line\":{\"color\":\"#19d3f3\",\"dash\":\"solid\"},\"marker\":{\"symbol\":\"circle\"},\"mode\":\"lines\",\"name\":\"F\",\"showlegend\":true,\"x\":[0,1,2,3,4,5,6,7,8,9,10,11,12,13,14,15,16,17,18,19,20,21,22,23,24,25,26,27,28,29,30,31,32,33,34,35,36,37,38,39,40,41,42,43,44,45,46,47,48,49,50,51,52,53,54,55,56,57,58,59,60,61,62,63,64,65,66,67,68,69,70,71,72,73,74,75,76,77,78,79,80,81,82,83,84,85,86,87,88,89,90,91,92,93,94,95,96,97,98,99,100,101,102,103,104,105,106,107,108,109,110,111,112,113,114,115,116,117,118,119,120,121,122,123,124,125,126,127,128,129,130,131,132,133,134,135,136,137,138,139,140,141,142,143,144,145,146,147,148,149,150,151,152,153,154,155,156,157,158,159,160,161,162,163,164,165,166,167,168,169,170,171,172,173,174,175,176,177,178,179,180,181,182,183,184,185,186,187,188,189,190,191,192,193,194,195,196,197,198,199,200,201,202,203,204,205,206,207,208,209,210,211,212,213,214,215,216,217,218,219,220,221,222,223,224,225,226,227,228,229,230,231,232,233,234,235,236,237,238,239,240,241,242,243,244,245,246,247,248,249,250,251,252,253,254,255,256,257,258,259,260,261,262,263,264,265,266,267,268,269,270,271,272,273,274,275,276,277,278,279,280,281,282,283,284,285,286,287,288,289,290,291,292,293,294,295,296,297,298,299],\"xaxis\":\"x\",\"y\":[0.5895833333333333,0.5614583333333333,0.565625,0.6229166666666667,0.5822916666666667,0.5666666666666667,0.5385416666666667,0.565625,0.565625,0.565625,0.565625,0.565625,0.565625,0.565625,0.565625,0.565625,0.565625,0.565625,0.565625,0.5791666666666667,0.6677083333333333,0.7260416666666667,0.734375,0.7791666666666667,0.7822916666666667,0.7677083333333333,0.7354166666666667,0.7625,0.7895833333333333,0.7864583333333334,0.7875,0.7927083333333333,0.7979166666666667,0.7885416666666667,0.78125,0.7854166666666667,0.8020833333333334,0.8197916666666667,0.84375,0.9052083333333333,0.934375,0.89375,0.9677083333333333,0.928125,0.9697916666666667,0.9802083333333333,0.9541666666666667,0.95,0.9552083333333333,0.965625,0.9739583333333334,0.9552083333333333,0.9604166666666667,0.9645833333333333,0.9645833333333333,0.9645833333333333,0.9739583333333334,0.9760416666666667,0.9697916666666667,0.9697916666666667,0.9645833333333333,0.96875,0.9677083333333333,0.975,0.984375,0.9708333333333333,0.978125,0.9770833333333333,0.9708333333333333,0.9760416666666667,0.965625,0.98125,0.9822916666666667,0.9822916666666667,0.9822916666666667,0.9822916666666667,0.9770833333333333,0.975,0.9802083333333333,0.978125,0.98125,0.9833333333333333,0.9864583333333333,0.9864583333333333,0.9895833333333334,0.9916666666666667,0.9927083333333333,0.9895833333333334,0.9895833333333334,0.9927083333333333,0.9927083333333333,0.9916666666666667,0.9895833333333334,0.9875,0.9916666666666667,0.9927083333333333,0.9927083333333333,0.9927083333333333,0.9927083333333333,0.9927083333333333,0.9927083333333333,0.9927083333333333,0.9927083333333333,0.9927083333333333,0.9927083333333333,0.9895833333333334,0.9927083333333333,0.9927083333333333,0.9927083333333333,0.9916666666666667,0.9916666666666667,0.9916666666666667,0.9927083333333333,0.9916666666666667,0.9927083333333333,0.9927083333333333,0.9927083333333333,0.9927083333333333,0.9927083333333333,0.9927083333333333,0.9927083333333333,0.9927083333333333,0.9927083333333333,0.9927083333333333,0.9927083333333333,0.9927083333333333,0.9927083333333333,0.9927083333333333,0.9927083333333333,0.9927083333333333,0.9927083333333333,0.9927083333333333,0.9927083333333333,0.9927083333333333,0.9927083333333333,0.9927083333333333,0.9927083333333333,0.9927083333333333,0.9927083333333333,0.9927083333333333,0.9927083333333333,0.9927083333333333,0.9927083333333333,0.9927083333333333,0.9927083333333333,0.9927083333333333,0.9927083333333333,0.9927083333333333,0.9927083333333333,0.9927083333333333,0.9927083333333333,0.9927083333333333,0.9927083333333333,0.9927083333333333,0.9927083333333333,0.9927083333333333,0.9927083333333333,0.9927083333333333,0.9927083333333333,0.9927083333333333,0.9927083333333333,0.9927083333333333,0.9927083333333333,0.9927083333333333,0.9927083333333333,0.9927083333333333,0.9927083333333333,0.9927083333333333,0.9927083333333333,0.9927083333333333,0.9927083333333333,0.9927083333333333,0.9927083333333333,0.9927083333333333,0.9927083333333333,0.9927083333333333,0.9927083333333333,0.9927083333333333,0.9927083333333333,0.9927083333333333,0.9927083333333333,0.9927083333333333,0.9927083333333333,0.9927083333333333,0.9927083333333333,0.9927083333333333,0.9927083333333333,0.9927083333333333,0.9927083333333333,0.9927083333333333,0.9927083333333333,0.9927083333333333,0.9927083333333333,0.9927083333333333,0.9927083333333333,0.9927083333333333,0.9927083333333333,0.9927083333333333,0.9927083333333333,0.9927083333333333,0.9927083333333333,0.9927083333333333,0.9927083333333333,0.9927083333333333,0.9927083333333333,0.9927083333333333,0.9927083333333333,0.9927083333333333,0.9927083333333333,0.9927083333333333,0.9927083333333333,0.9927083333333333,0.9927083333333333,0.9927083333333333,0.9927083333333333,0.9927083333333333,0.9927083333333333,0.9927083333333333,0.9927083333333333,0.9927083333333333,0.9927083333333333,0.9927083333333333,0.9927083333333333,0.9927083333333333,0.9927083333333333,0.9927083333333333,0.9927083333333333,0.9927083333333333,0.9927083333333333,0.9927083333333333,0.9927083333333333,0.9927083333333333,0.9927083333333333,0.9927083333333333,0.9927083333333333,0.9927083333333333,0.9927083333333333,0.9927083333333333,0.9927083333333333,0.9927083333333333,0.9927083333333333,0.9927083333333333,0.9927083333333333,0.9927083333333333,0.9927083333333333,0.9927083333333333,0.9927083333333333,0.9927083333333333,0.9927083333333333,0.9927083333333333,0.9927083333333333,0.9927083333333333,0.9927083333333333,0.9927083333333333,0.9927083333333333,0.9927083333333333,0.9927083333333333,0.9927083333333333,0.9927083333333333,0.9927083333333333,0.9927083333333333,0.9927083333333333,0.9927083333333333,0.9927083333333333,0.9927083333333333,0.9927083333333333,0.9927083333333333,0.9927083333333333,0.9927083333333333,0.9927083333333333,0.9927083333333333,0.9927083333333333,0.9927083333333333,0.9927083333333333,0.9927083333333333,0.9927083333333333,0.9927083333333333,0.9927083333333333,0.9927083333333333,0.9927083333333333,0.9927083333333333,0.9927083333333333,0.9927083333333333,0.9927083333333333,0.9927083333333333,0.9927083333333333,0.9927083333333333,0.9927083333333333,0.9927083333333333,0.9927083333333333,0.9927083333333333,0.9927083333333333,0.9927083333333333,0.9927083333333333,0.9927083333333333,0.9927083333333333,0.9927083333333333,0.9927083333333333,0.9927083333333333,0.9927083333333333],\"yaxis\":\"y\",\"type\":\"scattergl\"},{\"hovertemplate\":\"variable=G<br>index=%{x}<br>value=%{y}<extra></extra>\",\"legendgroup\":\"G\",\"line\":{\"color\":\"#FF6692\",\"dash\":\"solid\"},\"marker\":{\"symbol\":\"circle\"},\"mode\":\"lines\",\"name\":\"G\",\"showlegend\":true,\"x\":[0,1,2,3,4,5,6,7,8,9,10,11,12,13,14,15,16,17,18,19,20,21,22,23,24,25,26,27,28,29,30,31,32,33,34,35,36,37,38,39,40,41,42,43,44,45,46,47,48,49,50,51,52,53,54,55,56,57,58,59,60,61,62,63,64,65,66,67,68,69,70,71,72,73,74,75,76,77,78,79,80,81,82,83,84,85,86,87,88,89,90,91,92,93,94,95,96,97,98,99,100,101,102,103,104,105,106,107,108,109,110,111,112,113,114,115,116,117,118,119,120,121,122,123,124,125,126,127,128,129,130,131,132,133,134,135,136,137,138,139,140,141,142,143,144,145,146,147,148,149,150,151,152,153,154,155,156,157,158,159,160,161,162,163,164,165,166,167,168,169,170,171,172,173,174,175,176,177,178,179,180,181,182,183,184,185,186,187,188,189,190,191,192,193,194,195,196,197,198,199,200,201,202,203,204,205,206,207,208,209,210,211,212,213,214,215,216,217,218,219,220,221,222,223,224,225,226,227,228,229,230,231,232,233,234,235,236,237,238,239,240,241,242,243,244,245,246,247,248,249,250,251,252,253,254,255,256,257,258,259,260,261,262,263,264,265,266,267,268,269,270,271,272,273,274,275,276,277,278,279,280,281,282,283,284,285,286,287,288,289,290,291,292,293,294,295,296,297,298,299],\"xaxis\":\"x\",\"y\":[0.5822916666666667,0.5677083333333334,0.6822916666666666,0.6677083333333333,0.6208333333333333,0.8708333333333333,0.7197916666666667,0.7072916666666667,0.7791666666666667,0.7729166666666667,0.7760416666666666,0.7760416666666666,0.7958333333333333,0.9125,0.9072916666666667,0.796875,0.8135416666666667,0.865625,0.8833333333333333,0.9135416666666667,0.896875,0.8697916666666666,0.8447916666666667,0.825,0.9322916666666666,0.8958333333333334,0.8604166666666667,0.8770833333333333,0.9104166666666667,0.921875,0.909375,0.9270833333333334,0.9291666666666667,0.9177083333333333,0.9239583333333333,0.91875,0.9322916666666666,0.95625,0.9635416666666666,0.96875,0.9677083333333333,0.9635416666666666,0.959375,0.9614583333333333,0.9583333333333334,0.946875,0.9541666666666667,0.9708333333333333,0.95625,0.9572916666666667,0.9604166666666667,0.9604166666666667,0.96875,0.959375,0.971875,0.9760416666666667,0.9802083333333333,0.975,0.965625,0.9697916666666667,0.9708333333333333,0.9802083333333333,0.9770833333333333,0.9760416666666667,0.9760416666666667,0.975,0.9708333333333333,0.96875,0.9697916666666667,0.9697916666666667,0.9677083333333333,0.971875,0.9708333333333333,0.96875,0.9729166666666667,0.9666666666666667,0.9677083333333333,0.9708333333333333,0.9677083333333333,0.9666666666666667,0.9677083333333333,0.971875,0.971875,0.9708333333333333,0.971875,0.971875,0.9697916666666667,0.9729166666666667,0.975,0.978125,0.9739583333333334,0.9729166666666667,0.96875,0.9697916666666667,0.975,0.975,0.975,0.9760416666666667,0.971875,0.975,0.9729166666666667,0.975,0.975,0.975,0.9739583333333334,0.9739583333333334,0.9739583333333334,0.9739583333333334,0.9729166666666667,0.9739583333333334,0.975,0.9729166666666667,0.9739583333333334,0.9760416666666667,0.9760416666666667,0.975,0.9760416666666667,0.9760416666666667,0.9760416666666667,0.9760416666666667,0.9760416666666667,0.9760416666666667,0.9791666666666666,0.978125,0.978125,0.978125,0.9822916666666667,0.9822916666666667,0.9822916666666667,0.9822916666666667,0.9822916666666667,0.9822916666666667,0.9822916666666667,0.9822916666666667,0.9822916666666667,0.9822916666666667,0.9822916666666667,0.9822916666666667,0.9822916666666667,0.9822916666666667,0.9822916666666667,0.9822916666666667,0.9822916666666667,0.9822916666666667,0.9822916666666667,0.9822916666666667,0.9822916666666667,0.9822916666666667,0.9822916666666667,0.9822916666666667,0.9822916666666667,0.9822916666666667,0.9822916666666667,0.9822916666666667,0.9822916666666667,0.9822916666666667,0.9822916666666667,0.9822916666666667,0.9822916666666667,0.9822916666666667,0.9822916666666667,0.9822916666666667,0.9822916666666667,0.9822916666666667,0.9822916666666667,0.9822916666666667,0.9822916666666667,0.9822916666666667,0.9822916666666667,0.9822916666666667,0.9822916666666667,0.9822916666666667,0.9822916666666667,0.9822916666666667,0.9822916666666667,0.9822916666666667,0.9822916666666667,0.9822916666666667,0.9822916666666667,0.9822916666666667,0.9822916666666667,0.9822916666666667,0.9822916666666667,0.9822916666666667,0.9822916666666667,0.9822916666666667,0.9822916666666667,0.9822916666666667,0.9822916666666667,0.9822916666666667,0.9822916666666667,0.9822916666666667,0.9822916666666667,0.9822916666666667,0.9822916666666667,0.9822916666666667,0.9822916666666667,0.9822916666666667,0.9822916666666667,0.9822916666666667,0.9822916666666667,0.9822916666666667,0.9822916666666667,0.9822916666666667,0.9822916666666667,0.9822916666666667,0.9822916666666667,0.9822916666666667,0.9822916666666667,0.9822916666666667,0.9822916666666667,0.9822916666666667,0.9822916666666667,0.9822916666666667,0.9822916666666667,0.9822916666666667,0.9822916666666667,0.9822916666666667,0.9822916666666667,0.9822916666666667,0.9822916666666667,0.9822916666666667,0.9822916666666667,0.9822916666666667,0.9822916666666667,0.9822916666666667,0.9822916666666667,0.9822916666666667,0.9822916666666667,0.9822916666666667,0.9822916666666667,0.9822916666666667,0.9822916666666667,0.9822916666666667,0.9822916666666667,0.9822916666666667,0.9822916666666667,0.9822916666666667,0.9822916666666667,0.9822916666666667,0.9822916666666667,0.9822916666666667,0.9822916666666667,0.9822916666666667,0.9822916666666667,0.9822916666666667,0.9822916666666667,0.9822916666666667,0.9822916666666667,0.9822916666666667,0.9822916666666667,0.9822916666666667,0.9822916666666667,0.9822916666666667,0.9822916666666667,0.9822916666666667,0.9822916666666667,0.9822916666666667,0.9822916666666667,0.9822916666666667,0.9822916666666667,0.9822916666666667,0.9822916666666667,0.9822916666666667,0.9822916666666667,0.9822916666666667,0.9822916666666667,0.9822916666666667,0.9822916666666667,0.9822916666666667,0.9822916666666667,0.9822916666666667,0.9822916666666667,0.9822916666666667,0.9822916666666667,0.9822916666666667,0.9822916666666667,0.9822916666666667,0.9822916666666667,0.9822916666666667,0.9822916666666667,0.9822916666666667,0.9822916666666667,0.9822916666666667,0.9822916666666667,0.9822916666666667,0.9822916666666667,0.9822916666666667,0.9822916666666667,0.9822916666666667,0.9822916666666667,0.9822916666666667,0.9822916666666667,0.9822916666666667,0.9822916666666667,0.9822916666666667,0.9822916666666667,0.9822916666666667,0.9822916666666667,0.9822916666666667],\"yaxis\":\"y\",\"type\":\"scattergl\"},{\"hovertemplate\":\"variable=H<br>index=%{x}<br>value=%{y}<extra></extra>\",\"legendgroup\":\"H\",\"line\":{\"color\":\"#B6E880\",\"dash\":\"solid\"},\"marker\":{\"symbol\":\"circle\"},\"mode\":\"lines\",\"name\":\"H\",\"showlegend\":true,\"x\":[0,1,2,3,4,5,6,7,8,9,10,11,12,13,14,15,16,17,18,19,20,21,22,23,24,25,26,27,28,29,30,31,32,33,34,35,36,37,38,39,40,41,42,43,44,45,46,47,48,49,50,51,52,53,54,55,56,57,58,59,60,61,62,63,64,65,66,67,68,69,70,71,72,73,74,75,76,77,78,79,80,81,82,83,84,85,86,87,88,89,90,91,92,93,94,95,96,97,98,99,100,101,102,103,104,105,106,107,108,109,110,111,112,113,114,115,116,117,118,119,120,121,122,123,124,125,126,127,128,129,130,131,132,133,134,135,136,137,138,139,140,141,142,143,144,145,146,147,148,149,150,151,152,153,154,155,156,157,158,159,160,161,162,163,164,165,166,167,168,169,170,171,172,173,174,175,176,177,178,179,180,181,182,183,184,185,186,187,188,189,190,191,192,193,194,195,196,197,198,199,200,201,202,203,204,205,206,207,208,209,210,211,212,213,214,215,216,217,218,219,220,221,222,223,224,225,226,227,228,229,230,231,232,233,234,235,236,237,238,239,240,241,242,243,244,245,246,247,248,249,250,251,252,253,254,255,256,257,258,259,260,261,262,263,264,265,266,267,268,269,270,271,272,273,274,275,276,277,278,279,280,281,282,283,284,285,286,287,288,289,290,291,292,293,294,295,296,297,298,299],\"xaxis\":\"x\",\"y\":[0.565625,0.565625,0.5677083333333334,0.565625,0.5666666666666667,0.66875,0.7333333333333333,0.6677083333333333,0.6989583333333333,0.665625,0.7020833333333333,0.671875,0.8083333333333333,0.8510416666666667,0.859375,0.8677083333333333,0.9229166666666667,0.9052083333333333,0.875,0.8645833333333334,0.871875,0.8791666666666667,0.8791666666666667,0.8989583333333333,0.9,0.8979166666666667,0.9177083333333333,0.89375,0.9375,0.915625,0.928125,0.9166666666666666,0.925,0.9416666666666667,0.94375,0.93125,0.93125,0.9041666666666667,0.9104166666666667,0.9302083333333333,0.9208333333333333,0.9322916666666666,0.9364583333333333,0.9427083333333334,0.934375,0.9291666666666667,0.934375,0.9302083333333333,0.940625,0.9447916666666667,0.9385416666666667,0.9375,0.9270833333333334,0.94375,0.9385416666666667,0.94375,0.925,0.9291666666666667,0.934375,0.9489583333333333,0.9354166666666667,0.925,0.9197916666666667,0.9510416666666667,0.9458333333333333,0.9375,0.9458333333333333,0.9458333333333333,0.946875,0.9375,0.9416666666666667,0.9489583333333333,0.953125,0.959375,0.9572916666666667,0.9416666666666667,0.9552083333333333,0.9604166666666667,0.959375,0.9604166666666667,0.9510416666666667,0.9479166666666666,0.9510416666666667,0.9604166666666667,0.96875,0.9677083333333333,0.9625,0.9677083333333333,0.965625,0.9697916666666667,0.96875,0.9677083333333333,0.96875,0.9697916666666667,0.9708333333333333,0.9729166666666667,0.9739583333333334,0.975,0.975,0.975,0.978125,0.9770833333333333,0.978125,0.9770833333333333,0.9791666666666666,0.9791666666666666,0.9791666666666666,0.9791666666666666,0.9791666666666666,0.978125,0.9791666666666666,0.9791666666666666,0.9791666666666666,0.978125,0.9791666666666666,0.9791666666666666,0.9791666666666666,0.9791666666666666,0.9791666666666666,0.9791666666666666,0.9791666666666666,0.9791666666666666,0.9791666666666666,0.9791666666666666,0.9791666666666666,0.9791666666666666,0.9791666666666666,0.9791666666666666,0.9791666666666666,0.9791666666666666,0.9791666666666666,0.9791666666666666,0.9791666666666666,0.9791666666666666,0.9791666666666666,0.9791666666666666,0.9791666666666666,0.9791666666666666,0.9791666666666666,0.9791666666666666,0.9791666666666666,0.9791666666666666,0.9791666666666666,0.9791666666666666,0.9791666666666666,0.9791666666666666,0.9791666666666666,0.9791666666666666,0.9791666666666666,0.9791666666666666,0.9791666666666666,0.9791666666666666,0.9791666666666666,0.9791666666666666,0.9791666666666666,0.9791666666666666,0.9791666666666666,0.9791666666666666,0.9791666666666666,0.9791666666666666,0.9791666666666666,0.978125,0.978125,0.978125,0.978125,0.978125,0.978125,0.978125,0.978125,0.978125,0.978125,0.978125,0.978125,0.978125,0.978125,0.9791666666666666,0.978125,0.978125,0.9791666666666666,0.9791666666666666,0.9791666666666666,0.9791666666666666,0.9791666666666666,0.9791666666666666,0.9791666666666666,0.9791666666666666,0.9791666666666666,0.9791666666666666,0.9791666666666666,0.9791666666666666,0.9791666666666666,0.9791666666666666,0.9791666666666666,0.9791666666666666,0.9791666666666666,0.9791666666666666,0.9791666666666666,0.9791666666666666,0.9791666666666666,0.9791666666666666,0.9791666666666666,0.9791666666666666,0.9791666666666666,0.9791666666666666,0.9791666666666666,0.9791666666666666,0.9791666666666666,0.9791666666666666,0.9791666666666666,0.9791666666666666,0.9791666666666666,0.9791666666666666,0.9791666666666666,0.9791666666666666,0.9791666666666666,0.9791666666666666,0.9791666666666666,0.9791666666666666,0.9791666666666666,0.9791666666666666,0.9791666666666666,0.9791666666666666,0.9791666666666666,0.9791666666666666,0.9791666666666666,0.9791666666666666,0.9791666666666666,0.9791666666666666,0.9791666666666666,0.9791666666666666,0.9791666666666666,0.9791666666666666,0.9791666666666666,0.9791666666666666,0.9791666666666666,0.9791666666666666,0.9791666666666666,0.9791666666666666,0.9791666666666666,0.9791666666666666,0.9791666666666666,0.9791666666666666,0.9791666666666666,0.9791666666666666,0.9791666666666666,0.9791666666666666,0.9791666666666666,0.9791666666666666,0.9791666666666666,0.9791666666666666,0.9791666666666666,0.9791666666666666,0.9791666666666666,0.9791666666666666,0.9791666666666666,0.9791666666666666,0.9791666666666666,0.9791666666666666,0.9791666666666666,0.9791666666666666,0.9791666666666666,0.9791666666666666,0.9791666666666666,0.9791666666666666,0.9791666666666666,0.9791666666666666,0.9791666666666666,0.9791666666666666,0.9791666666666666,0.9791666666666666,0.9791666666666666,0.9791666666666666,0.9791666666666666,0.9791666666666666,0.9791666666666666,0.9791666666666666,0.9791666666666666,0.9791666666666666,0.9791666666666666,0.9791666666666666,0.9791666666666666,0.9791666666666666,0.9791666666666666,0.9791666666666666,0.9791666666666666,0.9791666666666666,0.9791666666666666,0.9791666666666666,0.9791666666666666,0.9791666666666666,0.9791666666666666,0.9791666666666666,0.9791666666666666,0.9791666666666666,0.9791666666666666,0.9791666666666666,0.9791666666666666,0.9791666666666666,0.9791666666666666,0.9791666666666666],\"yaxis\":\"y\",\"type\":\"scattergl\"},{\"hovertemplate\":\"variable=I<br>index=%{x}<br>value=%{y}<extra></extra>\",\"legendgroup\":\"I\",\"line\":{\"color\":\"#FF97FF\",\"dash\":\"solid\"},\"marker\":{\"symbol\":\"circle\"},\"mode\":\"lines\",\"name\":\"I\",\"showlegend\":true,\"x\":[0,1,2,3,4,5,6,7,8,9,10,11,12,13,14,15,16,17,18,19,20,21,22,23,24,25,26,27,28,29,30,31,32,33,34,35,36,37,38,39,40,41,42,43,44,45,46,47,48,49,50,51,52,53,54,55,56,57,58,59,60,61,62,63,64,65,66,67,68,69,70,71,72,73,74,75,76,77,78,79,80,81,82,83,84,85,86,87,88,89,90,91,92,93,94,95,96,97,98,99,100,101,102,103,104,105,106,107,108,109,110,111,112,113,114,115,116,117,118,119,120,121,122,123,124,125,126,127,128,129,130,131,132,133,134,135,136,137,138,139,140,141,142,143,144,145,146,147,148,149,150,151,152,153,154,155,156,157,158,159,160,161,162,163,164,165,166,167,168,169,170,171,172,173,174,175,176,177,178,179,180,181,182,183,184,185,186,187,188,189,190,191,192,193,194,195,196,197,198,199,200,201,202,203,204,205,206,207,208,209,210,211,212,213,214,215,216,217,218,219,220,221,222,223,224,225,226,227,228,229,230,231,232,233,234,235,236,237,238,239,240,241,242,243,244,245,246,247,248,249,250,251,252,253,254,255,256,257,258,259,260,261,262,263,264,265,266,267,268,269,270,271,272,273,274,275,276,277,278,279,280,281,282,283,284,285,286,287,288,289,290,291,292,293,294,295,296,297,298,299],\"xaxis\":\"x\",\"y\":[0.6802083333333333,0.565625,0.6229166666666667,0.5895833333333333,0.7614583333333333,0.6927083333333334,0.7635416666666667,0.8645833333333334,0.8291666666666667,0.859375,0.8447916666666667,0.8302083333333333,0.8166666666666667,0.8447916666666667,0.8375,0.8145833333333333,0.8447916666666667,0.7989583333333333,0.871875,0.7927083333333333,0.7958333333333333,0.8833333333333333,0.9145833333333333,0.8979166666666667,0.93125,0.86875,0.9145833333333333,0.8916666666666667,0.90625,0.896875,0.921875,0.8645833333333334,0.9041666666666667,0.8958333333333334,0.9083333333333333,0.8833333333333333,0.8739583333333333,0.91875,0.915625,0.9020833333333333,0.8916666666666667,0.8885416666666667,0.8708333333333333,0.8822916666666667,0.8885416666666667,0.9020833333333333,0.90625,0.9239583333333333,0.9229166666666667,0.9208333333333333,0.925,0.9333333333333333,0.93125,0.9291666666666667,0.9354166666666667,0.95,0.9302083333333333,0.928125,0.9427083333333334,0.9510416666666667,0.9479166666666666,0.946875,0.9458333333333333,0.94375,0.9520833333333333,0.9489583333333333,0.9541666666666667,0.9552083333333333,0.9552083333333333,0.9552083333333333,0.9520833333333333,0.9479166666666666,0.9427083333333334,0.9447916666666667,0.9541666666666667,0.9552083333333333,0.9552083333333333,0.9541666666666667,0.9572916666666667,0.9541666666666667,0.9552083333333333,0.9552083333333333,0.959375,0.959375,0.9583333333333334,0.95,0.959375,0.9552083333333333,0.9572916666666667,0.959375,0.9604166666666667,0.959375,0.959375,0.9604166666666667,0.9604166666666667,0.9604166666666667,0.9604166666666667,0.9604166666666667,0.9604166666666667,0.9614583333333333,0.9604166666666667,0.9604166666666667,0.9614583333333333,0.9614583333333333,0.9625,0.9625,0.9666666666666667,0.965625,0.965625,0.9666666666666667,0.9666666666666667,0.9677083333333333,0.9677083333333333,0.965625,0.965625,0.965625,0.9666666666666667,0.96875,0.9677083333333333,0.9677083333333333,0.9677083333333333,0.9666666666666667,0.9666666666666667,0.9666666666666667,0.9677083333333333,0.9666666666666667,0.9677083333333333,0.9677083333333333,0.9677083333333333,0.9677083333333333,0.9677083333333333,0.9677083333333333,0.9677083333333333,0.9677083333333333,0.96875,0.96875,0.96875,0.96875,0.96875,0.96875,0.96875,0.96875,0.96875,0.96875,0.9677083333333333,0.96875,0.96875,0.9677083333333333,0.96875,0.96875,0.9677083333333333,0.9677083333333333,0.96875,0.9677083333333333,0.9677083333333333,0.96875,0.96875,0.96875,0.9677083333333333,0.9677083333333333,0.9677083333333333,0.9677083333333333,0.96875,0.96875,0.9677083333333333,0.9677083333333333,0.9677083333333333,0.96875,0.96875,0.96875,0.96875,0.96875,0.9677083333333333,0.96875,0.96875,0.9677083333333333,0.9677083333333333,0.9677083333333333,0.9677083333333333,0.9677083333333333,0.9677083333333333,0.9677083333333333,0.9677083333333333,0.9677083333333333,0.9677083333333333,0.9677083333333333,0.9677083333333333,0.9677083333333333,0.9677083333333333,0.96875,0.96875,0.9677083333333333,0.9677083333333333,0.9677083333333333,0.9677083333333333,0.96875,0.96875,0.9677083333333333,0.96875,0.96875,0.96875,0.96875,0.96875,0.96875,0.96875,0.96875,0.96875,0.96875,0.96875,0.96875,0.96875,0.96875,0.96875,0.96875,0.96875,0.96875,0.96875,0.96875,0.96875,0.96875,0.96875,0.96875,0.96875,0.96875,0.96875,0.96875,0.96875,0.96875,0.96875,0.96875,0.96875,0.96875,0.96875,0.96875,0.96875,0.96875,0.96875,0.96875,0.96875,0.96875,0.96875,0.96875,0.96875,0.96875,0.96875,0.96875,0.96875,0.96875,0.96875,0.96875,0.96875,0.96875,0.96875,0.96875,0.96875,0.96875,0.96875,0.96875,0.96875,0.96875,0.96875,0.96875,0.96875,0.96875,0.96875,0.96875,0.96875,0.96875,0.96875,0.96875,0.96875,0.96875,0.96875,0.96875,0.96875,0.96875,0.96875,0.96875,0.96875,0.96875,0.96875,0.96875,0.96875,0.96875,0.96875,0.96875,0.96875,0.96875,0.96875,0.96875,0.96875,0.96875,0.96875,0.96875,0.96875,0.96875,0.96875,0.96875,0.96875,0.96875],\"yaxis\":\"y\",\"type\":\"scattergl\"},{\"hovertemplate\":\"variable=J<br>index=%{x}<br>value=%{y}<extra></extra>\",\"legendgroup\":\"J\",\"line\":{\"color\":\"#FECB52\",\"dash\":\"solid\"},\"marker\":{\"symbol\":\"circle\"},\"mode\":\"lines\",\"name\":\"J\",\"showlegend\":true,\"x\":[0,1,2,3,4,5,6,7,8,9,10,11,12,13,14,15,16,17,18,19,20,21,22,23,24,25,26,27,28,29,30,31,32,33,34,35,36,37,38,39,40,41,42,43,44,45,46,47,48,49,50,51,52,53,54,55,56,57,58,59,60,61,62,63,64,65,66,67,68,69,70,71,72,73,74,75,76,77,78,79,80,81,82,83,84,85,86,87,88,89,90,91,92,93,94,95,96,97,98,99,100,101,102,103,104,105,106,107,108,109,110,111,112,113,114,115,116,117,118,119,120,121,122,123,124,125,126,127,128,129,130,131,132,133,134,135,136,137,138,139,140,141,142,143,144,145,146,147,148,149,150,151,152,153,154,155,156,157,158,159,160,161,162,163,164,165,166,167,168,169,170,171,172,173,174,175,176,177,178,179,180,181,182,183,184,185,186,187,188,189,190,191,192,193,194,195,196,197,198,199,200,201,202,203,204,205,206,207,208,209,210,211,212,213,214,215,216,217,218,219,220,221,222,223,224,225,226,227,228,229,230,231,232,233,234,235,236,237,238,239,240,241,242,243,244,245,246,247,248,249,250,251,252,253,254,255,256,257,258,259,260,261,262,263,264,265,266,267,268,269,270,271,272,273,274,275,276,277,278,279,280,281,282,283,284,285,286,287,288,289,290,291,292,293,294,295,296,297,298,299],\"xaxis\":\"x\",\"y\":[0.71875,0.6822916666666666,0.6927083333333334,0.7229166666666667,0.5708333333333333,0.6333333333333333,0.69375,0.65625,0.471875,0.690625,0.7375,0.7541666666666667,0.7458333333333333,0.7364583333333333,0.709375,0.7729166666666667,0.80625,0.75,0.7677083333333333,0.7729166666666667,0.7979166666666667,0.8020833333333334,0.7791666666666667,0.7541666666666667,0.7072916666666667,0.7510416666666667,0.7916666666666666,0.790625,0.790625,0.7947916666666667,0.7885416666666667,0.7979166666666667,0.8125,0.8020833333333334,0.8208333333333333,0.8114583333333333,0.8208333333333333,0.8020833333333334,0.803125,0.8072916666666666,0.8114583333333333,0.8166666666666667,0.821875,0.8208333333333333,0.803125,0.8239583333333333,0.83125,0.8260416666666667,0.8333333333333334,0.834375,0.8333333333333334,0.8291666666666667,0.83125,0.8333333333333334,0.8333333333333334,0.828125,0.83125,0.83125,0.8302083333333333,0.8260416666666667,0.825,0.8302083333333333,0.8291666666666667,0.834375,0.83125,0.8364583333333333,0.83125,0.8302083333333333,0.8302083333333333,0.83125,0.83125,0.8270833333333333,0.828125,0.8239583333333333,0.8302083333333333,0.83125,0.8302083333333333,0.83125,0.83125,0.834375,0.8354166666666667,0.8354166666666667,0.8364583333333333,0.8375,0.834375,0.8375,0.83125,0.8333333333333334,0.8364583333333333,0.8354166666666667,0.8354166666666667,0.8354166666666667,0.8364583333333333,0.834375,0.8364583333333333,0.8364583333333333,0.8375,0.8354166666666667,0.8375,0.834375,0.834375,0.834375,0.834375,0.8322916666666667,0.8322916666666667,0.834375,0.8354166666666667,0.8354166666666667,0.834375,0.834375,0.8354166666666667,0.8354166666666667,0.8354166666666667,0.8354166666666667,0.8354166666666667,0.8354166666666667,0.8354166666666667,0.8354166666666667,0.8354166666666667,0.8354166666666667,0.8354166666666667,0.8354166666666667,0.8385416666666666,0.8354166666666667,0.8385416666666666,0.8385416666666666,0.8385416666666666,0.8385416666666666,0.8385416666666666,0.8385416666666666,0.8354166666666667,0.8354166666666667,0.8354166666666667,0.8354166666666667,0.8354166666666667,0.8354166666666667,0.8354166666666667,0.8385416666666666,0.8385416666666666,0.8385416666666666,0.8385416666666666,0.8385416666666666,0.8354166666666667,0.8385416666666666,0.8385416666666666,0.8385416666666666,0.8385416666666666,0.8385416666666666,0.8385416666666666,0.8385416666666666,0.8395833333333333,0.8395833333333333,0.8395833333333333,0.8395833333333333,0.8395833333333333,0.8395833333333333,0.8395833333333333,0.8395833333333333,0.8395833333333333,0.8395833333333333,0.8395833333333333,0.8395833333333333,0.8395833333333333,0.8395833333333333,0.8395833333333333,0.8395833333333333,0.8395833333333333,0.8395833333333333,0.8395833333333333,0.8395833333333333,0.8395833333333333,0.8395833333333333,0.8395833333333333,0.8395833333333333,0.8395833333333333,0.8395833333333333,0.8395833333333333,0.8395833333333333,0.8395833333333333,0.8395833333333333,0.8395833333333333,0.8395833333333333,0.8395833333333333,0.8395833333333333,0.8395833333333333,0.8395833333333333,0.8395833333333333,0.8395833333333333,0.8395833333333333,0.8395833333333333,0.8395833333333333,0.8395833333333333,0.8395833333333333,0.8395833333333333,0.8395833333333333,0.8395833333333333,0.8395833333333333,0.8395833333333333,0.8395833333333333,0.8395833333333333,0.8395833333333333,0.8395833333333333,0.8395833333333333,0.8395833333333333,0.8395833333333333,0.8395833333333333,0.8395833333333333,0.8395833333333333,0.8395833333333333,0.8395833333333333,0.8395833333333333,0.8395833333333333,0.8395833333333333,0.8395833333333333,0.8395833333333333,0.8395833333333333,0.8395833333333333,0.8395833333333333,0.8395833333333333,0.8395833333333333,0.8395833333333333,0.8395833333333333,0.8395833333333333,0.8395833333333333,0.8395833333333333,0.8395833333333333,0.8395833333333333,0.8395833333333333,0.8395833333333333,0.8395833333333333,0.8395833333333333,0.8395833333333333,0.8395833333333333,0.8395833333333333,0.8395833333333333,0.8395833333333333,0.8395833333333333,0.8395833333333333,0.8395833333333333,0.8395833333333333,0.8395833333333333,0.8395833333333333,0.8395833333333333,0.8395833333333333,0.8395833333333333,0.8395833333333333,0.8395833333333333,0.8395833333333333,0.8395833333333333,0.8395833333333333,0.8395833333333333,0.8395833333333333,0.8395833333333333,0.8395833333333333,0.8395833333333333,0.8395833333333333,0.8395833333333333,0.8395833333333333,0.8395833333333333,0.8395833333333333,0.8395833333333333,0.8395833333333333,0.8395833333333333,0.8395833333333333,0.8395833333333333,0.8395833333333333,0.8395833333333333,0.8395833333333333,0.8395833333333333,0.8395833333333333,0.8395833333333333,0.8395833333333333,0.8395833333333333,0.8395833333333333,0.8395833333333333,0.8395833333333333,0.8395833333333333,0.8395833333333333,0.8395833333333333,0.8395833333333333,0.8395833333333333,0.8395833333333333,0.8395833333333333,0.8395833333333333,0.8395833333333333,0.8395833333333333,0.8395833333333333,0.8395833333333333,0.8395833333333333,0.8395833333333333,0.8395833333333333,0.8395833333333333,0.8395833333333333,0.8395833333333333,0.8395833333333333,0.8395833333333333,0.8395833333333333,0.8395833333333333,0.8395833333333333,0.8395833333333333],\"yaxis\":\"y\",\"type\":\"scattergl\"}],                        {\"template\":{\"data\":{\"bar\":[{\"error_x\":{\"color\":\"#2a3f5f\"},\"error_y\":{\"color\":\"#2a3f5f\"},\"marker\":{\"line\":{\"color\":\"#E5ECF6\",\"width\":0.5},\"pattern\":{\"fillmode\":\"overlay\",\"size\":10,\"solidity\":0.2}},\"type\":\"bar\"}],\"barpolar\":[{\"marker\":{\"line\":{\"color\":\"#E5ECF6\",\"width\":0.5},\"pattern\":{\"fillmode\":\"overlay\",\"size\":10,\"solidity\":0.2}},\"type\":\"barpolar\"}],\"carpet\":[{\"aaxis\":{\"endlinecolor\":\"#2a3f5f\",\"gridcolor\":\"white\",\"linecolor\":\"white\",\"minorgridcolor\":\"white\",\"startlinecolor\":\"#2a3f5f\"},\"baxis\":{\"endlinecolor\":\"#2a3f5f\",\"gridcolor\":\"white\",\"linecolor\":\"white\",\"minorgridcolor\":\"white\",\"startlinecolor\":\"#2a3f5f\"},\"type\":\"carpet\"}],\"choropleth\":[{\"colorbar\":{\"outlinewidth\":0,\"ticks\":\"\"},\"type\":\"choropleth\"}],\"contour\":[{\"colorbar\":{\"outlinewidth\":0,\"ticks\":\"\"},\"colorscale\":[[0.0,\"#0d0887\"],[0.1111111111111111,\"#46039f\"],[0.2222222222222222,\"#7201a8\"],[0.3333333333333333,\"#9c179e\"],[0.4444444444444444,\"#bd3786\"],[0.5555555555555556,\"#d8576b\"],[0.6666666666666666,\"#ed7953\"],[0.7777777777777778,\"#fb9f3a\"],[0.8888888888888888,\"#fdca26\"],[1.0,\"#f0f921\"]],\"type\":\"contour\"}],\"contourcarpet\":[{\"colorbar\":{\"outlinewidth\":0,\"ticks\":\"\"},\"type\":\"contourcarpet\"}],\"heatmap\":[{\"colorbar\":{\"outlinewidth\":0,\"ticks\":\"\"},\"colorscale\":[[0.0,\"#0d0887\"],[0.1111111111111111,\"#46039f\"],[0.2222222222222222,\"#7201a8\"],[0.3333333333333333,\"#9c179e\"],[0.4444444444444444,\"#bd3786\"],[0.5555555555555556,\"#d8576b\"],[0.6666666666666666,\"#ed7953\"],[0.7777777777777778,\"#fb9f3a\"],[0.8888888888888888,\"#fdca26\"],[1.0,\"#f0f921\"]],\"type\":\"heatmap\"}],\"heatmapgl\":[{\"colorbar\":{\"outlinewidth\":0,\"ticks\":\"\"},\"colorscale\":[[0.0,\"#0d0887\"],[0.1111111111111111,\"#46039f\"],[0.2222222222222222,\"#7201a8\"],[0.3333333333333333,\"#9c179e\"],[0.4444444444444444,\"#bd3786\"],[0.5555555555555556,\"#d8576b\"],[0.6666666666666666,\"#ed7953\"],[0.7777777777777778,\"#fb9f3a\"],[0.8888888888888888,\"#fdca26\"],[1.0,\"#f0f921\"]],\"type\":\"heatmapgl\"}],\"histogram\":[{\"marker\":{\"pattern\":{\"fillmode\":\"overlay\",\"size\":10,\"solidity\":0.2}},\"type\":\"histogram\"}],\"histogram2d\":[{\"colorbar\":{\"outlinewidth\":0,\"ticks\":\"\"},\"colorscale\":[[0.0,\"#0d0887\"],[0.1111111111111111,\"#46039f\"],[0.2222222222222222,\"#7201a8\"],[0.3333333333333333,\"#9c179e\"],[0.4444444444444444,\"#bd3786\"],[0.5555555555555556,\"#d8576b\"],[0.6666666666666666,\"#ed7953\"],[0.7777777777777778,\"#fb9f3a\"],[0.8888888888888888,\"#fdca26\"],[1.0,\"#f0f921\"]],\"type\":\"histogram2d\"}],\"histogram2dcontour\":[{\"colorbar\":{\"outlinewidth\":0,\"ticks\":\"\"},\"colorscale\":[[0.0,\"#0d0887\"],[0.1111111111111111,\"#46039f\"],[0.2222222222222222,\"#7201a8\"],[0.3333333333333333,\"#9c179e\"],[0.4444444444444444,\"#bd3786\"],[0.5555555555555556,\"#d8576b\"],[0.6666666666666666,\"#ed7953\"],[0.7777777777777778,\"#fb9f3a\"],[0.8888888888888888,\"#fdca26\"],[1.0,\"#f0f921\"]],\"type\":\"histogram2dcontour\"}],\"mesh3d\":[{\"colorbar\":{\"outlinewidth\":0,\"ticks\":\"\"},\"type\":\"mesh3d\"}],\"parcoords\":[{\"line\":{\"colorbar\":{\"outlinewidth\":0,\"ticks\":\"\"}},\"type\":\"parcoords\"}],\"pie\":[{\"automargin\":true,\"type\":\"pie\"}],\"scatter\":[{\"marker\":{\"colorbar\":{\"outlinewidth\":0,\"ticks\":\"\"}},\"type\":\"scatter\"}],\"scatter3d\":[{\"line\":{\"colorbar\":{\"outlinewidth\":0,\"ticks\":\"\"}},\"marker\":{\"colorbar\":{\"outlinewidth\":0,\"ticks\":\"\"}},\"type\":\"scatter3d\"}],\"scattercarpet\":[{\"marker\":{\"colorbar\":{\"outlinewidth\":0,\"ticks\":\"\"}},\"type\":\"scattercarpet\"}],\"scattergeo\":[{\"marker\":{\"colorbar\":{\"outlinewidth\":0,\"ticks\":\"\"}},\"type\":\"scattergeo\"}],\"scattergl\":[{\"marker\":{\"colorbar\":{\"outlinewidth\":0,\"ticks\":\"\"}},\"type\":\"scattergl\"}],\"scattermapbox\":[{\"marker\":{\"colorbar\":{\"outlinewidth\":0,\"ticks\":\"\"}},\"type\":\"scattermapbox\"}],\"scatterpolar\":[{\"marker\":{\"colorbar\":{\"outlinewidth\":0,\"ticks\":\"\"}},\"type\":\"scatterpolar\"}],\"scatterpolargl\":[{\"marker\":{\"colorbar\":{\"outlinewidth\":0,\"ticks\":\"\"}},\"type\":\"scatterpolargl\"}],\"scatterternary\":[{\"marker\":{\"colorbar\":{\"outlinewidth\":0,\"ticks\":\"\"}},\"type\":\"scatterternary\"}],\"surface\":[{\"colorbar\":{\"outlinewidth\":0,\"ticks\":\"\"},\"colorscale\":[[0.0,\"#0d0887\"],[0.1111111111111111,\"#46039f\"],[0.2222222222222222,\"#7201a8\"],[0.3333333333333333,\"#9c179e\"],[0.4444444444444444,\"#bd3786\"],[0.5555555555555556,\"#d8576b\"],[0.6666666666666666,\"#ed7953\"],[0.7777777777777778,\"#fb9f3a\"],[0.8888888888888888,\"#fdca26\"],[1.0,\"#f0f921\"]],\"type\":\"surface\"}],\"table\":[{\"cells\":{\"fill\":{\"color\":\"#EBF0F8\"},\"line\":{\"color\":\"white\"}},\"header\":{\"fill\":{\"color\":\"#C8D4E3\"},\"line\":{\"color\":\"white\"}},\"type\":\"table\"}]},\"layout\":{\"annotationdefaults\":{\"arrowcolor\":\"#2a3f5f\",\"arrowhead\":0,\"arrowwidth\":1},\"autotypenumbers\":\"strict\",\"coloraxis\":{\"colorbar\":{\"outlinewidth\":0,\"ticks\":\"\"}},\"colorscale\":{\"diverging\":[[0,\"#8e0152\"],[0.1,\"#c51b7d\"],[0.2,\"#de77ae\"],[0.3,\"#f1b6da\"],[0.4,\"#fde0ef\"],[0.5,\"#f7f7f7\"],[0.6,\"#e6f5d0\"],[0.7,\"#b8e186\"],[0.8,\"#7fbc41\"],[0.9,\"#4d9221\"],[1,\"#276419\"]],\"sequential\":[[0.0,\"#0d0887\"],[0.1111111111111111,\"#46039f\"],[0.2222222222222222,\"#7201a8\"],[0.3333333333333333,\"#9c179e\"],[0.4444444444444444,\"#bd3786\"],[0.5555555555555556,\"#d8576b\"],[0.6666666666666666,\"#ed7953\"],[0.7777777777777778,\"#fb9f3a\"],[0.8888888888888888,\"#fdca26\"],[1.0,\"#f0f921\"]],\"sequentialminus\":[[0.0,\"#0d0887\"],[0.1111111111111111,\"#46039f\"],[0.2222222222222222,\"#7201a8\"],[0.3333333333333333,\"#9c179e\"],[0.4444444444444444,\"#bd3786\"],[0.5555555555555556,\"#d8576b\"],[0.6666666666666666,\"#ed7953\"],[0.7777777777777778,\"#fb9f3a\"],[0.8888888888888888,\"#fdca26\"],[1.0,\"#f0f921\"]]},\"colorway\":[\"#636efa\",\"#EF553B\",\"#00cc96\",\"#ab63fa\",\"#FFA15A\",\"#19d3f3\",\"#FF6692\",\"#B6E880\",\"#FF97FF\",\"#FECB52\"],\"font\":{\"color\":\"#2a3f5f\"},\"geo\":{\"bgcolor\":\"white\",\"lakecolor\":\"white\",\"landcolor\":\"#E5ECF6\",\"showlakes\":true,\"showland\":true,\"subunitcolor\":\"white\"},\"hoverlabel\":{\"align\":\"left\"},\"hovermode\":\"closest\",\"mapbox\":{\"style\":\"light\"},\"paper_bgcolor\":\"white\",\"plot_bgcolor\":\"#E5ECF6\",\"polar\":{\"angularaxis\":{\"gridcolor\":\"white\",\"linecolor\":\"white\",\"ticks\":\"\"},\"bgcolor\":\"#E5ECF6\",\"radialaxis\":{\"gridcolor\":\"white\",\"linecolor\":\"white\",\"ticks\":\"\"}},\"scene\":{\"xaxis\":{\"backgroundcolor\":\"#E5ECF6\",\"gridcolor\":\"white\",\"gridwidth\":2,\"linecolor\":\"white\",\"showbackground\":true,\"ticks\":\"\",\"zerolinecolor\":\"white\"},\"yaxis\":{\"backgroundcolor\":\"#E5ECF6\",\"gridcolor\":\"white\",\"gridwidth\":2,\"linecolor\":\"white\",\"showbackground\":true,\"ticks\":\"\",\"zerolinecolor\":\"white\"},\"zaxis\":{\"backgroundcolor\":\"#E5ECF6\",\"gridcolor\":\"white\",\"gridwidth\":2,\"linecolor\":\"white\",\"showbackground\":true,\"ticks\":\"\",\"zerolinecolor\":\"white\"}},\"shapedefaults\":{\"line\":{\"color\":\"#2a3f5f\"}},\"ternary\":{\"aaxis\":{\"gridcolor\":\"white\",\"linecolor\":\"white\",\"ticks\":\"\"},\"baxis\":{\"gridcolor\":\"white\",\"linecolor\":\"white\",\"ticks\":\"\"},\"bgcolor\":\"#E5ECF6\",\"caxis\":{\"gridcolor\":\"white\",\"linecolor\":\"white\",\"ticks\":\"\"}},\"title\":{\"x\":0.05},\"xaxis\":{\"automargin\":true,\"gridcolor\":\"white\",\"linecolor\":\"white\",\"ticks\":\"\",\"title\":{\"standoff\":15},\"zerolinecolor\":\"white\",\"zerolinewidth\":2},\"yaxis\":{\"automargin\":true,\"gridcolor\":\"white\",\"linecolor\":\"white\",\"ticks\":\"\",\"title\":{\"standoff\":15},\"zerolinecolor\":\"white\",\"zerolinewidth\":2}}},\"xaxis\":{\"anchor\":\"y\",\"domain\":[0.0,1.0],\"title\":{\"text\":\"Epochs\"}},\"yaxis\":{\"anchor\":\"x\",\"domain\":[0.0,1.0],\"title\":{\"text\":\"Accuracy\"}},\"legend\":{\"title\":{\"text\":\"Runs (Asc)\"},\"tracegroupgap\":0},\"title\":{\"text\":\"Accuracy Vs Epochs\"}},                        {\"responsive\": true}                    ).then(function(){\n",
              "                            \n",
              "var gd = document.getElementById('e3da8f45-bdb2-423f-97d3-04aca9e0e88a');\n",
              "var x = new MutationObserver(function (mutations, observer) {{\n",
              "        var display = window.getComputedStyle(gd).display;\n",
              "        if (!display || display === 'none') {{\n",
              "            console.log([gd, 'removed!']);\n",
              "            Plotly.purge(gd);\n",
              "            observer.disconnect();\n",
              "        }}\n",
              "}});\n",
              "\n",
              "// Listen for the removal of the full notebook cells\n",
              "var notebookContainer = gd.closest('#notebook-container');\n",
              "if (notebookContainer) {{\n",
              "    x.observe(notebookContainer, {childList: true});\n",
              "}}\n",
              "\n",
              "// Listen for the clearing of the current output cell\n",
              "var outputEl = gd.closest('.output');\n",
              "if (outputEl) {{\n",
              "    x.observe(outputEl, {childList: true});\n",
              "}}\n",
              "\n",
              "                        })                };                            </script>        </div>\n",
              "</body>\n",
              "</html>"
            ]
          },
          "metadata": {}
        }
      ]
    },
    {
      "cell_type": "markdown",
      "metadata": {
        "id": "oF3MWdyp9gt6"
      },
      "source": [
        "##### Compare Number of Informants"
      ],
      "id": "oF3MWdyp9gt6"
    },
    {
      "cell_type": "code",
      "metadata": {
        "id": "8e2b9181"
      },
      "source": [
        "# compares a specifed sample number for randomly selected number of informants within a defined range\n",
        "def compareNumInform(nn, X, Y, lower, upper, n_tests):\n",
        "    test_values = list(map(lambda x: random.randint(lower, upper), range(n_tests))) \n",
        "    results = {}\n",
        "\n",
        "    i = 1\n",
        "    for ni in test_values: \n",
        "        ten_nets = run_ten(nn, X_train, Y_train, 20, 300, ni, \"distance\", 0.8)\n",
        "        results[ni] = [get_metrics(ten_nets), ten_nets]\n",
        "        print('progress', f'{i}/{len(test_values)}')\n",
        "        i+=1\n",
        "            \n",
        "    # results are sorted descending based on mean accuracy   \n",
        "    sorted_by_mean = dict(sorted(results.items(), key=lambda item: item[1][0]))\n",
        "    for key, value in sorted_by_mean.items():\n",
        "        print('ni', key, ' : ', 'mean accuracy',round(value[0][0], 4), f' std dev ({round(value[0][1], 4)})')        \n",
        "\n",
        "    return sorted_by_mean"
      ],
      "id": "8e2b9181",
      "execution_count": null,
      "outputs": []
    },
    {
      "cell_type": "code",
      "metadata": {
        "colab": {
          "base_uri": "https://localhost:8080/"
        },
        "id": "b47d055c",
        "outputId": "5577c933-00eb-4108-9d6b-65d32dd85636"
      },
      "source": [
        "compardInformants = compareNumInform(NeuralNetwork([4,10,10,2], ['relu','relu','sigmoid']), X_train, Y_train, 2, 10, 10)\n"
      ],
      "id": "b47d055c",
      "execution_count": null,
      "outputs": [
        {
          "output_type": "stream",
          "name": "stdout",
          "text": [
            "progress 1/10\n",
            "progress 2/10\n",
            "progress 3/10\n",
            "progress 4/10\n",
            "progress 5/10\n",
            "progress 6/10\n",
            "progress 7/10\n",
            "progress 8/10\n",
            "progress 9/10\n",
            "progress 10/10\n",
            "ni 8  :  mean accuracy 0.9206  std dev (0.1567)\n",
            "ni 2  :  mean accuracy 0.9372  std dev (0.1331)\n",
            "ni 6  :  mean accuracy 0.938  std dev (0.1311)\n",
            "ni 4  :  mean accuracy 0.9709  std dev (0.0761)\n",
            "ni 10  :  mean accuracy 0.9772  std dev (0.0593)\n",
            "ni 9  :  mean accuracy 0.9954  std dev (0.0037)\n",
            "ni 3  :  mean accuracy 0.9981  std dev (0.003)\n"
          ]
        }
      ]
    },
    {
      "cell_type": "code",
      "metadata": {
        "colab": {
          "base_uri": "https://localhost:8080/",
          "height": 559
        },
        "id": "nkLVGDXw7jJc",
        "outputId": "feeb8cda-845a-41bb-ddca-a316490a1ff0"
      },
      "source": [
        "# 10 runs from the highest accuracy found from number of iterations search\n",
        "key1_i = list(compardInformants.keys())[6]\n",
        "view_accuracyEpochAll(compardInformants[key1_i][1])"
      ],
      "id": "nkLVGDXw7jJc",
      "execution_count": null,
      "outputs": [
        {
          "output_type": "stream",
          "name": "stdout",
          "text": [
            "(300, 10)\n"
          ]
        },
        {
          "output_type": "display_data",
          "data": {
            "text/html": [
              "<html>\n",
              "<head><meta charset=\"utf-8\" /></head>\n",
              "<body>\n",
              "    <div>            <script src=\"https://cdnjs.cloudflare.com/ajax/libs/mathjax/2.7.5/MathJax.js?config=TeX-AMS-MML_SVG\"></script><script type=\"text/javascript\">if (window.MathJax) {MathJax.Hub.Config({SVG: {font: \"STIX-Web\"}});}</script>                <script type=\"text/javascript\">window.PlotlyConfig = {MathJaxConfig: 'local'};</script>\n",
              "        <script src=\"https://cdn.plot.ly/plotly-2.6.3.min.js\"></script>                <div id=\"6ca38ba9-a44e-47de-b17e-10f1b5d1e373\" class=\"plotly-graph-div\" style=\"height:525px; width:100%;\"></div>            <script type=\"text/javascript\">                                    window.PLOTLYENV=window.PLOTLYENV || {};                                    if (document.getElementById(\"6ca38ba9-a44e-47de-b17e-10f1b5d1e373\")) {                    Plotly.newPlot(                        \"6ca38ba9-a44e-47de-b17e-10f1b5d1e373\",                        [{\"hovertemplate\":\"variable=A<br>index=%{x}<br>value=%{y}<extra></extra>\",\"legendgroup\":\"A\",\"line\":{\"color\":\"#636efa\",\"dash\":\"solid\"},\"marker\":{\"symbol\":\"circle\"},\"mode\":\"lines\",\"name\":\"A\",\"showlegend\":true,\"x\":[0,1,2,3,4,5,6,7,8,9,10,11,12,13,14,15,16,17,18,19,20,21,22,23,24,25,26,27,28,29,30,31,32,33,34,35,36,37,38,39,40,41,42,43,44,45,46,47,48,49,50,51,52,53,54,55,56,57,58,59,60,61,62,63,64,65,66,67,68,69,70,71,72,73,74,75,76,77,78,79,80,81,82,83,84,85,86,87,88,89,90,91,92,93,94,95,96,97,98,99,100,101,102,103,104,105,106,107,108,109,110,111,112,113,114,115,116,117,118,119,120,121,122,123,124,125,126,127,128,129,130,131,132,133,134,135,136,137,138,139,140,141,142,143,144,145,146,147,148,149,150,151,152,153,154,155,156,157,158,159,160,161,162,163,164,165,166,167,168,169,170,171,172,173,174,175,176,177,178,179,180,181,182,183,184,185,186,187,188,189,190,191,192,193,194,195,196,197,198,199,200,201,202,203,204,205,206,207,208,209,210,211,212,213,214,215,216,217,218,219,220,221,222,223,224,225,226,227,228,229,230,231,232,233,234,235,236,237,238,239,240,241,242,243,244,245,246,247,248,249,250,251,252,253,254,255,256,257,258,259,260,261,262,263,264,265,266,267,268,269,270,271,272,273,274,275,276,277,278,279,280,281,282,283,284,285,286,287,288,289,290,291,292,293,294,295,296,297,298,299],\"xaxis\":\"x\",\"y\":[0.565625,0.5677083333333334,0.65625,0.5177083333333333,0.5145833333333333,0.559375,0.565625,0.6270833333333333,0.5666666666666667,0.565625,0.565625,0.74375,0.7114583333333333,0.6979166666666666,0.6875,0.7625,0.95,0.64375,0.9229166666666667,0.8927083333333333,0.871875,0.878125,0.8552083333333333,0.8729166666666667,0.8541666666666666,0.85625,0.8739583333333333,0.9354166666666667,0.971875,0.9875,0.9895833333333334,0.9833333333333333,0.959375,0.9958333333333333,0.9885416666666667,0.9875,0.990625,0.9833333333333333,0.9916666666666667,0.9895833333333334,0.99375,0.99375,0.9947916666666666,0.9927083333333333,0.990625,0.99375,0.98125,0.9895833333333334,0.9979166666666667,0.9979166666666667,0.9979166666666667,0.9947916666666666,0.9958333333333333,0.9958333333333333,0.996875,0.9979166666666667,0.9958333333333333,0.996875,0.9947916666666666,0.996875,0.9947916666666666,0.9958333333333333,0.9958333333333333,0.99375,0.9947916666666666,0.99375,0.9958333333333333,0.9958333333333333,0.9958333333333333,0.9947916666666666,0.99375,0.9947916666666666,0.99375,0.9958333333333333,0.9958333333333333,0.99375,0.9979166666666667,0.996875,0.9958333333333333,0.9958333333333333,0.9958333333333333,0.9958333333333333,0.9979166666666667,0.996875,0.9958333333333333,0.9979166666666667,0.9989583333333333,0.9979166666666667,0.9989583333333333,0.9989583333333333,0.9989583333333333,0.9979166666666667,0.9979166666666667,0.9989583333333333,0.9979166666666667,0.9989583333333333,0.9989583333333333,0.9989583333333333,0.9989583333333333,1.0,0.9989583333333333,0.9989583333333333,1.0,1.0,1.0,1.0,1.0,1.0,1.0,1.0,1.0,1.0,1.0,1.0,1.0,1.0,1.0,1.0,1.0,1.0,1.0,1.0,1.0,1.0,1.0,1.0,1.0,1.0,1.0,1.0,1.0,1.0,1.0,1.0,1.0,1.0,1.0,1.0,1.0,1.0,1.0,1.0,1.0,1.0,1.0,1.0,1.0,1.0,1.0,1.0,1.0,1.0,1.0,1.0,1.0,1.0,1.0,1.0,1.0,1.0,1.0,1.0,1.0,1.0,1.0,1.0,1.0,1.0,1.0,1.0,1.0,1.0,1.0,1.0,1.0,1.0,1.0,1.0,1.0,1.0,1.0,1.0,1.0,1.0,1.0,1.0,1.0,1.0,1.0,1.0,1.0,1.0,1.0,1.0,1.0,1.0,1.0,1.0,1.0,1.0,1.0,1.0,1.0,1.0,1.0,1.0,1.0,1.0,1.0,1.0,1.0,1.0,1.0,1.0,1.0,1.0,1.0,1.0,1.0,1.0,1.0,1.0,1.0,1.0,1.0,1.0,1.0,1.0,1.0,1.0,1.0,1.0,1.0,1.0,1.0,1.0,1.0,1.0,1.0,1.0,1.0,1.0,1.0,1.0,1.0,1.0,1.0,1.0,1.0,1.0,1.0,1.0,1.0,1.0,1.0,1.0,1.0,1.0,1.0,1.0,1.0,1.0,1.0,1.0,1.0,1.0,1.0,1.0,1.0,1.0,1.0,1.0,1.0,1.0,1.0,1.0,1.0,1.0,1.0,1.0,1.0,1.0,1.0,1.0,1.0,1.0,1.0,1.0,1.0,1.0,1.0,1.0,1.0,1.0,1.0,1.0,1.0,1.0,1.0,1.0],\"yaxis\":\"y\",\"type\":\"scattergl\"},{\"hovertemplate\":\"variable=B<br>index=%{x}<br>value=%{y}<extra></extra>\",\"legendgroup\":\"B\",\"line\":{\"color\":\"#EF553B\",\"dash\":\"solid\"},\"marker\":{\"symbol\":\"circle\"},\"mode\":\"lines\",\"name\":\"B\",\"showlegend\":true,\"x\":[0,1,2,3,4,5,6,7,8,9,10,11,12,13,14,15,16,17,18,19,20,21,22,23,24,25,26,27,28,29,30,31,32,33,34,35,36,37,38,39,40,41,42,43,44,45,46,47,48,49,50,51,52,53,54,55,56,57,58,59,60,61,62,63,64,65,66,67,68,69,70,71,72,73,74,75,76,77,78,79,80,81,82,83,84,85,86,87,88,89,90,91,92,93,94,95,96,97,98,99,100,101,102,103,104,105,106,107,108,109,110,111,112,113,114,115,116,117,118,119,120,121,122,123,124,125,126,127,128,129,130,131,132,133,134,135,136,137,138,139,140,141,142,143,144,145,146,147,148,149,150,151,152,153,154,155,156,157,158,159,160,161,162,163,164,165,166,167,168,169,170,171,172,173,174,175,176,177,178,179,180,181,182,183,184,185,186,187,188,189,190,191,192,193,194,195,196,197,198,199,200,201,202,203,204,205,206,207,208,209,210,211,212,213,214,215,216,217,218,219,220,221,222,223,224,225,226,227,228,229,230,231,232,233,234,235,236,237,238,239,240,241,242,243,244,245,246,247,248,249,250,251,252,253,254,255,256,257,258,259,260,261,262,263,264,265,266,267,268,269,270,271,272,273,274,275,276,277,278,279,280,281,282,283,284,285,286,287,288,289,290,291,292,293,294,295,296,297,298,299],\"xaxis\":\"x\",\"y\":[0.85,0.8135416666666667,0.6135416666666667,0.6041666666666666,0.6979166666666666,0.9104166666666667,0.8833333333333333,0.8927083333333333,0.9708333333333333,0.9729166666666667,0.9364583333333333,0.9604166666666667,0.96875,0.9635416666666666,0.9677083333333333,0.9802083333333333,0.984375,0.9770833333333333,0.9427083333333334,0.9239583333333333,0.9614583333333333,0.971875,0.9666666666666667,0.971875,0.959375,0.934375,0.9375,0.971875,0.9875,0.9697916666666667,0.9791666666666666,0.978125,0.9822916666666667,0.990625,0.98125,0.9927083333333333,0.9958333333333333,0.9979166666666667,0.990625,0.9958333333333333,0.9979166666666667,0.996875,0.9885416666666667,0.9958333333333333,0.9958333333333333,0.9979166666666667,0.9979166666666667,0.996875,0.9958333333333333,0.996875,0.9989583333333333,0.9979166666666667,0.996875,0.9947916666666666,1.0,0.9989583333333333,1.0,1.0,1.0,1.0,1.0,1.0,1.0,1.0,1.0,1.0,1.0,1.0,1.0,1.0,1.0,1.0,1.0,1.0,1.0,1.0,1.0,1.0,1.0,1.0,1.0,1.0,1.0,1.0,1.0,1.0,1.0,1.0,1.0,1.0,1.0,1.0,1.0,1.0,1.0,1.0,1.0,1.0,1.0,1.0,1.0,1.0,1.0,1.0,1.0,1.0,1.0,1.0,1.0,1.0,1.0,1.0,1.0,1.0,1.0,1.0,1.0,1.0,1.0,1.0,1.0,1.0,1.0,1.0,1.0,1.0,1.0,1.0,1.0,1.0,1.0,1.0,1.0,1.0,1.0,1.0,1.0,1.0,1.0,1.0,1.0,1.0,1.0,1.0,1.0,1.0,1.0,1.0,1.0,1.0,1.0,1.0,1.0,1.0,1.0,1.0,1.0,1.0,1.0,1.0,1.0,1.0,1.0,1.0,1.0,1.0,1.0,1.0,1.0,1.0,1.0,1.0,1.0,1.0,1.0,1.0,1.0,1.0,1.0,1.0,1.0,1.0,1.0,1.0,1.0,1.0,1.0,1.0,1.0,1.0,1.0,1.0,1.0,1.0,1.0,1.0,1.0,1.0,1.0,1.0,1.0,1.0,1.0,1.0,1.0,1.0,1.0,1.0,1.0,1.0,1.0,1.0,1.0,1.0,1.0,1.0,1.0,1.0,1.0,1.0,1.0,1.0,1.0,1.0,1.0,1.0,1.0,1.0,1.0,1.0,1.0,1.0,1.0,1.0,1.0,1.0,1.0,1.0,1.0,1.0,1.0,1.0,1.0,1.0,1.0,1.0,1.0,1.0,1.0,1.0,1.0,1.0,1.0,1.0,1.0,1.0,1.0,1.0,1.0,1.0,1.0,1.0,1.0,1.0,1.0,1.0,1.0,1.0,1.0,1.0,1.0,1.0,1.0,1.0,1.0,1.0,1.0,1.0,1.0,1.0,1.0,1.0,1.0,1.0,1.0,1.0,1.0,1.0,1.0,1.0,1.0,1.0,1.0,1.0,1.0,1.0,1.0,1.0,1.0,1.0],\"yaxis\":\"y\",\"type\":\"scattergl\"},{\"hovertemplate\":\"variable=C<br>index=%{x}<br>value=%{y}<extra></extra>\",\"legendgroup\":\"C\",\"line\":{\"color\":\"#00cc96\",\"dash\":\"solid\"},\"marker\":{\"symbol\":\"circle\"},\"mode\":\"lines\",\"name\":\"C\",\"showlegend\":true,\"x\":[0,1,2,3,4,5,6,7,8,9,10,11,12,13,14,15,16,17,18,19,20,21,22,23,24,25,26,27,28,29,30,31,32,33,34,35,36,37,38,39,40,41,42,43,44,45,46,47,48,49,50,51,52,53,54,55,56,57,58,59,60,61,62,63,64,65,66,67,68,69,70,71,72,73,74,75,76,77,78,79,80,81,82,83,84,85,86,87,88,89,90,91,92,93,94,95,96,97,98,99,100,101,102,103,104,105,106,107,108,109,110,111,112,113,114,115,116,117,118,119,120,121,122,123,124,125,126,127,128,129,130,131,132,133,134,135,136,137,138,139,140,141,142,143,144,145,146,147,148,149,150,151,152,153,154,155,156,157,158,159,160,161,162,163,164,165,166,167,168,169,170,171,172,173,174,175,176,177,178,179,180,181,182,183,184,185,186,187,188,189,190,191,192,193,194,195,196,197,198,199,200,201,202,203,204,205,206,207,208,209,210,211,212,213,214,215,216,217,218,219,220,221,222,223,224,225,226,227,228,229,230,231,232,233,234,235,236,237,238,239,240,241,242,243,244,245,246,247,248,249,250,251,252,253,254,255,256,257,258,259,260,261,262,263,264,265,266,267,268,269,270,271,272,273,274,275,276,277,278,279,280,281,282,283,284,285,286,287,288,289,290,291,292,293,294,295,296,297,298,299],\"xaxis\":\"x\",\"y\":[0.5697916666666667,0.6666666666666666,0.7458333333333333,0.7333333333333333,0.6583333333333333,0.625,0.8385416666666666,0.8395833333333333,0.7958333333333333,0.83125,0.88125,0.89375,0.875,0.8833333333333333,0.9375,0.94375,0.95,0.9125,0.934375,0.9572916666666667,0.9260416666666667,0.9322916666666666,0.9322916666666666,0.9447916666666667,0.9447916666666667,0.9510416666666667,0.95625,0.9614583333333333,0.9635416666666666,0.9489583333333333,0.9770833333333333,0.98125,0.9895833333333334,0.990625,0.9854166666666667,0.99375,0.9916666666666667,0.9958333333333333,0.9979166666666667,0.990625,0.9958333333333333,0.9958333333333333,0.996875,0.996875,0.996875,0.9958333333333333,0.996875,0.9989583333333333,0.9989583333333333,0.9927083333333333,1.0,0.9989583333333333,0.9979166666666667,0.9979166666666667,0.996875,0.9989583333333333,1.0,0.9989583333333333,1.0,1.0,0.9979166666666667,1.0,1.0,1.0,1.0,1.0,1.0,1.0,1.0,1.0,1.0,1.0,1.0,0.9989583333333333,0.9989583333333333,0.9989583333333333,1.0,1.0,1.0,1.0,1.0,1.0,1.0,1.0,1.0,1.0,1.0,1.0,1.0,1.0,1.0,1.0,1.0,1.0,1.0,1.0,1.0,1.0,1.0,1.0,1.0,1.0,1.0,1.0,1.0,1.0,1.0,1.0,1.0,1.0,1.0,1.0,1.0,1.0,1.0,1.0,1.0,1.0,1.0,1.0,1.0,1.0,1.0,1.0,1.0,1.0,1.0,1.0,1.0,1.0,1.0,1.0,1.0,1.0,1.0,1.0,1.0,1.0,1.0,1.0,1.0,1.0,1.0,1.0,1.0,1.0,1.0,1.0,1.0,1.0,1.0,1.0,1.0,1.0,1.0,1.0,1.0,1.0,1.0,1.0,1.0,1.0,1.0,1.0,1.0,1.0,1.0,1.0,1.0,1.0,1.0,1.0,1.0,1.0,1.0,1.0,1.0,1.0,1.0,1.0,1.0,1.0,1.0,1.0,1.0,1.0,1.0,1.0,1.0,1.0,1.0,1.0,1.0,1.0,1.0,1.0,1.0,1.0,1.0,1.0,1.0,1.0,1.0,1.0,1.0,1.0,1.0,1.0,1.0,1.0,1.0,1.0,1.0,1.0,1.0,1.0,1.0,1.0,1.0,1.0,1.0,1.0,1.0,1.0,1.0,1.0,1.0,1.0,1.0,1.0,1.0,1.0,1.0,1.0,1.0,1.0,1.0,1.0,1.0,1.0,1.0,1.0,1.0,1.0,1.0,1.0,1.0,1.0,1.0,1.0,1.0,1.0,1.0,1.0,1.0,1.0,1.0,1.0,1.0,1.0,1.0,1.0,1.0,1.0,1.0,1.0,1.0,1.0,1.0,1.0,1.0,1.0,1.0,1.0,1.0,1.0,1.0,1.0,1.0,1.0,1.0,1.0,1.0,1.0,1.0,1.0,1.0,1.0,1.0,1.0,1.0,1.0,1.0,1.0,1.0,1.0,1.0,1.0,1.0,1.0],\"yaxis\":\"y\",\"type\":\"scattergl\"},{\"hovertemplate\":\"variable=D<br>index=%{x}<br>value=%{y}<extra></extra>\",\"legendgroup\":\"D\",\"line\":{\"color\":\"#ab63fa\",\"dash\":\"solid\"},\"marker\":{\"symbol\":\"circle\"},\"mode\":\"lines\",\"name\":\"D\",\"showlegend\":true,\"x\":[0,1,2,3,4,5,6,7,8,9,10,11,12,13,14,15,16,17,18,19,20,21,22,23,24,25,26,27,28,29,30,31,32,33,34,35,36,37,38,39,40,41,42,43,44,45,46,47,48,49,50,51,52,53,54,55,56,57,58,59,60,61,62,63,64,65,66,67,68,69,70,71,72,73,74,75,76,77,78,79,80,81,82,83,84,85,86,87,88,89,90,91,92,93,94,95,96,97,98,99,100,101,102,103,104,105,106,107,108,109,110,111,112,113,114,115,116,117,118,119,120,121,122,123,124,125,126,127,128,129,130,131,132,133,134,135,136,137,138,139,140,141,142,143,144,145,146,147,148,149,150,151,152,153,154,155,156,157,158,159,160,161,162,163,164,165,166,167,168,169,170,171,172,173,174,175,176,177,178,179,180,181,182,183,184,185,186,187,188,189,190,191,192,193,194,195,196,197,198,199,200,201,202,203,204,205,206,207,208,209,210,211,212,213,214,215,216,217,218,219,220,221,222,223,224,225,226,227,228,229,230,231,232,233,234,235,236,237,238,239,240,241,242,243,244,245,246,247,248,249,250,251,252,253,254,255,256,257,258,259,260,261,262,263,264,265,266,267,268,269,270,271,272,273,274,275,276,277,278,279,280,281,282,283,284,285,286,287,288,289,290,291,292,293,294,295,296,297,298,299],\"xaxis\":\"x\",\"y\":[0.5791666666666667,0.7458333333333333,0.6802083333333333,0.6354166666666666,0.6322916666666667,0.7583333333333333,0.7177083333333333,0.6864583333333333,0.759375,0.7791666666666667,0.8229166666666666,0.81875,0.946875,0.8072916666666666,0.8229166666666666,0.8385416666666666,0.8604166666666667,0.834375,0.8395833333333333,0.8364583333333333,0.846875,0.903125,0.9354166666666667,0.9604166666666667,0.96875,0.98125,0.978125,0.9822916666666667,0.975,0.953125,0.9791666666666666,0.9739583333333334,0.9822916666666667,0.9854166666666667,0.984375,0.9885416666666667,0.9895833333333334,0.99375,0.996875,0.9979166666666667,0.9979166666666667,0.9979166666666667,0.9989583333333333,0.9979166666666667,0.9979166666666667,0.9989583333333333,0.9979166666666667,1.0,1.0,1.0,1.0,1.0,1.0,1.0,1.0,1.0,1.0,1.0,0.9989583333333333,1.0,1.0,1.0,1.0,1.0,1.0,1.0,1.0,1.0,1.0,1.0,1.0,1.0,1.0,1.0,1.0,1.0,1.0,1.0,1.0,1.0,1.0,1.0,1.0,1.0,1.0,1.0,1.0,1.0,1.0,1.0,1.0,1.0,1.0,1.0,1.0,1.0,1.0,1.0,1.0,1.0,1.0,1.0,1.0,1.0,1.0,1.0,1.0,1.0,1.0,1.0,1.0,1.0,1.0,1.0,1.0,1.0,1.0,1.0,1.0,1.0,1.0,1.0,1.0,1.0,1.0,1.0,1.0,1.0,1.0,1.0,1.0,1.0,1.0,1.0,1.0,1.0,1.0,1.0,1.0,1.0,1.0,1.0,1.0,1.0,1.0,1.0,1.0,1.0,1.0,1.0,1.0,1.0,1.0,1.0,1.0,1.0,1.0,1.0,1.0,1.0,1.0,1.0,1.0,1.0,1.0,1.0,1.0,1.0,1.0,1.0,1.0,1.0,1.0,1.0,1.0,1.0,1.0,1.0,1.0,1.0,1.0,1.0,1.0,1.0,1.0,1.0,1.0,1.0,1.0,1.0,1.0,1.0,1.0,1.0,1.0,1.0,1.0,1.0,1.0,1.0,1.0,1.0,1.0,1.0,1.0,1.0,1.0,1.0,1.0,1.0,1.0,1.0,1.0,1.0,1.0,1.0,1.0,1.0,1.0,1.0,1.0,1.0,1.0,1.0,1.0,1.0,1.0,1.0,1.0,1.0,1.0,1.0,1.0,1.0,1.0,1.0,1.0,1.0,1.0,1.0,1.0,1.0,1.0,1.0,1.0,1.0,1.0,1.0,1.0,1.0,1.0,1.0,1.0,1.0,1.0,1.0,1.0,1.0,1.0,1.0,1.0,1.0,1.0,1.0,1.0,1.0,1.0,1.0,1.0,1.0,1.0,1.0,1.0,1.0,1.0,1.0,1.0,1.0,1.0,1.0,1.0,1.0,1.0,1.0,1.0,1.0,1.0,1.0,1.0,1.0,1.0,1.0,1.0,1.0,1.0,1.0,1.0,1.0,1.0,1.0],\"yaxis\":\"y\",\"type\":\"scattergl\"},{\"hovertemplate\":\"variable=E<br>index=%{x}<br>value=%{y}<extra></extra>\",\"legendgroup\":\"E\",\"line\":{\"color\":\"#FFA15A\",\"dash\":\"solid\"},\"marker\":{\"symbol\":\"circle\"},\"mode\":\"lines\",\"name\":\"E\",\"showlegend\":true,\"x\":[0,1,2,3,4,5,6,7,8,9,10,11,12,13,14,15,16,17,18,19,20,21,22,23,24,25,26,27,28,29,30,31,32,33,34,35,36,37,38,39,40,41,42,43,44,45,46,47,48,49,50,51,52,53,54,55,56,57,58,59,60,61,62,63,64,65,66,67,68,69,70,71,72,73,74,75,76,77,78,79,80,81,82,83,84,85,86,87,88,89,90,91,92,93,94,95,96,97,98,99,100,101,102,103,104,105,106,107,108,109,110,111,112,113,114,115,116,117,118,119,120,121,122,123,124,125,126,127,128,129,130,131,132,133,134,135,136,137,138,139,140,141,142,143,144,145,146,147,148,149,150,151,152,153,154,155,156,157,158,159,160,161,162,163,164,165,166,167,168,169,170,171,172,173,174,175,176,177,178,179,180,181,182,183,184,185,186,187,188,189,190,191,192,193,194,195,196,197,198,199,200,201,202,203,204,205,206,207,208,209,210,211,212,213,214,215,216,217,218,219,220,221,222,223,224,225,226,227,228,229,230,231,232,233,234,235,236,237,238,239,240,241,242,243,244,245,246,247,248,249,250,251,252,253,254,255,256,257,258,259,260,261,262,263,264,265,266,267,268,269,270,271,272,273,274,275,276,277,278,279,280,281,282,283,284,285,286,287,288,289,290,291,292,293,294,295,296,297,298,299],\"xaxis\":\"x\",\"y\":[0.565625,0.5947916666666667,0.790625,0.7760416666666666,0.7104166666666667,0.8041666666666667,0.8739583333333333,0.8864583333333333,0.9135416666666667,0.9260416666666667,0.846875,0.903125,0.9291666666666667,0.9291666666666667,0.9104166666666667,0.9020833333333333,0.9125,0.9385416666666667,0.9364583333333333,0.93125,0.946875,0.95,0.9510416666666667,0.9635416666666666,0.9583333333333334,0.9395833333333333,0.946875,0.9541666666666667,0.9520833333333333,0.95,0.953125,0.928125,0.921875,0.9364583333333333,0.9447916666666667,0.95625,0.9552083333333333,0.9572916666666667,0.9677083333333333,0.9708333333333333,0.975,0.9645833333333333,0.9760416666666667,0.9885416666666667,0.9927083333333333,0.9916666666666667,0.9885416666666667,0.9927083333333333,0.99375,0.9927083333333333,0.9916666666666667,0.9916666666666667,0.99375,0.9958333333333333,0.9947916666666666,0.9979166666666667,0.9958333333333333,0.9947916666666666,0.996875,0.9958333333333333,0.990625,0.9916666666666667,0.9927083333333333,0.9979166666666667,0.9979166666666667,0.9989583333333333,0.9989583333333333,1.0,1.0,1.0,1.0,1.0,1.0,1.0,1.0,1.0,1.0,1.0,1.0,1.0,1.0,1.0,1.0,1.0,1.0,1.0,1.0,1.0,1.0,1.0,1.0,1.0,1.0,1.0,1.0,1.0,1.0,1.0,1.0,1.0,1.0,1.0,1.0,1.0,1.0,1.0,1.0,1.0,1.0,1.0,1.0,1.0,1.0,1.0,1.0,1.0,1.0,1.0,1.0,1.0,1.0,1.0,1.0,1.0,1.0,1.0,1.0,1.0,1.0,1.0,1.0,1.0,1.0,1.0,1.0,1.0,1.0,1.0,1.0,1.0,1.0,1.0,1.0,1.0,1.0,1.0,1.0,1.0,1.0,1.0,1.0,1.0,1.0,1.0,1.0,1.0,1.0,1.0,1.0,1.0,1.0,1.0,1.0,1.0,1.0,1.0,1.0,1.0,1.0,1.0,1.0,1.0,1.0,1.0,1.0,1.0,1.0,1.0,1.0,1.0,1.0,1.0,1.0,1.0,1.0,1.0,1.0,1.0,1.0,1.0,1.0,1.0,1.0,1.0,1.0,1.0,1.0,1.0,1.0,1.0,1.0,1.0,1.0,1.0,1.0,1.0,1.0,1.0,1.0,1.0,1.0,1.0,1.0,1.0,1.0,1.0,1.0,1.0,1.0,1.0,1.0,1.0,1.0,1.0,1.0,1.0,1.0,1.0,1.0,1.0,1.0,1.0,1.0,1.0,1.0,1.0,1.0,1.0,1.0,1.0,1.0,1.0,1.0,1.0,1.0,1.0,1.0,1.0,1.0,1.0,1.0,1.0,1.0,1.0,1.0,1.0,1.0,1.0,1.0,1.0,1.0,1.0,1.0,1.0,1.0,1.0,1.0,1.0,1.0,1.0,1.0,1.0,1.0,1.0,1.0,1.0,1.0,1.0,1.0,1.0,1.0,1.0,1.0,1.0,1.0,1.0,1.0,1.0,1.0,1.0,1.0,1.0,1.0,1.0,1.0,1.0,1.0,1.0,1.0,1.0],\"yaxis\":\"y\",\"type\":\"scattergl\"},{\"hovertemplate\":\"variable=F<br>index=%{x}<br>value=%{y}<extra></extra>\",\"legendgroup\":\"F\",\"line\":{\"color\":\"#19d3f3\",\"dash\":\"solid\"},\"marker\":{\"symbol\":\"circle\"},\"mode\":\"lines\",\"name\":\"F\",\"showlegend\":true,\"x\":[0,1,2,3,4,5,6,7,8,9,10,11,12,13,14,15,16,17,18,19,20,21,22,23,24,25,26,27,28,29,30,31,32,33,34,35,36,37,38,39,40,41,42,43,44,45,46,47,48,49,50,51,52,53,54,55,56,57,58,59,60,61,62,63,64,65,66,67,68,69,70,71,72,73,74,75,76,77,78,79,80,81,82,83,84,85,86,87,88,89,90,91,92,93,94,95,96,97,98,99,100,101,102,103,104,105,106,107,108,109,110,111,112,113,114,115,116,117,118,119,120,121,122,123,124,125,126,127,128,129,130,131,132,133,134,135,136,137,138,139,140,141,142,143,144,145,146,147,148,149,150,151,152,153,154,155,156,157,158,159,160,161,162,163,164,165,166,167,168,169,170,171,172,173,174,175,176,177,178,179,180,181,182,183,184,185,186,187,188,189,190,191,192,193,194,195,196,197,198,199,200,201,202,203,204,205,206,207,208,209,210,211,212,213,214,215,216,217,218,219,220,221,222,223,224,225,226,227,228,229,230,231,232,233,234,235,236,237,238,239,240,241,242,243,244,245,246,247,248,249,250,251,252,253,254,255,256,257,258,259,260,261,262,263,264,265,266,267,268,269,270,271,272,273,274,275,276,277,278,279,280,281,282,283,284,285,286,287,288,289,290,291,292,293,294,295,296,297,298,299],\"xaxis\":\"x\",\"y\":[0.5895833333333333,0.8072916666666666,0.7875,0.896875,0.8864583333333333,0.8197916666666667,0.753125,0.809375,0.8697916666666666,0.7864583333333334,0.8208333333333333,0.83125,0.8260416666666667,0.8104166666666667,0.7802083333333333,0.853125,0.9239583333333333,0.88125,0.9302083333333333,0.7822916666666667,0.8979166666666667,0.775,0.95625,0.959375,0.90625,0.8291666666666667,0.875,0.95625,0.959375,0.8395833333333333,0.9447916666666667,0.975,0.9625,0.9333333333333333,0.9802083333333333,0.9895833333333334,0.9833333333333333,0.9895833333333334,0.9510416666666667,0.971875,0.91875,0.9677083333333333,0.990625,0.978125,0.9895833333333334,0.9895833333333334,0.9854166666666667,0.9802083333333333,0.9697916666666667,0.98125,0.9885416666666667,0.9802083333333333,0.9604166666666667,0.990625,0.9770833333333333,0.9760416666666667,0.9770833333333333,0.990625,0.9927083333333333,0.9916666666666667,0.9833333333333333,0.9875,0.9802083333333333,0.9822916666666667,0.9895833333333334,0.9895833333333334,0.9927083333333333,0.9916666666666667,0.9947916666666666,0.9947916666666666,0.9885416666666667,0.990625,0.990625,0.9895833333333334,0.9895833333333334,0.9895833333333334,0.9895833333333334,0.9895833333333334,0.9895833333333334,0.990625,0.990625,0.99375,0.99375,0.9958333333333333,0.9958333333333333,0.9947916666666666,0.9916666666666667,0.9927083333333333,0.9958333333333333,0.996875,0.9989583333333333,0.9927083333333333,0.9989583333333333,0.9958333333333333,0.9979166666666667,0.9979166666666667,0.9979166666666667,0.9979166666666667,0.9979166666666667,0.9979166666666667,0.9979166666666667,0.9979166666666667,0.9979166666666667,0.996875,0.996875,0.9979166666666667,0.9979166666666667,0.9989583333333333,0.9989583333333333,0.9989583333333333,0.9989583333333333,0.9989583333333333,0.9989583333333333,0.9989583333333333,1.0,0.9989583333333333,0.9989583333333333,0.9989583333333333,0.9989583333333333,0.9989583333333333,0.9989583333333333,0.9989583333333333,0.9989583333333333,0.9989583333333333,0.9989583333333333,0.9989583333333333,0.9989583333333333,1.0,1.0,1.0,1.0,1.0,1.0,1.0,1.0,1.0,1.0,1.0,1.0,1.0,1.0,1.0,1.0,1.0,1.0,1.0,1.0,1.0,1.0,1.0,1.0,1.0,1.0,1.0,1.0,1.0,1.0,1.0,1.0,1.0,1.0,1.0,1.0,1.0,1.0,1.0,1.0,1.0,1.0,1.0,1.0,1.0,1.0,1.0,1.0,1.0,1.0,1.0,1.0,1.0,1.0,1.0,1.0,1.0,1.0,1.0,1.0,1.0,1.0,1.0,1.0,1.0,1.0,1.0,1.0,1.0,1.0,1.0,1.0,1.0,1.0,1.0,1.0,1.0,1.0,1.0,1.0,1.0,1.0,1.0,1.0,1.0,1.0,1.0,1.0,1.0,1.0,1.0,1.0,1.0,1.0,1.0,1.0,1.0,1.0,1.0,1.0,1.0,1.0,1.0,1.0,1.0,1.0,1.0,1.0,1.0,1.0,1.0,1.0,1.0,1.0,1.0,1.0,1.0,1.0,1.0,1.0,1.0,1.0,1.0,1.0,1.0,1.0,1.0,1.0,1.0,1.0,1.0,1.0,1.0,1.0,1.0,1.0,1.0,1.0,1.0,1.0,1.0,1.0,1.0,1.0,1.0,1.0,1.0,1.0,1.0,1.0,1.0,1.0,1.0,1.0,1.0,1.0,1.0,1.0,1.0,1.0,1.0,1.0,1.0,1.0,1.0,1.0,1.0,1.0,1.0,1.0,1.0,1.0,1.0],\"yaxis\":\"y\",\"type\":\"scattergl\"},{\"hovertemplate\":\"variable=G<br>index=%{x}<br>value=%{y}<extra></extra>\",\"legendgroup\":\"G\",\"line\":{\"color\":\"#FF6692\",\"dash\":\"solid\"},\"marker\":{\"symbol\":\"circle\"},\"mode\":\"lines\",\"name\":\"G\",\"showlegend\":true,\"x\":[0,1,2,3,4,5,6,7,8,9,10,11,12,13,14,15,16,17,18,19,20,21,22,23,24,25,26,27,28,29,30,31,32,33,34,35,36,37,38,39,40,41,42,43,44,45,46,47,48,49,50,51,52,53,54,55,56,57,58,59,60,61,62,63,64,65,66,67,68,69,70,71,72,73,74,75,76,77,78,79,80,81,82,83,84,85,86,87,88,89,90,91,92,93,94,95,96,97,98,99,100,101,102,103,104,105,106,107,108,109,110,111,112,113,114,115,116,117,118,119,120,121,122,123,124,125,126,127,128,129,130,131,132,133,134,135,136,137,138,139,140,141,142,143,144,145,146,147,148,149,150,151,152,153,154,155,156,157,158,159,160,161,162,163,164,165,166,167,168,169,170,171,172,173,174,175,176,177,178,179,180,181,182,183,184,185,186,187,188,189,190,191,192,193,194,195,196,197,198,199,200,201,202,203,204,205,206,207,208,209,210,211,212,213,214,215,216,217,218,219,220,221,222,223,224,225,226,227,228,229,230,231,232,233,234,235,236,237,238,239,240,241,242,243,244,245,246,247,248,249,250,251,252,253,254,255,256,257,258,259,260,261,262,263,264,265,266,267,268,269,270,271,272,273,274,275,276,277,278,279,280,281,282,283,284,285,286,287,288,289,290,291,292,293,294,295,296,297,298,299],\"xaxis\":\"x\",\"y\":[0.7333333333333333,0.8052083333333333,0.8291666666666667,0.8229166666666666,0.70625,0.7020833333333333,0.7489583333333333,0.7739583333333333,0.7697916666666667,0.7614583333333333,0.8208333333333333,0.9270833333333334,0.95,0.9541666666666667,0.9520833333333333,0.9583333333333334,0.9604166666666667,0.9114583333333334,0.959375,0.965625,0.9666666666666667,0.9520833333333333,0.9708333333333333,0.9260416666666667,0.9125,0.9333333333333333,0.9666666666666667,0.9833333333333333,0.9614583333333333,0.9802083333333333,0.9833333333333333,0.9697916666666667,0.9833333333333333,0.978125,0.9822916666666667,0.9854166666666667,0.9895833333333334,0.9895833333333334,0.9822916666666667,0.9885416666666667,0.9760416666666667,0.9729166666666667,0.9625,0.9760416666666667,0.9791666666666666,0.9802083333333333,0.9739583333333334,0.9791666666666666,0.98125,0.9802083333333333,0.9833333333333333,0.984375,0.9875,0.9895833333333334,0.9875,0.9947916666666666,0.9947916666666666,0.9927083333333333,0.9979166666666667,0.9947916666666666,0.996875,0.996875,0.996875,0.9979166666666667,0.9979166666666667,0.9979166666666667,0.996875,0.9979166666666667,0.9979166666666667,0.9979166666666667,0.9979166666666667,0.9979166666666667,0.9979166666666667,0.9979166666666667,0.9979166666666667,0.9979166666666667,0.9979166666666667,0.9979166666666667,0.9979166666666667,0.9979166666666667,0.9989583333333333,0.9989583333333333,0.9989583333333333,0.9989583333333333,0.9989583333333333,0.9989583333333333,0.9989583333333333,0.9989583333333333,0.9989583333333333,0.9989583333333333,0.9989583333333333,0.9989583333333333,0.9989583333333333,0.9989583333333333,0.9989583333333333,0.9989583333333333,0.9989583333333333,0.9989583333333333,0.9989583333333333,0.9989583333333333,0.9989583333333333,0.9989583333333333,0.9989583333333333,0.9989583333333333,0.9989583333333333,0.9989583333333333,0.9989583333333333,0.9989583333333333,0.9989583333333333,0.9989583333333333,0.9989583333333333,0.9989583333333333,0.9989583333333333,0.9989583333333333,0.9989583333333333,0.9989583333333333,0.9989583333333333,0.9989583333333333,0.9989583333333333,0.9989583333333333,0.9989583333333333,0.9989583333333333,0.9989583333333333,0.9989583333333333,0.9989583333333333,0.9989583333333333,0.9989583333333333,0.9989583333333333,0.9989583333333333,0.9989583333333333,0.9989583333333333,0.9989583333333333,0.9989583333333333,0.9989583333333333,0.9989583333333333,0.9989583333333333,0.9989583333333333,0.9989583333333333,0.9989583333333333,0.9989583333333333,0.9989583333333333,0.9989583333333333,0.9989583333333333,0.9989583333333333,0.9989583333333333,0.9989583333333333,0.9989583333333333,0.9989583333333333,0.9989583333333333,0.9989583333333333,0.9989583333333333,0.9989583333333333,0.9989583333333333,0.9989583333333333,0.9989583333333333,0.9989583333333333,0.9989583333333333,0.9989583333333333,0.9989583333333333,0.9989583333333333,0.9989583333333333,0.9989583333333333,0.9989583333333333,0.9989583333333333,0.9989583333333333,0.9989583333333333,0.9989583333333333,0.9989583333333333,0.9989583333333333,0.9989583333333333,0.9989583333333333,0.9989583333333333,0.9989583333333333,0.9989583333333333,0.9989583333333333,0.9989583333333333,0.9989583333333333,0.9989583333333333,0.9989583333333333,0.9989583333333333,0.9989583333333333,0.9989583333333333,0.9989583333333333,0.9989583333333333,0.9989583333333333,0.9989583333333333,0.9989583333333333,0.9989583333333333,0.9989583333333333,0.9989583333333333,0.9989583333333333,0.9989583333333333,0.9989583333333333,0.9989583333333333,0.9989583333333333,0.9989583333333333,0.9989583333333333,0.9989583333333333,0.9989583333333333,0.9989583333333333,0.9989583333333333,0.9989583333333333,0.9989583333333333,0.9989583333333333,0.9989583333333333,0.9989583333333333,0.9989583333333333,0.9989583333333333,0.9989583333333333,0.9989583333333333,0.9989583333333333,0.9989583333333333,0.9989583333333333,0.9989583333333333,0.9989583333333333,0.9989583333333333,0.9989583333333333,0.9989583333333333,0.9989583333333333,0.9989583333333333,0.9989583333333333,0.9989583333333333,0.9989583333333333,0.9989583333333333,0.9989583333333333,0.9989583333333333,0.9989583333333333,0.9989583333333333,0.9989583333333333,0.9989583333333333,0.9989583333333333,0.9989583333333333,0.9989583333333333,0.9989583333333333,0.9989583333333333,0.9989583333333333,0.9989583333333333,0.9989583333333333,0.9989583333333333,0.9989583333333333,0.9989583333333333,0.9989583333333333,0.9989583333333333,0.9989583333333333,0.9989583333333333,0.9989583333333333,0.9989583333333333,0.9989583333333333,0.9989583333333333,0.9989583333333333,0.9989583333333333,0.9989583333333333,0.9989583333333333,0.9989583333333333,0.9989583333333333,0.9989583333333333,0.9989583333333333,0.9989583333333333,0.9989583333333333,0.9989583333333333,0.9989583333333333,0.9989583333333333,0.9989583333333333,0.9989583333333333,0.9989583333333333,0.9989583333333333,0.9989583333333333,0.9989583333333333,0.9989583333333333,0.9989583333333333,0.9989583333333333,0.9989583333333333,0.9989583333333333,0.9989583333333333,0.9989583333333333,0.9989583333333333,0.9989583333333333,0.9989583333333333,0.9989583333333333,0.9989583333333333,0.9989583333333333,0.9989583333333333,0.9989583333333333,0.9989583333333333,0.9989583333333333,0.9989583333333333,0.9989583333333333,0.9989583333333333,0.9989583333333333,0.9989583333333333,0.9989583333333333,0.9989583333333333,0.9989583333333333,0.9989583333333333,0.9989583333333333,0.9989583333333333,0.9989583333333333,0.9989583333333333,0.9989583333333333,0.9989583333333333],\"yaxis\":\"y\",\"type\":\"scattergl\"},{\"hovertemplate\":\"variable=H<br>index=%{x}<br>value=%{y}<extra></extra>\",\"legendgroup\":\"H\",\"line\":{\"color\":\"#B6E880\",\"dash\":\"solid\"},\"marker\":{\"symbol\":\"circle\"},\"mode\":\"lines\",\"name\":\"H\",\"showlegend\":true,\"x\":[0,1,2,3,4,5,6,7,8,9,10,11,12,13,14,15,16,17,18,19,20,21,22,23,24,25,26,27,28,29,30,31,32,33,34,35,36,37,38,39,40,41,42,43,44,45,46,47,48,49,50,51,52,53,54,55,56,57,58,59,60,61,62,63,64,65,66,67,68,69,70,71,72,73,74,75,76,77,78,79,80,81,82,83,84,85,86,87,88,89,90,91,92,93,94,95,96,97,98,99,100,101,102,103,104,105,106,107,108,109,110,111,112,113,114,115,116,117,118,119,120,121,122,123,124,125,126,127,128,129,130,131,132,133,134,135,136,137,138,139,140,141,142,143,144,145,146,147,148,149,150,151,152,153,154,155,156,157,158,159,160,161,162,163,164,165,166,167,168,169,170,171,172,173,174,175,176,177,178,179,180,181,182,183,184,185,186,187,188,189,190,191,192,193,194,195,196,197,198,199,200,201,202,203,204,205,206,207,208,209,210,211,212,213,214,215,216,217,218,219,220,221,222,223,224,225,226,227,228,229,230,231,232,233,234,235,236,237,238,239,240,241,242,243,244,245,246,247,248,249,250,251,252,253,254,255,256,257,258,259,260,261,262,263,264,265,266,267,268,269,270,271,272,273,274,275,276,277,278,279,280,281,282,283,284,285,286,287,288,289,290,291,292,293,294,295,296,297,298,299],\"xaxis\":\"x\",\"y\":[0.6333333333333333,0.7333333333333333,0.78125,0.7708333333333334,0.7604166666666666,0.753125,0.7510416666666667,0.7364583333333333,0.7416666666666667,0.7520833333333333,0.75,0.7447916666666666,0.7385416666666667,0.7385416666666667,0.7333333333333333,0.7447916666666666,0.73125,0.7135416666666666,0.73125,0.7333333333333333,0.7385416666666667,0.7385416666666667,0.7614583333333333,0.7666666666666667,0.778125,0.7666666666666667,0.76875,0.7645833333333333,0.7739583333333333,0.7739583333333333,0.8479166666666667,0.9104166666666667,0.9385416666666667,0.9385416666666667,0.9229166666666667,0.9510416666666667,0.9135416666666667,0.93125,0.9395833333333333,0.9375,0.9270833333333334,0.940625,0.9520833333333333,0.940625,0.9489583333333333,0.95625,0.9666666666666667,0.9677083333333333,0.9604166666666667,0.96875,0.9708333333333333,0.9677083333333333,0.9645833333333333,0.9614583333333333,0.9572916666666667,0.9552083333333333,0.9677083333333333,0.9666666666666667,0.9729166666666667,0.9739583333333334,0.9635416666666666,0.9708333333333333,0.9739583333333334,0.975,0.9854166666666667,0.9708333333333333,0.9791666666666666,0.9833333333333333,0.9822916666666667,0.9875,0.9895833333333334,0.9885416666666667,0.9885416666666667,0.9875,0.9895833333333334,0.9864583333333333,0.9864583333333333,0.9875,0.9895833333333334,0.9885416666666667,0.990625,0.9885416666666667,0.9895833333333334,0.9895833333333334,0.9885416666666667,0.9885416666666667,0.9885416666666667,0.9885416666666667,0.9864583333333333,0.9885416666666667,0.9885416666666667,0.9885416666666667,0.9895833333333334,0.9895833333333334,0.990625,0.990625,0.990625,0.9885416666666667,0.9864583333333333,0.9854166666666667,0.9854166666666667,0.9885416666666667,0.9885416666666667,0.9885416666666667,0.9885416666666667,0.9885416666666667,0.9885416666666667,0.9885416666666667,0.9885416666666667,0.9885416666666667,0.9885416666666667,0.9854166666666667,0.9885416666666667,0.9885416666666667,0.9854166666666667,0.9885416666666667,0.9854166666666667,0.9885416666666667,0.9885416666666667,0.984375,0.9885416666666667,0.9885416666666667,0.9854166666666667,0.9854166666666667,0.9885416666666667,0.9885416666666667,0.9854166666666667,0.9885416666666667,0.9854166666666667,0.9854166666666667,0.9854166666666667,0.9854166666666667,0.9885416666666667,0.9854166666666667,0.9885416666666667,0.9854166666666667,0.9885416666666667,0.9885416666666667,0.9885416666666667,0.9885416666666667,0.9885416666666667,0.9885416666666667,0.9885416666666667,0.9885416666666667,0.9885416666666667,0.9885416666666667,0.9885416666666667,0.9885416666666667,0.9885416666666667,0.9885416666666667,0.9885416666666667,0.9885416666666667,0.9885416666666667,0.9885416666666667,0.9885416666666667,0.9885416666666667,0.9885416666666667,0.9885416666666667,0.9885416666666667,0.9885416666666667,0.9885416666666667,0.9885416666666667,0.9885416666666667,0.9885416666666667,0.9885416666666667,0.9885416666666667,0.9885416666666667,0.9885416666666667,0.9885416666666667,0.9885416666666667,0.9885416666666667,0.9885416666666667,0.9885416666666667,0.9885416666666667,0.9885416666666667,0.9885416666666667,0.9885416666666667,0.9885416666666667,0.9885416666666667,0.9885416666666667,0.9885416666666667,0.9895833333333334,0.9895833333333334,0.9895833333333334,0.9895833333333334,0.9895833333333334,0.9895833333333334,0.9895833333333334,0.9895833333333334,0.9895833333333334,0.9895833333333334,0.9895833333333334,0.9895833333333334,0.9895833333333334,0.9895833333333334,0.9895833333333334,0.9895833333333334,0.9895833333333334,0.9895833333333334,0.9895833333333334,0.9895833333333334,0.9895833333333334,0.9895833333333334,0.9895833333333334,0.9895833333333334,0.9895833333333334,0.9895833333333334,0.9895833333333334,0.9895833333333334,0.9895833333333334,0.9895833333333334,0.9895833333333334,0.9895833333333334,0.9895833333333334,0.9895833333333334,0.9895833333333334,0.9895833333333334,0.9895833333333334,0.9895833333333334,0.9895833333333334,0.9895833333333334,0.9895833333333334,0.9895833333333334,0.9895833333333334,0.9895833333333334,0.9895833333333334,0.9895833333333334,0.9895833333333334,0.9895833333333334,0.9895833333333334,0.9895833333333334,0.9895833333333334,0.9895833333333334,0.9895833333333334,0.9895833333333334,0.9895833333333334,0.9895833333333334,0.9895833333333334,0.9895833333333334,0.9895833333333334,0.9895833333333334,0.9895833333333334,0.9895833333333334,0.9895833333333334,0.9895833333333334,0.9895833333333334,0.9895833333333334,0.9895833333333334,0.9895833333333334,0.9895833333333334,0.9895833333333334,0.9895833333333334,0.9895833333333334,0.9895833333333334,0.9895833333333334,0.9895833333333334,0.9895833333333334,0.9895833333333334,0.9895833333333334,0.9895833333333334,0.9895833333333334,0.9895833333333334,0.9895833333333334,0.9895833333333334,0.9895833333333334,0.9895833333333334,0.9895833333333334,0.9895833333333334,0.9895833333333334,0.9895833333333334,0.9895833333333334,0.9895833333333334,0.9895833333333334,0.9895833333333334,0.9895833333333334,0.9895833333333334,0.9895833333333334,0.9895833333333334,0.9895833333333334,0.9895833333333334,0.9895833333333334,0.9895833333333334,0.9895833333333334,0.9895833333333334,0.9895833333333334,0.9895833333333334,0.9895833333333334,0.9895833333333334,0.9895833333333334,0.9895833333333334,0.9895833333333334,0.9895833333333334,0.9895833333333334,0.9895833333333334,0.9895833333333334,0.9895833333333334,0.9895833333333334,0.9895833333333334,0.9895833333333334,0.9895833333333334],\"yaxis\":\"y\",\"type\":\"scattergl\"},{\"hovertemplate\":\"variable=I<br>index=%{x}<br>value=%{y}<extra></extra>\",\"legendgroup\":\"I\",\"line\":{\"color\":\"#FF97FF\",\"dash\":\"solid\"},\"marker\":{\"symbol\":\"circle\"},\"mode\":\"lines\",\"name\":\"I\",\"showlegend\":true,\"x\":[0,1,2,3,4,5,6,7,8,9,10,11,12,13,14,15,16,17,18,19,20,21,22,23,24,25,26,27,28,29,30,31,32,33,34,35,36,37,38,39,40,41,42,43,44,45,46,47,48,49,50,51,52,53,54,55,56,57,58,59,60,61,62,63,64,65,66,67,68,69,70,71,72,73,74,75,76,77,78,79,80,81,82,83,84,85,86,87,88,89,90,91,92,93,94,95,96,97,98,99,100,101,102,103,104,105,106,107,108,109,110,111,112,113,114,115,116,117,118,119,120,121,122,123,124,125,126,127,128,129,130,131,132,133,134,135,136,137,138,139,140,141,142,143,144,145,146,147,148,149,150,151,152,153,154,155,156,157,158,159,160,161,162,163,164,165,166,167,168,169,170,171,172,173,174,175,176,177,178,179,180,181,182,183,184,185,186,187,188,189,190,191,192,193,194,195,196,197,198,199,200,201,202,203,204,205,206,207,208,209,210,211,212,213,214,215,216,217,218,219,220,221,222,223,224,225,226,227,228,229,230,231,232,233,234,235,236,237,238,239,240,241,242,243,244,245,246,247,248,249,250,251,252,253,254,255,256,257,258,259,260,261,262,263,264,265,266,267,268,269,270,271,272,273,274,275,276,277,278,279,280,281,282,283,284,285,286,287,288,289,290,291,292,293,294,295,296,297,298,299],\"xaxis\":\"x\",\"y\":[0.565625,0.6,0.5666666666666667,0.5520833333333334,0.46770833333333334,0.8739583333333333,0.5625,0.603125,0.5677083333333334,0.5697916666666667,0.565625,0.6083333333333333,0.5729166666666666,0.565625,0.565625,0.565625,0.565625,0.5666666666666667,0.584375,0.5666666666666667,0.5666666666666667,0.565625,0.565625,0.565625,0.565625,0.565625,0.565625,0.565625,0.5645833333333333,0.565625,0.5645833333333333,0.565625,0.565625,0.565625,0.565625,0.565625,0.565625,0.565625,0.565625,0.565625,0.565625,0.565625,0.565625,0.565625,0.565625,0.565625,0.565625,0.565625,0.565625,0.565625,0.565625,0.565625,0.565625,0.565625,0.565625,0.565625,0.565625,0.5666666666666667,0.565625,0.565625,0.565625,0.5645833333333333,0.5645833333333333,0.5645833333333333,0.5645833333333333,0.5666666666666667,0.565625,0.5666666666666667,0.5666666666666667,0.5645833333333333,0.565625,0.5645833333333333,0.5645833333333333,0.565625,0.5666666666666667,0.5677083333333334,0.56875,0.5677083333333334,0.5677083333333334,0.56875,0.5697916666666667,0.56875,0.5708333333333333,0.58125,0.575,0.5770833333333333,0.5791666666666667,0.5791666666666667,0.5833333333333334,0.5833333333333334,0.584375,0.584375,0.5854166666666667,0.5885416666666666,0.5885416666666666,0.5875,0.5895833333333333,0.59375,0.5958333333333333,0.6,0.6010416666666667,0.5989583333333334,0.6010416666666667,0.6041666666666666,0.6041666666666666,0.6010416666666667,0.6020833333333333,0.6041666666666666,0.6072916666666667,0.609375,0.6072916666666667,0.6104166666666667,0.6177083333333333,0.6197916666666666,0.6239583333333333,0.6322916666666667,0.634375,0.634375,0.634375,0.634375,0.63125,0.63125,0.63125,0.63125,0.63125,0.63125,0.6322916666666667,0.6322916666666667,0.6322916666666667,0.634375,0.6354166666666666,0.6364583333333333,0.6354166666666666,0.6354166666666666,0.6395833333333333,0.6354166666666666,0.6364583333333333,0.6364583333333333,0.6364583333333333,0.6364583333333333,0.6364583333333333,0.6364583333333333,0.6364583333333333,0.6364583333333333,0.6364583333333333,0.6364583333333333,0.6375,0.6375,0.6375,0.6375,0.6375,0.640625,0.640625,0.640625,0.640625,0.640625,0.640625,0.6427083333333333,0.6427083333333333,0.6427083333333333,0.640625,0.640625,0.640625,0.6427083333333333,0.6427083333333333,0.6427083333333333,0.640625,0.640625,0.640625,0.640625,0.640625,0.640625,0.640625,0.640625,0.640625,0.640625,0.640625,0.6427083333333333,0.6427083333333333,0.6427083333333333,0.6427083333333333,0.6427083333333333,0.6427083333333333,0.6427083333333333,0.6427083333333333,0.6427083333333333,0.6427083333333333,0.6427083333333333,0.6427083333333333,0.6427083333333333,0.6427083333333333,0.6427083333333333,0.6427083333333333,0.64375,0.64375,0.64375,0.64375,0.64375,0.64375,0.64375,0.64375,0.64375,0.64375,0.64375,0.64375,0.64375,0.64375,0.64375,0.64375,0.64375,0.64375,0.64375,0.64375,0.64375,0.64375,0.64375,0.64375,0.64375,0.64375,0.6427083333333333,0.64375,0.64375,0.64375,0.64375,0.64375,0.64375,0.64375,0.64375,0.64375,0.64375,0.64375,0.64375,0.64375,0.64375,0.64375,0.64375,0.64375,0.64375,0.64375,0.64375,0.64375,0.64375,0.64375,0.64375,0.64375,0.64375,0.64375,0.64375,0.64375,0.64375,0.64375,0.64375,0.64375,0.64375,0.64375,0.64375,0.64375,0.64375,0.64375,0.64375,0.64375,0.64375,0.64375,0.64375,0.64375,0.64375,0.64375,0.64375,0.64375,0.64375,0.64375,0.64375,0.64375,0.64375,0.64375,0.64375,0.64375,0.64375,0.64375,0.64375,0.64375,0.64375,0.64375,0.64375,0.64375,0.64375,0.64375,0.64375,0.64375,0.64375,0.64375,0.64375,0.64375,0.64375,0.64375,0.64375,0.64375,0.64375,0.64375,0.64375],\"yaxis\":\"y\",\"type\":\"scattergl\"},{\"hovertemplate\":\"variable=J<br>index=%{x}<br>value=%{y}<extra></extra>\",\"legendgroup\":\"J\",\"line\":{\"color\":\"#FECB52\",\"dash\":\"solid\"},\"marker\":{\"symbol\":\"circle\"},\"mode\":\"lines\",\"name\":\"J\",\"showlegend\":true,\"x\":[0,1,2,3,4,5,6,7,8,9,10,11,12,13,14,15,16,17,18,19,20,21,22,23,24,25,26,27,28,29,30,31,32,33,34,35,36,37,38,39,40,41,42,43,44,45,46,47,48,49,50,51,52,53,54,55,56,57,58,59,60,61,62,63,64,65,66,67,68,69,70,71,72,73,74,75,76,77,78,79,80,81,82,83,84,85,86,87,88,89,90,91,92,93,94,95,96,97,98,99,100,101,102,103,104,105,106,107,108,109,110,111,112,113,114,115,116,117,118,119,120,121,122,123,124,125,126,127,128,129,130,131,132,133,134,135,136,137,138,139,140,141,142,143,144,145,146,147,148,149,150,151,152,153,154,155,156,157,158,159,160,161,162,163,164,165,166,167,168,169,170,171,172,173,174,175,176,177,178,179,180,181,182,183,184,185,186,187,188,189,190,191,192,193,194,195,196,197,198,199,200,201,202,203,204,205,206,207,208,209,210,211,212,213,214,215,216,217,218,219,220,221,222,223,224,225,226,227,228,229,230,231,232,233,234,235,236,237,238,239,240,241,242,243,244,245,246,247,248,249,250,251,252,253,254,255,256,257,258,259,260,261,262,263,264,265,266,267,268,269,270,271,272,273,274,275,276,277,278,279,280,281,282,283,284,285,286,287,288,289,290,291,292,293,294,295,296,297,298,299],\"xaxis\":\"x\",\"y\":[0.565625,0.6604166666666667,0.565625,0.5791666666666667,0.66875,0.6,0.5677083333333334,0.56875,0.565625,0.5697916666666667,0.571875,0.571875,0.571875,0.56875,0.571875,0.571875,0.5739583333333333,0.5729166666666666,0.571875,0.571875,0.5729166666666666,0.5729166666666666,0.5739583333333333,0.5708333333333333,0.56875,0.56875,0.575,0.6083333333333333,0.5729166666666666,0.6072916666666667,0.6010416666666667,0.6375,0.6395833333333333,0.646875,0.6447916666666667,0.6270833333333333,0.6333333333333333,0.6,0.59375,0.5760416666666667,0.571875,0.56875,0.56875,0.5677083333333334,0.5677083333333334,0.565625,0.5666666666666667,0.565625,0.565625,0.5666666666666667,0.565625,0.56875,0.5677083333333334,0.56875,0.5677083333333334,0.5677083333333334,0.5666666666666667,0.5677083333333334,0.5677083333333334,0.56875,0.5677083333333334,0.5677083333333334,0.5677083333333334,0.5677083333333334,0.5677083333333334,0.5677083333333334,0.5677083333333334,0.565625,0.5708333333333333,0.5697916666666667,0.56875,0.56875,0.5677083333333334,0.5708333333333333,0.5708333333333333,0.5708333333333333,0.5697916666666667,0.56875,0.5697916666666667,0.5697916666666667,0.5697916666666667,0.56875,0.5697916666666667,0.5697916666666667,0.5708333333333333,0.571875,0.571875,0.571875,0.571875,0.571875,0.5708333333333333,0.571875,0.571875,0.5708333333333333,0.5708333333333333,0.5708333333333333,0.5708333333333333,0.5708333333333333,0.5729166666666666,0.571875,0.571875,0.571875,0.571875,0.5729166666666666,0.5729166666666666,0.5729166666666666,0.5729166666666666,0.5729166666666666,0.5729166666666666,0.5729166666666666,0.5729166666666666,0.5729166666666666,0.5729166666666666,0.5729166666666666,0.5729166666666666,0.5729166666666666,0.5729166666666666,0.5729166666666666,0.5729166666666666,0.5729166666666666,0.5729166666666666,0.5739583333333333,0.5739583333333333,0.5739583333333333,0.5739583333333333,0.5739583333333333,0.5739583333333333,0.5739583333333333,0.5739583333333333,0.5739583333333333,0.5739583333333333,0.5739583333333333,0.5739583333333333,0.5739583333333333,0.5739583333333333,0.5739583333333333,0.5739583333333333,0.5739583333333333,0.5729166666666666,0.5729166666666666,0.5729166666666666,0.5729166666666666,0.5739583333333333,0.5729166666666666,0.5729166666666666,0.5739583333333333,0.5729166666666666,0.5739583333333333,0.5739583333333333,0.5739583333333333,0.5739583333333333,0.5739583333333333,0.5739583333333333,0.5739583333333333,0.5739583333333333,0.5739583333333333,0.5739583333333333,0.5739583333333333,0.5739583333333333,0.5739583333333333,0.5739583333333333,0.5739583333333333,0.5739583333333333,0.5739583333333333,0.5739583333333333,0.5739583333333333,0.5739583333333333,0.5739583333333333,0.5739583333333333,0.5739583333333333,0.5739583333333333,0.5739583333333333,0.5739583333333333,0.5739583333333333,0.5739583333333333,0.5739583333333333,0.5739583333333333,0.5739583333333333,0.5739583333333333,0.5739583333333333,0.5739583333333333,0.5739583333333333,0.5739583333333333,0.5739583333333333,0.5739583333333333,0.5739583333333333,0.5739583333333333,0.5739583333333333,0.5739583333333333,0.5739583333333333,0.5739583333333333,0.5739583333333333,0.5739583333333333,0.5739583333333333,0.5739583333333333,0.5739583333333333,0.5739583333333333,0.5739583333333333,0.5739583333333333,0.5739583333333333,0.5739583333333333,0.5739583333333333,0.5739583333333333,0.5739583333333333,0.5739583333333333,0.5739583333333333,0.5739583333333333,0.5739583333333333,0.5739583333333333,0.5739583333333333,0.5739583333333333,0.5739583333333333,0.5739583333333333,0.5739583333333333,0.5739583333333333,0.5739583333333333,0.5739583333333333,0.5739583333333333,0.5739583333333333,0.5739583333333333,0.5739583333333333,0.5739583333333333,0.5739583333333333,0.5739583333333333,0.5739583333333333,0.5739583333333333,0.5739583333333333,0.5739583333333333,0.5739583333333333,0.5739583333333333,0.5739583333333333,0.5739583333333333,0.5739583333333333,0.5739583333333333,0.5739583333333333,0.5739583333333333,0.5739583333333333,0.5739583333333333,0.5739583333333333,0.5739583333333333,0.5739583333333333,0.5739583333333333,0.5739583333333333,0.5739583333333333,0.5739583333333333,0.5739583333333333,0.5739583333333333,0.5739583333333333,0.5739583333333333,0.5739583333333333,0.5739583333333333,0.5739583333333333,0.5739583333333333,0.5739583333333333,0.5739583333333333,0.5739583333333333,0.5739583333333333,0.5739583333333333,0.5739583333333333,0.5739583333333333,0.5739583333333333,0.5739583333333333,0.5739583333333333,0.5739583333333333,0.5739583333333333,0.5739583333333333,0.5739583333333333,0.5739583333333333,0.5739583333333333,0.5739583333333333,0.5739583333333333,0.5739583333333333,0.5739583333333333,0.5739583333333333,0.5739583333333333,0.5739583333333333,0.5739583333333333,0.5739583333333333,0.5739583333333333,0.5739583333333333,0.5739583333333333,0.5739583333333333,0.5739583333333333,0.5739583333333333,0.5739583333333333,0.5739583333333333,0.5739583333333333,0.5739583333333333,0.5739583333333333,0.5739583333333333,0.5739583333333333,0.5739583333333333,0.5739583333333333,0.5739583333333333,0.5739583333333333,0.5739583333333333,0.5739583333333333,0.5739583333333333,0.5739583333333333,0.5739583333333333],\"yaxis\":\"y\",\"type\":\"scattergl\"}],                        {\"template\":{\"data\":{\"bar\":[{\"error_x\":{\"color\":\"#2a3f5f\"},\"error_y\":{\"color\":\"#2a3f5f\"},\"marker\":{\"line\":{\"color\":\"#E5ECF6\",\"width\":0.5},\"pattern\":{\"fillmode\":\"overlay\",\"size\":10,\"solidity\":0.2}},\"type\":\"bar\"}],\"barpolar\":[{\"marker\":{\"line\":{\"color\":\"#E5ECF6\",\"width\":0.5},\"pattern\":{\"fillmode\":\"overlay\",\"size\":10,\"solidity\":0.2}},\"type\":\"barpolar\"}],\"carpet\":[{\"aaxis\":{\"endlinecolor\":\"#2a3f5f\",\"gridcolor\":\"white\",\"linecolor\":\"white\",\"minorgridcolor\":\"white\",\"startlinecolor\":\"#2a3f5f\"},\"baxis\":{\"endlinecolor\":\"#2a3f5f\",\"gridcolor\":\"white\",\"linecolor\":\"white\",\"minorgridcolor\":\"white\",\"startlinecolor\":\"#2a3f5f\"},\"type\":\"carpet\"}],\"choropleth\":[{\"colorbar\":{\"outlinewidth\":0,\"ticks\":\"\"},\"type\":\"choropleth\"}],\"contour\":[{\"colorbar\":{\"outlinewidth\":0,\"ticks\":\"\"},\"colorscale\":[[0.0,\"#0d0887\"],[0.1111111111111111,\"#46039f\"],[0.2222222222222222,\"#7201a8\"],[0.3333333333333333,\"#9c179e\"],[0.4444444444444444,\"#bd3786\"],[0.5555555555555556,\"#d8576b\"],[0.6666666666666666,\"#ed7953\"],[0.7777777777777778,\"#fb9f3a\"],[0.8888888888888888,\"#fdca26\"],[1.0,\"#f0f921\"]],\"type\":\"contour\"}],\"contourcarpet\":[{\"colorbar\":{\"outlinewidth\":0,\"ticks\":\"\"},\"type\":\"contourcarpet\"}],\"heatmap\":[{\"colorbar\":{\"outlinewidth\":0,\"ticks\":\"\"},\"colorscale\":[[0.0,\"#0d0887\"],[0.1111111111111111,\"#46039f\"],[0.2222222222222222,\"#7201a8\"],[0.3333333333333333,\"#9c179e\"],[0.4444444444444444,\"#bd3786\"],[0.5555555555555556,\"#d8576b\"],[0.6666666666666666,\"#ed7953\"],[0.7777777777777778,\"#fb9f3a\"],[0.8888888888888888,\"#fdca26\"],[1.0,\"#f0f921\"]],\"type\":\"heatmap\"}],\"heatmapgl\":[{\"colorbar\":{\"outlinewidth\":0,\"ticks\":\"\"},\"colorscale\":[[0.0,\"#0d0887\"],[0.1111111111111111,\"#46039f\"],[0.2222222222222222,\"#7201a8\"],[0.3333333333333333,\"#9c179e\"],[0.4444444444444444,\"#bd3786\"],[0.5555555555555556,\"#d8576b\"],[0.6666666666666666,\"#ed7953\"],[0.7777777777777778,\"#fb9f3a\"],[0.8888888888888888,\"#fdca26\"],[1.0,\"#f0f921\"]],\"type\":\"heatmapgl\"}],\"histogram\":[{\"marker\":{\"pattern\":{\"fillmode\":\"overlay\",\"size\":10,\"solidity\":0.2}},\"type\":\"histogram\"}],\"histogram2d\":[{\"colorbar\":{\"outlinewidth\":0,\"ticks\":\"\"},\"colorscale\":[[0.0,\"#0d0887\"],[0.1111111111111111,\"#46039f\"],[0.2222222222222222,\"#7201a8\"],[0.3333333333333333,\"#9c179e\"],[0.4444444444444444,\"#bd3786\"],[0.5555555555555556,\"#d8576b\"],[0.6666666666666666,\"#ed7953\"],[0.7777777777777778,\"#fb9f3a\"],[0.8888888888888888,\"#fdca26\"],[1.0,\"#f0f921\"]],\"type\":\"histogram2d\"}],\"histogram2dcontour\":[{\"colorbar\":{\"outlinewidth\":0,\"ticks\":\"\"},\"colorscale\":[[0.0,\"#0d0887\"],[0.1111111111111111,\"#46039f\"],[0.2222222222222222,\"#7201a8\"],[0.3333333333333333,\"#9c179e\"],[0.4444444444444444,\"#bd3786\"],[0.5555555555555556,\"#d8576b\"],[0.6666666666666666,\"#ed7953\"],[0.7777777777777778,\"#fb9f3a\"],[0.8888888888888888,\"#fdca26\"],[1.0,\"#f0f921\"]],\"type\":\"histogram2dcontour\"}],\"mesh3d\":[{\"colorbar\":{\"outlinewidth\":0,\"ticks\":\"\"},\"type\":\"mesh3d\"}],\"parcoords\":[{\"line\":{\"colorbar\":{\"outlinewidth\":0,\"ticks\":\"\"}},\"type\":\"parcoords\"}],\"pie\":[{\"automargin\":true,\"type\":\"pie\"}],\"scatter\":[{\"marker\":{\"colorbar\":{\"outlinewidth\":0,\"ticks\":\"\"}},\"type\":\"scatter\"}],\"scatter3d\":[{\"line\":{\"colorbar\":{\"outlinewidth\":0,\"ticks\":\"\"}},\"marker\":{\"colorbar\":{\"outlinewidth\":0,\"ticks\":\"\"}},\"type\":\"scatter3d\"}],\"scattercarpet\":[{\"marker\":{\"colorbar\":{\"outlinewidth\":0,\"ticks\":\"\"}},\"type\":\"scattercarpet\"}],\"scattergeo\":[{\"marker\":{\"colorbar\":{\"outlinewidth\":0,\"ticks\":\"\"}},\"type\":\"scattergeo\"}],\"scattergl\":[{\"marker\":{\"colorbar\":{\"outlinewidth\":0,\"ticks\":\"\"}},\"type\":\"scattergl\"}],\"scattermapbox\":[{\"marker\":{\"colorbar\":{\"outlinewidth\":0,\"ticks\":\"\"}},\"type\":\"scattermapbox\"}],\"scatterpolar\":[{\"marker\":{\"colorbar\":{\"outlinewidth\":0,\"ticks\":\"\"}},\"type\":\"scatterpolar\"}],\"scatterpolargl\":[{\"marker\":{\"colorbar\":{\"outlinewidth\":0,\"ticks\":\"\"}},\"type\":\"scatterpolargl\"}],\"scatterternary\":[{\"marker\":{\"colorbar\":{\"outlinewidth\":0,\"ticks\":\"\"}},\"type\":\"scatterternary\"}],\"surface\":[{\"colorbar\":{\"outlinewidth\":0,\"ticks\":\"\"},\"colorscale\":[[0.0,\"#0d0887\"],[0.1111111111111111,\"#46039f\"],[0.2222222222222222,\"#7201a8\"],[0.3333333333333333,\"#9c179e\"],[0.4444444444444444,\"#bd3786\"],[0.5555555555555556,\"#d8576b\"],[0.6666666666666666,\"#ed7953\"],[0.7777777777777778,\"#fb9f3a\"],[0.8888888888888888,\"#fdca26\"],[1.0,\"#f0f921\"]],\"type\":\"surface\"}],\"table\":[{\"cells\":{\"fill\":{\"color\":\"#EBF0F8\"},\"line\":{\"color\":\"white\"}},\"header\":{\"fill\":{\"color\":\"#C8D4E3\"},\"line\":{\"color\":\"white\"}},\"type\":\"table\"}]},\"layout\":{\"annotationdefaults\":{\"arrowcolor\":\"#2a3f5f\",\"arrowhead\":0,\"arrowwidth\":1},\"autotypenumbers\":\"strict\",\"coloraxis\":{\"colorbar\":{\"outlinewidth\":0,\"ticks\":\"\"}},\"colorscale\":{\"diverging\":[[0,\"#8e0152\"],[0.1,\"#c51b7d\"],[0.2,\"#de77ae\"],[0.3,\"#f1b6da\"],[0.4,\"#fde0ef\"],[0.5,\"#f7f7f7\"],[0.6,\"#e6f5d0\"],[0.7,\"#b8e186\"],[0.8,\"#7fbc41\"],[0.9,\"#4d9221\"],[1,\"#276419\"]],\"sequential\":[[0.0,\"#0d0887\"],[0.1111111111111111,\"#46039f\"],[0.2222222222222222,\"#7201a8\"],[0.3333333333333333,\"#9c179e\"],[0.4444444444444444,\"#bd3786\"],[0.5555555555555556,\"#d8576b\"],[0.6666666666666666,\"#ed7953\"],[0.7777777777777778,\"#fb9f3a\"],[0.8888888888888888,\"#fdca26\"],[1.0,\"#f0f921\"]],\"sequentialminus\":[[0.0,\"#0d0887\"],[0.1111111111111111,\"#46039f\"],[0.2222222222222222,\"#7201a8\"],[0.3333333333333333,\"#9c179e\"],[0.4444444444444444,\"#bd3786\"],[0.5555555555555556,\"#d8576b\"],[0.6666666666666666,\"#ed7953\"],[0.7777777777777778,\"#fb9f3a\"],[0.8888888888888888,\"#fdca26\"],[1.0,\"#f0f921\"]]},\"colorway\":[\"#636efa\",\"#EF553B\",\"#00cc96\",\"#ab63fa\",\"#FFA15A\",\"#19d3f3\",\"#FF6692\",\"#B6E880\",\"#FF97FF\",\"#FECB52\"],\"font\":{\"color\":\"#2a3f5f\"},\"geo\":{\"bgcolor\":\"white\",\"lakecolor\":\"white\",\"landcolor\":\"#E5ECF6\",\"showlakes\":true,\"showland\":true,\"subunitcolor\":\"white\"},\"hoverlabel\":{\"align\":\"left\"},\"hovermode\":\"closest\",\"mapbox\":{\"style\":\"light\"},\"paper_bgcolor\":\"white\",\"plot_bgcolor\":\"#E5ECF6\",\"polar\":{\"angularaxis\":{\"gridcolor\":\"white\",\"linecolor\":\"white\",\"ticks\":\"\"},\"bgcolor\":\"#E5ECF6\",\"radialaxis\":{\"gridcolor\":\"white\",\"linecolor\":\"white\",\"ticks\":\"\"}},\"scene\":{\"xaxis\":{\"backgroundcolor\":\"#E5ECF6\",\"gridcolor\":\"white\",\"gridwidth\":2,\"linecolor\":\"white\",\"showbackground\":true,\"ticks\":\"\",\"zerolinecolor\":\"white\"},\"yaxis\":{\"backgroundcolor\":\"#E5ECF6\",\"gridcolor\":\"white\",\"gridwidth\":2,\"linecolor\":\"white\",\"showbackground\":true,\"ticks\":\"\",\"zerolinecolor\":\"white\"},\"zaxis\":{\"backgroundcolor\":\"#E5ECF6\",\"gridcolor\":\"white\",\"gridwidth\":2,\"linecolor\":\"white\",\"showbackground\":true,\"ticks\":\"\",\"zerolinecolor\":\"white\"}},\"shapedefaults\":{\"line\":{\"color\":\"#2a3f5f\"}},\"ternary\":{\"aaxis\":{\"gridcolor\":\"white\",\"linecolor\":\"white\",\"ticks\":\"\"},\"baxis\":{\"gridcolor\":\"white\",\"linecolor\":\"white\",\"ticks\":\"\"},\"bgcolor\":\"#E5ECF6\",\"caxis\":{\"gridcolor\":\"white\",\"linecolor\":\"white\",\"ticks\":\"\"}},\"title\":{\"x\":0.05},\"xaxis\":{\"automargin\":true,\"gridcolor\":\"white\",\"linecolor\":\"white\",\"ticks\":\"\",\"title\":{\"standoff\":15},\"zerolinecolor\":\"white\",\"zerolinewidth\":2},\"yaxis\":{\"automargin\":true,\"gridcolor\":\"white\",\"linecolor\":\"white\",\"ticks\":\"\",\"title\":{\"standoff\":15},\"zerolinecolor\":\"white\",\"zerolinewidth\":2}}},\"xaxis\":{\"anchor\":\"y\",\"domain\":[0.0,1.0],\"title\":{\"text\":\"Epochs\"}},\"yaxis\":{\"anchor\":\"x\",\"domain\":[0.0,1.0],\"title\":{\"text\":\"Accuracy\"}},\"legend\":{\"title\":{\"text\":\"Runs (Asc)\"},\"tracegroupgap\":0},\"title\":{\"text\":\"Accuracy Vs Epochs\"}},                        {\"responsive\": true}                    ).then(function(){\n",
              "                            \n",
              "var gd = document.getElementById('6ca38ba9-a44e-47de-b17e-10f1b5d1e373');\n",
              "var x = new MutationObserver(function (mutations, observer) {{\n",
              "        var display = window.getComputedStyle(gd).display;\n",
              "        if (!display || display === 'none') {{\n",
              "            console.log([gd, 'removed!']);\n",
              "            Plotly.purge(gd);\n",
              "            observer.disconnect();\n",
              "        }}\n",
              "}});\n",
              "\n",
              "// Listen for the removal of the full notebook cells\n",
              "var notebookContainer = gd.closest('#notebook-container');\n",
              "if (notebookContainer) {{\n",
              "    x.observe(notebookContainer, {childList: true});\n",
              "}}\n",
              "\n",
              "// Listen for the clearing of the current output cell\n",
              "var outputEl = gd.closest('.output');\n",
              "if (outputEl) {{\n",
              "    x.observe(outputEl, {childList: true});\n",
              "}}\n",
              "\n",
              "                        })                };                            </script>        </div>\n",
              "</body>\n",
              "</html>"
            ]
          },
          "metadata": {}
        }
      ]
    },
    {
      "cell_type": "markdown",
      "metadata": {
        "id": "hcNFVcbi80N7"
      },
      "source": [
        "##### Compare Informant Distance"
      ],
      "id": "hcNFVcbi80N7"
    },
    {
      "cell_type": "code",
      "metadata": {
        "id": "a72fa4ef"
      },
      "source": [
        "# compares a specifed sample number of randomly selected distance within a defined range\n",
        "def compareInformDist(nn, X, Y, lower, upper, n_tests):\n",
        "    test_values = list(map(lambda x: random.uniform(lower, upper), range(n_tests))) \n",
        "    results = {}\n",
        "\n",
        "    i = 1\n",
        "    for ni in test_values: \n",
        "        ten_nets = run_ten(nn, X_train, Y_train, 20, 300, 5, \"distance\", ni)\n",
        "        results[ni] = [get_metrics(ten_nets), ten_nets]\n",
        "        print('progress', f'{i}/{len(test_values)}')\n",
        "        i+=1\n",
        "            \n",
        "    # results are sorted descending based on mean accuracy   \n",
        "    sorted_by_mean = dict(sorted(results.items(), key=lambda item: item[1][0]))\n",
        "    for key, value in sorted_by_mean.items():\n",
        "        print('dst', key, ' : ', 'mean accuracy',round(value[0][0], 4), f' std dev ({round(value[0][1], 4)})')        \n",
        "\n",
        "    return sorted_by_mean"
      ],
      "id": "a72fa4ef",
      "execution_count": null,
      "outputs": []
    },
    {
      "cell_type": "code",
      "metadata": {
        "id": "c05e63de",
        "colab": {
          "base_uri": "https://localhost:8080/"
        },
        "outputId": "76580a6b-68d6-4ce6-f472-be15089e0cef"
      },
      "source": [
        "comparedDist = compareInformDist(NeuralNetwork([4,10,10,10,2], ['relu','relu','relu','sigmoid']), X_train, Y_train, 0.7, 1, 10)"
      ],
      "id": "c05e63de",
      "execution_count": null,
      "outputs": [
        {
          "output_type": "stream",
          "name": "stdout",
          "text": [
            "progress 1/10\n",
            "progress 2/10\n",
            "progress 3/10\n",
            "progress 4/10\n",
            "progress 5/10\n",
            "progress 6/10\n",
            "progress 7/10\n",
            "progress 8/10\n",
            "progress 9/10\n",
            "progress 10/10\n",
            "dst 0.950732644784559  :  mean accuracy 0.6423  std dev (0.1182)\n",
            "dst 0.8963436847943732  :  mean accuracy 0.6495  std dev (0.1518)\n",
            "dst 0.9522240991960592  :  mean accuracy 0.6972  std dev (0.1272)\n",
            "dst 0.9534424535731494  :  mean accuracy 0.7133  std dev (0.1507)\n",
            "dst 0.8773788483585386  :  mean accuracy 0.7821  std dev (0.177)\n",
            "dst 0.8126997010773538  :  mean accuracy 0.9289  std dev (0.1302)\n",
            "dst 0.722208437724138  :  mean accuracy 0.9548  std dev (0.1297)\n",
            "dst 0.7195411084536663  :  mean accuracy 0.9866  std dev (0.0297)\n",
            "dst 0.7851463279895465  :  mean accuracy 0.9889  std dev (0.0283)\n",
            "dst 0.7087270882046018  :  mean accuracy 0.994  std dev (0.0071)\n"
          ]
        }
      ]
    },
    {
      "cell_type": "code",
      "metadata": {
        "id": "09afe4ee",
        "colab": {
          "base_uri": "https://localhost:8080/",
          "height": 559
        },
        "outputId": "eb15d8a8-c4cd-4f0e-a45a-2aeff492ae03"
      },
      "source": [
        "# 10 runs from the highest accuracy found from distance search\n",
        "key1_d = list(comparedDist.keys())[9]\n",
        "view_accuracyEpochAll(comparedDist[key1_d][1])"
      ],
      "id": "09afe4ee",
      "execution_count": null,
      "outputs": [
        {
          "output_type": "stream",
          "name": "stdout",
          "text": [
            "(300, 10)\n"
          ]
        },
        {
          "output_type": "display_data",
          "data": {
            "text/html": [
              "<html>\n",
              "<head><meta charset=\"utf-8\" /></head>\n",
              "<body>\n",
              "    <div>            <script src=\"https://cdnjs.cloudflare.com/ajax/libs/mathjax/2.7.5/MathJax.js?config=TeX-AMS-MML_SVG\"></script><script type=\"text/javascript\">if (window.MathJax) {MathJax.Hub.Config({SVG: {font: \"STIX-Web\"}});}</script>                <script type=\"text/javascript\">window.PlotlyConfig = {MathJaxConfig: 'local'};</script>\n",
              "        <script src=\"https://cdn.plot.ly/plotly-2.6.3.min.js\"></script>                <div id=\"30c0b098-0216-49dd-a4e8-e55e4a41aa9a\" class=\"plotly-graph-div\" style=\"height:525px; width:100%;\"></div>            <script type=\"text/javascript\">                                    window.PLOTLYENV=window.PLOTLYENV || {};                                    if (document.getElementById(\"30c0b098-0216-49dd-a4e8-e55e4a41aa9a\")) {                    Plotly.newPlot(                        \"30c0b098-0216-49dd-a4e8-e55e4a41aa9a\",                        [{\"hovertemplate\":\"variable=A<br>index=%{x}<br>value=%{y}<extra></extra>\",\"legendgroup\":\"A\",\"line\":{\"color\":\"#636efa\",\"dash\":\"solid\"},\"marker\":{\"symbol\":\"circle\"},\"mode\":\"lines\",\"name\":\"A\",\"showlegend\":true,\"x\":[0,1,2,3,4,5,6,7,8,9,10,11,12,13,14,15,16,17,18,19,20,21,22,23,24,25,26,27,28,29,30,31,32,33,34,35,36,37,38,39,40,41,42,43,44,45,46,47,48,49,50,51,52,53,54,55,56,57,58,59,60,61,62,63,64,65,66,67,68,69,70,71,72,73,74,75,76,77,78,79,80,81,82,83,84,85,86,87,88,89,90,91,92,93,94,95,96,97,98,99,100,101,102,103,104,105,106,107,108,109,110,111,112,113,114,115,116,117,118,119,120,121,122,123,124,125,126,127,128,129,130,131,132,133,134,135,136,137,138,139,140,141,142,143,144,145,146,147,148,149,150,151,152,153,154,155,156,157,158,159,160,161,162,163,164,165,166,167,168,169,170,171,172,173,174,175,176,177,178,179,180,181,182,183,184,185,186,187,188,189,190,191,192,193,194,195,196,197,198,199,200,201,202,203,204,205,206,207,208,209,210,211,212,213,214,215,216,217,218,219,220,221,222,223,224,225,226,227,228,229,230,231,232,233,234,235,236,237,238,239,240,241,242,243,244,245,246,247,248,249,250,251,252,253,254,255,256,257,258,259,260,261,262,263,264,265,266,267,268,269,270,271,272,273,274,275,276,277,278,279,280,281,282,283,284,285,286,287,288,289,290,291,292,293,294,295,296,297,298,299],\"xaxis\":\"x\",\"y\":[0.8270833333333333,0.6541666666666667,0.7552083333333334,0.7208333333333333,0.565625,0.434375,0.6510416666666666,0.83125,0.825,0.8604166666666667,0.871875,0.81875,0.8520833333333333,0.8302083333333333,0.853125,0.8958333333333334,0.9135416666666667,0.8895833333333333,0.875,0.8541666666666666,0.8677083333333333,0.8697916666666666,0.9354166666666667,0.86875,0.915625,0.91875,0.8802083333333334,0.9239583333333333,0.9270833333333334,0.9197916666666667,0.909375,0.903125,0.9083333333333333,0.9135416666666667,0.9166666666666666,0.9020833333333333,0.9072916666666667,0.8635416666666667,0.9302083333333333,0.9458333333333333,0.9239583333333333,0.9197916666666667,0.9270833333333334,0.9302083333333333,0.9208333333333333,0.9,0.9,0.8864583333333333,0.8791666666666667,0.8833333333333333,0.88125,0.86875,0.8645833333333334,0.859375,0.853125,0.8520833333333333,0.8395833333333333,0.8427083333333333,0.840625,0.8322916666666667,0.8302083333333333,0.815625,0.8072916666666666,0.80625,0.815625,0.8166666666666667,0.815625,0.81875,0.8177083333333334,0.821875,0.8125,0.8208333333333333,0.8114583333333333,0.815625,0.8177083333333334,0.8145833333333333,0.8125,0.81875,0.821875,0.8260416666666667,0.8270833333333333,0.834375,0.834375,0.840625,0.8395833333333333,0.840625,0.8458333333333333,0.85,0.8489583333333334,0.853125,0.85625,0.8604166666666667,0.865625,0.8708333333333333,0.871875,0.8708333333333333,0.8802083333333334,0.88125,0.8802083333333334,0.8802083333333334,0.8822916666666667,0.8854166666666666,0.8854166666666666,0.8927083333333333,0.8947916666666667,0.8958333333333334,0.8947916666666667,0.8958333333333334,0.9,0.9010416666666666,0.9041666666666667,0.9,0.9072916666666667,0.9114583333333334,0.9125,0.9135416666666667,0.9135416666666667,0.9135416666666667,0.915625,0.9177083333333333,0.9197916666666667,0.9197916666666667,0.928125,0.928125,0.9291666666666667,0.9302083333333333,0.9302083333333333,0.9302083333333333,0.9302083333333333,0.93125,0.9291666666666667,0.93125,0.9322916666666666,0.9322916666666666,0.9322916666666666,0.93125,0.9322916666666666,0.93125,0.93125,0.93125,0.93125,0.9322916666666666,0.93125,0.9302083333333333,0.9302083333333333,0.9302083333333333,0.9302083333333333,0.9302083333333333,0.9302083333333333,0.93125,0.93125,0.93125,0.9302083333333333,0.93125,0.9302083333333333,0.93125,0.93125,0.93125,0.9322916666666666,0.9322916666666666,0.9333333333333333,0.9333333333333333,0.9333333333333333,0.9333333333333333,0.934375,0.934375,0.934375,0.934375,0.9354166666666667,0.9354166666666667,0.9354166666666667,0.9354166666666667,0.9364583333333333,0.9375,0.9385416666666667,0.9395833333333333,0.9395833333333333,0.9395833333333333,0.9395833333333333,0.9395833333333333,0.9395833333333333,0.9395833333333333,0.9395833333333333,0.9395833333333333,0.9395833333333333,0.9395833333333333,0.9395833333333333,0.9395833333333333,0.9395833333333333,0.9395833333333333,0.9395833333333333,0.9395833333333333,0.9395833333333333,0.9395833333333333,0.9395833333333333,0.9395833333333333,0.9395833333333333,0.9395833333333333,0.9395833333333333,0.9395833333333333,0.9395833333333333,0.9395833333333333,0.9395833333333333,0.9395833333333333,0.9395833333333333,0.9395833333333333,0.9395833333333333,0.9395833333333333,0.9395833333333333,0.9395833333333333,0.9395833333333333,0.9395833333333333,0.9395833333333333,0.9395833333333333,0.9395833333333333,0.9395833333333333,0.9395833333333333,0.9395833333333333,0.9395833333333333,0.9395833333333333,0.9395833333333333,0.9395833333333333,0.9395833333333333,0.9395833333333333,0.9395833333333333,0.9395833333333333,0.9395833333333333,0.9395833333333333,0.9395833333333333,0.9395833333333333,0.9395833333333333,0.9395833333333333,0.9395833333333333,0.9395833333333333,0.9395833333333333,0.9395833333333333,0.9395833333333333,0.9395833333333333,0.9395833333333333,0.9395833333333333,0.9395833333333333,0.9395833333333333,0.9395833333333333,0.9395833333333333,0.9395833333333333,0.9395833333333333,0.9395833333333333,0.9395833333333333,0.9395833333333333,0.9395833333333333,0.9395833333333333,0.9395833333333333,0.9395833333333333,0.9395833333333333,0.9395833333333333,0.9395833333333333,0.9395833333333333,0.9395833333333333,0.9395833333333333,0.9395833333333333,0.9395833333333333,0.9395833333333333,0.9395833333333333,0.9395833333333333,0.9395833333333333,0.9395833333333333,0.9395833333333333,0.9395833333333333,0.9395833333333333,0.9395833333333333,0.9395833333333333,0.9395833333333333,0.9395833333333333,0.9395833333333333,0.9395833333333333,0.9395833333333333,0.9395833333333333,0.9395833333333333,0.9395833333333333,0.9395833333333333,0.9395833333333333,0.9395833333333333,0.9395833333333333,0.9395833333333333,0.9395833333333333,0.9395833333333333,0.9395833333333333,0.9395833333333333,0.9395833333333333,0.9395833333333333,0.9395833333333333,0.9395833333333333,0.9395833333333333,0.9395833333333333,0.9395833333333333,0.9395833333333333,0.9395833333333333,0.9395833333333333,0.9395833333333333,0.9395833333333333],\"yaxis\":\"y\",\"type\":\"scattergl\"},{\"hovertemplate\":\"variable=B<br>index=%{x}<br>value=%{y}<extra></extra>\",\"legendgroup\":\"B\",\"line\":{\"color\":\"#EF553B\",\"dash\":\"solid\"},\"marker\":{\"symbol\":\"circle\"},\"mode\":\"lines\",\"name\":\"B\",\"showlegend\":true,\"x\":[0,1,2,3,4,5,6,7,8,9,10,11,12,13,14,15,16,17,18,19,20,21,22,23,24,25,26,27,28,29,30,31,32,33,34,35,36,37,38,39,40,41,42,43,44,45,46,47,48,49,50,51,52,53,54,55,56,57,58,59,60,61,62,63,64,65,66,67,68,69,70,71,72,73,74,75,76,77,78,79,80,81,82,83,84,85,86,87,88,89,90,91,92,93,94,95,96,97,98,99,100,101,102,103,104,105,106,107,108,109,110,111,112,113,114,115,116,117,118,119,120,121,122,123,124,125,126,127,128,129,130,131,132,133,134,135,136,137,138,139,140,141,142,143,144,145,146,147,148,149,150,151,152,153,154,155,156,157,158,159,160,161,162,163,164,165,166,167,168,169,170,171,172,173,174,175,176,177,178,179,180,181,182,183,184,185,186,187,188,189,190,191,192,193,194,195,196,197,198,199,200,201,202,203,204,205,206,207,208,209,210,211,212,213,214,215,216,217,218,219,220,221,222,223,224,225,226,227,228,229,230,231,232,233,234,235,236,237,238,239,240,241,242,243,244,245,246,247,248,249,250,251,252,253,254,255,256,257,258,259,260,261,262,263,264,265,266,267,268,269,270,271,272,273,274,275,276,277,278,279,280,281,282,283,284,285,286,287,288,289,290,291,292,293,294,295,296,297,298,299],\"xaxis\":\"x\",\"y\":[0.434375,0.565625,0.7041666666666667,0.640625,0.565625,0.578125,0.728125,0.6822916666666666,0.5854166666666667,0.565625,0.565625,0.565625,0.565625,0.5677083333333334,0.5666666666666667,0.565625,0.565625,0.565625,0.565625,0.565625,0.565625,0.565625,0.5677083333333334,0.56875,0.5885416666666666,0.6166666666666667,0.609375,0.5875,0.6,0.60625,0.603125,0.6083333333333333,0.6041666666666666,0.60625,0.6083333333333333,0.6083333333333333,0.6104166666666667,0.615625,0.625,0.5822916666666667,0.5770833333333333,0.6010416666666667,0.6104166666666667,0.615625,0.6177083333333333,0.61875,0.6364583333333333,0.653125,0.646875,0.6489583333333333,0.63125,0.6291666666666667,0.6270833333333333,0.6229166666666667,0.6354166666666666,0.640625,0.6447916666666667,0.6604166666666667,0.678125,0.6760416666666667,0.6604166666666667,0.665625,0.6635416666666667,0.678125,0.6729166666666667,0.671875,0.6708333333333333,0.6697916666666667,0.66875,0.6729166666666667,0.671875,0.6666666666666666,0.6770833333333334,0.6770833333333334,0.678125,0.6822916666666666,0.6802083333333333,0.69375,0.690625,0.6895833333333333,0.6885416666666667,0.6916666666666667,0.690625,0.684375,0.6916666666666667,0.6947916666666667,0.6885416666666667,0.7010416666666667,0.6947916666666667,0.6979166666666666,0.703125,0.7010416666666667,0.70625,0.7114583333333333,0.7166666666666667,0.7145833333333333,0.715625,0.7135416666666666,0.7197916666666667,0.7208333333333333,0.7239583333333334,0.7260416666666667,0.7229166666666667,0.7239583333333334,0.7260416666666667,0.7260416666666667,0.7260416666666667,0.71875,0.721875,0.7208333333333333,0.7208333333333333,0.7177083333333333,0.71875,0.71875,0.7166666666666667,0.715625,0.715625,0.7145833333333333,0.703125,0.703125,0.7020833333333333,0.7052083333333333,0.7041666666666667,0.7114583333333333,0.7145833333333333,0.7177083333333333,0.7145833333333333,0.7135416666666666,0.7125,0.7125,0.7125,0.7104166666666667,0.7125,0.7197916666666667,0.7208333333333333,0.721875,0.721875,0.7208333333333333,0.721875,0.7239583333333334,0.7291666666666666,0.728125,0.7302083333333333,0.728125,0.7291666666666666,0.7291666666666666,0.7302083333333333,0.728125,0.728125,0.7302083333333333,0.7302083333333333,0.73125,0.7302083333333333,0.7302083333333333,0.73125,0.73125,0.73125,0.7302083333333333,0.73125,0.73125,0.7302083333333333,0.7302083333333333,0.7291666666666666,0.7302083333333333,0.73125,0.7302083333333333,0.7302083333333333,0.73125,0.73125,0.73125,0.73125,0.7322916666666667,0.73125,0.73125,0.73125,0.7322916666666667,0.7322916666666667,0.73125,0.7322916666666667,0.7333333333333333,0.7333333333333333,0.734375,0.7364583333333333,0.7375,0.7364583333333333,0.7364583333333333,0.7375,0.7364583333333333,0.7375,0.7375,0.7385416666666667,0.7385416666666667,0.7385416666666667,0.7375,0.7364583333333333,0.7364583333333333,0.7364583333333333,0.7375,0.7364583333333333,0.7375,0.7364583333333333,0.7364583333333333,0.7364583333333333,0.7364583333333333,0.7364583333333333,0.7364583333333333,0.7364583333333333,0.7375,0.7364583333333333,0.7375,0.7375,0.7364583333333333,0.7364583333333333,0.7364583333333333,0.7364583333333333,0.7364583333333333,0.7364583333333333,0.7375,0.7364583333333333,0.7364583333333333,0.7364583333333333,0.7375,0.7364583333333333,0.7375,0.7375,0.7364583333333333,0.7375,0.7375,0.7364583333333333,0.7364583333333333,0.7375,0.7375,0.7375,0.7375,0.7375,0.7364583333333333,0.7364583333333333,0.7364583333333333,0.7364583333333333,0.7364583333333333,0.7375,0.7375,0.7375,0.7375,0.7375,0.7375,0.7375,0.7375,0.7375,0.7375,0.7375,0.7375,0.7375,0.7375,0.7375,0.7375,0.7375,0.7375,0.7375,0.7375,0.7375,0.7375,0.7375,0.7375,0.7375,0.7375,0.7375,0.7375,0.7375,0.7375,0.7375,0.7375,0.7375,0.7375,0.7375,0.7375,0.7375,0.7375,0.7375,0.7375,0.7375,0.7375,0.7375,0.7375,0.7375,0.7375,0.7375,0.7375,0.7375,0.7375,0.7375,0.7375,0.7375,0.7375,0.7375,0.7375,0.7375,0.7375,0.7375,0.7375],\"yaxis\":\"y\",\"type\":\"scattergl\"},{\"hovertemplate\":\"variable=C<br>index=%{x}<br>value=%{y}<extra></extra>\",\"legendgroup\":\"C\",\"line\":{\"color\":\"#00cc96\",\"dash\":\"solid\"},\"marker\":{\"symbol\":\"circle\"},\"mode\":\"lines\",\"name\":\"C\",\"showlegend\":true,\"x\":[0,1,2,3,4,5,6,7,8,9,10,11,12,13,14,15,16,17,18,19,20,21,22,23,24,25,26,27,28,29,30,31,32,33,34,35,36,37,38,39,40,41,42,43,44,45,46,47,48,49,50,51,52,53,54,55,56,57,58,59,60,61,62,63,64,65,66,67,68,69,70,71,72,73,74,75,76,77,78,79,80,81,82,83,84,85,86,87,88,89,90,91,92,93,94,95,96,97,98,99,100,101,102,103,104,105,106,107,108,109,110,111,112,113,114,115,116,117,118,119,120,121,122,123,124,125,126,127,128,129,130,131,132,133,134,135,136,137,138,139,140,141,142,143,144,145,146,147,148,149,150,151,152,153,154,155,156,157,158,159,160,161,162,163,164,165,166,167,168,169,170,171,172,173,174,175,176,177,178,179,180,181,182,183,184,185,186,187,188,189,190,191,192,193,194,195,196,197,198,199,200,201,202,203,204,205,206,207,208,209,210,211,212,213,214,215,216,217,218,219,220,221,222,223,224,225,226,227,228,229,230,231,232,233,234,235,236,237,238,239,240,241,242,243,244,245,246,247,248,249,250,251,252,253,254,255,256,257,258,259,260,261,262,263,264,265,266,267,268,269,270,271,272,273,274,275,276,277,278,279,280,281,282,283,284,285,286,287,288,289,290,291,292,293,294,295,296,297,298,299],\"xaxis\":\"x\",\"y\":[0.5489583333333333,0.6395833333333333,0.7208333333333333,0.65625,0.8614583333333333,0.7458333333333333,0.6833333333333333,0.6739583333333333,0.725,0.784375,0.6916666666666667,0.5854166666666667,0.59375,0.5979166666666667,0.6104166666666667,0.5666666666666667,0.565625,0.565625,0.6447916666666667,0.6416666666666667,0.63125,0.6302083333333334,0.6697916666666667,0.6708333333333333,0.6541666666666667,0.6895833333333333,0.6833333333333333,0.675,0.6833333333333333,0.6822916666666666,0.690625,0.7,0.7041666666666667,0.6989583333333333,0.6833333333333333,0.696875,0.6989583333333333,0.7010416666666667,0.7020833333333333,0.7052083333333333,0.70625,0.69375,0.703125,0.6854166666666667,0.7010416666666667,0.703125,0.70625,0.70625,0.6958333333333333,0.6989583333333333,0.7,0.7010416666666667,0.696875,0.7010416666666667,0.7052083333333333,0.7104166666666667,0.7104166666666667,0.715625,0.7125,0.7239583333333334,0.7291666666666666,0.7291666666666666,0.7291666666666666,0.728125,0.7291666666666666,0.7260416666666667,0.7270833333333333,0.725,0.7270833333333333,0.7302083333333333,0.7291666666666666,0.728125,0.728125,0.7260416666666667,0.7239583333333334,0.7239583333333334,0.725,0.725,0.7239583333333334,0.7197916666666667,0.71875,0.7229166666666667,0.7229166666666667,0.7239583333333334,0.7239583333333334,0.7239583333333334,0.7239583333333334,0.721875,0.7229166666666667,0.7229166666666667,0.7239583333333334,0.7229166666666667,0.7239583333333334,0.7239583333333334,0.725,0.725,0.725,0.725,0.7260416666666667,0.7260416666666667,0.7270833333333333,0.7302083333333333,0.73125,0.728125,0.73125,0.73125,0.73125,0.73125,0.73125,0.73125,0.73125,0.73125,0.73125,0.73125,0.73125,0.7302083333333333,0.73125,0.73125,0.73125,0.73125,0.7322916666666667,0.73125,0.73125,0.73125,0.73125,0.7322916666666667,0.7322916666666667,0.7322916666666667,0.7322916666666667,0.7322916666666667,0.7322916666666667,0.7322916666666667,0.7322916666666667,0.73125,0.73125,0.73125,0.73125,0.73125,0.73125,0.73125,0.73125,0.73125,0.73125,0.73125,0.73125,0.73125,0.73125,0.73125,0.73125,0.73125,0.73125,0.73125,0.73125,0.73125,0.73125,0.73125,0.73125,0.73125,0.73125,0.73125,0.73125,0.73125,0.73125,0.73125,0.73125,0.73125,0.73125,0.73125,0.73125,0.73125,0.73125,0.73125,0.73125,0.73125,0.73125,0.73125,0.73125,0.73125,0.73125,0.73125,0.73125,0.73125,0.73125,0.73125,0.73125,0.73125,0.73125,0.73125,0.73125,0.73125,0.73125,0.73125,0.73125,0.73125,0.73125,0.73125,0.73125,0.73125,0.73125,0.73125,0.73125,0.73125,0.73125,0.73125,0.73125,0.73125,0.73125,0.73125,0.73125,0.73125,0.73125,0.73125,0.73125,0.73125,0.73125,0.73125,0.73125,0.73125,0.73125,0.73125,0.73125,0.73125,0.73125,0.73125,0.73125,0.73125,0.73125,0.73125,0.73125,0.73125,0.73125,0.73125,0.73125,0.73125,0.73125,0.73125,0.73125,0.73125,0.73125,0.73125,0.73125,0.73125,0.73125,0.73125,0.73125,0.73125,0.73125,0.73125,0.73125,0.73125,0.73125,0.73125,0.73125,0.73125,0.73125,0.73125,0.73125,0.73125,0.73125,0.73125,0.73125,0.73125,0.73125,0.73125,0.73125,0.73125,0.73125,0.73125,0.73125,0.73125,0.73125,0.73125,0.73125,0.73125,0.73125,0.73125,0.73125,0.73125,0.73125,0.73125,0.73125,0.73125,0.73125,0.73125,0.73125,0.73125,0.73125,0.73125,0.73125,0.73125,0.73125,0.73125,0.73125,0.73125,0.73125,0.73125,0.73125,0.73125,0.73125,0.73125],\"yaxis\":\"y\",\"type\":\"scattergl\"},{\"hovertemplate\":\"variable=D<br>index=%{x}<br>value=%{y}<extra></extra>\",\"legendgroup\":\"D\",\"line\":{\"color\":\"#ab63fa\",\"dash\":\"solid\"},\"marker\":{\"symbol\":\"circle\"},\"mode\":\"lines\",\"name\":\"D\",\"showlegend\":true,\"x\":[0,1,2,3,4,5,6,7,8,9,10,11,12,13,14,15,16,17,18,19,20,21,22,23,24,25,26,27,28,29,30,31,32,33,34,35,36,37,38,39,40,41,42,43,44,45,46,47,48,49,50,51,52,53,54,55,56,57,58,59,60,61,62,63,64,65,66,67,68,69,70,71,72,73,74,75,76,77,78,79,80,81,82,83,84,85,86,87,88,89,90,91,92,93,94,95,96,97,98,99,100,101,102,103,104,105,106,107,108,109,110,111,112,113,114,115,116,117,118,119,120,121,122,123,124,125,126,127,128,129,130,131,132,133,134,135,136,137,138,139,140,141,142,143,144,145,146,147,148,149,150,151,152,153,154,155,156,157,158,159,160,161,162,163,164,165,166,167,168,169,170,171,172,173,174,175,176,177,178,179,180,181,182,183,184,185,186,187,188,189,190,191,192,193,194,195,196,197,198,199,200,201,202,203,204,205,206,207,208,209,210,211,212,213,214,215,216,217,218,219,220,221,222,223,224,225,226,227,228,229,230,231,232,233,234,235,236,237,238,239,240,241,242,243,244,245,246,247,248,249,250,251,252,253,254,255,256,257,258,259,260,261,262,263,264,265,266,267,268,269,270,271,272,273,274,275,276,277,278,279,280,281,282,283,284,285,286,287,288,289,290,291,292,293,294,295,296,297,298,299],\"xaxis\":\"x\",\"y\":[0.5635416666666667,0.8197916666666667,0.7052083333333333,0.6677083333333333,0.565625,0.565625,0.5895833333333333,0.646875,0.565625,0.5666666666666667,0.565625,0.565625,0.565625,0.5770833333333333,0.615625,0.615625,0.6447916666666667,0.6583333333333333,0.6645833333333333,0.6635416666666667,0.65625,0.6552083333333333,0.6625,0.6625,0.6583333333333333,0.65625,0.6552083333333333,0.6572916666666667,0.6375,0.6260416666666667,0.6354166666666666,0.63125,0.615625,0.6114583333333333,0.615625,0.6135416666666667,0.6104166666666667,0.60625,0.6114583333333333,0.615625,0.621875,0.6229166666666667,0.6166666666666667,0.61875,0.61875,0.6177083333333333,0.6166666666666667,0.6197916666666666,0.6145833333333334,0.6135416666666667,0.6114583333333333,0.6114583333333333,0.6104166666666667,0.6072916666666667,0.6041666666666666,0.6020833333333333,0.6020833333333333,0.6010416666666667,0.6010416666666667,0.6010416666666667,0.5989583333333334,0.5979166666666667,0.5958333333333333,0.59375,0.5927083333333333,0.5989583333333334,0.5958333333333333,0.5958333333333333,0.6010416666666667,0.5958333333333333,0.5947916666666667,0.5958333333333333,0.5979166666666667,0.596875,0.5927083333333333,0.5958333333333333,0.5958333333333333,0.5958333333333333,0.5927083333333333,0.59375,0.59375,0.5927083333333333,0.5958333333333333,0.59375,0.59375,0.5947916666666667,0.5958333333333333,0.5958333333333333,0.596875,0.596875,0.596875,0.596875,0.596875,0.596875,0.596875,0.596875,0.596875,0.5979166666666667,0.5979166666666667,0.5989583333333334,0.5989583333333334,0.5979166666666667,0.5979166666666667,0.5989583333333334,0.5989583333333334,0.5989583333333334,0.5989583333333334,0.5989583333333334,0.5989583333333334,0.5989583333333334,0.6,0.6020833333333333,0.6020833333333333,0.6020833333333333,0.6020833333333333,0.603125,0.603125,0.603125,0.603125,0.603125,0.603125,0.603125,0.603125,0.603125,0.603125,0.603125,0.603125,0.603125,0.603125,0.603125,0.603125,0.603125,0.603125,0.603125,0.603125,0.603125,0.603125,0.603125,0.603125,0.6020833333333333,0.603125,0.603125,0.603125,0.603125,0.603125,0.6020833333333333,0.6020833333333333,0.6020833333333333,0.603125,0.603125,0.603125,0.603125,0.603125,0.6020833333333333,0.6020833333333333,0.6020833333333333,0.6020833333333333,0.6020833333333333,0.6020833333333333,0.6020833333333333,0.6020833333333333,0.6020833333333333,0.6020833333333333,0.6020833333333333,0.6020833333333333,0.6020833333333333,0.6020833333333333,0.6020833333333333,0.6020833333333333,0.603125,0.603125,0.603125,0.603125,0.603125,0.603125,0.603125,0.603125,0.603125,0.603125,0.603125,0.603125,0.603125,0.603125,0.603125,0.603125,0.603125,0.603125,0.603125,0.603125,0.603125,0.603125,0.603125,0.603125,0.603125,0.603125,0.603125,0.603125,0.603125,0.603125,0.603125,0.603125,0.603125,0.603125,0.603125,0.603125,0.603125,0.603125,0.603125,0.603125,0.603125,0.603125,0.603125,0.603125,0.603125,0.603125,0.603125,0.603125,0.603125,0.603125,0.603125,0.603125,0.603125,0.603125,0.603125,0.603125,0.603125,0.603125,0.603125,0.603125,0.603125,0.603125,0.603125,0.603125,0.603125,0.603125,0.603125,0.603125,0.603125,0.603125,0.603125,0.603125,0.603125,0.603125,0.603125,0.603125,0.603125,0.603125,0.603125,0.603125,0.603125,0.603125,0.603125,0.603125,0.603125,0.603125,0.603125,0.603125,0.603125,0.603125,0.603125,0.603125,0.603125,0.603125,0.603125,0.603125,0.603125,0.603125,0.603125,0.603125,0.603125,0.603125,0.603125,0.603125,0.603125,0.603125,0.603125,0.603125,0.603125,0.603125,0.603125,0.603125,0.603125,0.603125,0.603125,0.603125,0.603125,0.603125,0.603125,0.603125,0.603125,0.603125,0.603125,0.603125,0.603125,0.603125,0.603125,0.603125,0.603125,0.603125,0.603125],\"yaxis\":\"y\",\"type\":\"scattergl\"},{\"hovertemplate\":\"variable=E<br>index=%{x}<br>value=%{y}<extra></extra>\",\"legendgroup\":\"E\",\"line\":{\"color\":\"#FFA15A\",\"dash\":\"solid\"},\"marker\":{\"symbol\":\"circle\"},\"mode\":\"lines\",\"name\":\"E\",\"showlegend\":true,\"x\":[0,1,2,3,4,5,6,7,8,9,10,11,12,13,14,15,16,17,18,19,20,21,22,23,24,25,26,27,28,29,30,31,32,33,34,35,36,37,38,39,40,41,42,43,44,45,46,47,48,49,50,51,52,53,54,55,56,57,58,59,60,61,62,63,64,65,66,67,68,69,70,71,72,73,74,75,76,77,78,79,80,81,82,83,84,85,86,87,88,89,90,91,92,93,94,95,96,97,98,99,100,101,102,103,104,105,106,107,108,109,110,111,112,113,114,115,116,117,118,119,120,121,122,123,124,125,126,127,128,129,130,131,132,133,134,135,136,137,138,139,140,141,142,143,144,145,146,147,148,149,150,151,152,153,154,155,156,157,158,159,160,161,162,163,164,165,166,167,168,169,170,171,172,173,174,175,176,177,178,179,180,181,182,183,184,185,186,187,188,189,190,191,192,193,194,195,196,197,198,199,200,201,202,203,204,205,206,207,208,209,210,211,212,213,214,215,216,217,218,219,220,221,222,223,224,225,226,227,228,229,230,231,232,233,234,235,236,237,238,239,240,241,242,243,244,245,246,247,248,249,250,251,252,253,254,255,256,257,258,259,260,261,262,263,264,265,266,267,268,269,270,271,272,273,274,275,276,277,278,279,280,281,282,283,284,285,286,287,288,289,290,291,292,293,294,295,296,297,298,299],\"xaxis\":\"x\",\"y\":[0.6197916666666666,0.8239583333333333,0.659375,0.6541666666666667,0.69375,0.6416666666666667,0.6229166666666667,0.5666666666666667,0.678125,0.565625,0.609375,0.578125,0.5760416666666667,0.5708333333333333,0.5739583333333333,0.565625,0.565625,0.565625,0.565625,0.565625,0.565625,0.565625,0.565625,0.565625,0.565625,0.565625,0.565625,0.565625,0.565625,0.565625,0.5666666666666667,0.5666666666666667,0.5677083333333334,0.5666666666666667,0.5666666666666667,0.5666666666666667,0.565625,0.565625,0.565625,0.565625,0.565625,0.565625,0.565625,0.565625,0.565625,0.565625,0.565625,0.565625,0.565625,0.565625,0.565625,0.565625,0.565625,0.565625,0.565625,0.565625,0.565625,0.56875,0.5708333333333333,0.5697916666666667,0.5708333333333333,0.5708333333333333,0.571875,0.5708333333333333,0.5729166666666666,0.5708333333333333,0.5697916666666667,0.5708333333333333,0.5708333333333333,0.571875,0.5708333333333333,0.5739583333333333,0.5729166666666666,0.571875,0.571875,0.5729166666666666,0.5739583333333333,0.5739583333333333,0.5739583333333333,0.56875,0.56875,0.5708333333333333,0.571875,0.571875,0.575,0.5739583333333333,0.5739583333333333,0.5739583333333333,0.5729166666666666,0.5729166666666666,0.5729166666666666,0.5739583333333333,0.5739583333333333,0.5739583333333333,0.5739583333333333,0.5739583333333333,0.5729166666666666,0.5739583333333333,0.571875,0.571875,0.5729166666666666,0.5729166666666666,0.5729166666666666,0.5729166666666666,0.5729166666666666,0.5729166666666666,0.5729166666666666,0.5729166666666666,0.5729166666666666,0.5729166666666666,0.5729166666666666,0.5729166666666666,0.575,0.5739583333333333,0.5739583333333333,0.575,0.575,0.5770833333333333,0.575,0.575,0.575,0.5739583333333333,0.5739583333333333,0.575,0.575,0.575,0.575,0.575,0.575,0.575,0.575,0.575,0.575,0.575,0.575,0.5760416666666667,0.5760416666666667,0.5760416666666667,0.5760416666666667,0.5760416666666667,0.5770833333333333,0.5770833333333333,0.5770833333333333,0.5770833333333333,0.5770833333333333,0.5770833333333333,0.578125,0.5802083333333333,0.58125,0.5802083333333333,0.5791666666666667,0.5791666666666667,0.5791666666666667,0.5791666666666667,0.5791666666666667,0.5791666666666667,0.5791666666666667,0.5802083333333333,0.5802083333333333,0.5802083333333333,0.5802083333333333,0.5802083333333333,0.5802083333333333,0.5802083333333333,0.5802083333333333,0.5802083333333333,0.5802083333333333,0.5802083333333333,0.5802083333333333,0.5802083333333333,0.5802083333333333,0.5802083333333333,0.5802083333333333,0.5802083333333333,0.5802083333333333,0.5802083333333333,0.5802083333333333,0.58125,0.58125,0.58125,0.5802083333333333,0.5802083333333333,0.5802083333333333,0.58125,0.58125,0.5802083333333333,0.58125,0.58125,0.58125,0.58125,0.58125,0.58125,0.5822916666666667,0.5822916666666667,0.5822916666666667,0.5822916666666667,0.5822916666666667,0.5822916666666667,0.5822916666666667,0.5822916666666667,0.5822916666666667,0.5822916666666667,0.5822916666666667,0.5822916666666667,0.5822916666666667,0.5822916666666667,0.5822916666666667,0.5822916666666667,0.5822916666666667,0.5822916666666667,0.5822916666666667,0.5822916666666667,0.5822916666666667,0.5822916666666667,0.5822916666666667,0.5822916666666667,0.5822916666666667,0.5822916666666667,0.5822916666666667,0.5822916666666667,0.5822916666666667,0.5822916666666667,0.5822916666666667,0.5822916666666667,0.5822916666666667,0.5822916666666667,0.5822916666666667,0.5822916666666667,0.5822916666666667,0.5822916666666667,0.5822916666666667,0.5822916666666667,0.5822916666666667,0.5822916666666667,0.5822916666666667,0.5822916666666667,0.5822916666666667,0.5822916666666667,0.5822916666666667,0.5822916666666667,0.5822916666666667,0.5822916666666667,0.5822916666666667,0.5822916666666667,0.5822916666666667,0.5822916666666667,0.5822916666666667,0.5822916666666667,0.5822916666666667,0.5822916666666667,0.5822916666666667,0.5822916666666667,0.5822916666666667,0.5822916666666667,0.5822916666666667,0.5822916666666667,0.5822916666666667,0.5822916666666667,0.5822916666666667,0.5822916666666667,0.5822916666666667,0.5822916666666667,0.5822916666666667,0.5822916666666667,0.5822916666666667,0.5822916666666667,0.5822916666666667,0.5822916666666667,0.5822916666666667,0.5822916666666667,0.5822916666666667,0.5822916666666667,0.5822916666666667,0.5822916666666667,0.5822916666666667,0.5822916666666667,0.5822916666666667,0.5822916666666667,0.5822916666666667,0.5822916666666667,0.5822916666666667,0.5822916666666667,0.5822916666666667,0.5822916666666667,0.5822916666666667,0.5822916666666667,0.5822916666666667,0.5822916666666667,0.5822916666666667,0.5822916666666667,0.5822916666666667,0.5822916666666667,0.5822916666666667,0.5822916666666667,0.5822916666666667,0.5822916666666667,0.5822916666666667,0.5822916666666667,0.5822916666666667,0.5822916666666667],\"yaxis\":\"y\",\"type\":\"scattergl\"},{\"hovertemplate\":\"variable=F<br>index=%{x}<br>value=%{y}<extra></extra>\",\"legendgroup\":\"F\",\"line\":{\"color\":\"#19d3f3\",\"dash\":\"solid\"},\"marker\":{\"symbol\":\"circle\"},\"mode\":\"lines\",\"name\":\"F\",\"showlegend\":true,\"x\":[0,1,2,3,4,5,6,7,8,9,10,11,12,13,14,15,16,17,18,19,20,21,22,23,24,25,26,27,28,29,30,31,32,33,34,35,36,37,38,39,40,41,42,43,44,45,46,47,48,49,50,51,52,53,54,55,56,57,58,59,60,61,62,63,64,65,66,67,68,69,70,71,72,73,74,75,76,77,78,79,80,81,82,83,84,85,86,87,88,89,90,91,92,93,94,95,96,97,98,99,100,101,102,103,104,105,106,107,108,109,110,111,112,113,114,115,116,117,118,119,120,121,122,123,124,125,126,127,128,129,130,131,132,133,134,135,136,137,138,139,140,141,142,143,144,145,146,147,148,149,150,151,152,153,154,155,156,157,158,159,160,161,162,163,164,165,166,167,168,169,170,171,172,173,174,175,176,177,178,179,180,181,182,183,184,185,186,187,188,189,190,191,192,193,194,195,196,197,198,199,200,201,202,203,204,205,206,207,208,209,210,211,212,213,214,215,216,217,218,219,220,221,222,223,224,225,226,227,228,229,230,231,232,233,234,235,236,237,238,239,240,241,242,243,244,245,246,247,248,249,250,251,252,253,254,255,256,257,258,259,260,261,262,263,264,265,266,267,268,269,270,271,272,273,274,275,276,277,278,279,280,281,282,283,284,285,286,287,288,289,290,291,292,293,294,295,296,297,298,299],\"xaxis\":\"x\",\"y\":[0.6395833333333333,0.8072916666666666,0.76875,0.6260416666666667,0.6229166666666667,0.6197916666666666,0.6729166666666667,0.6385416666666667,0.565625,0.6072916666666667,0.5958333333333333,0.5697916666666667,0.590625,0.565625,0.578125,0.565625,0.565625,0.565625,0.565625,0.565625,0.565625,0.565625,0.565625,0.565625,0.565625,0.565625,0.565625,0.565625,0.5677083333333334,0.5677083333333334,0.5677083333333334,0.5677083333333334,0.5677083333333334,0.5677083333333334,0.56875,0.56875,0.5729166666666666,0.578125,0.5854166666666667,0.578125,0.5791666666666667,0.578125,0.5760416666666667,0.571875,0.5708333333333333,0.5770833333333333,0.5708333333333333,0.5666666666666667,0.5666666666666667,0.5697916666666667,0.5677083333333334,0.5677083333333334,0.5677083333333334,0.5677083333333334,0.5677083333333334,0.5666666666666667,0.5666666666666667,0.565625,0.5666666666666667,0.5666666666666667,0.5666666666666667,0.565625,0.565625,0.565625,0.565625,0.565625,0.565625,0.565625,0.565625,0.565625,0.565625,0.565625,0.565625,0.565625,0.565625,0.565625,0.565625,0.565625,0.565625,0.565625,0.565625,0.565625,0.565625,0.565625,0.565625,0.5666666666666667,0.5666666666666667,0.5666666666666667,0.565625,0.565625,0.565625,0.565625,0.5666666666666667,0.5666666666666667,0.5666666666666667,0.5666666666666667,0.5666666666666667,0.5666666666666667,0.5666666666666667,0.5666666666666667,0.5666666666666667,0.5666666666666667,0.5666666666666667,0.5666666666666667,0.5666666666666667,0.5677083333333334,0.5677083333333334,0.5677083333333334,0.5677083333333334,0.565625,0.5666666666666667,0.5666666666666667,0.565625,0.5666666666666667,0.5666666666666667,0.5666666666666667,0.5666666666666667,0.5666666666666667,0.5666666666666667,0.5666666666666667,0.5666666666666667,0.5666666666666667,0.5666666666666667,0.565625,0.5666666666666667,0.565625,0.565625,0.565625,0.565625,0.565625,0.565625,0.565625,0.565625,0.565625,0.5666666666666667,0.5666666666666667,0.565625,0.565625,0.5666666666666667,0.5666666666666667,0.5666666666666667,0.5666666666666667,0.5666666666666667,0.5666666666666667,0.5666666666666667,0.5666666666666667,0.5666666666666667,0.5666666666666667,0.5666666666666667,0.5666666666666667,0.5666666666666667,0.5666666666666667,0.5666666666666667,0.5666666666666667,0.5666666666666667,0.5666666666666667,0.5666666666666667,0.5666666666666667,0.5666666666666667,0.5666666666666667,0.5666666666666667,0.5666666666666667,0.5666666666666667,0.5666666666666667,0.5666666666666667,0.5666666666666667,0.5666666666666667,0.5666666666666667,0.5666666666666667,0.5666666666666667,0.5666666666666667,0.5666666666666667,0.5666666666666667,0.5666666666666667,0.5666666666666667,0.5666666666666667,0.5666666666666667,0.5666666666666667,0.5666666666666667,0.5666666666666667,0.5666666666666667,0.5666666666666667,0.5666666666666667,0.5666666666666667,0.5666666666666667,0.5666666666666667,0.5666666666666667,0.5666666666666667,0.5666666666666667,0.5666666666666667,0.5666666666666667,0.5666666666666667,0.5666666666666667,0.5666666666666667,0.5666666666666667,0.5666666666666667,0.5666666666666667,0.5666666666666667,0.5666666666666667,0.5666666666666667,0.5666666666666667,0.5666666666666667,0.5666666666666667,0.5666666666666667,0.5666666666666667,0.5666666666666667,0.5666666666666667,0.5666666666666667,0.5666666666666667,0.5666666666666667,0.5666666666666667,0.5666666666666667,0.5666666666666667,0.5666666666666667,0.5666666666666667,0.5666666666666667,0.5666666666666667,0.5666666666666667,0.5666666666666667,0.5666666666666667,0.5666666666666667,0.5666666666666667,0.5666666666666667,0.5666666666666667,0.5666666666666667,0.5666666666666667,0.5666666666666667,0.5666666666666667,0.5666666666666667,0.5666666666666667,0.5666666666666667,0.5666666666666667,0.5666666666666667,0.5666666666666667,0.5666666666666667,0.5666666666666667,0.5666666666666667,0.5666666666666667,0.5666666666666667,0.5666666666666667,0.5666666666666667,0.5666666666666667,0.5666666666666667,0.5666666666666667,0.5666666666666667,0.5666666666666667,0.5666666666666667,0.5666666666666667,0.5666666666666667,0.5666666666666667,0.5666666666666667,0.5666666666666667,0.5666666666666667,0.5666666666666667,0.5666666666666667,0.5666666666666667,0.5666666666666667,0.5666666666666667,0.5666666666666667,0.5666666666666667,0.5666666666666667,0.5666666666666667,0.5666666666666667,0.5666666666666667,0.5666666666666667,0.5666666666666667,0.5666666666666667,0.5666666666666667,0.5666666666666667,0.5666666666666667,0.5666666666666667,0.5666666666666667,0.5666666666666667,0.5666666666666667,0.5666666666666667,0.5666666666666667,0.5666666666666667,0.5666666666666667,0.5666666666666667,0.5666666666666667,0.5666666666666667,0.5666666666666667,0.5666666666666667,0.5666666666666667,0.5666666666666667,0.5666666666666667,0.5666666666666667,0.5666666666666667,0.5666666666666667,0.5666666666666667,0.5666666666666667,0.5666666666666667,0.5666666666666667,0.5666666666666667,0.5666666666666667,0.5666666666666667,0.5666666666666667,0.5666666666666667,0.5666666666666667,0.5666666666666667],\"yaxis\":\"y\",\"type\":\"scattergl\"},{\"hovertemplate\":\"variable=G<br>index=%{x}<br>value=%{y}<extra></extra>\",\"legendgroup\":\"G\",\"line\":{\"color\":\"#FF6692\",\"dash\":\"solid\"},\"marker\":{\"symbol\":\"circle\"},\"mode\":\"lines\",\"name\":\"G\",\"showlegend\":true,\"x\":[0,1,2,3,4,5,6,7,8,9,10,11,12,13,14,15,16,17,18,19,20,21,22,23,24,25,26,27,28,29,30,31,32,33,34,35,36,37,38,39,40,41,42,43,44,45,46,47,48,49,50,51,52,53,54,55,56,57,58,59,60,61,62,63,64,65,66,67,68,69,70,71,72,73,74,75,76,77,78,79,80,81,82,83,84,85,86,87,88,89,90,91,92,93,94,95,96,97,98,99,100,101,102,103,104,105,106,107,108,109,110,111,112,113,114,115,116,117,118,119,120,121,122,123,124,125,126,127,128,129,130,131,132,133,134,135,136,137,138,139,140,141,142,143,144,145,146,147,148,149,150,151,152,153,154,155,156,157,158,159,160,161,162,163,164,165,166,167,168,169,170,171,172,173,174,175,176,177,178,179,180,181,182,183,184,185,186,187,188,189,190,191,192,193,194,195,196,197,198,199,200,201,202,203,204,205,206,207,208,209,210,211,212,213,214,215,216,217,218,219,220,221,222,223,224,225,226,227,228,229,230,231,232,233,234,235,236,237,238,239,240,241,242,243,244,245,246,247,248,249,250,251,252,253,254,255,256,257,258,259,260,261,262,263,264,265,266,267,268,269,270,271,272,273,274,275,276,277,278,279,280,281,282,283,284,285,286,287,288,289,290,291,292,293,294,295,296,297,298,299],\"xaxis\":\"x\",\"y\":[0.565625,0.6927083333333334,0.7322916666666667,0.6864583333333333,0.703125,0.7302083333333333,0.603125,0.565625,0.565625,0.565625,0.565625,0.565625,0.5875,0.5895833333333333,0.5927083333333333,0.6322916666666667,0.5958333333333333,0.6145833333333334,0.5916666666666667,0.5979166666666667,0.6166666666666667,0.59375,0.63125,0.6208333333333333,0.5885416666666666,0.5885416666666666,0.5885416666666666,0.590625,0.596875,0.603125,0.6104166666666667,0.6166666666666667,0.60625,0.61875,0.6041666666666666,0.578125,0.5989583333333334,0.5885416666666666,0.5677083333333334,0.596875,0.5927083333333333,0.5822916666666667,0.5739583333333333,0.5822916666666667,0.5958333333333333,0.596875,0.5916666666666667,0.5791666666666667,0.5677083333333334,0.565625,0.56875,0.5666666666666667,0.565625,0.565625,0.5666666666666667,0.565625,0.565625,0.565625,0.565625,0.565625,0.565625,0.565625,0.565625,0.565625,0.565625,0.565625,0.565625,0.565625,0.565625,0.565625,0.565625,0.565625,0.565625,0.565625,0.565625,0.565625,0.565625,0.565625,0.565625,0.565625,0.565625,0.565625,0.565625,0.565625,0.565625,0.565625,0.565625,0.565625,0.565625,0.565625,0.565625,0.565625,0.565625,0.565625,0.565625,0.565625,0.565625,0.565625,0.565625,0.565625,0.565625,0.565625,0.565625,0.565625,0.565625,0.565625,0.565625,0.565625,0.565625,0.565625,0.565625,0.565625,0.565625,0.565625,0.565625,0.565625,0.565625,0.565625,0.565625,0.565625,0.565625,0.565625,0.565625,0.565625,0.565625,0.565625,0.565625,0.565625,0.565625,0.565625,0.565625,0.565625,0.565625,0.565625,0.565625,0.565625,0.565625,0.565625,0.565625,0.565625,0.565625,0.565625,0.565625,0.565625,0.565625,0.565625,0.565625,0.565625,0.565625,0.565625,0.565625,0.565625,0.565625,0.565625,0.565625,0.565625,0.565625,0.565625,0.565625,0.565625,0.565625,0.565625,0.565625,0.565625,0.565625,0.565625,0.565625,0.565625,0.565625,0.565625,0.565625,0.565625,0.565625,0.565625,0.565625,0.565625,0.565625,0.565625,0.565625,0.565625,0.565625,0.565625,0.565625,0.565625,0.565625,0.565625,0.565625,0.565625,0.565625,0.565625,0.565625,0.565625,0.565625,0.565625,0.565625,0.565625,0.565625,0.565625,0.565625,0.565625,0.565625,0.565625,0.565625,0.565625,0.565625,0.565625,0.565625,0.565625,0.565625,0.565625,0.565625,0.565625,0.565625,0.565625,0.565625,0.565625,0.565625,0.565625,0.565625,0.565625,0.565625,0.565625,0.565625,0.565625,0.565625,0.565625,0.565625,0.565625,0.565625,0.565625,0.565625,0.565625,0.565625,0.565625,0.565625,0.565625,0.565625,0.565625,0.565625,0.565625,0.565625,0.565625,0.565625,0.565625,0.565625,0.565625,0.565625,0.565625,0.565625,0.565625,0.565625,0.565625,0.565625,0.565625,0.565625,0.565625,0.565625,0.565625,0.565625,0.565625,0.565625,0.565625,0.565625,0.565625,0.565625,0.565625,0.565625,0.565625,0.565625,0.565625,0.565625,0.565625,0.565625,0.565625,0.565625,0.565625,0.565625,0.565625,0.565625,0.565625,0.565625,0.565625,0.565625,0.565625,0.565625,0.565625,0.565625,0.565625,0.565625,0.565625,0.565625,0.565625,0.565625,0.565625,0.565625,0.565625,0.565625,0.565625,0.565625,0.565625],\"yaxis\":\"y\",\"type\":\"scattergl\"},{\"hovertemplate\":\"variable=H<br>index=%{x}<br>value=%{y}<extra></extra>\",\"legendgroup\":\"H\",\"line\":{\"color\":\"#B6E880\",\"dash\":\"solid\"},\"marker\":{\"symbol\":\"circle\"},\"mode\":\"lines\",\"name\":\"H\",\"showlegend\":true,\"x\":[0,1,2,3,4,5,6,7,8,9,10,11,12,13,14,15,16,17,18,19,20,21,22,23,24,25,26,27,28,29,30,31,32,33,34,35,36,37,38,39,40,41,42,43,44,45,46,47,48,49,50,51,52,53,54,55,56,57,58,59,60,61,62,63,64,65,66,67,68,69,70,71,72,73,74,75,76,77,78,79,80,81,82,83,84,85,86,87,88,89,90,91,92,93,94,95,96,97,98,99,100,101,102,103,104,105,106,107,108,109,110,111,112,113,114,115,116,117,118,119,120,121,122,123,124,125,126,127,128,129,130,131,132,133,134,135,136,137,138,139,140,141,142,143,144,145,146,147,148,149,150,151,152,153,154,155,156,157,158,159,160,161,162,163,164,165,166,167,168,169,170,171,172,173,174,175,176,177,178,179,180,181,182,183,184,185,186,187,188,189,190,191,192,193,194,195,196,197,198,199,200,201,202,203,204,205,206,207,208,209,210,211,212,213,214,215,216,217,218,219,220,221,222,223,224,225,226,227,228,229,230,231,232,233,234,235,236,237,238,239,240,241,242,243,244,245,246,247,248,249,250,251,252,253,254,255,256,257,258,259,260,261,262,263,264,265,266,267,268,269,270,271,272,273,274,275,276,277,278,279,280,281,282,283,284,285,286,287,288,289,290,291,292,293,294,295,296,297,298,299],\"xaxis\":\"x\",\"y\":[0.5677083333333334,0.621875,0.5729166666666666,0.5645833333333333,0.565625,0.64375,0.6791666666666667,0.5802083333333333,0.565625,0.5666666666666667,0.5833333333333334,0.5645833333333333,0.5666666666666667,0.565625,0.565625,0.565625,0.565625,0.56875,0.5677083333333334,0.56875,0.56875,0.5677083333333334,0.5666666666666667,0.628125,0.60625,0.5989583333333334,0.5666666666666667,0.559375,0.5604166666666667,0.565625,0.565625,0.5677083333333334,0.5677083333333334,0.5677083333333334,0.5677083333333334,0.5677083333333334,0.5625,0.5583333333333333,0.559375,0.5552083333333333,0.5520833333333334,0.5479166666666667,0.55,0.5552083333333333,0.5447916666666667,0.5489583333333333,0.55,0.5489583333333333,0.5520833333333334,0.5541666666666667,0.55625,0.55,0.546875,0.540625,0.5416666666666666,0.5416666666666666,0.5333333333333333,0.5354166666666667,0.5385416666666667,0.5354166666666667,0.534375,0.53125,0.5322916666666667,0.5302083333333333,0.5333333333333333,0.5333333333333333,0.5333333333333333,0.5333333333333333,0.5322916666666667,0.5291666666666667,0.53125,0.5322916666666667,0.53125,0.534375,0.534375,0.53125,0.5322916666666667,0.5333333333333333,0.5354166666666667,0.5375,0.5416666666666666,0.5416666666666666,0.5427083333333333,0.5458333333333333,0.5520833333333334,0.5583333333333333,0.5604166666666667,0.5625,0.5645833333333333,0.5645833333333333,0.565625,0.5645833333333333,0.565625,0.565625,0.565625,0.565625,0.565625,0.565625,0.565625,0.565625,0.565625,0.565625,0.565625,0.565625,0.565625,0.565625,0.565625,0.565625,0.565625,0.565625,0.565625,0.565625,0.565625,0.565625,0.565625,0.565625,0.565625,0.565625,0.565625,0.565625,0.565625,0.565625,0.565625,0.565625,0.565625,0.565625,0.565625,0.565625,0.565625,0.565625,0.565625,0.565625,0.565625,0.565625,0.565625,0.565625,0.565625,0.565625,0.565625,0.565625,0.565625,0.565625,0.565625,0.565625,0.565625,0.565625,0.565625,0.565625,0.565625,0.565625,0.565625,0.565625,0.565625,0.565625,0.565625,0.565625,0.565625,0.565625,0.565625,0.565625,0.565625,0.565625,0.565625,0.565625,0.565625,0.565625,0.565625,0.565625,0.565625,0.565625,0.565625,0.565625,0.565625,0.565625,0.565625,0.565625,0.565625,0.565625,0.565625,0.565625,0.565625,0.565625,0.565625,0.565625,0.565625,0.565625,0.565625,0.565625,0.565625,0.565625,0.565625,0.565625,0.565625,0.565625,0.565625,0.565625,0.565625,0.565625,0.565625,0.565625,0.565625,0.565625,0.565625,0.565625,0.565625,0.565625,0.565625,0.565625,0.565625,0.565625,0.565625,0.565625,0.565625,0.565625,0.565625,0.565625,0.565625,0.565625,0.565625,0.565625,0.565625,0.565625,0.565625,0.565625,0.565625,0.565625,0.565625,0.565625,0.565625,0.565625,0.565625,0.565625,0.565625,0.565625,0.565625,0.565625,0.565625,0.565625,0.565625,0.565625,0.565625,0.565625,0.565625,0.565625,0.565625,0.565625,0.565625,0.565625,0.565625,0.565625,0.565625,0.565625,0.565625,0.565625,0.565625,0.565625,0.565625,0.565625,0.565625,0.565625,0.565625,0.565625,0.565625,0.565625,0.565625,0.565625,0.565625,0.565625,0.565625,0.565625,0.565625,0.565625,0.565625,0.565625,0.565625,0.565625,0.565625,0.565625,0.565625,0.565625,0.565625,0.565625,0.565625,0.565625,0.565625,0.565625,0.565625,0.565625,0.565625,0.565625,0.565625,0.565625,0.565625,0.565625,0.565625,0.565625,0.565625,0.565625,0.565625,0.565625],\"yaxis\":\"y\",\"type\":\"scattergl\"},{\"hovertemplate\":\"variable=I<br>index=%{x}<br>value=%{y}<extra></extra>\",\"legendgroup\":\"I\",\"line\":{\"color\":\"#FF97FF\",\"dash\":\"solid\"},\"marker\":{\"symbol\":\"circle\"},\"mode\":\"lines\",\"name\":\"I\",\"showlegend\":true,\"x\":[0,1,2,3,4,5,6,7,8,9,10,11,12,13,14,15,16,17,18,19,20,21,22,23,24,25,26,27,28,29,30,31,32,33,34,35,36,37,38,39,40,41,42,43,44,45,46,47,48,49,50,51,52,53,54,55,56,57,58,59,60,61,62,63,64,65,66,67,68,69,70,71,72,73,74,75,76,77,78,79,80,81,82,83,84,85,86,87,88,89,90,91,92,93,94,95,96,97,98,99,100,101,102,103,104,105,106,107,108,109,110,111,112,113,114,115,116,117,118,119,120,121,122,123,124,125,126,127,128,129,130,131,132,133,134,135,136,137,138,139,140,141,142,143,144,145,146,147,148,149,150,151,152,153,154,155,156,157,158,159,160,161,162,163,164,165,166,167,168,169,170,171,172,173,174,175,176,177,178,179,180,181,182,183,184,185,186,187,188,189,190,191,192,193,194,195,196,197,198,199,200,201,202,203,204,205,206,207,208,209,210,211,212,213,214,215,216,217,218,219,220,221,222,223,224,225,226,227,228,229,230,231,232,233,234,235,236,237,238,239,240,241,242,243,244,245,246,247,248,249,250,251,252,253,254,255,256,257,258,259,260,261,262,263,264,265,266,267,268,269,270,271,272,273,274,275,276,277,278,279,280,281,282,283,284,285,286,287,288,289,290,291,292,293,294,295,296,297,298,299],\"xaxis\":\"x\",\"y\":[0.565625,0.7572916666666667,0.571875,0.6604166666666667,0.565625,0.565625,0.565625,0.565625,0.565625,0.565625,0.5677083333333334,0.5677083333333334,0.565625,0.565625,0.565625,0.565625,0.565625,0.565625,0.565625,0.565625,0.565625,0.565625,0.565625,0.565625,0.5635416666666667,0.565625,0.565625,0.565625,0.565625,0.565625,0.565625,0.565625,0.565625,0.565625,0.565625,0.565625,0.565625,0.565625,0.565625,0.565625,0.565625,0.565625,0.565625,0.565625,0.565625,0.565625,0.565625,0.565625,0.565625,0.565625,0.565625,0.565625,0.565625,0.565625,0.565625,0.565625,0.565625,0.565625,0.565625,0.565625,0.565625,0.565625,0.565625,0.565625,0.565625,0.565625,0.565625,0.565625,0.565625,0.565625,0.565625,0.565625,0.565625,0.565625,0.565625,0.565625,0.565625,0.565625,0.565625,0.565625,0.565625,0.565625,0.565625,0.565625,0.565625,0.565625,0.565625,0.565625,0.565625,0.565625,0.565625,0.565625,0.565625,0.565625,0.565625,0.565625,0.565625,0.565625,0.565625,0.565625,0.565625,0.565625,0.565625,0.565625,0.565625,0.565625,0.565625,0.565625,0.565625,0.565625,0.565625,0.565625,0.565625,0.565625,0.565625,0.565625,0.565625,0.565625,0.565625,0.565625,0.565625,0.565625,0.565625,0.565625,0.565625,0.565625,0.565625,0.565625,0.565625,0.565625,0.565625,0.565625,0.565625,0.565625,0.565625,0.565625,0.565625,0.565625,0.565625,0.565625,0.565625,0.565625,0.565625,0.565625,0.565625,0.565625,0.565625,0.565625,0.565625,0.565625,0.565625,0.565625,0.565625,0.565625,0.565625,0.565625,0.565625,0.565625,0.565625,0.565625,0.565625,0.565625,0.565625,0.565625,0.565625,0.565625,0.565625,0.565625,0.565625,0.565625,0.565625,0.565625,0.565625,0.565625,0.565625,0.565625,0.565625,0.565625,0.565625,0.565625,0.565625,0.565625,0.565625,0.565625,0.565625,0.565625,0.565625,0.565625,0.565625,0.565625,0.565625,0.565625,0.565625,0.565625,0.565625,0.565625,0.565625,0.565625,0.565625,0.565625,0.565625,0.565625,0.565625,0.565625,0.565625,0.565625,0.565625,0.565625,0.565625,0.565625,0.565625,0.565625,0.565625,0.565625,0.565625,0.565625,0.565625,0.565625,0.565625,0.565625,0.565625,0.565625,0.565625,0.565625,0.565625,0.565625,0.565625,0.565625,0.565625,0.565625,0.565625,0.565625,0.565625,0.565625,0.565625,0.565625,0.565625,0.565625,0.565625,0.565625,0.565625,0.565625,0.565625,0.565625,0.565625,0.565625,0.565625,0.565625,0.565625,0.565625,0.565625,0.565625,0.565625,0.565625,0.565625,0.565625,0.565625,0.565625,0.565625,0.565625,0.565625,0.565625,0.565625,0.565625,0.565625,0.565625,0.565625,0.565625,0.565625,0.565625,0.565625,0.565625,0.565625,0.565625,0.565625,0.565625,0.565625,0.565625,0.565625,0.565625,0.565625,0.565625,0.565625,0.565625,0.565625,0.565625,0.565625,0.565625,0.565625,0.565625,0.565625,0.565625,0.565625,0.565625,0.565625,0.565625,0.565625,0.565625,0.565625,0.565625],\"yaxis\":\"y\",\"type\":\"scattergl\"},{\"hovertemplate\":\"variable=J<br>index=%{x}<br>value=%{y}<extra></extra>\",\"legendgroup\":\"J\",\"line\":{\"color\":\"#FECB52\",\"dash\":\"solid\"},\"marker\":{\"symbol\":\"circle\"},\"mode\":\"lines\",\"name\":\"J\",\"showlegend\":true,\"x\":[0,1,2,3,4,5,6,7,8,9,10,11,12,13,14,15,16,17,18,19,20,21,22,23,24,25,26,27,28,29,30,31,32,33,34,35,36,37,38,39,40,41,42,43,44,45,46,47,48,49,50,51,52,53,54,55,56,57,58,59,60,61,62,63,64,65,66,67,68,69,70,71,72,73,74,75,76,77,78,79,80,81,82,83,84,85,86,87,88,89,90,91,92,93,94,95,96,97,98,99,100,101,102,103,104,105,106,107,108,109,110,111,112,113,114,115,116,117,118,119,120,121,122,123,124,125,126,127,128,129,130,131,132,133,134,135,136,137,138,139,140,141,142,143,144,145,146,147,148,149,150,151,152,153,154,155,156,157,158,159,160,161,162,163,164,165,166,167,168,169,170,171,172,173,174,175,176,177,178,179,180,181,182,183,184,185,186,187,188,189,190,191,192,193,194,195,196,197,198,199,200,201,202,203,204,205,206,207,208,209,210,211,212,213,214,215,216,217,218,219,220,221,222,223,224,225,226,227,228,229,230,231,232,233,234,235,236,237,238,239,240,241,242,243,244,245,246,247,248,249,250,251,252,253,254,255,256,257,258,259,260,261,262,263,264,265,266,267,268,269,270,271,272,273,274,275,276,277,278,279,280,281,282,283,284,285,286,287,288,289,290,291,292,293,294,295,296,297,298,299],\"xaxis\":\"x\",\"y\":[0.565625,0.565625,0.5395833333333333,0.56875,0.659375,0.5822916666666667,0.5916666666666667,0.7260416666666667,0.696875,0.6979166666666666,0.7364583333333333,0.74375,0.7375,0.70625,0.709375,0.7135416666666666,0.7197916666666667,0.7291666666666666,0.7125,0.703125,0.5895833333333333,0.6760416666666667,0.640625,0.6447916666666667,0.6229166666666667,0.63125,0.5958333333333333,0.59375,0.584375,0.5729166666666666,0.5708333333333333,0.565625,0.565625,0.565625,0.565625,0.565625,0.565625,0.565625,0.5666666666666667,0.565625,0.565625,0.565625,0.565625,0.565625,0.565625,0.565625,0.565625,0.565625,0.565625,0.565625,0.565625,0.565625,0.565625,0.565625,0.565625,0.565625,0.565625,0.565625,0.565625,0.565625,0.565625,0.565625,0.565625,0.565625,0.565625,0.565625,0.565625,0.565625,0.565625,0.565625,0.565625,0.565625,0.565625,0.565625,0.565625,0.565625,0.565625,0.565625,0.5666666666666667,0.5677083333333334,0.5677083333333334,0.5614583333333333,0.5572916666666666,0.55625,0.5635416666666667,0.5625,0.5635416666666667,0.5635416666666667,0.5625,0.5614583333333333,0.5614583333333333,0.5635416666666667,0.565625,0.5666666666666667,0.565625,0.5635416666666667,0.5666666666666667,0.5666666666666667,0.5666666666666667,0.565625,0.5666666666666667,0.565625,0.565625,0.565625,0.5666666666666667,0.5666666666666667,0.5666666666666667,0.5666666666666667,0.5666666666666667,0.565625,0.565625,0.565625,0.565625,0.565625,0.5666666666666667,0.565625,0.565625,0.565625,0.565625,0.565625,0.565625,0.565625,0.565625,0.565625,0.565625,0.565625,0.565625,0.565625,0.565625,0.565625,0.565625,0.565625,0.565625,0.565625,0.565625,0.565625,0.565625,0.565625,0.565625,0.565625,0.565625,0.565625,0.565625,0.565625,0.565625,0.565625,0.565625,0.565625,0.565625,0.565625,0.565625,0.565625,0.565625,0.565625,0.565625,0.565625,0.565625,0.565625,0.565625,0.565625,0.565625,0.565625,0.565625,0.565625,0.565625,0.565625,0.565625,0.565625,0.565625,0.565625,0.565625,0.565625,0.565625,0.565625,0.565625,0.565625,0.565625,0.565625,0.565625,0.565625,0.565625,0.565625,0.565625,0.565625,0.565625,0.565625,0.565625,0.565625,0.565625,0.565625,0.565625,0.565625,0.565625,0.565625,0.565625,0.565625,0.565625,0.565625,0.565625,0.565625,0.565625,0.565625,0.565625,0.565625,0.565625,0.565625,0.565625,0.565625,0.565625,0.565625,0.565625,0.565625,0.565625,0.565625,0.565625,0.565625,0.565625,0.565625,0.565625,0.565625,0.565625,0.565625,0.565625,0.565625,0.565625,0.565625,0.565625,0.565625,0.565625,0.565625,0.565625,0.565625,0.565625,0.565625,0.565625,0.565625,0.565625,0.565625,0.565625,0.565625,0.565625,0.565625,0.565625,0.565625,0.565625,0.565625,0.565625,0.565625,0.565625,0.565625,0.565625,0.565625,0.565625,0.565625,0.565625,0.565625,0.565625,0.565625,0.565625,0.565625,0.565625,0.565625,0.565625,0.565625,0.565625,0.565625,0.565625,0.565625,0.565625,0.565625,0.565625,0.565625,0.565625,0.565625,0.565625,0.565625,0.565625,0.565625,0.565625,0.565625,0.565625,0.565625,0.565625,0.565625,0.565625,0.565625,0.565625,0.565625,0.565625,0.565625,0.565625,0.565625,0.565625,0.565625,0.565625,0.565625,0.565625,0.565625,0.565625,0.565625],\"yaxis\":\"y\",\"type\":\"scattergl\"}],                        {\"template\":{\"data\":{\"bar\":[{\"error_x\":{\"color\":\"#2a3f5f\"},\"error_y\":{\"color\":\"#2a3f5f\"},\"marker\":{\"line\":{\"color\":\"#E5ECF6\",\"width\":0.5},\"pattern\":{\"fillmode\":\"overlay\",\"size\":10,\"solidity\":0.2}},\"type\":\"bar\"}],\"barpolar\":[{\"marker\":{\"line\":{\"color\":\"#E5ECF6\",\"width\":0.5},\"pattern\":{\"fillmode\":\"overlay\",\"size\":10,\"solidity\":0.2}},\"type\":\"barpolar\"}],\"carpet\":[{\"aaxis\":{\"endlinecolor\":\"#2a3f5f\",\"gridcolor\":\"white\",\"linecolor\":\"white\",\"minorgridcolor\":\"white\",\"startlinecolor\":\"#2a3f5f\"},\"baxis\":{\"endlinecolor\":\"#2a3f5f\",\"gridcolor\":\"white\",\"linecolor\":\"white\",\"minorgridcolor\":\"white\",\"startlinecolor\":\"#2a3f5f\"},\"type\":\"carpet\"}],\"choropleth\":[{\"colorbar\":{\"outlinewidth\":0,\"ticks\":\"\"},\"type\":\"choropleth\"}],\"contour\":[{\"colorbar\":{\"outlinewidth\":0,\"ticks\":\"\"},\"colorscale\":[[0.0,\"#0d0887\"],[0.1111111111111111,\"#46039f\"],[0.2222222222222222,\"#7201a8\"],[0.3333333333333333,\"#9c179e\"],[0.4444444444444444,\"#bd3786\"],[0.5555555555555556,\"#d8576b\"],[0.6666666666666666,\"#ed7953\"],[0.7777777777777778,\"#fb9f3a\"],[0.8888888888888888,\"#fdca26\"],[1.0,\"#f0f921\"]],\"type\":\"contour\"}],\"contourcarpet\":[{\"colorbar\":{\"outlinewidth\":0,\"ticks\":\"\"},\"type\":\"contourcarpet\"}],\"heatmap\":[{\"colorbar\":{\"outlinewidth\":0,\"ticks\":\"\"},\"colorscale\":[[0.0,\"#0d0887\"],[0.1111111111111111,\"#46039f\"],[0.2222222222222222,\"#7201a8\"],[0.3333333333333333,\"#9c179e\"],[0.4444444444444444,\"#bd3786\"],[0.5555555555555556,\"#d8576b\"],[0.6666666666666666,\"#ed7953\"],[0.7777777777777778,\"#fb9f3a\"],[0.8888888888888888,\"#fdca26\"],[1.0,\"#f0f921\"]],\"type\":\"heatmap\"}],\"heatmapgl\":[{\"colorbar\":{\"outlinewidth\":0,\"ticks\":\"\"},\"colorscale\":[[0.0,\"#0d0887\"],[0.1111111111111111,\"#46039f\"],[0.2222222222222222,\"#7201a8\"],[0.3333333333333333,\"#9c179e\"],[0.4444444444444444,\"#bd3786\"],[0.5555555555555556,\"#d8576b\"],[0.6666666666666666,\"#ed7953\"],[0.7777777777777778,\"#fb9f3a\"],[0.8888888888888888,\"#fdca26\"],[1.0,\"#f0f921\"]],\"type\":\"heatmapgl\"}],\"histogram\":[{\"marker\":{\"pattern\":{\"fillmode\":\"overlay\",\"size\":10,\"solidity\":0.2}},\"type\":\"histogram\"}],\"histogram2d\":[{\"colorbar\":{\"outlinewidth\":0,\"ticks\":\"\"},\"colorscale\":[[0.0,\"#0d0887\"],[0.1111111111111111,\"#46039f\"],[0.2222222222222222,\"#7201a8\"],[0.3333333333333333,\"#9c179e\"],[0.4444444444444444,\"#bd3786\"],[0.5555555555555556,\"#d8576b\"],[0.6666666666666666,\"#ed7953\"],[0.7777777777777778,\"#fb9f3a\"],[0.8888888888888888,\"#fdca26\"],[1.0,\"#f0f921\"]],\"type\":\"histogram2d\"}],\"histogram2dcontour\":[{\"colorbar\":{\"outlinewidth\":0,\"ticks\":\"\"},\"colorscale\":[[0.0,\"#0d0887\"],[0.1111111111111111,\"#46039f\"],[0.2222222222222222,\"#7201a8\"],[0.3333333333333333,\"#9c179e\"],[0.4444444444444444,\"#bd3786\"],[0.5555555555555556,\"#d8576b\"],[0.6666666666666666,\"#ed7953\"],[0.7777777777777778,\"#fb9f3a\"],[0.8888888888888888,\"#fdca26\"],[1.0,\"#f0f921\"]],\"type\":\"histogram2dcontour\"}],\"mesh3d\":[{\"colorbar\":{\"outlinewidth\":0,\"ticks\":\"\"},\"type\":\"mesh3d\"}],\"parcoords\":[{\"line\":{\"colorbar\":{\"outlinewidth\":0,\"ticks\":\"\"}},\"type\":\"parcoords\"}],\"pie\":[{\"automargin\":true,\"type\":\"pie\"}],\"scatter\":[{\"marker\":{\"colorbar\":{\"outlinewidth\":0,\"ticks\":\"\"}},\"type\":\"scatter\"}],\"scatter3d\":[{\"line\":{\"colorbar\":{\"outlinewidth\":0,\"ticks\":\"\"}},\"marker\":{\"colorbar\":{\"outlinewidth\":0,\"ticks\":\"\"}},\"type\":\"scatter3d\"}],\"scattercarpet\":[{\"marker\":{\"colorbar\":{\"outlinewidth\":0,\"ticks\":\"\"}},\"type\":\"scattercarpet\"}],\"scattergeo\":[{\"marker\":{\"colorbar\":{\"outlinewidth\":0,\"ticks\":\"\"}},\"type\":\"scattergeo\"}],\"scattergl\":[{\"marker\":{\"colorbar\":{\"outlinewidth\":0,\"ticks\":\"\"}},\"type\":\"scattergl\"}],\"scattermapbox\":[{\"marker\":{\"colorbar\":{\"outlinewidth\":0,\"ticks\":\"\"}},\"type\":\"scattermapbox\"}],\"scatterpolar\":[{\"marker\":{\"colorbar\":{\"outlinewidth\":0,\"ticks\":\"\"}},\"type\":\"scatterpolar\"}],\"scatterpolargl\":[{\"marker\":{\"colorbar\":{\"outlinewidth\":0,\"ticks\":\"\"}},\"type\":\"scatterpolargl\"}],\"scatterternary\":[{\"marker\":{\"colorbar\":{\"outlinewidth\":0,\"ticks\":\"\"}},\"type\":\"scatterternary\"}],\"surface\":[{\"colorbar\":{\"outlinewidth\":0,\"ticks\":\"\"},\"colorscale\":[[0.0,\"#0d0887\"],[0.1111111111111111,\"#46039f\"],[0.2222222222222222,\"#7201a8\"],[0.3333333333333333,\"#9c179e\"],[0.4444444444444444,\"#bd3786\"],[0.5555555555555556,\"#d8576b\"],[0.6666666666666666,\"#ed7953\"],[0.7777777777777778,\"#fb9f3a\"],[0.8888888888888888,\"#fdca26\"],[1.0,\"#f0f921\"]],\"type\":\"surface\"}],\"table\":[{\"cells\":{\"fill\":{\"color\":\"#EBF0F8\"},\"line\":{\"color\":\"white\"}},\"header\":{\"fill\":{\"color\":\"#C8D4E3\"},\"line\":{\"color\":\"white\"}},\"type\":\"table\"}]},\"layout\":{\"annotationdefaults\":{\"arrowcolor\":\"#2a3f5f\",\"arrowhead\":0,\"arrowwidth\":1},\"autotypenumbers\":\"strict\",\"coloraxis\":{\"colorbar\":{\"outlinewidth\":0,\"ticks\":\"\"}},\"colorscale\":{\"diverging\":[[0,\"#8e0152\"],[0.1,\"#c51b7d\"],[0.2,\"#de77ae\"],[0.3,\"#f1b6da\"],[0.4,\"#fde0ef\"],[0.5,\"#f7f7f7\"],[0.6,\"#e6f5d0\"],[0.7,\"#b8e186\"],[0.8,\"#7fbc41\"],[0.9,\"#4d9221\"],[1,\"#276419\"]],\"sequential\":[[0.0,\"#0d0887\"],[0.1111111111111111,\"#46039f\"],[0.2222222222222222,\"#7201a8\"],[0.3333333333333333,\"#9c179e\"],[0.4444444444444444,\"#bd3786\"],[0.5555555555555556,\"#d8576b\"],[0.6666666666666666,\"#ed7953\"],[0.7777777777777778,\"#fb9f3a\"],[0.8888888888888888,\"#fdca26\"],[1.0,\"#f0f921\"]],\"sequentialminus\":[[0.0,\"#0d0887\"],[0.1111111111111111,\"#46039f\"],[0.2222222222222222,\"#7201a8\"],[0.3333333333333333,\"#9c179e\"],[0.4444444444444444,\"#bd3786\"],[0.5555555555555556,\"#d8576b\"],[0.6666666666666666,\"#ed7953\"],[0.7777777777777778,\"#fb9f3a\"],[0.8888888888888888,\"#fdca26\"],[1.0,\"#f0f921\"]]},\"colorway\":[\"#636efa\",\"#EF553B\",\"#00cc96\",\"#ab63fa\",\"#FFA15A\",\"#19d3f3\",\"#FF6692\",\"#B6E880\",\"#FF97FF\",\"#FECB52\"],\"font\":{\"color\":\"#2a3f5f\"},\"geo\":{\"bgcolor\":\"white\",\"lakecolor\":\"white\",\"landcolor\":\"#E5ECF6\",\"showlakes\":true,\"showland\":true,\"subunitcolor\":\"white\"},\"hoverlabel\":{\"align\":\"left\"},\"hovermode\":\"closest\",\"mapbox\":{\"style\":\"light\"},\"paper_bgcolor\":\"white\",\"plot_bgcolor\":\"#E5ECF6\",\"polar\":{\"angularaxis\":{\"gridcolor\":\"white\",\"linecolor\":\"white\",\"ticks\":\"\"},\"bgcolor\":\"#E5ECF6\",\"radialaxis\":{\"gridcolor\":\"white\",\"linecolor\":\"white\",\"ticks\":\"\"}},\"scene\":{\"xaxis\":{\"backgroundcolor\":\"#E5ECF6\",\"gridcolor\":\"white\",\"gridwidth\":2,\"linecolor\":\"white\",\"showbackground\":true,\"ticks\":\"\",\"zerolinecolor\":\"white\"},\"yaxis\":{\"backgroundcolor\":\"#E5ECF6\",\"gridcolor\":\"white\",\"gridwidth\":2,\"linecolor\":\"white\",\"showbackground\":true,\"ticks\":\"\",\"zerolinecolor\":\"white\"},\"zaxis\":{\"backgroundcolor\":\"#E5ECF6\",\"gridcolor\":\"white\",\"gridwidth\":2,\"linecolor\":\"white\",\"showbackground\":true,\"ticks\":\"\",\"zerolinecolor\":\"white\"}},\"shapedefaults\":{\"line\":{\"color\":\"#2a3f5f\"}},\"ternary\":{\"aaxis\":{\"gridcolor\":\"white\",\"linecolor\":\"white\",\"ticks\":\"\"},\"baxis\":{\"gridcolor\":\"white\",\"linecolor\":\"white\",\"ticks\":\"\"},\"bgcolor\":\"#E5ECF6\",\"caxis\":{\"gridcolor\":\"white\",\"linecolor\":\"white\",\"ticks\":\"\"}},\"title\":{\"x\":0.05},\"xaxis\":{\"automargin\":true,\"gridcolor\":\"white\",\"linecolor\":\"white\",\"ticks\":\"\",\"title\":{\"standoff\":15},\"zerolinecolor\":\"white\",\"zerolinewidth\":2},\"yaxis\":{\"automargin\":true,\"gridcolor\":\"white\",\"linecolor\":\"white\",\"ticks\":\"\",\"title\":{\"standoff\":15},\"zerolinecolor\":\"white\",\"zerolinewidth\":2}}},\"xaxis\":{\"anchor\":\"y\",\"domain\":[0.0,1.0],\"title\":{\"text\":\"Epochs\"}},\"yaxis\":{\"anchor\":\"x\",\"domain\":[0.0,1.0],\"title\":{\"text\":\"Accuracy\"}},\"legend\":{\"title\":{\"text\":\"Runs (Asc)\"},\"tracegroupgap\":0},\"title\":{\"text\":\"Accuracy Vs Epochs\"}},                        {\"responsive\": true}                    ).then(function(){\n",
              "                            \n",
              "var gd = document.getElementById('30c0b098-0216-49dd-a4e8-e55e4a41aa9a');\n",
              "var x = new MutationObserver(function (mutations, observer) {{\n",
              "        var display = window.getComputedStyle(gd).display;\n",
              "        if (!display || display === 'none') {{\n",
              "            console.log([gd, 'removed!']);\n",
              "            Plotly.purge(gd);\n",
              "            observer.disconnect();\n",
              "        }}\n",
              "}});\n",
              "\n",
              "// Listen for the removal of the full notebook cells\n",
              "var notebookContainer = gd.closest('#notebook-container');\n",
              "if (notebookContainer) {{\n",
              "    x.observe(notebookContainer, {childList: true});\n",
              "}}\n",
              "\n",
              "// Listen for the clearing of the current output cell\n",
              "var outputEl = gd.closest('.output');\n",
              "if (outputEl) {{\n",
              "    x.observe(outputEl, {childList: true});\n",
              "}}\n",
              "\n",
              "                        })                };                            </script>        </div>\n",
              "</body>\n",
              "</html>"
            ]
          },
          "metadata": {}
        }
      ]
    },
    {
      "cell_type": "markdown",
      "metadata": {
        "id": "KznRlq9QH2CI"
      },
      "source": [
        "##### Compare Acceleration Constants"
      ],
      "id": "KznRlq9QH2CI"
    },
    {
      "cell_type": "code",
      "metadata": {
        "id": "fqf74UthZN20"
      },
      "source": [
        "def compareConstants(nn, X, Y, lower, upper):\n",
        "  \n",
        "   results = {}\n",
        "   nets = {}\n",
        "   print(\"Progress:\")\n",
        "\n",
        "   # Case One: c1 = c2\n",
        "   caseOne = run_ten(nn, X_train, Y_train, 300, 100, 25, \"distance\",\n",
        "                           0.95, constants=[0.5, 0.5])\n",
        "   nets[\"c1  = c2\"] = caseOne\n",
        "   results[\"c1  = c2\"]= [get_metrics(caseOne), caseOne]\n",
        "   print(\"1/5\")\n",
        "   \n",
        "   \n",
        "   # Case Two: c1 > c2\n",
        "   caseTwo = run_ten(nn, X_train, Y_train, 300, 100, 25, \"distance\",\n",
        "                               0.95, constants=[upper, lower])\n",
        "   nets[\"c1  > c2\"] = caseTwo\n",
        "   results[\"c1  > c2\"]=[get_metrics(caseTwo), caseTwo]\n",
        "   print(\"2/5\")\n",
        "\n",
        "   # Case Three: c1 < c2\n",
        "   caseThree = run_ten(nn, X_train, Y_train, 300, 100, 25, \"distance\",\n",
        "                               0.95, constants=[lower, upper])\n",
        "   nets[\"c1  < c2\"] = caseThree\n",
        "   results[\"c1  < c2\"]= [get_metrics(caseThree), caseThree]\n",
        "   print(\"3/5\")\n",
        "   \n",
        "   # Case Four: c1 >> c2\n",
        "   caseFour = run_ten(nn, X_train, Y_train, 300, 100, 25, \"distance\",\n",
        "                               0.95, constants=[upper*2, lower*0.01])\n",
        "   nets[\"c1 >> c2\"] = caseFour\n",
        "   results[\"c1 >> c2\"]= [get_metrics(caseFour), caseFour]\n",
        "   print(\"4/5\")\n",
        "   \n",
        "   # Case Five: c1 << c2\n",
        "   caseFive = run_ten(nn, X_train, Y_train, 300, 100, 25, \"distance\",\n",
        "                               0.95, constants=[lower*0.01, upper*2])\n",
        "   nets[\"c1 << c2\"] = caseFive\n",
        "   results[\"c1 << c2\"]= [get_metrics(caseFive), caseFive]\n",
        "   print(\"5/5\")\n",
        "   \n",
        "   # results are sorted descending based on mean accuracy\n",
        "   sorted_by_mean = dict(sorted(results.items(), key=lambda item: item[1][0]))\n",
        "   for key, value in sorted_by_mean.items():\n",
        "     print( key, ':', 'mean accuracy', round(value[0][0], 4), f' std dev ({round(value[0][1], 4)})')\n",
        "  \n",
        "   return sorted_by_mean, nets"
      ],
      "id": "fqf74UthZN20",
      "execution_count": null,
      "outputs": []
    },
    {
      "cell_type": "code",
      "metadata": {
        "id": "RyzITk5oIOeU"
      },
      "source": [
        "def viewConstants(constantNets):\n",
        "  # constantNets is a dictionary with each case as a key, and ten runs as their value.\n",
        "  for key,value in constantNets.items():\n",
        "    # Accessing a random run from this case and plotting it\n",
        "    i = random.randint(0,9)\n",
        "    sns.set(rc={'figure.figsize':(15,8)})\n",
        "    df = pd.DataFrame(value[i][1]['acc_epoch_list'], columns=[\"Epochs\", \"Accuracy\"])\n",
        "    sns.lineplot(data=df, x=\"Epochs\", y=\"Accuracy\", ci=None, label=key)\n",
        "\n",
        "    "
      ],
      "id": "RyzITk5oIOeU",
      "execution_count": null,
      "outputs": []
    },
    {
      "cell_type": "code",
      "metadata": {
        "colab": {
          "base_uri": "https://localhost:8080/"
        },
        "id": "4558COowevoO",
        "outputId": "bfe9e2a6-9a9e-4076-e486-4dc1197d8d03"
      },
      "source": [
        "comparedConstants, constantNets = compareConstants(NeuralNetwork([4,10,10,10,2], ['relu','relu','relu','sigmoid']), X_train, Y_train, 0.1, 0.9)"
      ],
      "id": "4558COowevoO",
      "execution_count": null,
      "outputs": [
        {
          "output_type": "stream",
          "name": "stdout",
          "text": [
            "Progress:\n",
            "1/5\n",
            "2/5\n",
            "3/5\n",
            "4/5\n",
            "5/5\n",
            "c1  = c2 : mean accuracy 0.8855  std dev (0.1584)\n",
            "c1  > c2 : mean accuracy 0.946  std dev (0.1273)\n",
            "c1 << c2 : mean accuracy 0.9566  std dev (0.0699)\n",
            "c1 >> c2 : mean accuracy 0.9652  std dev (0.0741)\n",
            "c1  < c2 : mean accuracy 0.9897  std dev (0.0177)\n"
          ]
        }
      ]
    },
    {
      "cell_type": "code",
      "metadata": {
        "colab": {
          "base_uri": "https://localhost:8080/",
          "height": 502
        },
        "id": "2e1c8br0QQJ1",
        "outputId": "151225ee-c581-4d53-8013-d8adf6484497"
      },
      "source": [
        "viewConstants(constantNets)"
      ],
      "id": "2e1c8br0QQJ1",
      "execution_count": null,
      "outputs": [
        {
          "output_type": "display_data",
          "data": {
            "image/png": "[encoded data removed]",
            "text/plain": [
              "<Figure size 1080x576 with 1 Axes>"
            ]
          },
          "metadata": {}
        }
      ]
    },
    {
      "cell_type": "code",
      "metadata": {
        "id": "yQXFoQwDZcGd"
      },
      "source": [
        "def compareCognitiveSocial(nn, X, Y, lower, upper, n_tests):\n",
        "    test_values = [[round(random.uniform(lower, upper), 4),round(random.uniform(lower, upper), 4)] for i in range(n_tests)]\n",
        "    results = {}\n",
        "\n",
        "    i = 1\n",
        "    for ia in test_values: \n",
        "        c1 = ia[0]\n",
        "        c2 = ia[1]\n",
        "        ten_nets = run_ten(nn, X_train, Y_train, 20, 300, 5, \"distance\", 0.85, constants=[c1, c2])\n",
        "        index = \",\".join(str(v) for v in ia)\n",
        "        results[index] = [get_metrics(ten_nets), ten_nets]\n",
        "        print('progress', f'{i}/{len(test_values)}')\n",
        "        i+=1\n",
        "            \n",
        "    # results are sorted ascending based on mean accuracy   \n",
        "    sorted_by_mean = dict(sorted(results.items(), key=lambda item: item[1][0]))\n",
        "    for key, value in sorted_by_mean.items():\n",
        "        print('dst', key, ' : ', 'mean accuracy',round(value[0][0], 4), f' std dev ({round(value[0][1], 4)})')        \n",
        "\n",
        "    return sorted_by_mean"
      ],
      "id": "yQXFoQwDZcGd",
      "execution_count": null,
      "outputs": []
    },
    {
      "cell_type": "code",
      "metadata": {
        "id": "FWNNRdyYZqhZ"
      },
      "source": [
        "base_net = NeuralNetwork([4,10,10,10,2], ['relu','relu','relu','sigmoid'])"
      ],
      "id": "FWNNRdyYZqhZ",
      "execution_count": null,
      "outputs": []
    },
    {
      "cell_type": "code",
      "metadata": {
        "id": "08yXhwzFZfrQ",
        "colab": {
          "base_uri": "https://localhost:8080/"
        },
        "outputId": "e1b05eb5-f3b6-4dae-9001-aa8c4fbfe805"
      },
      "source": [
        "comparedCogSoc = compareCognitiveSocial(base_net, X_train, Y_train, 0.1, 1, 10)"
      ],
      "id": "08yXhwzFZfrQ",
      "execution_count": null,
      "outputs": [
        {
          "output_type": "stream",
          "name": "stdout",
          "text": [
            "progress 1/10\n",
            "progress 2/10\n",
            "progress 3/10\n",
            "progress 4/10\n",
            "progress 5/10\n",
            "progress 6/10\n",
            "progress 7/10\n",
            "progress 8/10\n",
            "progress 9/10\n",
            "progress 10/10\n",
            "dst 0.8031,0.6138  :  mean accuracy 0.8842  std dev (0.1669)\n",
            "dst 0.8704,0.3896  :  mean accuracy 0.8939  std dev (0.1711)\n",
            "dst 0.5064,0.2805  :  mean accuracy 0.915  std dev (0.1589)\n",
            "dst 0.1328,0.1299  :  mean accuracy 0.9416  std dev (0.1068)\n",
            "dst 0.7138,0.737  :  mean accuracy 0.948  std dev (0.128)\n",
            "dst 0.5885,0.2478  :  mean accuracy 0.9761  std dev (0.0524)\n",
            "dst 0.3993,0.4174  :  mean accuracy 0.9893  std dev (0.0104)\n",
            "dst 0.3102,0.7251  :  mean accuracy 0.995  std dev (0.01)\n",
            "dst 0.5672,0.6634  :  mean accuracy 0.9951  std dev (0.0071)\n",
            "dst 0.6209,0.3284  :  mean accuracy 0.9962  std dev (0.0037)\n"
          ]
        }
      ]
    },
    {
      "cell_type": "markdown",
      "metadata": {
        "id": "aC9k4Bv5Zj3p"
      },
      "source": [
        "##### Compare Inertia Values"
      ],
      "id": "aC9k4Bv5Zj3p"
    },
    {
      "cell_type": "code",
      "metadata": {
        "id": "e0a5dAF1ZhxO"
      },
      "source": [
        "def compareInertia(nn, X, Y, lower, upper, n_tests):\n",
        "    test_values = list(map(lambda x: random.uniform(lower, upper), range(n_tests))) \n",
        "    results = {}\n",
        "\n",
        "    i = 1\n",
        "    for ia in test_values: \n",
        "        ten_nets = run_ten(nn, X_train, Y_train, 20, 300, 5, \"distance\", 0.85, w=ia)\n",
        "        results[ia] = [get_metrics(ten_nets), ten_nets]\n",
        "        print('progress', f'{i}/{len(test_values)}')\n",
        "        i+=1\n",
        "            \n",
        "    # results are sorted ascending based on mean accuracy   \n",
        "    sorted_by_mean = dict(sorted(results.items(), key=lambda item: item[1][0]))\n",
        "    for key, value in sorted_by_mean.items():\n",
        "        print('dst', key, ' : ', 'mean accuracy',round(value[0][0], 4), f' std dev ({round(value[0][1], 4)})')        \n",
        "\n",
        "    return sorted_by_mean"
      ],
      "id": "e0a5dAF1ZhxO",
      "execution_count": null,
      "outputs": []
    },
    {
      "cell_type": "code",
      "metadata": {
        "id": "AZgQQ52vZsED",
        "colab": {
          "base_uri": "https://localhost:8080/"
        },
        "outputId": "9d3c8397-1d93-42b5-ffeb-50821c4b4297"
      },
      "source": [
        "comparedInertia = compareInertia(base_net, X_train, Y_train, 0.5, 1, 10)"
      ],
      "id": "AZgQQ52vZsED",
      "execution_count": null,
      "outputs": [
        {
          "output_type": "stream",
          "name": "stdout",
          "text": [
            "progress 1/10\n",
            "progress 2/10\n",
            "progress 3/10\n",
            "progress 4/10\n",
            "progress 5/10\n",
            "progress 6/10\n",
            "progress 7/10\n",
            "progress 8/10\n",
            "progress 9/10\n",
            "progress 10/10\n",
            "dst 0.8392727312677681  :  mean accuracy 0.9108  std dev (0.1724)\n",
            "dst 0.5535552118686033  :  mean accuracy 0.9207  std dev (0.1457)\n",
            "dst 0.8429133818191189  :  mean accuracy 0.9255  std dev (0.1292)\n",
            "dst 0.6976669207222788  :  mean accuracy 0.9368  std dev (0.1318)\n",
            "dst 0.8507725121728033  :  mean accuracy 0.9585  std dev (0.1192)\n",
            "dst 0.8555865707389227  :  mean accuracy 0.9679  std dev (0.0523)\n",
            "dst 0.6367854296286081  :  mean accuracy 0.971  std dev (0.0518)\n",
            "dst 0.6723033545666418  :  mean accuracy 0.9894  std dev (0.0077)\n",
            "dst 0.9269383300783608  :  mean accuracy 0.9924  std dev (0.0084)\n",
            "dst 0.6768720111710729  :  mean accuracy 0.994  std dev (0.0056)\n"
          ]
        }
      ]
    },
    {
      "cell_type": "markdown",
      "metadata": {
        "id": "M4FCOuQDZvH8"
      },
      "source": [
        "##### Optimal PSO Values"
      ],
      "id": "M4FCOuQDZvH8"
    },
    {
      "cell_type": "code",
      "metadata": {
        "colab": {
          "base_uri": "https://localhost:8080/"
        },
        "id": "p06t2eyJZz5C",
        "outputId": "6f18a64d-5c83-4ece-a800-c9c2c1ff9af8"
      },
      "source": [
        "# get overall execution time\n",
        "%%time \n",
        "# optimal hyperparameters from formal investigation over 10 runs\n",
        "ten_nets_optimal = run_ten(NeuralNetwork([4,10,10,10,2], ['relu','relu','relu','sigmoid']), X_train, Y_train, 83, 300, 9, \"distance\", 0.806)"
      ],
      "id": "p06t2eyJZz5C",
      "execution_count": null,
      "outputs": [
        {
          "output_type": "stream",
          "name": "stdout",
          "text": [
            "CPU times: user 4min 13s, sys: 578 ms, total: 4min 14s\n",
            "Wall time: 4min 13s\n"
          ]
        }
      ]
    },
    {
      "cell_type": "code",
      "metadata": {
        "colab": {
          "base_uri": "https://localhost:8080/"
        },
        "id": "c7pO7cwfZ2Dl",
        "outputId": "d47d3180-18cc-4969-8931-61cb76dedef4"
      },
      "source": [
        "get_metrics(ten_nets_optimal)"
      ],
      "id": "c7pO7cwfZ2Dl",
      "execution_count": null,
      "outputs": [
        {
          "output_type": "execute_result",
          "data": {
            "text/plain": [
              "(0.9998958333333334, 0.0003125000000000155)"
            ]
          },
          "metadata": {},
          "execution_count": 37
        }
      ]
    },
    {
      "cell_type": "code",
      "metadata": {
        "id": "ppus557sZ3XF",
        "colab": {
          "base_uri": "https://localhost:8080/",
          "height": 559
        },
        "outputId": "0129527b-9f6d-47fe-f7a7-143a3181d2bb"
      },
      "source": [
        "# accuracy over epochs for optimal PSO hyperparameters from formal investigation\n",
        "tesa_optimal = view_accuracyEpochAll(ten_nets_optimal)"
      ],
      "id": "ppus557sZ3XF",
      "execution_count": 16,
      "outputs": [
        {
          "output_type": "stream",
          "name": "stdout",
          "text": [
            "(300, 10)\n"
          ]
        },
        {
          "output_type": "display_data",
          "data": {
            "text/html": [
              "<html>\n",
              "<head><meta charset=\"utf-8\" /></head>\n",
              "<body>\n",
              "    <div>            <script src=\"https://cdnjs.cloudflare.com/ajax/libs/mathjax/2.7.5/MathJax.js?config=TeX-AMS-MML_SVG\"></script><script type=\"text/javascript\">if (window.MathJax) {MathJax.Hub.Config({SVG: {font: \"STIX-Web\"}});}</script>                <script type=\"text/javascript\">window.PlotlyConfig = {MathJaxConfig: 'local'};</script>\n",
              "        <script src=\"https://cdn.plot.ly/plotly-2.6.3.min.js\"></script>                <div id=\"f8655cbf-fc19-4a79-8bec-694dcb74e0a9\" class=\"plotly-graph-div\" style=\"height:525px; width:100%;\"></div>            <script type=\"text/javascript\">                                    window.PLOTLYENV=window.PLOTLYENV || {};                                    if (document.getElementById(\"f8655cbf-fc19-4a79-8bec-694dcb74e0a9\")) {                    Plotly.newPlot(                        \"f8655cbf-fc19-4a79-8bec-694dcb74e0a9\",                        [{\"hovertemplate\":\"variable=A<br>index=%{x}<br>value=%{y}<extra></extra>\",\"legendgroup\":\"A\",\"line\":{\"color\":\"#636efa\",\"dash\":\"solid\"},\"marker\":{\"symbol\":\"circle\"},\"mode\":\"lines\",\"name\":\"A\",\"showlegend\":true,\"x\":[0,1,2,3,4,5,6,7,8,9,10,11,12,13,14,15,16,17,18,19,20,21,22,23,24,25,26,27,28,29,30,31,32,33,34,35,36,37,38,39,40,41,42,43,44,45,46,47,48,49,50,51,52,53,54,55,56,57,58,59,60,61,62,63,64,65,66,67,68,69,70,71,72,73,74,75,76,77,78,79,80,81,82,83,84,85,86,87,88,89,90,91,92,93,94,95,96,97,98,99,100,101,102,103,104,105,106,107,108,109,110,111,112,113,114,115,116,117,118,119,120,121,122,123,124,125,126,127,128,129,130,131,132,133,134,135,136,137,138,139,140,141,142,143,144,145,146,147,148,149,150,151,152,153,154,155,156,157,158,159,160,161,162,163,164,165,166,167,168,169,170,171,172,173,174,175,176,177,178,179,180,181,182,183,184,185,186,187,188,189,190,191,192,193,194,195,196,197,198,199,200,201,202,203,204,205,206,207,208,209,210,211,212,213,214,215,216,217,218,219,220,221,222,223,224,225,226,227,228,229,230,231,232,233,234,235,236,237,238,239,240,241,242,243,244,245,246,247,248,249,250,251,252,253,254,255,256,257,258,259,260,261,262,263,264,265,266,267,268,269,270,271,272,273,274,275,276,277,278,279,280,281,282,283,284,285,286,287,288,289,290,291,292,293,294,295,296,297,298,299],\"xaxis\":\"x\",\"y\":[0.5645833333333333,0.83125,0.7145833333333333,0.7604166666666666,0.703125,0.6864583333333333,0.7770833333333333,0.8291666666666667,0.9010416666666666,0.8947916666666667,0.8979166666666667,0.93125,0.9510416666666667,0.9625,0.9572916666666667,0.9614583333333333,0.9760416666666667,0.9739583333333334,0.9708333333333333,0.9822916666666667,0.965625,0.975,0.98125,0.9885416666666667,0.9885416666666667,0.9916666666666667,0.9958333333333333,0.996875,0.9947916666666666,0.9979166666666667,0.9989583333333333,1.0,1.0,1.0,1.0,0.9958333333333333,1.0,1.0,0.9989583333333333,0.9989583333333333,1.0,1.0,1.0,1.0,0.9989583333333333,1.0,1.0,1.0,1.0,1.0,1.0,1.0,1.0,1.0,1.0,1.0,1.0,1.0,1.0,1.0,1.0,1.0,1.0,1.0,1.0,1.0,1.0,1.0,1.0,1.0,1.0,1.0,1.0,1.0,1.0,1.0,1.0,1.0,1.0,1.0,1.0,1.0,1.0,1.0,1.0,1.0,1.0,1.0,1.0,1.0,1.0,1.0,1.0,1.0,1.0,1.0,1.0,1.0,1.0,1.0,1.0,1.0,1.0,1.0,1.0,1.0,1.0,1.0,1.0,1.0,1.0,1.0,1.0,1.0,1.0,1.0,1.0,1.0,1.0,1.0,1.0,1.0,1.0,1.0,1.0,1.0,1.0,1.0,1.0,1.0,1.0,1.0,1.0,1.0,1.0,1.0,1.0,1.0,1.0,1.0,1.0,1.0,1.0,1.0,1.0,1.0,1.0,1.0,1.0,1.0,1.0,1.0,1.0,1.0,1.0,1.0,1.0,1.0,1.0,1.0,1.0,1.0,1.0,1.0,1.0,1.0,1.0,1.0,1.0,1.0,1.0,1.0,1.0,1.0,1.0,1.0,1.0,1.0,1.0,1.0,1.0,1.0,1.0,1.0,1.0,1.0,1.0,1.0,1.0,1.0,1.0,1.0,1.0,1.0,1.0,1.0,1.0,1.0,1.0,1.0,1.0,1.0,1.0,1.0,1.0,1.0,1.0,1.0,1.0,1.0,1.0,1.0,1.0,1.0,1.0,1.0,1.0,1.0,1.0,1.0,1.0,1.0,1.0,1.0,1.0,1.0,1.0,1.0,1.0,1.0,1.0,1.0,1.0,1.0,1.0,1.0,1.0,1.0,1.0,1.0,1.0,1.0,1.0,1.0,1.0,1.0,1.0,1.0,1.0,1.0,1.0,1.0,1.0,1.0,1.0,1.0,1.0,1.0,1.0,1.0,1.0,1.0,1.0,1.0,1.0,1.0,1.0,1.0,1.0,1.0,1.0,1.0,1.0,1.0,1.0,1.0,1.0,1.0,1.0,1.0,1.0,1.0,1.0,1.0,1.0,1.0,1.0,1.0,1.0,1.0,1.0,1.0,1.0,1.0,1.0,1.0,1.0,1.0,1.0,1.0],\"yaxis\":\"y\",\"type\":\"scattergl\"},{\"hovertemplate\":\"variable=B<br>index=%{x}<br>value=%{y}<extra></extra>\",\"legendgroup\":\"B\",\"line\":{\"color\":\"#EF553B\",\"dash\":\"solid\"},\"marker\":{\"symbol\":\"circle\"},\"mode\":\"lines\",\"name\":\"B\",\"showlegend\":true,\"x\":[0,1,2,3,4,5,6,7,8,9,10,11,12,13,14,15,16,17,18,19,20,21,22,23,24,25,26,27,28,29,30,31,32,33,34,35,36,37,38,39,40,41,42,43,44,45,46,47,48,49,50,51,52,53,54,55,56,57,58,59,60,61,62,63,64,65,66,67,68,69,70,71,72,73,74,75,76,77,78,79,80,81,82,83,84,85,86,87,88,89,90,91,92,93,94,95,96,97,98,99,100,101,102,103,104,105,106,107,108,109,110,111,112,113,114,115,116,117,118,119,120,121,122,123,124,125,126,127,128,129,130,131,132,133,134,135,136,137,138,139,140,141,142,143,144,145,146,147,148,149,150,151,152,153,154,155,156,157,158,159,160,161,162,163,164,165,166,167,168,169,170,171,172,173,174,175,176,177,178,179,180,181,182,183,184,185,186,187,188,189,190,191,192,193,194,195,196,197,198,199,200,201,202,203,204,205,206,207,208,209,210,211,212,213,214,215,216,217,218,219,220,221,222,223,224,225,226,227,228,229,230,231,232,233,234,235,236,237,238,239,240,241,242,243,244,245,246,247,248,249,250,251,252,253,254,255,256,257,258,259,260,261,262,263,264,265,266,267,268,269,270,271,272,273,274,275,276,277,278,279,280,281,282,283,284,285,286,287,288,289,290,291,292,293,294,295,296,297,298,299],\"xaxis\":\"x\",\"y\":[0.728125,0.7041666666666667,0.5697916666666667,0.5645833333333333,0.7802083333333333,0.75625,0.7010416666666667,0.80625,0.83125,0.8083333333333333,0.809375,0.8489583333333334,0.8541666666666666,0.8552083333333333,0.85625,0.8947916666666667,0.9552083333333333,0.9552083333333333,0.978125,0.9291666666666667,0.9489583333333333,0.95,0.971875,0.9729166666666667,0.9802083333333333,0.9802083333333333,0.98125,0.96875,0.9708333333333333,0.9864583333333333,0.9885416666666667,0.9770833333333333,0.9677083333333333,0.9760416666666667,0.98125,0.9989583333333333,0.990625,0.9875,0.996875,0.9947916666666666,0.9958333333333333,0.9958333333333333,0.9979166666666667,0.996875,0.9979166666666667,0.9958333333333333,0.9989583333333333,0.9989583333333333,0.9989583333333333,0.9989583333333333,1.0,0.9989583333333333,1.0,1.0,1.0,1.0,1.0,1.0,1.0,1.0,1.0,1.0,1.0,1.0,1.0,1.0,1.0,1.0,1.0,1.0,1.0,1.0,1.0,1.0,1.0,1.0,1.0,1.0,1.0,1.0,1.0,1.0,1.0,1.0,1.0,1.0,1.0,1.0,1.0,1.0,1.0,1.0,1.0,1.0,1.0,1.0,1.0,1.0,1.0,1.0,1.0,1.0,1.0,1.0,1.0,1.0,1.0,1.0,1.0,1.0,1.0,1.0,1.0,1.0,1.0,1.0,1.0,1.0,1.0,1.0,1.0,1.0,1.0,1.0,1.0,1.0,1.0,1.0,1.0,1.0,1.0,1.0,1.0,1.0,1.0,1.0,1.0,1.0,1.0,1.0,1.0,1.0,1.0,1.0,1.0,1.0,1.0,1.0,1.0,1.0,1.0,1.0,1.0,1.0,1.0,1.0,1.0,1.0,1.0,1.0,1.0,1.0,1.0,1.0,1.0,1.0,1.0,1.0,1.0,1.0,1.0,1.0,1.0,1.0,1.0,1.0,1.0,1.0,1.0,1.0,1.0,1.0,1.0,1.0,1.0,1.0,1.0,1.0,1.0,1.0,1.0,1.0,1.0,1.0,1.0,1.0,1.0,1.0,1.0,1.0,1.0,1.0,1.0,1.0,1.0,1.0,1.0,1.0,1.0,1.0,1.0,1.0,1.0,1.0,1.0,1.0,1.0,1.0,1.0,1.0,1.0,1.0,1.0,1.0,1.0,1.0,1.0,1.0,1.0,1.0,1.0,1.0,1.0,1.0,1.0,1.0,1.0,1.0,1.0,1.0,1.0,1.0,1.0,1.0,1.0,1.0,1.0,1.0,1.0,1.0,1.0,1.0,1.0,1.0,1.0,1.0,1.0,1.0,1.0,1.0,1.0,1.0,1.0,1.0,1.0,1.0,1.0,1.0,1.0,1.0,1.0,1.0,1.0,1.0,1.0,1.0,1.0,1.0,1.0,1.0,1.0,1.0,1.0,1.0,1.0,1.0,1.0,1.0,1.0,1.0,1.0,1.0,1.0,1.0,1.0,1.0,1.0,1.0,1.0,1.0],\"yaxis\":\"y\",\"type\":\"scattergl\"},{\"hovertemplate\":\"variable=C<br>index=%{x}<br>value=%{y}<extra></extra>\",\"legendgroup\":\"C\",\"line\":{\"color\":\"#00cc96\",\"dash\":\"solid\"},\"marker\":{\"symbol\":\"circle\"},\"mode\":\"lines\",\"name\":\"C\",\"showlegend\":true,\"x\":[0,1,2,3,4,5,6,7,8,9,10,11,12,13,14,15,16,17,18,19,20,21,22,23,24,25,26,27,28,29,30,31,32,33,34,35,36,37,38,39,40,41,42,43,44,45,46,47,48,49,50,51,52,53,54,55,56,57,58,59,60,61,62,63,64,65,66,67,68,69,70,71,72,73,74,75,76,77,78,79,80,81,82,83,84,85,86,87,88,89,90,91,92,93,94,95,96,97,98,99,100,101,102,103,104,105,106,107,108,109,110,111,112,113,114,115,116,117,118,119,120,121,122,123,124,125,126,127,128,129,130,131,132,133,134,135,136,137,138,139,140,141,142,143,144,145,146,147,148,149,150,151,152,153,154,155,156,157,158,159,160,161,162,163,164,165,166,167,168,169,170,171,172,173,174,175,176,177,178,179,180,181,182,183,184,185,186,187,188,189,190,191,192,193,194,195,196,197,198,199,200,201,202,203,204,205,206,207,208,209,210,211,212,213,214,215,216,217,218,219,220,221,222,223,224,225,226,227,228,229,230,231,232,233,234,235,236,237,238,239,240,241,242,243,244,245,246,247,248,249,250,251,252,253,254,255,256,257,258,259,260,261,262,263,264,265,266,267,268,269,270,271,272,273,274,275,276,277,278,279,280,281,282,283,284,285,286,287,288,289,290,291,292,293,294,295,296,297,298,299],\"xaxis\":\"x\",\"y\":[0.5645833333333333,0.7447916666666666,0.74375,0.790625,0.7875,0.7875,0.88125,0.8854166666666666,0.8822916666666667,0.9083333333333333,0.9270833333333334,0.9833333333333333,0.946875,0.9614583333333333,0.9822916666666667,0.984375,0.9875,0.990625,0.9895833333333334,0.9885416666666667,0.9875,0.9916666666666667,0.9895833333333334,0.9916666666666667,0.99375,0.9916666666666667,0.990625,0.9958333333333333,0.99375,0.9916666666666667,0.9895833333333334,0.9822916666666667,0.9833333333333333,0.990625,0.99375,0.990625,0.990625,0.99375,0.99375,0.9927083333333333,0.9989583333333333,0.9927083333333333,0.9947916666666666,0.9927083333333333,0.9947916666666666,0.9989583333333333,0.9989583333333333,1.0,0.9989583333333333,1.0,1.0,1.0,0.9989583333333333,0.9989583333333333,1.0,0.9989583333333333,0.9989583333333333,1.0,1.0,1.0,1.0,1.0,1.0,1.0,1.0,1.0,1.0,1.0,1.0,1.0,1.0,1.0,1.0,1.0,1.0,1.0,1.0,1.0,1.0,1.0,1.0,1.0,1.0,1.0,1.0,1.0,1.0,1.0,1.0,1.0,1.0,1.0,1.0,1.0,1.0,1.0,1.0,1.0,1.0,1.0,1.0,1.0,1.0,1.0,1.0,1.0,1.0,1.0,1.0,1.0,1.0,1.0,1.0,1.0,1.0,1.0,1.0,1.0,1.0,1.0,1.0,1.0,1.0,1.0,1.0,1.0,1.0,1.0,1.0,1.0,1.0,1.0,1.0,1.0,1.0,1.0,1.0,1.0,1.0,1.0,1.0,1.0,1.0,1.0,1.0,1.0,1.0,1.0,1.0,1.0,1.0,1.0,1.0,1.0,1.0,1.0,1.0,1.0,1.0,1.0,1.0,1.0,1.0,1.0,1.0,1.0,1.0,1.0,1.0,1.0,1.0,1.0,1.0,1.0,1.0,1.0,1.0,1.0,1.0,1.0,1.0,1.0,1.0,1.0,1.0,1.0,1.0,1.0,1.0,1.0,1.0,1.0,1.0,1.0,1.0,1.0,1.0,1.0,1.0,1.0,1.0,1.0,1.0,1.0,1.0,1.0,1.0,1.0,1.0,1.0,1.0,1.0,1.0,1.0,1.0,1.0,1.0,1.0,1.0,1.0,1.0,1.0,1.0,1.0,1.0,1.0,1.0,1.0,1.0,1.0,1.0,1.0,1.0,1.0,1.0,1.0,1.0,1.0,1.0,1.0,1.0,1.0,1.0,1.0,1.0,1.0,1.0,1.0,1.0,1.0,1.0,1.0,1.0,1.0,1.0,1.0,1.0,1.0,1.0,1.0,1.0,1.0,1.0,1.0,1.0,1.0,1.0,1.0,1.0,1.0,1.0,1.0,1.0,1.0,1.0,1.0,1.0,1.0,1.0,1.0,1.0,1.0,1.0,1.0,1.0,1.0,1.0,1.0,1.0,1.0,1.0,1.0,1.0,1.0,1.0,1.0,1.0,1.0,1.0,1.0],\"yaxis\":\"y\",\"type\":\"scattergl\"},{\"hovertemplate\":\"variable=D<br>index=%{x}<br>value=%{y}<extra></extra>\",\"legendgroup\":\"D\",\"line\":{\"color\":\"#ab63fa\",\"dash\":\"solid\"},\"marker\":{\"symbol\":\"circle\"},\"mode\":\"lines\",\"name\":\"D\",\"showlegend\":true,\"x\":[0,1,2,3,4,5,6,7,8,9,10,11,12,13,14,15,16,17,18,19,20,21,22,23,24,25,26,27,28,29,30,31,32,33,34,35,36,37,38,39,40,41,42,43,44,45,46,47,48,49,50,51,52,53,54,55,56,57,58,59,60,61,62,63,64,65,66,67,68,69,70,71,72,73,74,75,76,77,78,79,80,81,82,83,84,85,86,87,88,89,90,91,92,93,94,95,96,97,98,99,100,101,102,103,104,105,106,107,108,109,110,111,112,113,114,115,116,117,118,119,120,121,122,123,124,125,126,127,128,129,130,131,132,133,134,135,136,137,138,139,140,141,142,143,144,145,146,147,148,149,150,151,152,153,154,155,156,157,158,159,160,161,162,163,164,165,166,167,168,169,170,171,172,173,174,175,176,177,178,179,180,181,182,183,184,185,186,187,188,189,190,191,192,193,194,195,196,197,198,199,200,201,202,203,204,205,206,207,208,209,210,211,212,213,214,215,216,217,218,219,220,221,222,223,224,225,226,227,228,229,230,231,232,233,234,235,236,237,238,239,240,241,242,243,244,245,246,247,248,249,250,251,252,253,254,255,256,257,258,259,260,261,262,263,264,265,266,267,268,269,270,271,272,273,274,275,276,277,278,279,280,281,282,283,284,285,286,287,288,289,290,291,292,293,294,295,296,297,298,299],\"xaxis\":\"x\",\"y\":[0.659375,0.5833333333333334,0.5666666666666667,0.5645833333333333,0.659375,0.5645833333333333,0.6916666666666667,0.5645833333333333,0.571875,0.6208333333333333,0.7739583333333333,0.7583333333333333,0.725,0.790625,0.8322916666666667,0.8552083333333333,0.8895833333333333,0.884375,0.8885416666666667,0.8927083333333333,0.9020833333333333,0.9552083333333333,0.9520833333333333,0.946875,0.9604166666666667,0.9739583333333334,0.9708333333333333,0.9708333333333333,0.975,0.98125,0.975,0.9854166666666667,0.9833333333333333,0.9770833333333333,0.978125,0.9875,0.9822916666666667,0.9864583333333333,0.9885416666666667,0.9854166666666667,0.9864583333333333,0.996875,0.9916666666666667,0.996875,0.9927083333333333,0.9947916666666666,0.996875,0.990625,0.99375,1.0,1.0,1.0,1.0,1.0,1.0,1.0,1.0,1.0,1.0,1.0,1.0,1.0,1.0,1.0,1.0,1.0,1.0,1.0,1.0,1.0,1.0,1.0,1.0,1.0,1.0,1.0,1.0,1.0,1.0,1.0,1.0,1.0,1.0,1.0,1.0,1.0,1.0,1.0,1.0,1.0,1.0,1.0,1.0,1.0,1.0,1.0,1.0,1.0,1.0,1.0,1.0,1.0,1.0,1.0,1.0,1.0,1.0,1.0,1.0,1.0,1.0,1.0,1.0,1.0,1.0,1.0,1.0,1.0,1.0,1.0,1.0,1.0,1.0,1.0,1.0,1.0,1.0,1.0,1.0,1.0,1.0,1.0,1.0,1.0,1.0,1.0,1.0,1.0,1.0,1.0,1.0,1.0,1.0,1.0,1.0,1.0,1.0,1.0,1.0,1.0,1.0,1.0,1.0,1.0,1.0,1.0,1.0,1.0,1.0,1.0,1.0,1.0,1.0,1.0,1.0,1.0,1.0,1.0,1.0,1.0,1.0,1.0,1.0,1.0,1.0,1.0,1.0,1.0,1.0,1.0,1.0,1.0,1.0,1.0,1.0,1.0,1.0,1.0,1.0,1.0,1.0,1.0,1.0,1.0,1.0,1.0,1.0,1.0,1.0,1.0,1.0,1.0,1.0,1.0,1.0,1.0,1.0,1.0,1.0,1.0,1.0,1.0,1.0,1.0,1.0,1.0,1.0,1.0,1.0,1.0,1.0,1.0,1.0,1.0,1.0,1.0,1.0,1.0,1.0,1.0,1.0,1.0,1.0,1.0,1.0,1.0,1.0,1.0,1.0,1.0,1.0,1.0,1.0,1.0,1.0,1.0,1.0,1.0,1.0,1.0,1.0,1.0,1.0,1.0,1.0,1.0,1.0,1.0,1.0,1.0,1.0,1.0,1.0,1.0,1.0,1.0,1.0,1.0,1.0,1.0,1.0,1.0,1.0,1.0,1.0,1.0,1.0,1.0,1.0,1.0,1.0,1.0,1.0,1.0,1.0,1.0,1.0,1.0,1.0,1.0,1.0,1.0,1.0,1.0,1.0,1.0,1.0,1.0,1.0,1.0],\"yaxis\":\"y\",\"type\":\"scattergl\"},{\"hovertemplate\":\"variable=E<br>index=%{x}<br>value=%{y}<extra></extra>\",\"legendgroup\":\"E\",\"line\":{\"color\":\"#FFA15A\",\"dash\":\"solid\"},\"marker\":{\"symbol\":\"circle\"},\"mode\":\"lines\",\"name\":\"E\",\"showlegend\":true,\"x\":[0,1,2,3,4,5,6,7,8,9,10,11,12,13,14,15,16,17,18,19,20,21,22,23,24,25,26,27,28,29,30,31,32,33,34,35,36,37,38,39,40,41,42,43,44,45,46,47,48,49,50,51,52,53,54,55,56,57,58,59,60,61,62,63,64,65,66,67,68,69,70,71,72,73,74,75,76,77,78,79,80,81,82,83,84,85,86,87,88,89,90,91,92,93,94,95,96,97,98,99,100,101,102,103,104,105,106,107,108,109,110,111,112,113,114,115,116,117,118,119,120,121,122,123,124,125,126,127,128,129,130,131,132,133,134,135,136,137,138,139,140,141,142,143,144,145,146,147,148,149,150,151,152,153,154,155,156,157,158,159,160,161,162,163,164,165,166,167,168,169,170,171,172,173,174,175,176,177,178,179,180,181,182,183,184,185,186,187,188,189,190,191,192,193,194,195,196,197,198,199,200,201,202,203,204,205,206,207,208,209,210,211,212,213,214,215,216,217,218,219,220,221,222,223,224,225,226,227,228,229,230,231,232,233,234,235,236,237,238,239,240,241,242,243,244,245,246,247,248,249,250,251,252,253,254,255,256,257,258,259,260,261,262,263,264,265,266,267,268,269,270,271,272,273,274,275,276,277,278,279,280,281,282,283,284,285,286,287,288,289,290,291,292,293,294,295,296,297,298,299],\"xaxis\":\"x\",\"y\":[0.5645833333333333,0.6916666666666667,0.875,0.8677083333333333,0.85625,0.871875,0.865625,0.821875,0.9302083333333333,0.9510416666666667,0.946875,0.9614583333333333,0.96875,0.9635416666666666,0.9583333333333334,0.9479166666666666,0.9635416666666666,0.953125,0.9697916666666667,0.971875,0.975,0.975,0.9770833333333333,0.98125,0.990625,0.9885416666666667,0.9833333333333333,0.98125,0.984375,0.9854166666666667,0.9979166666666667,1.0,0.9885416666666667,1.0,0.9947916666666666,1.0,0.9916666666666667,0.9895833333333334,0.99375,0.990625,0.9947916666666666,0.996875,0.9989583333333333,1.0,0.99375,1.0,0.9979166666666667,1.0,0.9989583333333333,0.9989583333333333,0.9989583333333333,0.9989583333333333,0.9989583333333333,0.9989583333333333,0.9958333333333333,1.0,0.9989583333333333,1.0,1.0,0.9989583333333333,1.0,1.0,1.0,1.0,1.0,1.0,1.0,1.0,1.0,1.0,1.0,1.0,1.0,1.0,1.0,1.0,1.0,1.0,1.0,1.0,1.0,1.0,1.0,1.0,1.0,1.0,1.0,1.0,1.0,1.0,1.0,1.0,1.0,1.0,1.0,1.0,1.0,1.0,1.0,1.0,1.0,1.0,1.0,1.0,1.0,1.0,1.0,1.0,1.0,1.0,1.0,1.0,1.0,1.0,1.0,1.0,1.0,1.0,1.0,1.0,1.0,1.0,1.0,1.0,1.0,1.0,1.0,1.0,1.0,1.0,1.0,1.0,1.0,1.0,1.0,1.0,1.0,1.0,1.0,1.0,1.0,1.0,1.0,1.0,1.0,1.0,1.0,1.0,1.0,1.0,1.0,1.0,1.0,1.0,1.0,1.0,1.0,1.0,1.0,1.0,1.0,1.0,1.0,1.0,1.0,1.0,1.0,1.0,1.0,1.0,1.0,1.0,1.0,1.0,1.0,1.0,1.0,1.0,1.0,1.0,1.0,1.0,1.0,1.0,1.0,1.0,1.0,1.0,1.0,1.0,1.0,1.0,1.0,1.0,1.0,1.0,1.0,1.0,1.0,1.0,1.0,1.0,1.0,1.0,1.0,1.0,1.0,1.0,1.0,1.0,1.0,1.0,1.0,1.0,1.0,1.0,1.0,1.0,1.0,1.0,1.0,1.0,1.0,1.0,1.0,1.0,1.0,1.0,1.0,1.0,1.0,1.0,1.0,1.0,1.0,1.0,1.0,1.0,1.0,1.0,1.0,1.0,1.0,1.0,1.0,1.0,1.0,1.0,1.0,1.0,1.0,1.0,1.0,1.0,1.0,1.0,1.0,1.0,1.0,1.0,1.0,1.0,1.0,1.0,1.0,1.0,1.0,1.0,1.0,1.0,1.0,1.0,1.0,1.0,1.0,1.0,1.0,1.0,1.0,1.0,1.0,1.0,1.0,1.0,1.0,1.0,1.0,1.0,1.0,1.0,1.0,1.0,1.0,1.0,1.0,1.0,1.0,1.0,1.0,1.0],\"yaxis\":\"y\",\"type\":\"scattergl\"},{\"hovertemplate\":\"variable=F<br>index=%{x}<br>value=%{y}<extra></extra>\",\"legendgroup\":\"F\",\"line\":{\"color\":\"#19d3f3\",\"dash\":\"solid\"},\"marker\":{\"symbol\":\"circle\"},\"mode\":\"lines\",\"name\":\"F\",\"showlegend\":true,\"x\":[0,1,2,3,4,5,6,7,8,9,10,11,12,13,14,15,16,17,18,19,20,21,22,23,24,25,26,27,28,29,30,31,32,33,34,35,36,37,38,39,40,41,42,43,44,45,46,47,48,49,50,51,52,53,54,55,56,57,58,59,60,61,62,63,64,65,66,67,68,69,70,71,72,73,74,75,76,77,78,79,80,81,82,83,84,85,86,87,88,89,90,91,92,93,94,95,96,97,98,99,100,101,102,103,104,105,106,107,108,109,110,111,112,113,114,115,116,117,118,119,120,121,122,123,124,125,126,127,128,129,130,131,132,133,134,135,136,137,138,139,140,141,142,143,144,145,146,147,148,149,150,151,152,153,154,155,156,157,158,159,160,161,162,163,164,165,166,167,168,169,170,171,172,173,174,175,176,177,178,179,180,181,182,183,184,185,186,187,188,189,190,191,192,193,194,195,196,197,198,199,200,201,202,203,204,205,206,207,208,209,210,211,212,213,214,215,216,217,218,219,220,221,222,223,224,225,226,227,228,229,230,231,232,233,234,235,236,237,238,239,240,241,242,243,244,245,246,247,248,249,250,251,252,253,254,255,256,257,258,259,260,261,262,263,264,265,266,267,268,269,270,271,272,273,274,275,276,277,278,279,280,281,282,283,284,285,286,287,288,289,290,291,292,293,294,295,296,297,298,299],\"xaxis\":\"x\",\"y\":[0.609375,0.759375,0.8239583333333333,0.7583333333333333,0.753125,0.7458333333333333,0.7489583333333333,0.7864583333333334,0.8510416666666667,0.9385416666666667,0.9135416666666667,0.9458333333333333,0.928125,0.9572916666666667,0.965625,0.98125,0.9739583333333334,0.984375,0.9864583333333333,0.984375,0.9895833333333334,0.9875,0.9864583333333333,0.98125,0.9916666666666667,0.99375,0.9916666666666667,0.996875,1.0,1.0,1.0,1.0,1.0,1.0,1.0,1.0,1.0,1.0,0.9989583333333333,1.0,1.0,0.9989583333333333,1.0,1.0,1.0,1.0,1.0,1.0,1.0,1.0,1.0,1.0,1.0,1.0,1.0,1.0,1.0,1.0,1.0,1.0,1.0,1.0,1.0,1.0,1.0,1.0,1.0,1.0,1.0,1.0,1.0,1.0,1.0,1.0,1.0,1.0,1.0,1.0,1.0,1.0,1.0,1.0,1.0,1.0,1.0,1.0,1.0,1.0,1.0,1.0,1.0,1.0,1.0,1.0,1.0,1.0,1.0,1.0,1.0,1.0,1.0,1.0,1.0,1.0,1.0,1.0,1.0,1.0,1.0,1.0,1.0,1.0,1.0,1.0,1.0,1.0,1.0,1.0,1.0,1.0,1.0,1.0,1.0,1.0,1.0,1.0,1.0,1.0,1.0,1.0,1.0,1.0,1.0,1.0,1.0,1.0,1.0,1.0,1.0,1.0,1.0,1.0,1.0,1.0,1.0,1.0,1.0,1.0,1.0,1.0,1.0,1.0,1.0,1.0,1.0,1.0,1.0,1.0,1.0,1.0,1.0,1.0,1.0,1.0,1.0,1.0,1.0,1.0,1.0,1.0,1.0,1.0,1.0,1.0,1.0,1.0,1.0,1.0,1.0,1.0,1.0,1.0,1.0,1.0,1.0,1.0,1.0,1.0,1.0,1.0,1.0,1.0,1.0,1.0,1.0,1.0,1.0,1.0,1.0,1.0,1.0,1.0,1.0,1.0,1.0,1.0,1.0,1.0,1.0,1.0,1.0,1.0,1.0,1.0,1.0,1.0,1.0,1.0,1.0,1.0,1.0,1.0,1.0,1.0,1.0,1.0,1.0,1.0,1.0,1.0,1.0,1.0,1.0,1.0,1.0,1.0,1.0,1.0,1.0,1.0,1.0,1.0,1.0,1.0,1.0,1.0,1.0,1.0,1.0,1.0,1.0,1.0,1.0,1.0,1.0,1.0,1.0,1.0,1.0,1.0,1.0,1.0,1.0,1.0,1.0,1.0,1.0,1.0,1.0,1.0,1.0,1.0,1.0,1.0,1.0,1.0,1.0,1.0,1.0,1.0,1.0,1.0,1.0,1.0,1.0,1.0,1.0,1.0,1.0,1.0,1.0,1.0,1.0,1.0,1.0,1.0,1.0,1.0,1.0,1.0],\"yaxis\":\"y\",\"type\":\"scattergl\"},{\"hovertemplate\":\"variable=G<br>index=%{x}<br>value=%{y}<extra></extra>\",\"legendgroup\":\"G\",\"line\":{\"color\":\"#FF6692\",\"dash\":\"solid\"},\"marker\":{\"symbol\":\"circle\"},\"mode\":\"lines\",\"name\":\"G\",\"showlegend\":true,\"x\":[0,1,2,3,4,5,6,7,8,9,10,11,12,13,14,15,16,17,18,19,20,21,22,23,24,25,26,27,28,29,30,31,32,33,34,35,36,37,38,39,40,41,42,43,44,45,46,47,48,49,50,51,52,53,54,55,56,57,58,59,60,61,62,63,64,65,66,67,68,69,70,71,72,73,74,75,76,77,78,79,80,81,82,83,84,85,86,87,88,89,90,91,92,93,94,95,96,97,98,99,100,101,102,103,104,105,106,107,108,109,110,111,112,113,114,115,116,117,118,119,120,121,122,123,124,125,126,127,128,129,130,131,132,133,134,135,136,137,138,139,140,141,142,143,144,145,146,147,148,149,150,151,152,153,154,155,156,157,158,159,160,161,162,163,164,165,166,167,168,169,170,171,172,173,174,175,176,177,178,179,180,181,182,183,184,185,186,187,188,189,190,191,192,193,194,195,196,197,198,199,200,201,202,203,204,205,206,207,208,209,210,211,212,213,214,215,216,217,218,219,220,221,222,223,224,225,226,227,228,229,230,231,232,233,234,235,236,237,238,239,240,241,242,243,244,245,246,247,248,249,250,251,252,253,254,255,256,257,258,259,260,261,262,263,264,265,266,267,268,269,270,271,272,273,274,275,276,277,278,279,280,281,282,283,284,285,286,287,288,289,290,291,292,293,294,295,296,297,298,299],\"xaxis\":\"x\",\"y\":[0.5645833333333333,0.8104166666666667,0.6135416666666667,0.7010416666666667,0.8083333333333333,0.690625,0.6989583333333333,0.909375,0.7416666666666667,0.8260416666666667,0.9375,0.9166666666666666,0.8208333333333333,0.8354166666666667,0.921875,0.909375,0.8947916666666667,0.9489583333333333,0.9177083333333333,0.915625,0.9322916666666666,0.9385416666666667,0.9302083333333333,0.93125,0.9375,0.93125,0.9447916666666667,0.9302083333333333,0.9322916666666666,0.91875,0.9239583333333333,0.940625,0.9427083333333334,0.9447916666666667,0.9489583333333333,0.965625,0.9739583333333334,0.9760416666666667,0.9833333333333333,0.984375,0.9916666666666667,0.9916666666666667,0.9916666666666667,0.9947916666666666,0.9947916666666666,0.9979166666666667,0.9979166666666667,1.0,0.9989583333333333,0.9989583333333333,0.9989583333333333,0.9989583333333333,1.0,1.0,1.0,1.0,1.0,1.0,1.0,1.0,0.9989583333333333,1.0,1.0,1.0,1.0,1.0,1.0,1.0,1.0,1.0,1.0,1.0,1.0,1.0,1.0,1.0,1.0,1.0,1.0,1.0,1.0,1.0,1.0,1.0,1.0,1.0,1.0,1.0,1.0,1.0,1.0,1.0,1.0,1.0,1.0,1.0,1.0,1.0,1.0,1.0,1.0,1.0,1.0,1.0,1.0,1.0,1.0,1.0,1.0,1.0,1.0,1.0,1.0,1.0,1.0,1.0,1.0,1.0,1.0,1.0,1.0,1.0,1.0,1.0,1.0,1.0,1.0,1.0,1.0,1.0,1.0,1.0,1.0,1.0,1.0,1.0,1.0,1.0,1.0,1.0,1.0,1.0,1.0,1.0,1.0,1.0,1.0,1.0,1.0,1.0,1.0,1.0,1.0,1.0,1.0,1.0,1.0,1.0,1.0,1.0,1.0,1.0,1.0,1.0,1.0,1.0,1.0,1.0,1.0,1.0,1.0,1.0,1.0,1.0,1.0,1.0,1.0,1.0,1.0,1.0,1.0,1.0,1.0,1.0,1.0,1.0,1.0,1.0,1.0,1.0,1.0,1.0,1.0,1.0,1.0,1.0,1.0,1.0,1.0,1.0,1.0,1.0,1.0,1.0,1.0,1.0,1.0,1.0,1.0,1.0,1.0,1.0,1.0,1.0,1.0,1.0,1.0,1.0,1.0,1.0,1.0,1.0,1.0,1.0,1.0,1.0,1.0,1.0,1.0,1.0,1.0,1.0,1.0,1.0,1.0,1.0,1.0,1.0,1.0,1.0,1.0,1.0,1.0,1.0,1.0,1.0,1.0,1.0,1.0,1.0,1.0,1.0,1.0,1.0,1.0,1.0,1.0,1.0,1.0,1.0,1.0,1.0,1.0,1.0,1.0,1.0,1.0,1.0,1.0,1.0,1.0,1.0,1.0,1.0,1.0,1.0,1.0,1.0,1.0,1.0,1.0,1.0,1.0,1.0,1.0,1.0,1.0,1.0,1.0,1.0,1.0,1.0,1.0,1.0,1.0,1.0,1.0,1.0,1.0,1.0],\"yaxis\":\"y\",\"type\":\"scattergl\"},{\"hovertemplate\":\"variable=H<br>index=%{x}<br>value=%{y}<extra></extra>\",\"legendgroup\":\"H\",\"line\":{\"color\":\"#B6E880\",\"dash\":\"solid\"},\"marker\":{\"symbol\":\"circle\"},\"mode\":\"lines\",\"name\":\"H\",\"showlegend\":true,\"x\":[0,1,2,3,4,5,6,7,8,9,10,11,12,13,14,15,16,17,18,19,20,21,22,23,24,25,26,27,28,29,30,31,32,33,34,35,36,37,38,39,40,41,42,43,44,45,46,47,48,49,50,51,52,53,54,55,56,57,58,59,60,61,62,63,64,65,66,67,68,69,70,71,72,73,74,75,76,77,78,79,80,81,82,83,84,85,86,87,88,89,90,91,92,93,94,95,96,97,98,99,100,101,102,103,104,105,106,107,108,109,110,111,112,113,114,115,116,117,118,119,120,121,122,123,124,125,126,127,128,129,130,131,132,133,134,135,136,137,138,139,140,141,142,143,144,145,146,147,148,149,150,151,152,153,154,155,156,157,158,159,160,161,162,163,164,165,166,167,168,169,170,171,172,173,174,175,176,177,178,179,180,181,182,183,184,185,186,187,188,189,190,191,192,193,194,195,196,197,198,199,200,201,202,203,204,205,206,207,208,209,210,211,212,213,214,215,216,217,218,219,220,221,222,223,224,225,226,227,228,229,230,231,232,233,234,235,236,237,238,239,240,241,242,243,244,245,246,247,248,249,250,251,252,253,254,255,256,257,258,259,260,261,262,263,264,265,266,267,268,269,270,271,272,273,274,275,276,277,278,279,280,281,282,283,284,285,286,287,288,289,290,291,292,293,294,295,296,297,298,299],\"xaxis\":\"x\",\"y\":[0.5833333333333334,0.6104166666666667,0.6895833333333333,0.6604166666666667,0.8354166666666667,0.5895833333333333,0.6927083333333334,0.8854166666666666,0.8052083333333333,0.9333333333333333,0.8708333333333333,0.8677083333333333,0.9229166666666667,0.9604166666666667,0.990625,0.9864583333333333,0.9979166666666667,0.9989583333333333,0.9958333333333333,0.9989583333333333,0.996875,0.996875,1.0,1.0,1.0,1.0,1.0,0.9958333333333333,1.0,0.9989583333333333,0.9958333333333333,0.9958333333333333,0.99375,0.9958333333333333,1.0,1.0,1.0,1.0,1.0,1.0,1.0,1.0,1.0,1.0,1.0,1.0,1.0,1.0,1.0,1.0,1.0,1.0,1.0,1.0,1.0,1.0,1.0,1.0,1.0,1.0,1.0,1.0,1.0,1.0,1.0,1.0,1.0,1.0,1.0,1.0,1.0,1.0,1.0,1.0,1.0,1.0,1.0,1.0,1.0,1.0,1.0,1.0,1.0,1.0,1.0,1.0,1.0,1.0,1.0,1.0,1.0,1.0,1.0,1.0,1.0,1.0,1.0,1.0,1.0,1.0,1.0,1.0,1.0,1.0,1.0,1.0,1.0,1.0,1.0,1.0,1.0,1.0,1.0,1.0,1.0,1.0,1.0,1.0,1.0,1.0,1.0,1.0,1.0,1.0,1.0,1.0,1.0,1.0,1.0,1.0,1.0,1.0,1.0,1.0,1.0,1.0,1.0,1.0,1.0,1.0,1.0,1.0,1.0,1.0,1.0,1.0,1.0,1.0,1.0,1.0,1.0,1.0,1.0,1.0,1.0,1.0,1.0,1.0,1.0,1.0,1.0,1.0,1.0,1.0,1.0,1.0,1.0,1.0,1.0,1.0,1.0,1.0,1.0,1.0,1.0,1.0,1.0,1.0,1.0,1.0,1.0,1.0,1.0,1.0,1.0,1.0,1.0,1.0,1.0,1.0,1.0,1.0,1.0,1.0,1.0,1.0,1.0,1.0,1.0,1.0,1.0,1.0,1.0,1.0,1.0,1.0,1.0,1.0,1.0,1.0,1.0,1.0,1.0,1.0,1.0,1.0,1.0,1.0,1.0,1.0,1.0,1.0,1.0,1.0,1.0,1.0,1.0,1.0,1.0,1.0,1.0,1.0,1.0,1.0,1.0,1.0,1.0,1.0,1.0,1.0,1.0,1.0,1.0,1.0,1.0,1.0,1.0,1.0,1.0,1.0,1.0,1.0,1.0,1.0,1.0,1.0,1.0,1.0,1.0,1.0,1.0,1.0,1.0,1.0,1.0,1.0,1.0,1.0,1.0,1.0,1.0,1.0,1.0,1.0,1.0,1.0,1.0,1.0,1.0,1.0,1.0,1.0,1.0,1.0,1.0,1.0,1.0,1.0,1.0,1.0,1.0,1.0,1.0,1.0,1.0,1.0,1.0,1.0,1.0,1.0],\"yaxis\":\"y\",\"type\":\"scattergl\"},{\"hovertemplate\":\"variable=I<br>index=%{x}<br>value=%{y}<extra></extra>\",\"legendgroup\":\"I\",\"line\":{\"color\":\"#FF97FF\",\"dash\":\"solid\"},\"marker\":{\"symbol\":\"circle\"},\"mode\":\"lines\",\"name\":\"I\",\"showlegend\":true,\"x\":[0,1,2,3,4,5,6,7,8,9,10,11,12,13,14,15,16,17,18,19,20,21,22,23,24,25,26,27,28,29,30,31,32,33,34,35,36,37,38,39,40,41,42,43,44,45,46,47,48,49,50,51,52,53,54,55,56,57,58,59,60,61,62,63,64,65,66,67,68,69,70,71,72,73,74,75,76,77,78,79,80,81,82,83,84,85,86,87,88,89,90,91,92,93,94,95,96,97,98,99,100,101,102,103,104,105,106,107,108,109,110,111,112,113,114,115,116,117,118,119,120,121,122,123,124,125,126,127,128,129,130,131,132,133,134,135,136,137,138,139,140,141,142,143,144,145,146,147,148,149,150,151,152,153,154,155,156,157,158,159,160,161,162,163,164,165,166,167,168,169,170,171,172,173,174,175,176,177,178,179,180,181,182,183,184,185,186,187,188,189,190,191,192,193,194,195,196,197,198,199,200,201,202,203,204,205,206,207,208,209,210,211,212,213,214,215,216,217,218,219,220,221,222,223,224,225,226,227,228,229,230,231,232,233,234,235,236,237,238,239,240,241,242,243,244,245,246,247,248,249,250,251,252,253,254,255,256,257,258,259,260,261,262,263,264,265,266,267,268,269,270,271,272,273,274,275,276,277,278,279,280,281,282,283,284,285,286,287,288,289,290,291,292,293,294,295,296,297,298,299],\"xaxis\":\"x\",\"y\":[0.5645833333333333,0.7552083333333334,0.5854166666666667,0.6697916666666667,0.8302083333333333,0.7666666666666667,0.79375,0.8125,0.6916666666666667,0.7979166666666667,0.9447916666666667,0.9875,0.95625,0.9697916666666667,0.99375,0.9885416666666667,0.9895833333333334,0.9927083333333333,0.990625,0.9625,0.9479166666666666,0.9697916666666667,0.9572916666666667,0.9854166666666667,0.990625,0.984375,0.990625,0.9916666666666667,0.9916666666666667,0.996875,0.9916666666666667,0.99375,0.99375,0.9947916666666666,0.9958333333333333,0.9947916666666666,0.9979166666666667,0.996875,0.9979166666666667,0.9989583333333333,0.9979166666666667,0.9989583333333333,0.9979166666666667,0.9989583333333333,1.0,1.0,1.0,1.0,1.0,1.0,1.0,1.0,1.0,1.0,1.0,1.0,1.0,1.0,1.0,1.0,1.0,0.9979166666666667,0.9864583333333333,1.0,1.0,1.0,0.9989583333333333,1.0,1.0,1.0,1.0,1.0,1.0,1.0,1.0,1.0,1.0,1.0,1.0,1.0,0.9989583333333333,1.0,1.0,1.0,1.0,1.0,1.0,1.0,1.0,1.0,1.0,1.0,1.0,1.0,1.0,1.0,1.0,1.0,1.0,1.0,1.0,1.0,1.0,1.0,1.0,1.0,1.0,1.0,1.0,1.0,1.0,1.0,1.0,1.0,1.0,1.0,1.0,1.0,1.0,1.0,1.0,1.0,1.0,1.0,1.0,1.0,1.0,1.0,1.0,1.0,1.0,1.0,1.0,1.0,1.0,1.0,1.0,1.0,1.0,1.0,1.0,1.0,1.0,1.0,1.0,1.0,1.0,1.0,1.0,1.0,1.0,1.0,1.0,1.0,1.0,1.0,1.0,1.0,1.0,1.0,1.0,1.0,1.0,1.0,1.0,1.0,1.0,1.0,1.0,1.0,1.0,1.0,1.0,1.0,1.0,1.0,1.0,1.0,1.0,1.0,1.0,1.0,1.0,1.0,1.0,1.0,1.0,1.0,1.0,1.0,1.0,1.0,1.0,1.0,1.0,1.0,1.0,1.0,1.0,1.0,1.0,1.0,1.0,1.0,1.0,1.0,1.0,1.0,1.0,1.0,1.0,1.0,1.0,1.0,1.0,1.0,1.0,1.0,1.0,1.0,1.0,1.0,1.0,1.0,1.0,1.0,1.0,1.0,1.0,1.0,1.0,1.0,1.0,1.0,1.0,1.0,1.0,1.0,1.0,1.0,1.0,1.0,1.0,1.0,1.0,1.0,1.0,1.0,1.0,1.0,1.0,1.0,1.0,1.0,1.0,1.0,1.0,1.0,1.0,1.0,1.0,1.0,1.0,1.0,1.0,1.0,1.0,1.0,1.0,1.0,1.0,1.0,1.0,1.0,1.0,1.0,1.0,1.0,1.0,1.0,1.0,1.0,1.0,1.0,1.0,1.0,1.0,1.0,1.0,1.0,1.0,1.0,1.0,1.0,1.0,1.0,1.0,1.0,1.0,1.0],\"yaxis\":\"y\",\"type\":\"scattergl\"},{\"hovertemplate\":\"variable=J<br>index=%{x}<br>value=%{y}<extra></extra>\",\"legendgroup\":\"J\",\"line\":{\"color\":\"#FECB52\",\"dash\":\"solid\"},\"marker\":{\"symbol\":\"circle\"},\"mode\":\"lines\",\"name\":\"J\",\"showlegend\":true,\"x\":[0,1,2,3,4,5,6,7,8,9,10,11,12,13,14,15,16,17,18,19,20,21,22,23,24,25,26,27,28,29,30,31,32,33,34,35,36,37,38,39,40,41,42,43,44,45,46,47,48,49,50,51,52,53,54,55,56,57,58,59,60,61,62,63,64,65,66,67,68,69,70,71,72,73,74,75,76,77,78,79,80,81,82,83,84,85,86,87,88,89,90,91,92,93,94,95,96,97,98,99,100,101,102,103,104,105,106,107,108,109,110,111,112,113,114,115,116,117,118,119,120,121,122,123,124,125,126,127,128,129,130,131,132,133,134,135,136,137,138,139,140,141,142,143,144,145,146,147,148,149,150,151,152,153,154,155,156,157,158,159,160,161,162,163,164,165,166,167,168,169,170,171,172,173,174,175,176,177,178,179,180,181,182,183,184,185,186,187,188,189,190,191,192,193,194,195,196,197,198,199,200,201,202,203,204,205,206,207,208,209,210,211,212,213,214,215,216,217,218,219,220,221,222,223,224,225,226,227,228,229,230,231,232,233,234,235,236,237,238,239,240,241,242,243,244,245,246,247,248,249,250,251,252,253,254,255,256,257,258,259,260,261,262,263,264,265,266,267,268,269,270,271,272,273,274,275,276,277,278,279,280,281,282,283,284,285,286,287,288,289,290,291,292,293,294,295,296,297,298,299],\"xaxis\":\"x\",\"y\":[0.6302083333333334,0.5645833333333333,0.48854166666666665,0.8177083333333334,0.8375,0.7375,0.6854166666666667,0.840625,0.83125,0.8822916666666667,0.890625,0.9510416666666667,0.9416666666666667,0.971875,0.9708333333333333,0.9770833333333333,0.9895833333333334,0.9885416666666667,0.98125,0.9833333333333333,0.9916666666666667,0.9854166666666667,0.990625,0.9916666666666667,0.99375,0.99375,0.9947916666666666,0.9947916666666666,0.9947916666666666,0.9947916666666666,0.9958333333333333,0.9958333333333333,0.9958333333333333,0.9958333333333333,0.9958333333333333,0.9958333333333333,0.9958333333333333,0.9979166666666667,0.996875,0.9979166666666667,0.9989583333333333,0.9979166666666667,0.9979166666666667,0.9979166666666667,0.9979166666666667,0.9979166666666667,0.9979166666666667,0.9979166666666667,0.9989583333333333,0.9989583333333333,0.9989583333333333,0.9989583333333333,0.9989583333333333,0.9989583333333333,0.9979166666666667,0.996875,0.9979166666666667,0.9979166666666667,0.996875,0.9989583333333333,0.9989583333333333,0.9989583333333333,0.9979166666666667,0.9989583333333333,0.9989583333333333,0.9989583333333333,0.9989583333333333,0.9989583333333333,0.9989583333333333,0.9989583333333333,0.9989583333333333,0.9979166666666667,0.9989583333333333,0.9979166666666667,0.9989583333333333,0.9989583333333333,0.9989583333333333,0.9989583333333333,0.9989583333333333,0.9989583333333333,0.9989583333333333,0.9989583333333333,0.9989583333333333,0.9989583333333333,0.9989583333333333,0.9989583333333333,0.9989583333333333,0.9989583333333333,0.9989583333333333,0.9989583333333333,0.9989583333333333,0.9989583333333333,0.9989583333333333,0.9989583333333333,0.9989583333333333,0.9989583333333333,0.9989583333333333,0.9989583333333333,0.9989583333333333,0.9989583333333333,0.9989583333333333,0.9989583333333333,0.9989583333333333,0.9989583333333333,0.9989583333333333,0.9989583333333333,0.9989583333333333,0.9989583333333333,0.9989583333333333,0.9989583333333333,0.9989583333333333,0.9989583333333333,0.9989583333333333,0.9989583333333333,0.9989583333333333,0.9989583333333333,0.9989583333333333,0.9989583333333333,0.9989583333333333,0.9989583333333333,0.9989583333333333,0.9989583333333333,0.9989583333333333,0.9989583333333333,0.9989583333333333,0.9989583333333333,0.9989583333333333,0.9989583333333333,0.9989583333333333,0.9989583333333333,0.9989583333333333,0.9989583333333333,0.9989583333333333,0.9989583333333333,0.9989583333333333,0.9989583333333333,0.9989583333333333,0.9989583333333333,0.9989583333333333,0.9989583333333333,0.9989583333333333,0.9989583333333333,0.9989583333333333,0.9989583333333333,0.9989583333333333,0.9989583333333333,0.9989583333333333,0.9989583333333333,0.9989583333333333,0.9989583333333333,0.9989583333333333,0.9989583333333333,0.9989583333333333,0.9989583333333333,0.9989583333333333,0.9989583333333333,0.9989583333333333,0.9989583333333333,0.9989583333333333,0.9989583333333333,0.9989583333333333,0.9989583333333333,0.9989583333333333,0.9989583333333333,0.9989583333333333,0.9989583333333333,0.9989583333333333,0.9989583333333333,0.9989583333333333,0.9989583333333333,0.9989583333333333,0.9989583333333333,0.9989583333333333,0.9989583333333333,0.9989583333333333,0.9989583333333333,0.9989583333333333,0.9989583333333333,0.9989583333333333,0.9989583333333333,0.9989583333333333,0.9989583333333333,0.9989583333333333,0.9989583333333333,0.9989583333333333,0.9989583333333333,0.9989583333333333,0.9989583333333333,0.9989583333333333,0.9989583333333333,0.9989583333333333,0.9989583333333333,0.9989583333333333,0.9989583333333333,0.9989583333333333,0.9989583333333333,0.9989583333333333,0.9989583333333333,0.9989583333333333,0.9989583333333333,0.9989583333333333,0.9989583333333333,0.9989583333333333,0.9989583333333333,0.9989583333333333,0.9989583333333333,0.9989583333333333,0.9989583333333333,0.9989583333333333,0.9989583333333333,0.9989583333333333,0.9989583333333333,0.9989583333333333,0.9989583333333333,0.9989583333333333,0.9989583333333333,0.9989583333333333,0.9989583333333333,0.9989583333333333,0.9989583333333333,0.9989583333333333,0.9989583333333333,0.9989583333333333,0.9989583333333333,0.9989583333333333,0.9989583333333333,0.9989583333333333,0.9989583333333333,0.9989583333333333,0.9989583333333333,0.9989583333333333,0.9989583333333333,0.9989583333333333,0.9989583333333333,0.9989583333333333,0.9989583333333333,0.9989583333333333,0.9989583333333333,0.9989583333333333,0.9989583333333333,0.9989583333333333,0.9989583333333333,0.9989583333333333,0.9989583333333333,0.9989583333333333,0.9989583333333333,0.9989583333333333,0.9989583333333333,0.9989583333333333,0.9989583333333333,0.9989583333333333,0.9989583333333333,0.9989583333333333,0.9989583333333333,0.9989583333333333,0.9989583333333333,0.9989583333333333,0.9989583333333333,0.9989583333333333,0.9989583333333333,0.9989583333333333,0.9989583333333333,0.9989583333333333,0.9989583333333333,0.9989583333333333,0.9989583333333333,0.9989583333333333,0.9989583333333333,0.9989583333333333,0.9989583333333333,0.9989583333333333,0.9989583333333333,0.9989583333333333,0.9989583333333333,0.9989583333333333,0.9989583333333333,0.9989583333333333,0.9989583333333333,0.9989583333333333,0.9989583333333333,0.9989583333333333,0.9989583333333333,0.9989583333333333,0.9989583333333333,0.9989583333333333,0.9989583333333333,0.9989583333333333,0.9989583333333333,0.9989583333333333,0.9989583333333333,0.9989583333333333,0.9989583333333333,0.9989583333333333,0.9989583333333333,0.9989583333333333,0.9989583333333333,0.9989583333333333,0.9989583333333333,0.9989583333333333,0.9989583333333333],\"yaxis\":\"y\",\"type\":\"scattergl\"}],                        {\"template\":{\"data\":{\"bar\":[{\"error_x\":{\"color\":\"#2a3f5f\"},\"error_y\":{\"color\":\"#2a3f5f\"},\"marker\":{\"line\":{\"color\":\"#E5ECF6\",\"width\":0.5},\"pattern\":{\"fillmode\":\"overlay\",\"size\":10,\"solidity\":0.2}},\"type\":\"bar\"}],\"barpolar\":[{\"marker\":{\"line\":{\"color\":\"#E5ECF6\",\"width\":0.5},\"pattern\":{\"fillmode\":\"overlay\",\"size\":10,\"solidity\":0.2}},\"type\":\"barpolar\"}],\"carpet\":[{\"aaxis\":{\"endlinecolor\":\"#2a3f5f\",\"gridcolor\":\"white\",\"linecolor\":\"white\",\"minorgridcolor\":\"white\",\"startlinecolor\":\"#2a3f5f\"},\"baxis\":{\"endlinecolor\":\"#2a3f5f\",\"gridcolor\":\"white\",\"linecolor\":\"white\",\"minorgridcolor\":\"white\",\"startlinecolor\":\"#2a3f5f\"},\"type\":\"carpet\"}],\"choropleth\":[{\"colorbar\":{\"outlinewidth\":0,\"ticks\":\"\"},\"type\":\"choropleth\"}],\"contour\":[{\"colorbar\":{\"outlinewidth\":0,\"ticks\":\"\"},\"colorscale\":[[0.0,\"#0d0887\"],[0.1111111111111111,\"#46039f\"],[0.2222222222222222,\"#7201a8\"],[0.3333333333333333,\"#9c179e\"],[0.4444444444444444,\"#bd3786\"],[0.5555555555555556,\"#d8576b\"],[0.6666666666666666,\"#ed7953\"],[0.7777777777777778,\"#fb9f3a\"],[0.8888888888888888,\"#fdca26\"],[1.0,\"#f0f921\"]],\"type\":\"contour\"}],\"contourcarpet\":[{\"colorbar\":{\"outlinewidth\":0,\"ticks\":\"\"},\"type\":\"contourcarpet\"}],\"heatmap\":[{\"colorbar\":{\"outlinewidth\":0,\"ticks\":\"\"},\"colorscale\":[[0.0,\"#0d0887\"],[0.1111111111111111,\"#46039f\"],[0.2222222222222222,\"#7201a8\"],[0.3333333333333333,\"#9c179e\"],[0.4444444444444444,\"#bd3786\"],[0.5555555555555556,\"#d8576b\"],[0.6666666666666666,\"#ed7953\"],[0.7777777777777778,\"#fb9f3a\"],[0.8888888888888888,\"#fdca26\"],[1.0,\"#f0f921\"]],\"type\":\"heatmap\"}],\"heatmapgl\":[{\"colorbar\":{\"outlinewidth\":0,\"ticks\":\"\"},\"colorscale\":[[0.0,\"#0d0887\"],[0.1111111111111111,\"#46039f\"],[0.2222222222222222,\"#7201a8\"],[0.3333333333333333,\"#9c179e\"],[0.4444444444444444,\"#bd3786\"],[0.5555555555555556,\"#d8576b\"],[0.6666666666666666,\"#ed7953\"],[0.7777777777777778,\"#fb9f3a\"],[0.8888888888888888,\"#fdca26\"],[1.0,\"#f0f921\"]],\"type\":\"heatmapgl\"}],\"histogram\":[{\"marker\":{\"pattern\":{\"fillmode\":\"overlay\",\"size\":10,\"solidity\":0.2}},\"type\":\"histogram\"}],\"histogram2d\":[{\"colorbar\":{\"outlinewidth\":0,\"ticks\":\"\"},\"colorscale\":[[0.0,\"#0d0887\"],[0.1111111111111111,\"#46039f\"],[0.2222222222222222,\"#7201a8\"],[0.3333333333333333,\"#9c179e\"],[0.4444444444444444,\"#bd3786\"],[0.5555555555555556,\"#d8576b\"],[0.6666666666666666,\"#ed7953\"],[0.7777777777777778,\"#fb9f3a\"],[0.8888888888888888,\"#fdca26\"],[1.0,\"#f0f921\"]],\"type\":\"histogram2d\"}],\"histogram2dcontour\":[{\"colorbar\":{\"outlinewidth\":0,\"ticks\":\"\"},\"colorscale\":[[0.0,\"#0d0887\"],[0.1111111111111111,\"#46039f\"],[0.2222222222222222,\"#7201a8\"],[0.3333333333333333,\"#9c179e\"],[0.4444444444444444,\"#bd3786\"],[0.5555555555555556,\"#d8576b\"],[0.6666666666666666,\"#ed7953\"],[0.7777777777777778,\"#fb9f3a\"],[0.8888888888888888,\"#fdca26\"],[1.0,\"#f0f921\"]],\"type\":\"histogram2dcontour\"}],\"mesh3d\":[{\"colorbar\":{\"outlinewidth\":0,\"ticks\":\"\"},\"type\":\"mesh3d\"}],\"parcoords\":[{\"line\":{\"colorbar\":{\"outlinewidth\":0,\"ticks\":\"\"}},\"type\":\"parcoords\"}],\"pie\":[{\"automargin\":true,\"type\":\"pie\"}],\"scatter\":[{\"marker\":{\"colorbar\":{\"outlinewidth\":0,\"ticks\":\"\"}},\"type\":\"scatter\"}],\"scatter3d\":[{\"line\":{\"colorbar\":{\"outlinewidth\":0,\"ticks\":\"\"}},\"marker\":{\"colorbar\":{\"outlinewidth\":0,\"ticks\":\"\"}},\"type\":\"scatter3d\"}],\"scattercarpet\":[{\"marker\":{\"colorbar\":{\"outlinewidth\":0,\"ticks\":\"\"}},\"type\":\"scattercarpet\"}],\"scattergeo\":[{\"marker\":{\"colorbar\":{\"outlinewidth\":0,\"ticks\":\"\"}},\"type\":\"scattergeo\"}],\"scattergl\":[{\"marker\":{\"colorbar\":{\"outlinewidth\":0,\"ticks\":\"\"}},\"type\":\"scattergl\"}],\"scattermapbox\":[{\"marker\":{\"colorbar\":{\"outlinewidth\":0,\"ticks\":\"\"}},\"type\":\"scattermapbox\"}],\"scatterpolar\":[{\"marker\":{\"colorbar\":{\"outlinewidth\":0,\"ticks\":\"\"}},\"type\":\"scatterpolar\"}],\"scatterpolargl\":[{\"marker\":{\"colorbar\":{\"outlinewidth\":0,\"ticks\":\"\"}},\"type\":\"scatterpolargl\"}],\"scatterternary\":[{\"marker\":{\"colorbar\":{\"outlinewidth\":0,\"ticks\":\"\"}},\"type\":\"scatterternary\"}],\"surface\":[{\"colorbar\":{\"outlinewidth\":0,\"ticks\":\"\"},\"colorscale\":[[0.0,\"#0d0887\"],[0.1111111111111111,\"#46039f\"],[0.2222222222222222,\"#7201a8\"],[0.3333333333333333,\"#9c179e\"],[0.4444444444444444,\"#bd3786\"],[0.5555555555555556,\"#d8576b\"],[0.6666666666666666,\"#ed7953\"],[0.7777777777777778,\"#fb9f3a\"],[0.8888888888888888,\"#fdca26\"],[1.0,\"#f0f921\"]],\"type\":\"surface\"}],\"table\":[{\"cells\":{\"fill\":{\"color\":\"#EBF0F8\"},\"line\":{\"color\":\"white\"}},\"header\":{\"fill\":{\"color\":\"#C8D4E3\"},\"line\":{\"color\":\"white\"}},\"type\":\"table\"}]},\"layout\":{\"annotationdefaults\":{\"arrowcolor\":\"#2a3f5f\",\"arrowhead\":0,\"arrowwidth\":1},\"autotypenumbers\":\"strict\",\"coloraxis\":{\"colorbar\":{\"outlinewidth\":0,\"ticks\":\"\"}},\"colorscale\":{\"diverging\":[[0,\"#8e0152\"],[0.1,\"#c51b7d\"],[0.2,\"#de77ae\"],[0.3,\"#f1b6da\"],[0.4,\"#fde0ef\"],[0.5,\"#f7f7f7\"],[0.6,\"#e6f5d0\"],[0.7,\"#b8e186\"],[0.8,\"#7fbc41\"],[0.9,\"#4d9221\"],[1,\"#276419\"]],\"sequential\":[[0.0,\"#0d0887\"],[0.1111111111111111,\"#46039f\"],[0.2222222222222222,\"#7201a8\"],[0.3333333333333333,\"#9c179e\"],[0.4444444444444444,\"#bd3786\"],[0.5555555555555556,\"#d8576b\"],[0.6666666666666666,\"#ed7953\"],[0.7777777777777778,\"#fb9f3a\"],[0.8888888888888888,\"#fdca26\"],[1.0,\"#f0f921\"]],\"sequentialminus\":[[0.0,\"#0d0887\"],[0.1111111111111111,\"#46039f\"],[0.2222222222222222,\"#7201a8\"],[0.3333333333333333,\"#9c179e\"],[0.4444444444444444,\"#bd3786\"],[0.5555555555555556,\"#d8576b\"],[0.6666666666666666,\"#ed7953\"],[0.7777777777777778,\"#fb9f3a\"],[0.8888888888888888,\"#fdca26\"],[1.0,\"#f0f921\"]]},\"colorway\":[\"#636efa\",\"#EF553B\",\"#00cc96\",\"#ab63fa\",\"#FFA15A\",\"#19d3f3\",\"#FF6692\",\"#B6E880\",\"#FF97FF\",\"#FECB52\"],\"font\":{\"color\":\"#2a3f5f\"},\"geo\":{\"bgcolor\":\"white\",\"lakecolor\":\"white\",\"landcolor\":\"#E5ECF6\",\"showlakes\":true,\"showland\":true,\"subunitcolor\":\"white\"},\"hoverlabel\":{\"align\":\"left\"},\"hovermode\":\"closest\",\"mapbox\":{\"style\":\"light\"},\"paper_bgcolor\":\"white\",\"plot_bgcolor\":\"#E5ECF6\",\"polar\":{\"angularaxis\":{\"gridcolor\":\"white\",\"linecolor\":\"white\",\"ticks\":\"\"},\"bgcolor\":\"#E5ECF6\",\"radialaxis\":{\"gridcolor\":\"white\",\"linecolor\":\"white\",\"ticks\":\"\"}},\"scene\":{\"xaxis\":{\"backgroundcolor\":\"#E5ECF6\",\"gridcolor\":\"white\",\"gridwidth\":2,\"linecolor\":\"white\",\"showbackground\":true,\"ticks\":\"\",\"zerolinecolor\":\"white\"},\"yaxis\":{\"backgroundcolor\":\"#E5ECF6\",\"gridcolor\":\"white\",\"gridwidth\":2,\"linecolor\":\"white\",\"showbackground\":true,\"ticks\":\"\",\"zerolinecolor\":\"white\"},\"zaxis\":{\"backgroundcolor\":\"#E5ECF6\",\"gridcolor\":\"white\",\"gridwidth\":2,\"linecolor\":\"white\",\"showbackground\":true,\"ticks\":\"\",\"zerolinecolor\":\"white\"}},\"shapedefaults\":{\"line\":{\"color\":\"#2a3f5f\"}},\"ternary\":{\"aaxis\":{\"gridcolor\":\"white\",\"linecolor\":\"white\",\"ticks\":\"\"},\"baxis\":{\"gridcolor\":\"white\",\"linecolor\":\"white\",\"ticks\":\"\"},\"bgcolor\":\"#E5ECF6\",\"caxis\":{\"gridcolor\":\"white\",\"linecolor\":\"white\",\"ticks\":\"\"}},\"title\":{\"x\":0.05},\"xaxis\":{\"automargin\":true,\"gridcolor\":\"white\",\"linecolor\":\"white\",\"ticks\":\"\",\"title\":{\"standoff\":15},\"zerolinecolor\":\"white\",\"zerolinewidth\":2},\"yaxis\":{\"automargin\":true,\"gridcolor\":\"white\",\"linecolor\":\"white\",\"ticks\":\"\",\"title\":{\"standoff\":15},\"zerolinecolor\":\"white\",\"zerolinewidth\":2}}},\"xaxis\":{\"anchor\":\"y\",\"domain\":[0.0,1.0],\"title\":{\"text\":\"Epochs\"}},\"yaxis\":{\"anchor\":\"x\",\"domain\":[0.0,1.0],\"title\":{\"text\":\"Accuracy\"}},\"legend\":{\"title\":{\"text\":\"Runs (Asc)\"},\"tracegroupgap\":0},\"title\":{\"text\":\"Accuracy Vs Epochs\"}},                        {\"responsive\": true}                    ).then(function(){\n",
              "                            \n",
              "var gd = document.getElementById('f8655cbf-fc19-4a79-8bec-694dcb74e0a9');\n",
              "var x = new MutationObserver(function (mutations, observer) {{\n",
              "        var display = window.getComputedStyle(gd).display;\n",
              "        if (!display || display === 'none') {{\n",
              "            console.log([gd, 'removed!']);\n",
              "            Plotly.purge(gd);\n",
              "            observer.disconnect();\n",
              "        }}\n",
              "}});\n",
              "\n",
              "// Listen for the removal of the full notebook cells\n",
              "var notebookContainer = gd.closest('#notebook-container');\n",
              "if (notebookContainer) {{\n",
              "    x.observe(notebookContainer, {childList: true});\n",
              "}}\n",
              "\n",
              "// Listen for the clearing of the current output cell\n",
              "var outputEl = gd.closest('.output');\n",
              "if (outputEl) {{\n",
              "    x.observe(outputEl, {childList: true});\n",
              "}}\n",
              "\n",
              "                        })                };                            </script>        </div>\n",
              "</body>\n",
              "</html>"
            ]
          },
          "metadata": {}
        }
      ]
    },
    {
      "cell_type": "code",
      "metadata": {
        "id": "OR8njByax4Ev"
      },
      "source": [
        "trained_final, final_logs = train_swarm(NeuralNetwork([4,10,10,10,2], ['relu','relu','relu','sigmoid']), X_train, Y_train, 83, 300, 9, \"distance\", 0.806)"
      ],
      "id": "OR8njByax4Ev",
      "execution_count": 17,
      "outputs": []
    },
    {
      "cell_type": "code",
      "metadata": {
        "id": "WwG0KEDHxu7z"
      },
      "source": [
        "trained_final.forward_propagation(X_test)\n",
        "predictions_final = trained_final.get_preds()\n",
        "accuracy_final = trained_final.get_accuracy(predictions_final, Y_test)"
      ],
      "id": "WwG0KEDHxu7z",
      "execution_count": 18,
      "outputs": []
    },
    {
      "cell_type": "code",
      "metadata": {
        "colab": {
          "base_uri": "https://localhost:8080/"
        },
        "id": "7XduRHIf0jvD",
        "outputId": "05a30e2c-2e82-41e5-99d8-82d3e0dcf3e0"
      },
      "source": [
        "# accuracy of optimised pso against test data\n",
        "accuracy_final"
      ],
      "id": "7XduRHIf0jvD",
      "execution_count": 19,
      "outputs": [
        {
          "output_type": "execute_result",
          "data": {
            "text/plain": [
              "1.0"
            ]
          },
          "metadata": {},
          "execution_count": 19
        }
      ]
    },
    {
      "cell_type": "markdown",
      "metadata": {
        "id": "5lwJkr4P1Qol"
      },
      "source": [
        "* optimised pso model performs well with new data"
      ],
      "id": "5lwJkr4P1Qol"
    },
    {
      "cell_type": "code",
      "metadata": {
        "id": "qzdGaLbAgcAL"
      },
      "source": [
        "#dill.dump_session(\"./optimals.db\")"
      ],
      "id": "qzdGaLbAgcAL",
      "execution_count": 21,
      "outputs": []
    }
  ]
}