{
 "cells": [
  {
   "cell_type": "markdown",
   "metadata": {
    "colab_type": "text",
    "id": "view-in-github"
   },
   "source": [
    "<a href=\"https://colab.research.google.com/github/shaarick/F21BC/blob/main/Step%201.ipynb\" target=\"_parent\"><img src=\"https://colab.research.google.com/assets/colab-badge.svg\" alt=\"Open In Colab\"/></a>"
   ]
  },
  {
   "cell_type": "code",
   "execution_count": 1,
   "metadata": {
    "id": "t1RqBXtOq-H7"
   },
   "outputs": [],
   "source": [
    "# Import common packages\n",
    "import random\n",
    "import numpy as np\n",
    "import pandas as pd\n",
    "from sklearn.preprocessing import LabelEncoder\n",
    "from sklearn.model_selection import train_test_split\n",
    "from sklearn.metrics import mean_squared_error"
   ]
  },
  {
   "cell_type": "code",
   "execution_count": 2,
   "metadata": {},
   "outputs": [],
   "source": [
    "# Input Validation\n",
    "class Validator:\n",
    "    def layers(self, layers):\n",
    "        if (type(layers) != list):\n",
    "            raise ValueError(\"Layers should describe your ANN structure in a list. E.g: 2-2-1\")\n",
    "        if (len(layers) <= 2):\n",
    "            raise ValueError(\"Need minimum three layer (input,hidden,output)\")\n",
    "        if (any(type(x) != int for x in layers)):\n",
    "            raise ValueError(\"All values in layers list must be of type int.\")\n",
    "    \n",
    "    def activations(self, nn, activations):\n",
    "        acts = [\"sigmoid\", \"relu\", \"tanh\"]\n",
    "        if (type(activations) != list):\n",
    "            raise ValueError(\"Activation functions for each layer need to be in a list.\")\n",
    "        if (any(type(x) != str for x in activations)):\n",
    "            raise ValueError(\"All activations must be of type string.\")\n",
    "        if (any(x not in acts for x in activations)):\n",
    "            raise ValueError(f\"Unknown activation function. Please choose from {acts}.\")\n",
    "        if (len(activations) != (len(nn.layers))):\n",
    "            raise ValueError(\"Number of layers and activation functions do not match.\")\n",
    "        \n",
    "    def learningRate(self, alpha):\n",
    "        if(type(alpha) != int):\n",
    "            raise ValueError(\"Alpha needs to be of type int.\")\n",
    "        # Need more controls here I think. Can alpha be nagative?\n",
    "    \n",
    "    def epochs(self, epochs):\n",
    "        if(type(epochs) != int or (epochs <= 0)):\n",
    "            raise ValueError(\"Epochs needs to be of type int and greater than 0.\")\n",
    "    \n",
    "    def loss(self, loss):\n",
    "        l = [\"entropy\"]\n",
    "        if (type(loss) != str):\n",
    "            raise ValueError(\"Loss function need to be of type string.\")\n",
    "        if (loss not in l):\n",
    "            raise ValueError(f\"Unknown loss function. Please choose from {l}.\")\n",
    "            "
   ]
  },
  {
   "cell_type": "code",
   "execution_count": 3,
   "metadata": {},
   "outputs": [],
   "source": [
    "# Classes for activation functions\n",
    "\n",
    "class Activations:\n",
    "\n",
    "    @staticmethod\n",
    "    def sigmoid(x):\n",
    "        return 1.0 / (1 + np.exp(-x))\n",
    "    \n",
    "    @staticmethod\n",
    "    def sigmoid_derivate(x):\n",
    "        return Activations.sigmoid(x) * (1 - Activations.sigmoid(x))\n",
    "\n",
    "    @staticmethod\n",
    "    def relu(x):\n",
    "        return np.maximum(0,x)\n",
    "    \n",
    "    @staticmethod\n",
    "    def relu_derivative(x):\n",
    "        return 0 if x < 0 else 1\n",
    "\n",
    "    @staticmethod\n",
    "    def tanh(x):\n",
    "        return ( 2 / (1 + np.exp(-2 * x))) - 1\n",
    "    \n",
    "    @staticmethod\n",
    "    def tanh_derivative(x):\n",
    "        return 1 - (Activations.tanh(x) ** 2)"
   ]
  },
  {
   "cell_type": "code",
   "execution_count": 4,
   "metadata": {},
   "outputs": [],
   "source": [
    "# Class for loss functions\n",
    "\n",
    "class Loss:\n",
    "    \n",
    "    @staticmethod\n",
    "    def crossEntropy(x,y):\n",
    "        return np.sum(np.nan_to_num(-y*np.log(a)-(1-y)*np.log(1-a)))\n",
    "    \n",
    "    @staticmethod\n",
    "    def crossEntropy_derivative(x,y):\n",
    "        return (x-y)"
   ]
  },
  {
   "cell_type": "code",
   "execution_count": 27,
   "metadata": {},
   "outputs": [],
   "source": [
    "# Create Neural Network Class\n",
    "\n",
    "class NeuralNetwork:\n",
    "    # Constructor for our Neural Network\n",
    "    def __init__(self,layers, activations, alpha, epochs, loss):\n",
    "        Validate = Validator()\n",
    "        \n",
    "        Validate.layers(layers)\n",
    "        self.layers = layers\n",
    "        \n",
    "        Validate.activations(self, activations)\n",
    "        self.activations = activations\n",
    "        \n",
    "        Validate.learningRate(alpha)\n",
    "        self.alpha = alpha\n",
    "        \n",
    "        Validate.epochs(epochs)\n",
    "        self.epochs = epochs\n",
    "        \n",
    "        Validate.loss(loss)\n",
    "        self.loss = loss\n",
    "            \n",
    "    def __repr__(self):\n",
    "        return f\"ANN with a {self.layers} structure.\"\n",
    "   \n",
    "\n",
    "    \n",
    "    def weight_initialize(self):\n",
    "        # Setting seed for reproducibility\n",
    "        np.random.seed(90)\n",
    "        \n",
    "        self.biases = [np.random.randn(y, 1) for y in self.layers[1:]]\n",
    "        self.weights = [np.random.randn(y, x)/np.sqrt(x) for x, y in zip(self.layers[:-1], self.layers[1:])]\n",
    "    \n",
    "    # Forward propagation of a single layer\n",
    "    def feedforward_single(self, layer, layer_index):\n",
    "        \n",
    "        # Get the activation function choosen by the user\n",
    "        activation_str = self.activations[layer_index]\n",
    "        activation = getattr(Activations,activation_str)\n",
    "        \n",
    "        for b,w in zip(self.biases, self.weights):\n",
    "            layer = activation(np.dot(w,layer) + b)\n",
    "\n",
    "        return layer\n",
    "    \n",
    "    # Forward propogation of all layers\n",
    "    def gradient_descent(self, training_data, mini_batch_size, test_data=None):\n",
    "        n = len(training_data)\n",
    "        \n",
    "        for i in range(self.epochs):\n",
    "            random.shuffle(training_data)\n",
    "            mini_batches = [training_data[k:k+mini_batch_size] for k in range(0,n,mini_batch_size)]\n",
    "            for mini_batch in mini_batches:\n",
    "                self.update_mini_batch(mini_batch)\n",
    "        \n",
    "        if test_data:\n",
    "            n_test = len(test_data)\n",
    "            print(f\"Epoch {i}: {self.evaluate(test_data)} / {n_test}\")\n",
    "        else:\n",
    "            print(f\"Epoch {i} complete.\")\n",
    "    \n",
    "    def update_mini_batch(self, mini_batch):\n",
    "        nabla_biases = [np.zeros(b.shape) for b in self.biases]\n",
    "        nabla_weights = [np.zeros(w.shape) for w in self.weights]\n",
    "        \n",
    "        for x,y in mini_batch:\n",
    "            delta_nabla_biases, delta_nabla_weights = self.backpropogate(x,y)\n",
    "            nabla_biases = [nabla_b + delta_b for nabla_b, delta_b in zip(nabla_biases, delta_nabla_biases)]\n",
    "            nabla_weights = [nabla_w + delta_w for nabla_w, delta_w in zip(nabla_weights, delta_nabla_weights)]\n",
    "            \n",
    "            self.weights = [weight - (self.alpha/len(mini_batch)) * nabla_weight for weight, nabla_weight in zip(self.weights,nabla_weights)]\n",
    "            self.weights = [bias - (self.alpha/len(mini_batch)) * nabla_bias for bias, nabla_bias in zip(self.biases,nabla_biases)]\n",
    "    \n",
    "    def backpropogate(self, x, y):\n",
    "        nabla_biases = [np.zeros(b.shape) for b in self.biases]\n",
    "        nabla_weights = [np.zeros(w.shape) for w in self.weights]\n",
    "        \n",
    "        activations = [x]\n",
    "        zs = []\n",
    "        # Feedforward\n",
    "        i = 0\n",
    "        for b,w in zip(self.biases, self.weights):\n",
    "            z = np.dot(w, x) + b\n",
    "            zs.append(z)\n",
    "            activations.append(self.feedforward_single(z,i))\n",
    "            i += 1\n",
    "            \n",
    "        # Backward pass\n",
    "        "
   ]
  },
  {
   "cell_type": "code",
   "execution_count": 67,
   "metadata": {},
   "outputs": [],
   "source": [
    "# Create an instance of the NeuralNetwork class\n",
    "nn = NeuralNetwork([4,5,2],['tanh','relu','sigmoid'], 1, 3, 'entropy')"
   ]
  },
  {
   "cell_type": "code",
   "execution_count": 62,
   "metadata": {},
   "outputs": [],
   "source": [
    "# Initalize the weights\n",
    "nn.weight_initialize()"
   ]
  },
  {
   "cell_type": "code",
   "execution_count": 63,
   "metadata": {
    "id": "X2iTT8zHBGRQ"
   },
   "outputs": [],
   "source": [
    "data = pd.read_csv(\"data_banknote_authentication.txt\")"
   ]
  },
  {
   "cell_type": "code",
   "execution_count": 64,
   "metadata": {},
   "outputs": [],
   "source": [
    "# split into input and output columns\n",
    "X, Y = data.values[:, :-1], data.values[:, -1]\n",
    "# ensure all data are floating point values\n",
    "X = X.astype('float32')\n",
    "# encode strings to integer\n",
    "Y = LabelEncoder().fit_transform(Y)\n",
    "# split into train and test datasets\n",
    "X_train, X_test, Y_train, Y_test = train_test_split(X, Y, test_size=0.33)\n",
    "# determine the number of input features\n",
    "n_features = X.shape[1]"
   ]
  },
  {
   "cell_type": "code",
   "execution_count": 65,
   "metadata": {},
   "outputs": [],
   "source": [
    "training_data = [] \n",
    "\n",
    "for x,y in zip(X,Y):\n",
    "    training_data.append((x,y))\n",
    "    "
   ]
  },
  {
   "cell_type": "code",
   "execution_count": 66,
   "metadata": {
    "scrolled": true
   },
   "outputs": [
    {
     "ename": "ValueError",
     "evalue": "shapes (5,4) and (5,5) not aligned: 4 (dim 1) != 5 (dim 0)",
     "output_type": "error",
     "traceback": [
      "\u001b[1;31m---------------------------------------------------------------------------\u001b[0m",
      "\u001b[1;31mValueError\u001b[0m                                Traceback (most recent call last)",
      "\u001b[1;32m<ipython-input-66-9a2ccec6541e>\u001b[0m in \u001b[0;36m<module>\u001b[1;34m\u001b[0m\n\u001b[1;32m----> 1\u001b[1;33m \u001b[0mnn\u001b[0m\u001b[1;33m.\u001b[0m\u001b[0mgradient_descent\u001b[0m\u001b[1;33m(\u001b[0m\u001b[0mtraining_data\u001b[0m\u001b[1;33m,\u001b[0m \u001b[1;36m1\u001b[0m\u001b[1;33m)\u001b[0m\u001b[1;33m\u001b[0m\u001b[1;33m\u001b[0m\u001b[0m\n\u001b[0m",
      "\u001b[1;32m<ipython-input-27-02bb74987617>\u001b[0m in \u001b[0;36mgradient_descent\u001b[1;34m(self, training_data, mini_batch_size, test_data)\u001b[0m\n\u001b[0;32m     53\u001b[0m             \u001b[0mmini_batches\u001b[0m \u001b[1;33m=\u001b[0m \u001b[1;33m[\u001b[0m\u001b[0mtraining_data\u001b[0m\u001b[1;33m[\u001b[0m\u001b[0mk\u001b[0m\u001b[1;33m:\u001b[0m\u001b[0mk\u001b[0m\u001b[1;33m+\u001b[0m\u001b[0mmini_batch_size\u001b[0m\u001b[1;33m]\u001b[0m \u001b[1;32mfor\u001b[0m \u001b[0mk\u001b[0m \u001b[1;32min\u001b[0m \u001b[0mrange\u001b[0m\u001b[1;33m(\u001b[0m\u001b[1;36m0\u001b[0m\u001b[1;33m,\u001b[0m\u001b[0mn\u001b[0m\u001b[1;33m,\u001b[0m\u001b[0mmini_batch_size\u001b[0m\u001b[1;33m)\u001b[0m\u001b[1;33m]\u001b[0m\u001b[1;33m\u001b[0m\u001b[1;33m\u001b[0m\u001b[0m\n\u001b[0;32m     54\u001b[0m             \u001b[1;32mfor\u001b[0m \u001b[0mmini_batch\u001b[0m \u001b[1;32min\u001b[0m \u001b[0mmini_batches\u001b[0m\u001b[1;33m:\u001b[0m\u001b[1;33m\u001b[0m\u001b[1;33m\u001b[0m\u001b[0m\n\u001b[1;32m---> 55\u001b[1;33m                 \u001b[0mself\u001b[0m\u001b[1;33m.\u001b[0m\u001b[0mupdate_mini_batch\u001b[0m\u001b[1;33m(\u001b[0m\u001b[0mmini_batch\u001b[0m\u001b[1;33m)\u001b[0m\u001b[1;33m\u001b[0m\u001b[1;33m\u001b[0m\u001b[0m\n\u001b[0m\u001b[0;32m     56\u001b[0m \u001b[1;33m\u001b[0m\u001b[0m\n\u001b[0;32m     57\u001b[0m         \u001b[1;32mif\u001b[0m \u001b[0mtest_data\u001b[0m\u001b[1;33m:\u001b[0m\u001b[1;33m\u001b[0m\u001b[1;33m\u001b[0m\u001b[0m\n",
      "\u001b[1;32m<ipython-input-27-02bb74987617>\u001b[0m in \u001b[0;36mupdate_mini_batch\u001b[1;34m(self, mini_batch)\u001b[0m\n\u001b[0;32m     66\u001b[0m \u001b[1;33m\u001b[0m\u001b[0m\n\u001b[0;32m     67\u001b[0m         \u001b[1;32mfor\u001b[0m \u001b[0mx\u001b[0m\u001b[1;33m,\u001b[0m\u001b[0my\u001b[0m \u001b[1;32min\u001b[0m \u001b[0mmini_batch\u001b[0m\u001b[1;33m:\u001b[0m\u001b[1;33m\u001b[0m\u001b[1;33m\u001b[0m\u001b[0m\n\u001b[1;32m---> 68\u001b[1;33m             \u001b[0mdelta_nabla_biases\u001b[0m\u001b[1;33m,\u001b[0m \u001b[0mdelta_nabla_weights\u001b[0m \u001b[1;33m=\u001b[0m \u001b[0mself\u001b[0m\u001b[1;33m.\u001b[0m\u001b[0mbackpropogate\u001b[0m\u001b[1;33m(\u001b[0m\u001b[0mx\u001b[0m\u001b[1;33m,\u001b[0m\u001b[0my\u001b[0m\u001b[1;33m)\u001b[0m\u001b[1;33m\u001b[0m\u001b[1;33m\u001b[0m\u001b[0m\n\u001b[0m\u001b[0;32m     69\u001b[0m             \u001b[0mnabla_biases\u001b[0m \u001b[1;33m=\u001b[0m \u001b[1;33m[\u001b[0m\u001b[0mnabla_b\u001b[0m \u001b[1;33m+\u001b[0m \u001b[0mdelta_b\u001b[0m \u001b[1;32mfor\u001b[0m \u001b[0mnabla_b\u001b[0m\u001b[1;33m,\u001b[0m \u001b[0mdelta_b\u001b[0m \u001b[1;32min\u001b[0m \u001b[0mzip\u001b[0m\u001b[1;33m(\u001b[0m\u001b[0mnabla_biases\u001b[0m\u001b[1;33m,\u001b[0m \u001b[0mdelta_nabla_biases\u001b[0m\u001b[1;33m)\u001b[0m\u001b[1;33m]\u001b[0m\u001b[1;33m\u001b[0m\u001b[1;33m\u001b[0m\u001b[0m\n\u001b[0;32m     70\u001b[0m             \u001b[0mnabla_weights\u001b[0m \u001b[1;33m=\u001b[0m \u001b[1;33m[\u001b[0m\u001b[0mnabla_w\u001b[0m \u001b[1;33m+\u001b[0m \u001b[0mdelta_w\u001b[0m \u001b[1;32mfor\u001b[0m \u001b[0mnabla_w\u001b[0m\u001b[1;33m,\u001b[0m \u001b[0mdelta_w\u001b[0m \u001b[1;32min\u001b[0m \u001b[0mzip\u001b[0m\u001b[1;33m(\u001b[0m\u001b[0mnabla_weights\u001b[0m\u001b[1;33m,\u001b[0m \u001b[0mdelta_nabla_weights\u001b[0m\u001b[1;33m)\u001b[0m\u001b[1;33m]\u001b[0m\u001b[1;33m\u001b[0m\u001b[1;33m\u001b[0m\u001b[0m\n",
      "\u001b[1;32m<ipython-input-27-02bb74987617>\u001b[0m in \u001b[0;36mbackpropogate\u001b[1;34m(self, x, y)\u001b[0m\n\u001b[0;32m     84\u001b[0m             \u001b[0mz\u001b[0m \u001b[1;33m=\u001b[0m \u001b[0mnp\u001b[0m\u001b[1;33m.\u001b[0m\u001b[0mdot\u001b[0m\u001b[1;33m(\u001b[0m\u001b[0mw\u001b[0m\u001b[1;33m,\u001b[0m \u001b[0mx\u001b[0m\u001b[1;33m)\u001b[0m \u001b[1;33m+\u001b[0m \u001b[0mb\u001b[0m\u001b[1;33m\u001b[0m\u001b[1;33m\u001b[0m\u001b[0m\n\u001b[0;32m     85\u001b[0m             \u001b[0mzs\u001b[0m\u001b[1;33m.\u001b[0m\u001b[0mappend\u001b[0m\u001b[1;33m(\u001b[0m\u001b[0mz\u001b[0m\u001b[1;33m)\u001b[0m\u001b[1;33m\u001b[0m\u001b[1;33m\u001b[0m\u001b[0m\n\u001b[1;32m---> 86\u001b[1;33m             \u001b[0mactivations\u001b[0m\u001b[1;33m.\u001b[0m\u001b[0mappend\u001b[0m\u001b[1;33m(\u001b[0m\u001b[0mself\u001b[0m\u001b[1;33m.\u001b[0m\u001b[0mfeedforward_single\u001b[0m\u001b[1;33m(\u001b[0m\u001b[0mz\u001b[0m\u001b[1;33m,\u001b[0m\u001b[0mi\u001b[0m\u001b[1;33m)\u001b[0m\u001b[1;33m)\u001b[0m\u001b[1;33m\u001b[0m\u001b[1;33m\u001b[0m\u001b[0m\n\u001b[0m\u001b[0;32m     87\u001b[0m             \u001b[0mi\u001b[0m \u001b[1;33m+=\u001b[0m \u001b[1;36m1\u001b[0m\u001b[1;33m\u001b[0m\u001b[1;33m\u001b[0m\u001b[0m\n\u001b[0;32m     88\u001b[0m \u001b[1;33m\u001b[0m\u001b[0m\n",
      "\u001b[1;32m<ipython-input-27-02bb74987617>\u001b[0m in \u001b[0;36mfeedforward_single\u001b[1;34m(self, layer, layer_index)\u001b[0m\n\u001b[0;32m     41\u001b[0m \u001b[1;33m\u001b[0m\u001b[0m\n\u001b[0;32m     42\u001b[0m         \u001b[1;32mfor\u001b[0m \u001b[0mb\u001b[0m\u001b[1;33m,\u001b[0m\u001b[0mw\u001b[0m \u001b[1;32min\u001b[0m \u001b[0mzip\u001b[0m\u001b[1;33m(\u001b[0m\u001b[0mself\u001b[0m\u001b[1;33m.\u001b[0m\u001b[0mbiases\u001b[0m\u001b[1;33m,\u001b[0m \u001b[0mself\u001b[0m\u001b[1;33m.\u001b[0m\u001b[0mweights\u001b[0m\u001b[1;33m)\u001b[0m\u001b[1;33m:\u001b[0m\u001b[1;33m\u001b[0m\u001b[1;33m\u001b[0m\u001b[0m\n\u001b[1;32m---> 43\u001b[1;33m             \u001b[0mlayer\u001b[0m \u001b[1;33m=\u001b[0m \u001b[0mactivation\u001b[0m\u001b[1;33m(\u001b[0m\u001b[0mnp\u001b[0m\u001b[1;33m.\u001b[0m\u001b[0mdot\u001b[0m\u001b[1;33m(\u001b[0m\u001b[0mw\u001b[0m\u001b[1;33m,\u001b[0m\u001b[0mlayer\u001b[0m\u001b[1;33m)\u001b[0m \u001b[1;33m+\u001b[0m \u001b[0mb\u001b[0m\u001b[1;33m)\u001b[0m\u001b[1;33m\u001b[0m\u001b[1;33m\u001b[0m\u001b[0m\n\u001b[0m\u001b[0;32m     44\u001b[0m \u001b[1;33m\u001b[0m\u001b[0m\n\u001b[0;32m     45\u001b[0m         \u001b[1;32mreturn\u001b[0m \u001b[0mlayer\u001b[0m\u001b[1;33m\u001b[0m\u001b[1;33m\u001b[0m\u001b[0m\n",
      "\u001b[1;32m<__array_function__ internals>\u001b[0m in \u001b[0;36mdot\u001b[1;34m(*args, **kwargs)\u001b[0m\n",
      "\u001b[1;31mValueError\u001b[0m: shapes (5,4) and (5,5) not aligned: 4 (dim 1) != 5 (dim 0)"
     ]
    }
   ],
   "source": [
    "nn.gradient_descent(training_data, 1)"
   ]
  },
  {
   "cell_type": "code",
   "execution_count": null,
   "metadata": {},
   "outputs": [],
   "source": []
  }
 ],
 "metadata": {
  "colab": {
   "authorship_tag": "ABX9TyP/e24yHDFD41BTR4uhKihh",
   "include_colab_link": true,
   "name": "CW practice 3.ipynb",
   "provenance": []
  },
  "kernelspec": {
   "display_name": "Python 3",
   "language": "python",
   "name": "python3"
  },
  "language_info": {
   "codemirror_mode": {
    "name": "ipython",
    "version": 3
   },
   "file_extension": ".py",
   "mimetype": "text/x-python",
   "name": "python",
   "nbconvert_exporter": "python",
   "pygments_lexer": "ipython3",
   "version": "3.8.3"
  }
 },
 "nbformat": 4,
 "nbformat_minor": 1
}
